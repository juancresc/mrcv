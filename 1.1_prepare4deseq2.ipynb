{
 "cells": [
  {
   "cell_type": "code",
   "execution_count": 1,
   "metadata": {},
   "outputs": [],
   "source": [
    "import pandas as pd\n",
    "lb = '12dpi_tgac'\n",
    "#lb = '21dpi_iwgsc'"
   ]
  },
  {
   "cell_type": "code",
   "execution_count": 4,
   "metadata": {},
   "outputs": [
    {
     "name": "stdout",
     "output_type": "stream",
     "text": [
      "Res len: 3514\n",
      "Total:  33804\n",
      "Total valid: 33804\n"
     ]
    }
   ],
   "source": [
    "srna_file = 'data/' + lb + '/ShortStack_D.gff3'\n",
    "df = pd.read_csv(srna_file,sep=\"\\t\",header=None)\n",
    "df.columns = ['seqname', 'source', 'feature', 'start', 'end', 'score', 'strand', 'frame', 'attribute']\n",
    "\n",
    "results_file = 'data/' + lb + '/Results.txt'\n",
    "df_res = pd.read_csv(results_file,sep=\"\\t\")\n",
    "df_res = df_res[df_res.MajorRNA.str.len().isin([20, 21,22])]\n",
    "print('Res len:',len(df_res.index))\n",
    "\n",
    "print('Total: ',len(df.index))\n",
    "df['cluster'] = df.attribute.str.split(';').str.get(0)\n",
    "df['cluster'] = df.cluster.str.split('=').str.get(1)\n",
    "\n",
    "counts_file = 'data/' + lb + '/counts.clean.txt'\n",
    "df_counts = pd.read_csv(counts_file,sep=\"\\t\")\n",
    "\n",
    "df_valid = df_counts[df_counts.Name.isin(df.cluster)]\n",
    "print('Total valid:', len(df_valid.index))"
   ]
  },
  {
   "cell_type": "code",
   "execution_count": 5,
   "metadata": {},
   "outputs": [
    {
     "name": "stdout",
     "output_type": "stream",
     "text": [
      "3514\n"
     ]
    }
   ],
   "source": [
    "f = open(results_file,'r')\n",
    "count = 0\n",
    "for line in f:\n",
    "    line = line.split('\\t')\n",
    "    if len(line[8]) in [20,21,22]:\n",
    "        count += 1\n",
    "print(count)"
   ]
  },
  {
   "cell_type": "code",
   "execution_count": 6,
   "metadata": {},
   "outputs": [],
   "source": [
    "df_valid.to_csv('data/' + lb + '/valid_counts.csv',sep='\\t',index=False)"
   ]
  },
  {
   "cell_type": "code",
   "execution_count": 7,
   "metadata": {},
   "outputs": [
    {
     "data": {
      "text/html": [
       "<div>\n",
       "<style scoped>\n",
       "    .dataframe tbody tr th:only-of-type {\n",
       "        vertical-align: middle;\n",
       "    }\n",
       "\n",
       "    .dataframe tbody tr th {\n",
       "        vertical-align: top;\n",
       "    }\n",
       "\n",
       "    .dataframe thead th {\n",
       "        text-align: right;\n",
       "    }\n",
       "</style>\n",
       "<table border=\"1\" class=\"dataframe\">\n",
       "  <thead>\n",
       "    <tr style=\"text-align: right;\">\n",
       "      <th></th>\n",
       "      <th>Locus</th>\n",
       "      <th>Name</th>\n",
       "      <th>main</th>\n",
       "      <th>12dpiR1C.trimmed</th>\n",
       "      <th>12dpiR1T.trimmed</th>\n",
       "      <th>12dpiR3C.trimmed</th>\n",
       "      <th>12dpiR3T.trimmed</th>\n",
       "    </tr>\n",
       "  </thead>\n",
       "  <tbody>\n",
       "    <tr>\n",
       "      <th>49</th>\n",
       "      <td>TGACv1_scaffold_576745_7BL:247597-247903</td>\n",
       "      <td>Cluster_50</td>\n",
       "      <td>123</td>\n",
       "      <td>34</td>\n",
       "      <td>27</td>\n",
       "      <td>34</td>\n",
       "      <td>28</td>\n",
       "    </tr>\n",
       "    <tr>\n",
       "      <th>50</th>\n",
       "      <td>TGACv1_scaffold_327816_4BS:432204-432538</td>\n",
       "      <td>Cluster_51</td>\n",
       "      <td>101</td>\n",
       "      <td>22</td>\n",
       "      <td>14</td>\n",
       "      <td>32</td>\n",
       "      <td>33</td>\n",
       "    </tr>\n",
       "  </tbody>\n",
       "</table>\n",
       "</div>"
      ],
      "text/plain": [
       "                                       Locus        Name  main  \\\n",
       "49  TGACv1_scaffold_576745_7BL:247597-247903  Cluster_50   123   \n",
       "50  TGACv1_scaffold_327816_4BS:432204-432538  Cluster_51   101   \n",
       "\n",
       "    12dpiR1C.trimmed  12dpiR1T.trimmed  12dpiR3C.trimmed  12dpiR3T.trimmed  \n",
       "49                34                27                34                28  \n",
       "50                22                14                32                33  "
      ]
     },
     "execution_count": 7,
     "metadata": {},
     "output_type": "execute_result"
    }
   ],
   "source": [
    "df_valid.head(2)"
   ]
  },
  {
   "cell_type": "code",
   "execution_count": null,
   "metadata": {},
   "outputs": [],
   "source": []
  },
  {
   "cell_type": "code",
   "execution_count": null,
   "metadata": {},
   "outputs": [],
   "source": []
  },
  {
   "cell_type": "code",
   "execution_count": null,
   "metadata": {},
   "outputs": [],
   "source": []
  }
 ],
 "metadata": {
  "kernelspec": {
   "display_name": "Python 3",
   "language": "python",
   "name": "python3"
  },
  "language_info": {
   "codemirror_mode": {
    "name": "ipython",
    "version": 2
   },
   "file_extension": ".py",
   "mimetype": "text/x-python",
   "name": "python",
   "nbconvert_exporter": "python",
   "pygments_lexer": "ipython2",
   "version": "2.7.15"
  }
 },
 "nbformat": 4,
 "nbformat_minor": 2
}
