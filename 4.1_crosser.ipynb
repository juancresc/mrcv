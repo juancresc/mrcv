{
 "cells": [
  {
   "cell_type": "code",
   "execution_count": 1,
   "metadata": {},
   "outputs": [],
   "source": [
    "import pandas as pd\n",
    "data_dir = 'data'\n",
    "lb = '21dpi_iwgsc_bowtie_m_all_2'\n",
    "output_fasta = data_dir + '/res/' + lb + '/degs.fasta'"
   ]
  },
  {
   "cell_type": "code",
   "execution_count": 2,
   "metadata": {},
   "outputs": [],
   "source": [
    "#sRNA and genes"
   ]
  },
  {
   "cell_type": "code",
   "execution_count": 3,
   "metadata": {},
   "outputs": [],
   "source": [
    "#sRNA and mites\n",
    "!blastn -task blastn -query data/res/21dpi_iwgsc_bowtie_m_all_2/degs.fasta  -subject data/libs/families_nr.fasta -outfmt \"6 qseqid sseqid qstart qend sstart send score length mismatch gaps gapopen nident pident qlen slen qcovs\" > data/res/21dpi_iwgsc_bowtie_m_all_2/srna_mites.fasta"
   ]
  },
  {
   "cell_type": "code",
   "execution_count": 5,
   "metadata": {},
   "outputs": [
    {
     "name": "stdout",
     "output_type": "stream",
     "text": [
      "('initial:', 412)\n"
     ]
    }
   ],
   "source": [
    "df_mites = pd.read_csv('data/res/21dpi_iwgsc_bowtie_m_all_2/srna_mites.fasta',sep=\"\\t\", header=None)\n",
    "df_mites.columns = ['qseqid','sseqid','qstart','qend','sstart','send','score','length','mismatch','gaps','gapopen','nident','pident','qlen','slen','qcovs']\n",
    "print('initial:',len(df_mites.index))\n"
   ]
  },
  {
   "cell_type": "code",
   "execution_count": 8,
   "metadata": {},
   "outputs": [
    {
     "data": {
      "text/html": [
       "<div>\n",
       "<style scoped>\n",
       "    .dataframe tbody tr th:only-of-type {\n",
       "        vertical-align: middle;\n",
       "    }\n",
       "\n",
       "    .dataframe tbody tr th {\n",
       "        vertical-align: top;\n",
       "    }\n",
       "\n",
       "    .dataframe thead th {\n",
       "        text-align: right;\n",
       "    }\n",
       "</style>\n",
       "<table border=\"1\" class=\"dataframe\">\n",
       "  <thead>\n",
       "    <tr style=\"text-align: right;\">\n",
       "      <th></th>\n",
       "      <th>qseqid</th>\n",
       "      <th>sseqid</th>\n",
       "      <th>qstart</th>\n",
       "      <th>qend</th>\n",
       "      <th>sstart</th>\n",
       "      <th>send</th>\n",
       "      <th>score</th>\n",
       "      <th>length</th>\n",
       "      <th>mismatch</th>\n",
       "      <th>gaps</th>\n",
       "      <th>gapopen</th>\n",
       "      <th>nident</th>\n",
       "      <th>pident</th>\n",
       "      <th>qlen</th>\n",
       "      <th>slen</th>\n",
       "      <th>qcovs</th>\n",
       "    </tr>\n",
       "  </thead>\n",
       "  <tbody>\n",
       "    <tr>\n",
       "      <th>31</th>\n",
       "      <td>Cluster_10586</td>\n",
       "      <td>MITE_T_1777|chr7A|120739524|120739958|TCA|18|F128</td>\n",
       "      <td>1</td>\n",
       "      <td>23</td>\n",
       "      <td>182</td>\n",
       "      <td>205</td>\n",
       "      <td>28</td>\n",
       "      <td>24</td>\n",
       "      <td>2</td>\n",
       "      <td>1</td>\n",
       "      <td>1</td>\n",
       "      <td>21</td>\n",
       "      <td>87.500</td>\n",
       "      <td>24</td>\n",
       "      <td>434</td>\n",
       "      <td>96</td>\n",
       "    </tr>\n",
       "    <tr>\n",
       "      <th>112</th>\n",
       "      <td>Cluster_13128</td>\n",
       "      <td>MITE_T_1777|chr7A|120739524|120739958|TCA|18|F128</td>\n",
       "      <td>3</td>\n",
       "      <td>21</td>\n",
       "      <td>187</td>\n",
       "      <td>205</td>\n",
       "      <td>28</td>\n",
       "      <td>19</td>\n",
       "      <td>2</td>\n",
       "      <td>0</td>\n",
       "      <td>0</td>\n",
       "      <td>17</td>\n",
       "      <td>89.474</td>\n",
       "      <td>24</td>\n",
       "      <td>434</td>\n",
       "      <td>79</td>\n",
       "    </tr>\n",
       "    <tr>\n",
       "      <th>278</th>\n",
       "      <td>Cluster_32353</td>\n",
       "      <td>MITE_T_6420|chr5D|416216765|416217144|GAGC|391...</td>\n",
       "      <td>1</td>\n",
       "      <td>21</td>\n",
       "      <td>330</td>\n",
       "      <td>348</td>\n",
       "      <td>24</td>\n",
       "      <td>21</td>\n",
       "      <td>1</td>\n",
       "      <td>2</td>\n",
       "      <td>1</td>\n",
       "      <td>18</td>\n",
       "      <td>85.714</td>\n",
       "      <td>21</td>\n",
       "      <td>379</td>\n",
       "      <td>100</td>\n",
       "    </tr>\n",
       "    <tr>\n",
       "      <th>331</th>\n",
       "      <td>Cluster_33177</td>\n",
       "      <td>MITE_T_99852|chr7A|478009571|478009680|TA|113|...</td>\n",
       "      <td>1</td>\n",
       "      <td>19</td>\n",
       "      <td>18</td>\n",
       "      <td>37</td>\n",
       "      <td>26</td>\n",
       "      <td>20</td>\n",
       "      <td>1</td>\n",
       "      <td>1</td>\n",
       "      <td>1</td>\n",
       "      <td>18</td>\n",
       "      <td>90.000</td>\n",
       "      <td>24</td>\n",
       "      <td>109</td>\n",
       "      <td>79</td>\n",
       "    </tr>\n",
       "    <tr>\n",
       "      <th>363</th>\n",
       "      <td>Cluster_43913</td>\n",
       "      <td>MITE_T_81773|chr3B|237321438|237322230|TTA|15|...</td>\n",
       "      <td>1</td>\n",
       "      <td>24</td>\n",
       "      <td>123</td>\n",
       "      <td>146</td>\n",
       "      <td>38</td>\n",
       "      <td>24</td>\n",
       "      <td>2</td>\n",
       "      <td>0</td>\n",
       "      <td>0</td>\n",
       "      <td>22</td>\n",
       "      <td>91.667</td>\n",
       "      <td>24</td>\n",
       "      <td>792</td>\n",
       "      <td>100</td>\n",
       "    </tr>\n",
       "  </tbody>\n",
       "</table>\n",
       "</div>"
      ],
      "text/plain": [
       "            qseqid                                             sseqid  qstart  \\\n",
       "31   Cluster_10586  MITE_T_1777|chr7A|120739524|120739958|TCA|18|F128       1   \n",
       "112  Cluster_13128  MITE_T_1777|chr7A|120739524|120739958|TCA|18|F128       3   \n",
       "278  Cluster_32353  MITE_T_6420|chr5D|416216765|416217144|GAGC|391...       1   \n",
       "331  Cluster_33177  MITE_T_99852|chr7A|478009571|478009680|TA|113|...       1   \n",
       "363  Cluster_43913  MITE_T_81773|chr3B|237321438|237322230|TTA|15|...       1   \n",
       "\n",
       "     qend  sstart  send  score  length  mismatch  gaps  gapopen  nident  \\\n",
       "31     23     182   205     28      24         2     1        1      21   \n",
       "112    21     187   205     28      19         2     0        0      17   \n",
       "278    21     330   348     24      21         1     2        1      18   \n",
       "331    19      18    37     26      20         1     1        1      18   \n",
       "363    24     123   146     38      24         2     0        0      22   \n",
       "\n",
       "     pident  qlen  slen  qcovs  \n",
       "31   87.500    24   434     96  \n",
       "112  89.474    24   434     79  \n",
       "278  85.714    21   379    100  \n",
       "331  90.000    24   109     79  \n",
       "363  91.667    24   792    100  "
      ]
     },
     "execution_count": 8,
     "metadata": {},
     "output_type": "execute_result"
    }
   ],
   "source": [
    "df_mites[df_mites.length > 16]"
   ]
  },
  {
   "cell_type": "code",
   "execution_count": null,
   "metadata": {},
   "outputs": [],
   "source": []
  }
 ],
 "metadata": {
  "kernelspec": {
   "display_name": "Python 3",
   "language": "python",
   "name": "python3"
  },
  "language_info": {
   "codemirror_mode": {
    "name": "ipython",
    "version": 2
   },
   "file_extension": ".py",
   "mimetype": "text/x-python",
   "name": "python",
   "nbconvert_exporter": "python",
   "pygments_lexer": "ipython2",
   "version": "2.7.15"
  }
 },
 "nbformat": 4,
 "nbformat_minor": 2
}
