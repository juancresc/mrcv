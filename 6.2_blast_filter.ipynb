{
 "cells": [
  {
   "cell_type": "code",
   "execution_count": 232,
   "metadata": {},
   "outputs": [
    {
     "name": "stdout",
     "output_type": "stream",
     "text": [
      "('Running for', 'MITE')\n"
     ]
    }
   ],
   "source": [
    "import pandas as pd\n",
    "te_type = 'MITE'\n",
    "print('Running for', te_type)"
   ]
  },
  {
   "cell_type": "code",
   "execution_count": 233,
   "metadata": {},
   "outputs": [],
   "source": [
    "#TEs\n",
    "params = {}\n",
    "params['MITE'] = {'min_len':50,'max_len':800,'min_distance':5,'max_q':1.15,'min_q':0.85,'min_pident':90,'min_qcov':90,'file':'data/tes/blast_all.csv'}\n",
    "#select which TE type you want to run"
   ]
  },
  {
   "cell_type": "code",
   "execution_count": 234,
   "metadata": {},
   "outputs": [
    {
     "name": "stdout",
     "output_type": "stream",
     "text": [
      "('initial:', 863)\n"
     ]
    }
   ],
   "source": [
    "#read blast output\n",
    "df = pd.read_csv(params[te_type]['file'], sep='\\t', )\n",
    "df.columns = ['qseqid','sseqid',\n",
    "              'qstart','qend','sstart',\n",
    "              'send','score','length','mismatch','gaps','gapopen','nident','pident','qlen','slen','qcovs']\n",
    "print('initial:',len(df.index))"
   ]
  },
  {
   "cell_type": "code",
   "execution_count": 235,
   "metadata": {},
   "outputs": [
    {
     "name": "stdout",
     "output_type": "stream",
     "text": [
      "Min len: 863\n"
     ]
    }
   ],
   "source": [
    "#filter by length\n",
    "if(params[te_type]['min_len']):\n",
    "    df = df[df.qlen > params[te_type]['min_len']]\n",
    "print('Min len: ' + str(len(df.index)))    "
   ]
  },
  {
   "cell_type": "code",
   "execution_count": 236,
   "metadata": {},
   "outputs": [
    {
     "name": "stdout",
     "output_type": "stream",
     "text": [
      "Max len: 863\n"
     ]
    }
   ],
   "source": [
    "if(params[te_type]['max_len']):\n",
    "    df = df[df.qlen < params[te_type]['max_len']]\n",
    "print('Max len: ' + str(len(df.index)))    "
   ]
  },
  {
   "cell_type": "code",
   "execution_count": 237,
   "metadata": {},
   "outputs": [
    {
     "name": "stdout",
     "output_type": "stream",
     "text": [
      "('min treshold:', 863)\n"
     ]
    }
   ],
   "source": [
    "#filter by query / subject length treshold\n",
    "df = df[((df.length / df.qlen) >= params[te_type]['min_q'])]\n",
    "print('min treshold:',len(df.index))"
   ]
  },
  {
   "cell_type": "code",
   "execution_count": 238,
   "metadata": {},
   "outputs": [
    {
     "name": "stdout",
     "output_type": "stream",
     "text": [
      "('max treshold:', 863)\n"
     ]
    }
   ],
   "source": [
    "df = df[((df.length / df.qlen) <= params[te_type]['max_q'])]\n",
    "print('max treshold:',len(df.index))"
   ]
  },
  {
   "cell_type": "code",
   "execution_count": 239,
   "metadata": {},
   "outputs": [
    {
     "name": "stdout",
     "output_type": "stream",
     "text": [
      "Min_pident: 863\n"
     ]
    }
   ],
   "source": [
    "df = df[(df.pident >= params[te_type]['min_pident'])]\n",
    "print('Min_pident: ' + str(len(df.index)))"
   ]
  },
  {
   "cell_type": "code",
   "execution_count": 240,
   "metadata": {},
   "outputs": [
    {
     "name": "stdout",
     "output_type": "stream",
     "text": [
      "Min qcov: 863\n"
     ]
    }
   ],
   "source": [
    "df = df[(df.qcovs >= params[te_type]['min_qcov'])]\n",
    "print('Min qcov: ' + str(len(df.index)))"
   ]
  },
  {
   "cell_type": "code",
   "execution_count": 241,
   "metadata": {},
   "outputs": [],
   "source": [
    "#re-arrange start and end\n",
    "df['new_sstart'] = df[['sstart','send']].min(axis=1)\n",
    "df['new_ssend'] = df[['sstart','send']].max(axis=1)\n",
    "df['sstart'] = df['new_sstart']\n",
    "df['send'] = df['new_ssend']\n",
    "df = df.drop('new_sstart',axis=1).drop('new_ssend',axis=1)\n"
   ]
  },
  {
   "cell_type": "code",
   "execution_count": 242,
   "metadata": {},
   "outputs": [],
   "source": [
    "df = df.sort_values(by=['sseqid','sstart', 'send'])\n",
    "df.reset_index(inplace=True)\n",
    "df = df.drop('index',axis=1)"
   ]
  },
  {
   "cell_type": "code",
   "execution_count": 243,
   "metadata": {},
   "outputs": [
    {
     "data": {
      "text/html": [
       "<div>\n",
       "<table border=\"1\" class=\"dataframe\">\n",
       "  <thead>\n",
       "    <tr style=\"text-align: right;\">\n",
       "      <th></th>\n",
       "      <th>qseqid</th>\n",
       "      <th>sseqid</th>\n",
       "      <th>qstart</th>\n",
       "      <th>qend</th>\n",
       "      <th>sstart</th>\n",
       "      <th>send</th>\n",
       "      <th>score</th>\n",
       "      <th>length</th>\n",
       "      <th>mismatch</th>\n",
       "      <th>gaps</th>\n",
       "      <th>gapopen</th>\n",
       "      <th>nident</th>\n",
       "      <th>pident</th>\n",
       "      <th>qlen</th>\n",
       "      <th>slen</th>\n",
       "      <th>qcovs</th>\n",
       "    </tr>\n",
       "  </thead>\n",
       "  <tbody>\n",
       "    <tr>\n",
       "      <th>0</th>\n",
       "      <td>MITE_T_126801|chr7B|78567635|78568204|CTTCCCT|...</td>\n",
       "      <td>1A</td>\n",
       "      <td>43</td>\n",
       "      <td>517</td>\n",
       "      <td>77566</td>\n",
       "      <td>78050</td>\n",
       "      <td>738</td>\n",
       "      <td>487</td>\n",
       "      <td>31</td>\n",
       "      <td>14</td>\n",
       "      <td>5</td>\n",
       "      <td>442</td>\n",
       "      <td>90.76</td>\n",
       "      <td>569</td>\n",
       "      <td>594102056</td>\n",
       "      <td>93</td>\n",
       "    </tr>\n",
       "    <tr>\n",
       "      <th>1</th>\n",
       "      <td>MITE_T_126801|chr7B|78567635|78568204|CTTCCCT|...</td>\n",
       "      <td>1A</td>\n",
       "      <td>44</td>\n",
       "      <td>515</td>\n",
       "      <td>86285</td>\n",
       "      <td>86766</td>\n",
       "      <td>726</td>\n",
       "      <td>484</td>\n",
       "      <td>32</td>\n",
       "      <td>14</td>\n",
       "      <td>5</td>\n",
       "      <td>438</td>\n",
       "      <td>90.50</td>\n",
       "      <td>569</td>\n",
       "      <td>594102056</td>\n",
       "      <td>93</td>\n",
       "    </tr>\n",
       "    <tr>\n",
       "      <th>2</th>\n",
       "      <td>MITE_T_10416|chr4A|373381651|373381997|TGTT|36...</td>\n",
       "      <td>1A</td>\n",
       "      <td>4</td>\n",
       "      <td>341</td>\n",
       "      <td>213862</td>\n",
       "      <td>214201</td>\n",
       "      <td>520</td>\n",
       "      <td>341</td>\n",
       "      <td>27</td>\n",
       "      <td>4</td>\n",
       "      <td>2</td>\n",
       "      <td>310</td>\n",
       "      <td>90.91</td>\n",
       "      <td>346</td>\n",
       "      <td>594102056</td>\n",
       "      <td>99</td>\n",
       "    </tr>\n",
       "    <tr>\n",
       "      <th>3</th>\n",
       "      <td>MITE_T_9379|chr5A|253680838|253681189|GC|364|F534</td>\n",
       "      <td>1A</td>\n",
       "      <td>12</td>\n",
       "      <td>348</td>\n",
       "      <td>213865</td>\n",
       "      <td>214203</td>\n",
       "      <td>514</td>\n",
       "      <td>339</td>\n",
       "      <td>30</td>\n",
       "      <td>2</td>\n",
       "      <td>1</td>\n",
       "      <td>307</td>\n",
       "      <td>90.56</td>\n",
       "      <td>351</td>\n",
       "      <td>594102056</td>\n",
       "      <td>99</td>\n",
       "    </tr>\n",
       "    <tr>\n",
       "      <th>4</th>\n",
       "      <td>MITE_T_8262|chr5A|273309274|273309638|TA|373|F468</td>\n",
       "      <td>1A</td>\n",
       "      <td>19</td>\n",
       "      <td>346</td>\n",
       "      <td>213867</td>\n",
       "      <td>214194</td>\n",
       "      <td>560</td>\n",
       "      <td>328</td>\n",
       "      <td>19</td>\n",
       "      <td>0</td>\n",
       "      <td>0</td>\n",
       "      <td>309</td>\n",
       "      <td>94.21</td>\n",
       "      <td>364</td>\n",
       "      <td>594102056</td>\n",
       "      <td>99</td>\n",
       "    </tr>\n",
       "  </tbody>\n",
       "</table>\n",
       "</div>"
      ],
      "text/plain": [
       "                                              qseqid sseqid  qstart  qend  \\\n",
       "0  MITE_T_126801|chr7B|78567635|78568204|CTTCCCT|...     1A      43   517   \n",
       "1  MITE_T_126801|chr7B|78567635|78568204|CTTCCCT|...     1A      44   515   \n",
       "2  MITE_T_10416|chr4A|373381651|373381997|TGTT|36...     1A       4   341   \n",
       "3  MITE_T_9379|chr5A|253680838|253681189|GC|364|F534     1A      12   348   \n",
       "4  MITE_T_8262|chr5A|273309274|273309638|TA|373|F468     1A      19   346   \n",
       "\n",
       "   sstart    send  score  length  mismatch  gaps  gapopen  nident  pident  \\\n",
       "0   77566   78050    738     487        31    14        5     442   90.76   \n",
       "1   86285   86766    726     484        32    14        5     438   90.50   \n",
       "2  213862  214201    520     341        27     4        2     310   90.91   \n",
       "3  213865  214203    514     339        30     2        1     307   90.56   \n",
       "4  213867  214194    560     328        19     0        0     309   94.21   \n",
       "\n",
       "   qlen       slen  qcovs  \n",
       "0   569  594102056     93  \n",
       "1   569  594102056     93  \n",
       "2   346  594102056     99  \n",
       "3   351  594102056     99  \n",
       "4   364  594102056     99  "
      ]
     },
     "execution_count": 243,
     "metadata": {},
     "output_type": "execute_result"
    }
   ],
   "source": [
    "df.head()"
   ]
  },
  {
   "cell_type": "code",
   "execution_count": null,
   "metadata": {},
   "outputs": [],
   "source": []
  },
  {
   "cell_type": "code",
   "execution_count": 244,
   "metadata": {},
   "outputs": [
    {
     "name": "stdout",
     "output_type": "stream",
     "text": [
      "5\n",
      "25\n",
      "30\n",
      "35\n",
      "40\n",
      "50\n",
      "55\n",
      "60\n",
      "65\n",
      "70\n",
      "75\n",
      "80\n",
      "85\n",
      "90\n",
      "95\n",
      "100\n"
     ]
    }
   ],
   "source": [
    "my_index = 0\n",
    "indexes = []\n",
    "discard = []\n",
    "count = 0\n",
    "curr = 0\n",
    "total_len = len(df.index)\n",
    "while my_index < total_len - 1:\n",
    "    row = df.iloc[[my_index]]\n",
    "    cond = True\n",
    "    next_index = 1\n",
    "    while cond:\n",
    "        second_row = df.iloc[[my_index + next_index]]\n",
    "        c1 = (row.iloc[0].sseqid == second_row.iloc[0].sseqid)\n",
    "        c2 = (abs(second_row.iloc[0].sstart - row.iloc[0].sstart) <= params[te_type]['min_distance'])\n",
    "        c3 = (abs(second_row.iloc[0].send - row.iloc[0].send) <= params[te_type]['min_distance'])\n",
    "        cond =  c1 and c2 and c3\n",
    "        if not cond and (c2 or c3):\n",
    "            indexes.append(my_index)\n",
    "            cond = True\n",
    "        next_index += 1\n",
    "    indexes.append(my_index)\n",
    "    my_index += next_index\n",
    "    #just a counter\n",
    "    curr_new = int(my_index * 100 * 1.0 / (total_len * 1.0))\n",
    "    if curr_new != curr:\n",
    "        curr = curr_new\n",
    "        if curr_new % 5 == 0:\n",
    "            print(curr_new)\n",
    "indexes.append(total_len - 1)"
   ]
  },
  {
   "cell_type": "code",
   "execution_count": 245,
   "metadata": {},
   "outputs": [
    {
     "name": "stdout",
     "output_type": "stream",
     "text": [
      "Non overlapped: 146\n"
     ]
    }
   ],
   "source": [
    "df = df[df.index.isin(indexes)]\n",
    "df.sort_values(['sseqid', 'sstart'], inplace=True)\n",
    "print('Non overlapped: ' + str(len(df.index)))"
   ]
  },
  {
   "cell_type": "code",
   "execution_count": 246,
   "metadata": {},
   "outputs": [
    {
     "data": {
      "text/html": [
       "<div>\n",
       "<table border=\"1\" class=\"dataframe\">\n",
       "  <thead>\n",
       "    <tr style=\"text-align: right;\">\n",
       "      <th></th>\n",
       "      <th>qseqid</th>\n",
       "      <th>sseqid</th>\n",
       "      <th>qstart</th>\n",
       "      <th>qend</th>\n",
       "      <th>sstart</th>\n",
       "      <th>send</th>\n",
       "      <th>score</th>\n",
       "      <th>length</th>\n",
       "      <th>mismatch</th>\n",
       "      <th>gaps</th>\n",
       "      <th>gapopen</th>\n",
       "      <th>nident</th>\n",
       "      <th>pident</th>\n",
       "      <th>qlen</th>\n",
       "      <th>slen</th>\n",
       "      <th>qcovs</th>\n",
       "    </tr>\n",
       "  </thead>\n",
       "  <tbody>\n",
       "    <tr>\n",
       "      <th>0</th>\n",
       "      <td>MITE_T_126801|chr7B|78567635|78568204|CTTCCCT|...</td>\n",
       "      <td>1A</td>\n",
       "      <td>43</td>\n",
       "      <td>517</td>\n",
       "      <td>77566</td>\n",
       "      <td>78050</td>\n",
       "      <td>738</td>\n",
       "      <td>487</td>\n",
       "      <td>31</td>\n",
       "      <td>14</td>\n",
       "      <td>5</td>\n",
       "      <td>442</td>\n",
       "      <td>90.76</td>\n",
       "      <td>569</td>\n",
       "      <td>594102056</td>\n",
       "      <td>93</td>\n",
       "    </tr>\n",
       "    <tr>\n",
       "      <th>2</th>\n",
       "      <td>MITE_T_10416|chr4A|373381651|373381997|TGTT|36...</td>\n",
       "      <td>1A</td>\n",
       "      <td>4</td>\n",
       "      <td>341</td>\n",
       "      <td>213862</td>\n",
       "      <td>214201</td>\n",
       "      <td>520</td>\n",
       "      <td>341</td>\n",
       "      <td>27</td>\n",
       "      <td>4</td>\n",
       "      <td>2</td>\n",
       "      <td>310</td>\n",
       "      <td>90.91</td>\n",
       "      <td>346</td>\n",
       "      <td>594102056</td>\n",
       "      <td>99</td>\n",
       "    </tr>\n",
       "    <tr>\n",
       "      <th>6</th>\n",
       "      <td>MITE_T_13765|chr7B|255748631|255748962|TTTT|33...</td>\n",
       "      <td>1A</td>\n",
       "      <td>4</td>\n",
       "      <td>328</td>\n",
       "      <td>213868</td>\n",
       "      <td>214192</td>\n",
       "      <td>504</td>\n",
       "      <td>325</td>\n",
       "      <td>29</td>\n",
       "      <td>0</td>\n",
       "      <td>0</td>\n",
       "      <td>296</td>\n",
       "      <td>91.08</td>\n",
       "      <td>331</td>\n",
       "      <td>594102056</td>\n",
       "      <td>100</td>\n",
       "    </tr>\n",
       "    <tr>\n",
       "      <th>11</th>\n",
       "      <td>MITE_T_126801|chr7B|78567635|78568204|CTTCCCT|...</td>\n",
       "      <td>1A</td>\n",
       "      <td>44</td>\n",
       "      <td>515</td>\n",
       "      <td>305432</td>\n",
       "      <td>305913</td>\n",
       "      <td>716</td>\n",
       "      <td>484</td>\n",
       "      <td>34</td>\n",
       "      <td>14</td>\n",
       "      <td>5</td>\n",
       "      <td>436</td>\n",
       "      <td>90.08</td>\n",
       "      <td>569</td>\n",
       "      <td>594102056</td>\n",
       "      <td>93</td>\n",
       "    </tr>\n",
       "    <tr>\n",
       "      <th>13</th>\n",
       "      <td>MITE_T_126801|chr7B|78567635|78568204|CTTCCCT|...</td>\n",
       "      <td>1A</td>\n",
       "      <td>43</td>\n",
       "      <td>517</td>\n",
       "      <td>325494</td>\n",
       "      <td>325978</td>\n",
       "      <td>728</td>\n",
       "      <td>487</td>\n",
       "      <td>33</td>\n",
       "      <td>14</td>\n",
       "      <td>5</td>\n",
       "      <td>440</td>\n",
       "      <td>90.35</td>\n",
       "      <td>569</td>\n",
       "      <td>594102056</td>\n",
       "      <td>93</td>\n",
       "    </tr>\n",
       "  </tbody>\n",
       "</table>\n",
       "</div>"
      ],
      "text/plain": [
       "                                               qseqid sseqid  qstart  qend  \\\n",
       "0   MITE_T_126801|chr7B|78567635|78568204|CTTCCCT|...     1A      43   517   \n",
       "2   MITE_T_10416|chr4A|373381651|373381997|TGTT|36...     1A       4   341   \n",
       "6   MITE_T_13765|chr7B|255748631|255748962|TTTT|33...     1A       4   328   \n",
       "11  MITE_T_126801|chr7B|78567635|78568204|CTTCCCT|...     1A      44   515   \n",
       "13  MITE_T_126801|chr7B|78567635|78568204|CTTCCCT|...     1A      43   517   \n",
       "\n",
       "    sstart    send  score  length  mismatch  gaps  gapopen  nident  pident  \\\n",
       "0    77566   78050    738     487        31    14        5     442   90.76   \n",
       "2   213862  214201    520     341        27     4        2     310   90.91   \n",
       "6   213868  214192    504     325        29     0        0     296   91.08   \n",
       "11  305432  305913    716     484        34    14        5     436   90.08   \n",
       "13  325494  325978    728     487        33    14        5     440   90.35   \n",
       "\n",
       "    qlen       slen  qcovs  \n",
       "0    569  594102056     93  \n",
       "2    346  594102056     99  \n",
       "6    331  594102056    100  \n",
       "11   569  594102056     93  \n",
       "13   569  594102056     93  "
      ]
     },
     "execution_count": 246,
     "metadata": {},
     "output_type": "execute_result"
    }
   ],
   "source": [
    "df.head()"
   ]
  },
  {
   "cell_type": "code",
   "execution_count": 247,
   "metadata": {},
   "outputs": [
    {
     "data": {
      "text/plain": [
       "'data/tes/blast_1A.csv.first.filtered'"
      ]
     },
     "execution_count": 247,
     "metadata": {},
     "output_type": "execute_result"
    }
   ],
   "source": [
    "filename = params[te_type]['file'] + '.filtered'\n",
    "df.to_csv(filename, index=None, sep='\\t')\n",
    "filename"
   ]
  },
  {
   "cell_type": "code",
   "execution_count": null,
   "metadata": {},
   "outputs": [],
   "source": []
  },
  {
   "cell_type": "code",
   "execution_count": null,
   "metadata": {},
   "outputs": [],
   "source": []
  }
 ],
 "metadata": {
  "kernelspec": {
   "display_name": "Python 3",
   "language": "python",
   "name": "python3"
  },
  "language_info": {
   "codemirror_mode": {
    "name": "ipython",
    "version": 2
   },
   "file_extension": ".py",
   "mimetype": "text/x-python",
   "name": "python",
   "nbconvert_exporter": "python",
   "pygments_lexer": "ipython2",
   "version": "2.7.15"
  }
 },
 "nbformat": 4,
 "nbformat_minor": 2
}
