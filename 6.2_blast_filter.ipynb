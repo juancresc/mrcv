{
 "cells": [
  {
   "cell_type": "code",
   "execution_count": 174,
   "metadata": {},
   "outputs": [
    {
     "name": "stdout",
     "output_type": "stream",
     "text": [
      "('Running for', 'MITE')\n"
     ]
    }
   ],
   "source": [
    "import pandas as pd\n",
    "import dask.dataframe as dd\n",
    "from dask.multiprocessing import get\n",
    "\n",
    "te_type = 'MITE'\n",
    "print('Running for', te_type)"
   ]
  },
  {
   "cell_type": "code",
   "execution_count": 175,
   "metadata": {},
   "outputs": [],
   "source": [
    "#TEs\n",
    "params = {}\n",
    "params['MITE'] = {'min_len':50,'max_len':800,'min_distance':5,'max_q':1.15,'min_q':0.85,'min_pident':90,'min_qcov':90,'file':'data/tes/blast_all.head.1.csv'}\n",
    "#select which TE type you want to run"
   ]
  },
  {
   "cell_type": "code",
   "execution_count": 176,
   "metadata": {},
   "outputs": [
    {
     "name": "stdout",
     "output_type": "stream",
     "text": [
      "('initial:', 7)\n"
     ]
    }
   ],
   "source": [
    "#read blast output\n",
    "df = pd.read_csv(params[te_type]['file'], sep='\\t', header=None)\n",
    "df.columns = ['qseqid','sseqid','qstart','qend','sstart','send','score','length','mismatch','gaps','gapopen','nident','pident','qlen','slen','qcovs']\n",
    "print('initial:',len(df.index))"
   ]
  },
  {
   "cell_type": "code",
   "execution_count": 177,
   "metadata": {},
   "outputs": [
    {
     "name": "stdout",
     "output_type": "stream",
     "text": [
      "Min len: 7\n"
     ]
    }
   ],
   "source": [
    "#filter by length\n",
    "if(params[te_type]['min_len']):\n",
    "    df = df[df.qlen > params[te_type]['min_len']]\n",
    "print('Min len: ' + str(len(df.index)))    "
   ]
  },
  {
   "cell_type": "code",
   "execution_count": 178,
   "metadata": {},
   "outputs": [
    {
     "name": "stdout",
     "output_type": "stream",
     "text": [
      "Max len: 7\n"
     ]
    }
   ],
   "source": [
    "if(params[te_type]['max_len']):\n",
    "    df = df[df.qlen < params[te_type]['max_len']]\n",
    "print('Max len: ' + str(len(df.index)))    "
   ]
  },
  {
   "cell_type": "code",
   "execution_count": 179,
   "metadata": {},
   "outputs": [
    {
     "name": "stdout",
     "output_type": "stream",
     "text": [
      "('min treshold:', 7)\n"
     ]
    }
   ],
   "source": [
    "#filter by query / subject length treshold\n",
    "df = df[((df.length / df.qlen) >= params[te_type]['min_q'])]\n",
    "print('min treshold:',len(df.index))"
   ]
  },
  {
   "cell_type": "code",
   "execution_count": 180,
   "metadata": {},
   "outputs": [
    {
     "name": "stdout",
     "output_type": "stream",
     "text": [
      "('max treshold:', 7)\n"
     ]
    }
   ],
   "source": [
    "df = df[((df.length / df.qlen) <= params[te_type]['max_q'])]\n",
    "print('max treshold:',len(df.index))"
   ]
  },
  {
   "cell_type": "code",
   "execution_count": 181,
   "metadata": {},
   "outputs": [
    {
     "name": "stdout",
     "output_type": "stream",
     "text": [
      "Min_pident: 6\n"
     ]
    }
   ],
   "source": [
    "df = df[(df.pident >= params[te_type]['min_pident'])]\n",
    "print('Min_pident: ' + str(len(df.index)))"
   ]
  },
  {
   "cell_type": "code",
   "execution_count": 182,
   "metadata": {},
   "outputs": [
    {
     "name": "stdout",
     "output_type": "stream",
     "text": [
      "Min qcov: 6\n"
     ]
    }
   ],
   "source": [
    "df = df[(df.qcovs >= params[te_type]['min_qcov'])]\n",
    "print('Min qcov: ' + str(len(df.index)))"
   ]
  },
  {
   "cell_type": "code",
   "execution_count": 183,
   "metadata": {},
   "outputs": [],
   "source": [
    "#re-arrange start and end\n",
    "df['new_sstart'] = df[['sstart','send']].min(axis=1)\n",
    "df['new_ssend'] = df[['sstart','send']].max(axis=1)\n",
    "df['sstart'] = df['new_sstart']\n",
    "df['send'] = df['new_ssend']\n",
    "df = df.drop('new_sstart',axis=1).drop('new_ssend',axis=1)\n"
   ]
  },
  {
   "cell_type": "code",
   "execution_count": 184,
   "metadata": {},
   "outputs": [],
   "source": [
    "df = df.sort_values(by=['sseqid','sstart'])\n",
    "df.reset_index(inplace=True)\n",
    "df = df.drop('index',axis=1)"
   ]
  },
  {
   "cell_type": "code",
   "execution_count": 185,
   "metadata": {},
   "outputs": [
    {
     "data": {
      "text/html": [
       "<div>\n",
       "<table border=\"1\" class=\"dataframe\">\n",
       "  <thead>\n",
       "    <tr style=\"text-align: right;\">\n",
       "      <th></th>\n",
       "      <th>qseqid</th>\n",
       "      <th>sseqid</th>\n",
       "      <th>qstart</th>\n",
       "      <th>qend</th>\n",
       "      <th>sstart</th>\n",
       "      <th>send</th>\n",
       "      <th>score</th>\n",
       "      <th>length</th>\n",
       "      <th>mismatch</th>\n",
       "      <th>gaps</th>\n",
       "      <th>gapopen</th>\n",
       "      <th>nident</th>\n",
       "      <th>pident</th>\n",
       "      <th>qlen</th>\n",
       "      <th>slen</th>\n",
       "      <th>qcovs</th>\n",
       "    </tr>\n",
       "  </thead>\n",
       "  <tbody>\n",
       "    <tr>\n",
       "      <th>0</th>\n",
       "      <td>MITE_T_1|chr2B|413009710|413010196|AT|24|F1</td>\n",
       "      <td>2B</td>\n",
       "      <td>1</td>\n",
       "      <td>486</td>\n",
       "      <td>1</td>\n",
       "      <td>100</td>\n",
       "      <td>972</td>\n",
       "      <td>486</td>\n",
       "      <td>0</td>\n",
       "      <td>0</td>\n",
       "      <td>0</td>\n",
       "      <td>486</td>\n",
       "      <td>100.00</td>\n",
       "      <td>486</td>\n",
       "      <td>801256715</td>\n",
       "      <td>100</td>\n",
       "    </tr>\n",
       "    <tr>\n",
       "      <th>1</th>\n",
       "      <td>MITE_T_1|chr2B|413009710|413010196|AT|24|F1</td>\n",
       "      <td>2B</td>\n",
       "      <td>1</td>\n",
       "      <td>486</td>\n",
       "      <td>1</td>\n",
       "      <td>100</td>\n",
       "      <td>972</td>\n",
       "      <td>486</td>\n",
       "      <td>0</td>\n",
       "      <td>0</td>\n",
       "      <td>0</td>\n",
       "      <td>486</td>\n",
       "      <td>100.00</td>\n",
       "      <td>486</td>\n",
       "      <td>801256715</td>\n",
       "      <td>100</td>\n",
       "    </tr>\n",
       "    <tr>\n",
       "      <th>2</th>\n",
       "      <td>MITE_T_1|chr2B|413009710|413010196|AT|24|F1</td>\n",
       "      <td>2B</td>\n",
       "      <td>1</td>\n",
       "      <td>486</td>\n",
       "      <td>1</td>\n",
       "      <td>100</td>\n",
       "      <td>972</td>\n",
       "      <td>486</td>\n",
       "      <td>0</td>\n",
       "      <td>0</td>\n",
       "      <td>0</td>\n",
       "      <td>486</td>\n",
       "      <td>100.00</td>\n",
       "      <td>486</td>\n",
       "      <td>801256715</td>\n",
       "      <td>100</td>\n",
       "    </tr>\n",
       "    <tr>\n",
       "      <th>3</th>\n",
       "      <td>MITE_T_1|chr2B|413009710|413010196|AT|24|F1</td>\n",
       "      <td>2B</td>\n",
       "      <td>1</td>\n",
       "      <td>486</td>\n",
       "      <td>1</td>\n",
       "      <td>100</td>\n",
       "      <td>972</td>\n",
       "      <td>486</td>\n",
       "      <td>0</td>\n",
       "      <td>0</td>\n",
       "      <td>0</td>\n",
       "      <td>486</td>\n",
       "      <td>100.00</td>\n",
       "      <td>486</td>\n",
       "      <td>801256715</td>\n",
       "      <td>100</td>\n",
       "    </tr>\n",
       "    <tr>\n",
       "      <th>4</th>\n",
       "      <td>MITE_T_1|chr2B|413009710|413010196|AT|24|F1</td>\n",
       "      <td>2B</td>\n",
       "      <td>1</td>\n",
       "      <td>486</td>\n",
       "      <td>394110004</td>\n",
       "      <td>394110490</td>\n",
       "      <td>844</td>\n",
       "      <td>487</td>\n",
       "      <td>24</td>\n",
       "      <td>1</td>\n",
       "      <td>1</td>\n",
       "      <td>462</td>\n",
       "      <td>94.87</td>\n",
       "      <td>486</td>\n",
       "      <td>801256715</td>\n",
       "      <td>100</td>\n",
       "    </tr>\n",
       "    <tr>\n",
       "      <th>5</th>\n",
       "      <td>MITE_T_1|chr2B|413009710|413010196|AT|24|F1</td>\n",
       "      <td>2B</td>\n",
       "      <td>3</td>\n",
       "      <td>484</td>\n",
       "      <td>727734259</td>\n",
       "      <td>727734740</td>\n",
       "      <td>842</td>\n",
       "      <td>483</td>\n",
       "      <td>21</td>\n",
       "      <td>2</td>\n",
       "      <td>2</td>\n",
       "      <td>460</td>\n",
       "      <td>95.24</td>\n",
       "      <td>486</td>\n",
       "      <td>801256715</td>\n",
       "      <td>100</td>\n",
       "    </tr>\n",
       "  </tbody>\n",
       "</table>\n",
       "</div>"
      ],
      "text/plain": [
       "                                        qseqid sseqid  qstart  qend  \\\n",
       "0  MITE_T_1|chr2B|413009710|413010196|AT|24|F1     2B       1   486   \n",
       "1  MITE_T_1|chr2B|413009710|413010196|AT|24|F1     2B       1   486   \n",
       "2  MITE_T_1|chr2B|413009710|413010196|AT|24|F1     2B       1   486   \n",
       "3  MITE_T_1|chr2B|413009710|413010196|AT|24|F1     2B       1   486   \n",
       "4  MITE_T_1|chr2B|413009710|413010196|AT|24|F1     2B       1   486   \n",
       "5  MITE_T_1|chr2B|413009710|413010196|AT|24|F1     2B       3   484   \n",
       "\n",
       "      sstart       send  score  length  mismatch  gaps  gapopen  nident  \\\n",
       "0          1        100    972     486         0     0        0     486   \n",
       "1          1        100    972     486         0     0        0     486   \n",
       "2          1        100    972     486         0     0        0     486   \n",
       "3          1        100    972     486         0     0        0     486   \n",
       "4  394110004  394110490    844     487        24     1        1     462   \n",
       "5  727734259  727734740    842     483        21     2        2     460   \n",
       "\n",
       "   pident  qlen       slen  qcovs  \n",
       "0  100.00   486  801256715    100  \n",
       "1  100.00   486  801256715    100  \n",
       "2  100.00   486  801256715    100  \n",
       "3  100.00   486  801256715    100  \n",
       "4   94.87   486  801256715    100  \n",
       "5   95.24   486  801256715    100  "
      ]
     },
     "execution_count": 185,
     "metadata": {},
     "output_type": "execute_result"
    }
   ],
   "source": [
    "df"
   ]
  },
  {
   "cell_type": "code",
   "execution_count": 186,
   "metadata": {},
   "outputs": [
    {
     "name": "stdout",
     "output_type": "stream",
     "text": [
      "50\n"
     ]
    }
   ],
   "source": [
    "my_index = 0\n",
    "indexes = []\n",
    "discard = []\n",
    "count = 0\n",
    "curr = 0\n",
    "total_len = len(df.index)\n",
    "while my_index < total_len - 1:\n",
    "    row = df.iloc[[my_index]]\n",
    "    second_row = df.iloc[[my_index + 1]]\n",
    "    seq1 = row.sseqid\n",
    "    cond = (row.iloc[0].sseqid == second_row.iloc[0].sseqid) & (abs(second_row.iloc[0].sstart - row.iloc[0].sstart) <= params[te_type]['min_distance']) & (abs(second_row.iloc[0].send - row.iloc[0].send) <= params[te_type]['min_distance'])\n",
    "    if not cond:\n",
    "        indexes.append(my_index)\n",
    "    my_index += 1\n",
    "    #just a counter\n",
    "    count += 1\n",
    "    curr_new = int(count * 100 * 1.0 / (total_len * 1.0))\n",
    "    if curr_new != curr:\n",
    "        curr = curr_new\n",
    "        if curr_new % 5 == 0:\n",
    "            print(curr_new)\n",
    "indexes.append(total_len - 1)"
   ]
  },
  {
   "cell_type": "code",
   "execution_count": 187,
   "metadata": {},
   "outputs": [
    {
     "name": "stdout",
     "output_type": "stream",
     "text": [
      "Non overlapped: 3\n"
     ]
    },
    {
     "name": "stderr",
     "output_type": "stream",
     "text": [
      "/Users/juan/Documents/venvs/bio/lib/python2.7/site-packages/ipykernel_launcher.py:2: SettingWithCopyWarning: \n",
      "A value is trying to be set on a copy of a slice from a DataFrame\n",
      "\n",
      "See the caveats in the documentation: http://pandas.pydata.org/pandas-docs/stable/indexing.html#indexing-view-versus-copy\n",
      "  \n"
     ]
    },
    {
     "data": {
      "text/html": [
       "<div>\n",
       "<table border=\"1\" class=\"dataframe\">\n",
       "  <thead>\n",
       "    <tr style=\"text-align: right;\">\n",
       "      <th></th>\n",
       "      <th>qseqid</th>\n",
       "      <th>sseqid</th>\n",
       "      <th>qstart</th>\n",
       "      <th>qend</th>\n",
       "      <th>sstart</th>\n",
       "      <th>send</th>\n",
       "      <th>score</th>\n",
       "      <th>length</th>\n",
       "      <th>mismatch</th>\n",
       "      <th>gaps</th>\n",
       "      <th>gapopen</th>\n",
       "      <th>nident</th>\n",
       "      <th>pident</th>\n",
       "      <th>qlen</th>\n",
       "      <th>slen</th>\n",
       "      <th>qcovs</th>\n",
       "    </tr>\n",
       "  </thead>\n",
       "  <tbody>\n",
       "    <tr>\n",
       "      <th>3</th>\n",
       "      <td>MITE_T_1|chr2B|413009710|413010196|AT|24|F1</td>\n",
       "      <td>2B</td>\n",
       "      <td>1</td>\n",
       "      <td>486</td>\n",
       "      <td>1</td>\n",
       "      <td>100</td>\n",
       "      <td>972</td>\n",
       "      <td>486</td>\n",
       "      <td>0</td>\n",
       "      <td>0</td>\n",
       "      <td>0</td>\n",
       "      <td>486</td>\n",
       "      <td>100.00</td>\n",
       "      <td>486</td>\n",
       "      <td>801256715</td>\n",
       "      <td>100</td>\n",
       "    </tr>\n",
       "    <tr>\n",
       "      <th>4</th>\n",
       "      <td>MITE_T_1|chr2B|413009710|413010196|AT|24|F1</td>\n",
       "      <td>2B</td>\n",
       "      <td>1</td>\n",
       "      <td>486</td>\n",
       "      <td>394110004</td>\n",
       "      <td>394110490</td>\n",
       "      <td>844</td>\n",
       "      <td>487</td>\n",
       "      <td>24</td>\n",
       "      <td>1</td>\n",
       "      <td>1</td>\n",
       "      <td>462</td>\n",
       "      <td>94.87</td>\n",
       "      <td>486</td>\n",
       "      <td>801256715</td>\n",
       "      <td>100</td>\n",
       "    </tr>\n",
       "    <tr>\n",
       "      <th>5</th>\n",
       "      <td>MITE_T_1|chr2B|413009710|413010196|AT|24|F1</td>\n",
       "      <td>2B</td>\n",
       "      <td>3</td>\n",
       "      <td>484</td>\n",
       "      <td>727734259</td>\n",
       "      <td>727734740</td>\n",
       "      <td>842</td>\n",
       "      <td>483</td>\n",
       "      <td>21</td>\n",
       "      <td>2</td>\n",
       "      <td>2</td>\n",
       "      <td>460</td>\n",
       "      <td>95.24</td>\n",
       "      <td>486</td>\n",
       "      <td>801256715</td>\n",
       "      <td>100</td>\n",
       "    </tr>\n",
       "  </tbody>\n",
       "</table>\n",
       "</div>"
      ],
      "text/plain": [
       "                                        qseqid sseqid  qstart  qend  \\\n",
       "3  MITE_T_1|chr2B|413009710|413010196|AT|24|F1     2B       1   486   \n",
       "4  MITE_T_1|chr2B|413009710|413010196|AT|24|F1     2B       1   486   \n",
       "5  MITE_T_1|chr2B|413009710|413010196|AT|24|F1     2B       3   484   \n",
       "\n",
       "      sstart       send  score  length  mismatch  gaps  gapopen  nident  \\\n",
       "3          1        100    972     486         0     0        0     486   \n",
       "4  394110004  394110490    844     487        24     1        1     462   \n",
       "5  727734259  727734740    842     483        21     2        2     460   \n",
       "\n",
       "   pident  qlen       slen  qcovs  \n",
       "3  100.00   486  801256715    100  \n",
       "4   94.87   486  801256715    100  \n",
       "5   95.24   486  801256715    100  "
      ]
     },
     "execution_count": 187,
     "metadata": {},
     "output_type": "execute_result"
    }
   ],
   "source": [
    "df = df[df.index.isin(indexes)]\n",
    "df.sort_values(['sseqid', 'sstart'], inplace=True)\n",
    "print('Non overlapped: ' + str(len(df.index)))"
   ]
  },
  {
   "cell_type": "code",
   "execution_count": 188,
   "metadata": {},
   "outputs": [
    {
     "data": {
      "text/plain": [
       "'data/tes/blast_all.head.1.csv.new.filtered'"
      ]
     },
     "execution_count": 188,
     "metadata": {},
     "output_type": "execute_result"
    }
   ],
   "source": [
    "filename = params[te_type]['file'] + '.new.filtered'\n",
    "df.to_csv(filename, index=None, sep='\\t')\n",
    "filename"
   ]
  }
 ],
 "metadata": {
  "kernelspec": {
   "display_name": "Python 3",
   "language": "python",
   "name": "python3"
  },
  "language_info": {
   "codemirror_mode": {
    "name": "ipython",
    "version": 2
   },
   "file_extension": ".py",
   "mimetype": "text/x-python",
   "name": "python",
   "nbconvert_exporter": "python",
   "pygments_lexer": "ipython2",
   "version": "2.7.15"
  }
 },
 "nbformat": 4,
 "nbformat_minor": 2
}
