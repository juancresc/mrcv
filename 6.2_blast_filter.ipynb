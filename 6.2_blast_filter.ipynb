{
 "cells": [
  {
   "cell_type": "code",
<<<<<<< HEAD
   "execution_count": 232,
=======
   "execution_count": 1,
   "metadata": {},
   "outputs": [],
   "source": [
    "import pandas as pd\n",
    "from itertools import cycle\n",
    "path_blast = 'data/results/'\n",
    "tes_type = ['MITE', 'TRIM', 'LARD', 'TIR','helitron','LTR','SINE', 'LINE']\n",
    "pool = cycle(tes_type)"
   ]
  },
  {
   "cell_type": "code",
   "execution_count": 4,
>>>>>>> ad72cc7d3c4397b7a42f11e0df9845a6532c16c1
   "metadata": {},
   "outputs": [
    {
     "name": "stdout",
     "output_type": "stream",
     "text": [
<<<<<<< HEAD
      "('Running for', 'MITE')\n"
=======
      "('Running for', 'LARD')\n"
>>>>>>> ad72cc7d3c4397b7a42f11e0df9845a6532c16c1
     ]
    }
   ],
   "source": [
<<<<<<< HEAD
    "import pandas as pd\n",
    "te_type = 'MITE'\n",
=======
    "te_type = next(pool)\n",
>>>>>>> ad72cc7d3c4397b7a42f11e0df9845a6532c16c1
    "print('Running for', te_type)"
   ]
  },
  {
   "cell_type": "code",
<<<<<<< HEAD
   "execution_count": 233,
=======
   "execution_count": 10,
>>>>>>> ad72cc7d3c4397b7a42f11e0df9845a6532c16c1
   "metadata": {},
   "outputs": [],
   "source": [
    "#TEs\n",
    "params = {}\n",
<<<<<<< HEAD
    "params['MITE'] = {'min_len':50,'max_len':800,'min_distance':5,'max_q':1.15,'min_q':0.85,'min_pident':90,'min_qcov':90,'file':'data/tes/blast_all.csv'}\n",
    "#select which TE type you want to run"
=======
    "params['LTR'] = {'min_len':650,'max_len':False,'min_distance':5,'max_q':1.5,'min_q':0.5,'min_pident':80,'min_qcov':50,'file':'blast_clustered_ltr.csv'}\n",
    "params['LINE'] = {'min_len':1500,'max_len':False,'min_distance':5,'max_q':1.2,'min_q':0.8,'min_pident':80,'min_qcov':50,'file':'blast_clustered_line.csv'}\n",
    "params['SINE'] = {'min_len':150,'max_len':800,'min_distance':5,'max_q':1.2,'min_q':0.8,'min_pident':80,'min_qcov':80,'file':'blast_clustered_sine.csv'}\n",
    "params['TRIM'] = {'min_len':600,'max_len':False,'min_distance':5,'max_q':1.2,'min_q':0.8,'min_pident':80,'min_qcov':80,'file':'blast_clustered_trim.csv'}\n",
    "params['TIR'] = {'min_len':700,'max_len':False,'min_distance':5,'max_q':1.5,'min_q':0.5,'min_pident':80,'min_qcov':50,'file':'blast_clustered_tir.csv'}\n",
    "params['MITE'] = {'min_len':50,'max_len':800,'min_distance':5,'max_q':1.15,'min_q':0.85,'min_pident':90,'min_qcov':90,'file':'blast_clustered_mite.csv'}\n",
    "params['LARD'] = {'min_len':50,'max_len':False,'min_distance':5,'max_q':1.15,'min_q':0.85,'min_pident':90,'min_qcov':50,'file':'blast_clustered_lard.csv'}\n",
    "params['helitron'] = {'min_len':2000,'max_len':False,'min_distance':5,'max_q':1.2,'min_q':0.8,'min_pident':80,'min_qcov':50,'file':'blast_clustered_helitron.csv'}\n"
>>>>>>> ad72cc7d3c4397b7a42f11e0df9845a6532c16c1
   ]
  },
  {
   "cell_type": "code",
<<<<<<< HEAD
   "execution_count": 234,
=======
   "execution_count": 64,
   "metadata": {},
   "outputs": [],
   "source": [
    "#TEs - autonomos\n",
    "params = {}\n",
    "params['LTR'] = {'min_len':650,'max_len':False,'min_distance':5,'max_q':1.1,'min_q':0.9,'min_pident':95,'min_qcov':95,'file':'blast_clustered_ltr.csv'}\n",
    "params['LINE'] = {'min_len':1500,'max_len':False,'min_distance':5,'max_q':1.1,'min_q':0.9,'min_pident':95,'min_qcov':95,'file':'blast_clustered_line.csv'}\n",
    "params['TIR'] = {'min_len':700,'max_len':False,'min_distance':5,'max_q':1.1,'min_q':0.9,'min_pident':95,'min_qcov':95,'file':'blast_clustered_tir.csv'}\n",
    "params['helitron'] = {'min_len':2000,'max_len':False,'min_distance':5,'max_q':1.1,'min_q':0.9,'min_pident':95,'min_qcov':95,'file':'blast_clustered_helitron.csv'}\n"
   ]
  },
  {
   "cell_type": "code",
   "execution_count": null,
   "metadata": {},
   "outputs": [],
   "source": []
  },
  {
   "cell_type": "code",
   "execution_count": 11,
>>>>>>> ad72cc7d3c4397b7a42f11e0df9845a6532c16c1
   "metadata": {},
   "outputs": [
    {
     "name": "stdout",
     "output_type": "stream",
     "text": [
<<<<<<< HEAD
      "('initial:', 863)\n"
=======
      "('initial:', 45)\n"
>>>>>>> ad72cc7d3c4397b7a42f11e0df9845a6532c16c1
     ]
    }
   ],
   "source": [
    "#read blast output\n",
<<<<<<< HEAD
    "df = pd.read_csv(params[te_type]['file'], sep='\\t', )\n",
    "df.columns = ['qseqid','sseqid',\n",
    "              'qstart','qend','sstart',\n",
    "              'send','score','length','mismatch','gaps','gapopen','nident','pident','qlen','slen','qcovs']\n",
    "print('initial:',len(df.index))"
=======
    "df = pd.read_csv(path_blast + params[te_type]['file'], sep='\\t', header=None)\n",
    "df.columns = ['qseqid','sseqid','qstart','qend','sstart','send','score','length','mismatch','gaps','gapopen','nident','pident','qlen','slen','qcovs']\n",
    "print('initial:',len(df.index))\n",
    "initial = len(df.index)"
>>>>>>> ad72cc7d3c4397b7a42f11e0df9845a6532c16c1
   ]
  },
  {
   "cell_type": "code",
<<<<<<< HEAD
   "execution_count": 235,
=======
   "execution_count": 12,
>>>>>>> ad72cc7d3c4397b7a42f11e0df9845a6532c16c1
   "metadata": {},
   "outputs": [
    {
     "name": "stdout",
     "output_type": "stream",
     "text": [
<<<<<<< HEAD
      "Min len: 863\n"
=======
      "Min len: 45\n"
>>>>>>> ad72cc7d3c4397b7a42f11e0df9845a6532c16c1
     ]
    }
   ],
   "source": [
    "#filter by length\n",
    "if(params[te_type]['min_len']):\n",
    "    df = df[df.qlen > params[te_type]['min_len']]\n",
<<<<<<< HEAD
    "print('Min len: ' + str(len(df.index)))    "
=======
    "print('Min len: ' + str(len(df.index)))\n",
    "min_length = str(len(df.index))"
>>>>>>> ad72cc7d3c4397b7a42f11e0df9845a6532c16c1
   ]
  },
  {
   "cell_type": "code",
<<<<<<< HEAD
   "execution_count": 236,
=======
   "execution_count": 13,
>>>>>>> ad72cc7d3c4397b7a42f11e0df9845a6532c16c1
   "metadata": {},
   "outputs": [
    {
     "name": "stdout",
     "output_type": "stream",
     "text": [
<<<<<<< HEAD
      "Max len: 863\n"
=======
      "Max len: 45\n"
>>>>>>> ad72cc7d3c4397b7a42f11e0df9845a6532c16c1
     ]
    }
   ],
   "source": [
    "if(params[te_type]['max_len']):\n",
    "    df = df[df.qlen < params[te_type]['max_len']]\n",
<<<<<<< HEAD
    "print('Max len: ' + str(len(df.index)))    "
=======
    "print('Max len: ' + str(len(df.index)))    \n",
    "max_length = str(len(df.index))"
>>>>>>> ad72cc7d3c4397b7a42f11e0df9845a6532c16c1
   ]
  },
  {
   "cell_type": "code",
<<<<<<< HEAD
   "execution_count": 237,
=======
   "execution_count": 14,
>>>>>>> ad72cc7d3c4397b7a42f11e0df9845a6532c16c1
   "metadata": {},
   "outputs": [
    {
     "name": "stdout",
     "output_type": "stream",
     "text": [
<<<<<<< HEAD
      "('min treshold:', 863)\n"
=======
      "('min treshold:', 22)\n"
>>>>>>> ad72cc7d3c4397b7a42f11e0df9845a6532c16c1
     ]
    }
   ],
   "source": [
    "#filter by query / subject length treshold\n",
    "df = df[((df.length / df.qlen) >= params[te_type]['min_q'])]\n",
<<<<<<< HEAD
    "print('min treshold:',len(df.index))"
=======
    "print('min treshold:',len(df.index))\n",
    "min_treshold = str(len(df.index))"
>>>>>>> ad72cc7d3c4397b7a42f11e0df9845a6532c16c1
   ]
  },
  {
   "cell_type": "code",
<<<<<<< HEAD
   "execution_count": 238,
=======
   "execution_count": 15,
>>>>>>> ad72cc7d3c4397b7a42f11e0df9845a6532c16c1
   "metadata": {},
   "outputs": [
    {
     "name": "stdout",
     "output_type": "stream",
     "text": [
<<<<<<< HEAD
      "('max treshold:', 863)\n"
=======
      "('max treshold:', 22)\n"
>>>>>>> ad72cc7d3c4397b7a42f11e0df9845a6532c16c1
     ]
    }
   ],
   "source": [
    "df = df[((df.length / df.qlen) <= params[te_type]['max_q'])]\n",
<<<<<<< HEAD
    "print('max treshold:',len(df.index))"
=======
    "print('max treshold:',len(df.index))\n",
    "max_treshold = str(len(df.index))"
>>>>>>> ad72cc7d3c4397b7a42f11e0df9845a6532c16c1
   ]
  },
  {
   "cell_type": "code",
<<<<<<< HEAD
   "execution_count": 239,
=======
   "execution_count": 16,
>>>>>>> ad72cc7d3c4397b7a42f11e0df9845a6532c16c1
   "metadata": {},
   "outputs": [
    {
     "name": "stdout",
     "output_type": "stream",
     "text": [
<<<<<<< HEAD
      "Min_pident: 863\n"
=======
      "Min_pident: 21\n"
>>>>>>> ad72cc7d3c4397b7a42f11e0df9845a6532c16c1
     ]
    }
   ],
   "source": [
<<<<<<< HEAD
    "df = df[(df.pident >= params[te_type]['min_pident'])]\n",
    "print('Min_pident: ' + str(len(df.index)))"
=======
    "#filter by pident\n",
    "df = df[(df.pident >= params[te_type]['min_pident'])]\n",
    "print('Min_pident: ' + str(len(df.index)))\n",
    "min_pident = str(len(df.index))"
>>>>>>> ad72cc7d3c4397b7a42f11e0df9845a6532c16c1
   ]
  },
  {
   "cell_type": "code",
<<<<<<< HEAD
   "execution_count": 240,
=======
   "execution_count": 18,
>>>>>>> ad72cc7d3c4397b7a42f11e0df9845a6532c16c1
   "metadata": {},
   "outputs": [
    {
     "name": "stdout",
     "output_type": "stream",
     "text": [
<<<<<<< HEAD
      "Min qcov: 863\n"
=======
      "Min qcov: 21\n"
>>>>>>> ad72cc7d3c4397b7a42f11e0df9845a6532c16c1
     ]
    }
   ],
   "source": [
<<<<<<< HEAD
    "df = df[(df.qcovs >= params[te_type]['min_qcov'])]\n",
    "print('Min qcov: ' + str(len(df.index)))"
=======
    "#filter by qcov\n",
    "df = df[(df.qcovs >= params[te_type]['min_qcov'])]\n",
    "print('Min qcov: ' + str(len(df.index)))\n",
    "min_qcov = str(len(df.index))"
>>>>>>> ad72cc7d3c4397b7a42f11e0df9845a6532c16c1
   ]
  },
  {
   "cell_type": "code",
<<<<<<< HEAD
   "execution_count": 241,
   "metadata": {},
   "outputs": [],
   "source": [
    "#re-arrange start and end\n",
=======
   "execution_count": 19,
   "metadata": {},
   "outputs": [],
   "source": [
    "#order sstart and send\n",
>>>>>>> ad72cc7d3c4397b7a42f11e0df9845a6532c16c1
    "df['new_sstart'] = df[['sstart','send']].min(axis=1)\n",
    "df['new_ssend'] = df[['sstart','send']].max(axis=1)\n",
    "df['sstart'] = df['new_sstart']\n",
    "df['send'] = df['new_ssend']\n",
<<<<<<< HEAD
    "df = df.drop('new_sstart',axis=1).drop('new_ssend',axis=1)\n"
=======
    "df = df.drop('new_sstart',axis=1).drop('new_ssend',axis=1)\n",
    "\n",
    "# sep by chr\n",
    "dfs = {}\n",
    "for seq in df.sseqid.unique():\n",
    "    dfs[seq] = df[df.sseqid == seq]\n"
>>>>>>> ad72cc7d3c4397b7a42f11e0df9845a6532c16c1
   ]
  },
  {
   "cell_type": "code",
<<<<<<< HEAD
   "execution_count": 242,
   "metadata": {},
   "outputs": [],
   "source": [
    "df = df.sort_values(by=['sseqid','sstart', 'send'])\n",
    "df.reset_index(inplace=True)\n",
    "df = df.drop('index',axis=1)"
   ]
  },
  {
   "cell_type": "code",
   "execution_count": 243,
   "metadata": {},
   "outputs": [
    {
     "data": {
      "text/html": [
       "<div>\n",
       "<table border=\"1\" class=\"dataframe\">\n",
       "  <thead>\n",
       "    <tr style=\"text-align: right;\">\n",
       "      <th></th>\n",
       "      <th>qseqid</th>\n",
       "      <th>sseqid</th>\n",
       "      <th>qstart</th>\n",
       "      <th>qend</th>\n",
       "      <th>sstart</th>\n",
       "      <th>send</th>\n",
       "      <th>score</th>\n",
       "      <th>length</th>\n",
       "      <th>mismatch</th>\n",
       "      <th>gaps</th>\n",
       "      <th>gapopen</th>\n",
       "      <th>nident</th>\n",
       "      <th>pident</th>\n",
       "      <th>qlen</th>\n",
       "      <th>slen</th>\n",
       "      <th>qcovs</th>\n",
       "    </tr>\n",
       "  </thead>\n",
       "  <tbody>\n",
       "    <tr>\n",
       "      <th>0</th>\n",
       "      <td>MITE_T_126801|chr7B|78567635|78568204|CTTCCCT|...</td>\n",
       "      <td>1A</td>\n",
       "      <td>43</td>\n",
       "      <td>517</td>\n",
       "      <td>77566</td>\n",
       "      <td>78050</td>\n",
       "      <td>738</td>\n",
       "      <td>487</td>\n",
       "      <td>31</td>\n",
       "      <td>14</td>\n",
       "      <td>5</td>\n",
       "      <td>442</td>\n",
       "      <td>90.76</td>\n",
       "      <td>569</td>\n",
       "      <td>594102056</td>\n",
       "      <td>93</td>\n",
       "    </tr>\n",
       "    <tr>\n",
       "      <th>1</th>\n",
       "      <td>MITE_T_126801|chr7B|78567635|78568204|CTTCCCT|...</td>\n",
       "      <td>1A</td>\n",
       "      <td>44</td>\n",
       "      <td>515</td>\n",
       "      <td>86285</td>\n",
       "      <td>86766</td>\n",
       "      <td>726</td>\n",
       "      <td>484</td>\n",
       "      <td>32</td>\n",
       "      <td>14</td>\n",
       "      <td>5</td>\n",
       "      <td>438</td>\n",
       "      <td>90.50</td>\n",
       "      <td>569</td>\n",
       "      <td>594102056</td>\n",
       "      <td>93</td>\n",
       "    </tr>\n",
       "    <tr>\n",
       "      <th>2</th>\n",
       "      <td>MITE_T_10416|chr4A|373381651|373381997|TGTT|36...</td>\n",
       "      <td>1A</td>\n",
       "      <td>4</td>\n",
       "      <td>341</td>\n",
       "      <td>213862</td>\n",
       "      <td>214201</td>\n",
       "      <td>520</td>\n",
       "      <td>341</td>\n",
       "      <td>27</td>\n",
       "      <td>4</td>\n",
       "      <td>2</td>\n",
       "      <td>310</td>\n",
       "      <td>90.91</td>\n",
       "      <td>346</td>\n",
       "      <td>594102056</td>\n",
       "      <td>99</td>\n",
       "    </tr>\n",
       "    <tr>\n",
       "      <th>3</th>\n",
       "      <td>MITE_T_9379|chr5A|253680838|253681189|GC|364|F534</td>\n",
       "      <td>1A</td>\n",
       "      <td>12</td>\n",
       "      <td>348</td>\n",
       "      <td>213865</td>\n",
       "      <td>214203</td>\n",
       "      <td>514</td>\n",
       "      <td>339</td>\n",
       "      <td>30</td>\n",
       "      <td>2</td>\n",
       "      <td>1</td>\n",
       "      <td>307</td>\n",
       "      <td>90.56</td>\n",
       "      <td>351</td>\n",
       "      <td>594102056</td>\n",
       "      <td>99</td>\n",
       "    </tr>\n",
       "    <tr>\n",
       "      <th>4</th>\n",
       "      <td>MITE_T_8262|chr5A|273309274|273309638|TA|373|F468</td>\n",
       "      <td>1A</td>\n",
       "      <td>19</td>\n",
       "      <td>346</td>\n",
       "      <td>213867</td>\n",
       "      <td>214194</td>\n",
       "      <td>560</td>\n",
       "      <td>328</td>\n",
       "      <td>19</td>\n",
       "      <td>0</td>\n",
       "      <td>0</td>\n",
       "      <td>309</td>\n",
       "      <td>94.21</td>\n",
       "      <td>364</td>\n",
       "      <td>594102056</td>\n",
       "      <td>99</td>\n",
       "    </tr>\n",
       "  </tbody>\n",
       "</table>\n",
       "</div>"
      ],
      "text/plain": [
       "                                              qseqid sseqid  qstart  qend  \\\n",
       "0  MITE_T_126801|chr7B|78567635|78568204|CTTCCCT|...     1A      43   517   \n",
       "1  MITE_T_126801|chr7B|78567635|78568204|CTTCCCT|...     1A      44   515   \n",
       "2  MITE_T_10416|chr4A|373381651|373381997|TGTT|36...     1A       4   341   \n",
       "3  MITE_T_9379|chr5A|253680838|253681189|GC|364|F534     1A      12   348   \n",
       "4  MITE_T_8262|chr5A|273309274|273309638|TA|373|F468     1A      19   346   \n",
       "\n",
       "   sstart    send  score  length  mismatch  gaps  gapopen  nident  pident  \\\n",
       "0   77566   78050    738     487        31    14        5     442   90.76   \n",
       "1   86285   86766    726     484        32    14        5     438   90.50   \n",
       "2  213862  214201    520     341        27     4        2     310   90.91   \n",
       "3  213865  214203    514     339        30     2        1     307   90.56   \n",
       "4  213867  214194    560     328        19     0        0     309   94.21   \n",
       "\n",
       "   qlen       slen  qcovs  \n",
       "0   569  594102056     93  \n",
       "1   569  594102056     93  \n",
       "2   346  594102056     99  \n",
       "3   351  594102056     99  \n",
       "4   364  594102056     99  "
      ]
     },
     "execution_count": 243,
     "metadata": {},
     "output_type": "execute_result"
    }
   ],
   "source": [
    "df.head()"
   ]
  },
  {
   "cell_type": "code",
   "execution_count": null,
   "metadata": {},
   "outputs": [],
   "source": []
  },
  {
   "cell_type": "code",
   "execution_count": 244,
=======
   "execution_count": 20,
>>>>>>> ad72cc7d3c4397b7a42f11e0df9845a6532c16c1
   "metadata": {},
   "outputs": [
    {
     "name": "stdout",
     "output_type": "stream",
     "text": [
<<<<<<< HEAD
      "5\n",
      "25\n",
      "30\n",
      "35\n",
      "40\n",
      "50\n",
      "55\n",
      "60\n",
      "65\n",
      "70\n",
      "75\n",
      "80\n",
      "85\n",
      "90\n",
      "95\n",
=======
      "80\n",
      "90\n",
>>>>>>> ad72cc7d3c4397b7a42f11e0df9845a6532c16c1
      "100\n"
     ]
    }
   ],
   "source": [
<<<<<<< HEAD
    "my_index = 0\n",
    "indexes = []\n",
    "discard = []\n",
    "count = 0\n",
    "curr = 0\n",
    "total_len = len(df.index)\n",
    "while my_index < total_len - 1:\n",
    "    row = df.iloc[[my_index]]\n",
    "    cond = True\n",
    "    next_index = 1\n",
    "    while cond:\n",
    "        second_row = df.iloc[[my_index + next_index]]\n",
    "        c1 = (row.iloc[0].sseqid == second_row.iloc[0].sseqid)\n",
    "        c2 = (abs(second_row.iloc[0].sstart - row.iloc[0].sstart) <= params[te_type]['min_distance'])\n",
    "        c3 = (abs(second_row.iloc[0].send - row.iloc[0].send) <= params[te_type]['min_distance'])\n",
    "        cond =  c1 and c2 and c3\n",
    "        if not cond and (c2 or c3):\n",
    "            indexes.append(my_index)\n",
    "            cond = True\n",
    "        next_index += 1\n",
    "    indexes.append(my_index)\n",
    "    my_index += next_index\n",
    "    #just a counter\n",
    "    curr_new = int(my_index * 100 * 1.0 / (total_len * 1.0))\n",
    "    if curr_new != curr:\n",
    "        curr = curr_new\n",
    "        if curr_new % 5 == 0:\n",
    "            print(curr_new)\n",
    "indexes.append(total_len - 1)"
=======
    "# filter overlapped \n",
    "rows = []\n",
    "discard = []\n",
    "total = len(df.index)\n",
    "count = 0\n",
    "curr = 0\n",
    "for index, row in df.iterrows():\n",
    "    count += 1\n",
    "    curr_new = int(count * 100 * 1.0 / (total * 1.0))\n",
    "    if curr_new != curr:\n",
    "        curr = curr_new\n",
    "        if curr_new % 10 == 0:\n",
    "            print(curr_new)\n",
    "    if index in discard:\n",
    "        continue\n",
    "    df_2 = dfs[row.sseqid]\n",
    "    res = df_2[(abs(df_2.sstart - row.sstart) <= params[te_type]['min_distance']) | (abs(df_2.send - row.send) <= params[te_type]['min_distance'])]\n",
    "    if len(res.index) > 1:\n",
    "        discard.extend(res.index.values)\n",
    "    rows.append(row)"
>>>>>>> ad72cc7d3c4397b7a42f11e0df9845a6532c16c1
   ]
  },
  {
   "cell_type": "code",
<<<<<<< HEAD
   "execution_count": 245,
=======
   "execution_count": 21,
>>>>>>> ad72cc7d3c4397b7a42f11e0df9845a6532c16c1
   "metadata": {},
   "outputs": [
    {
     "name": "stdout",
     "output_type": "stream",
     "text": [
<<<<<<< HEAD
      "Non overlapped: 146\n"
=======
      "Non overlapped: 18\n"
>>>>>>> ad72cc7d3c4397b7a42f11e0df9845a6532c16c1
     ]
    }
   ],
   "source": [
<<<<<<< HEAD
    "df = df[df.index.isin(indexes)]\n",
    "df.sort_values(['sseqid', 'sstart'], inplace=True)\n",
    "print('Non overlapped: ' + str(len(df.index)))"
=======
    "df = pd.DataFrame(rows)\n",
    "df.sort_values(['sseqid', 'sstart'], inplace=True)\n",
    "print('Non overlapped: ' + str(len(df.index)))\n",
    "non_overlapped = str(len(df.index))"
>>>>>>> ad72cc7d3c4397b7a42f11e0df9845a6532c16c1
   ]
  },
  {
   "cell_type": "code",
<<<<<<< HEAD
   "execution_count": 246,
=======
   "execution_count": 22,
>>>>>>> ad72cc7d3c4397b7a42f11e0df9845a6532c16c1
   "metadata": {},
   "outputs": [
    {
     "data": {
<<<<<<< HEAD
      "text/html": [
       "<div>\n",
       "<table border=\"1\" class=\"dataframe\">\n",
       "  <thead>\n",
       "    <tr style=\"text-align: right;\">\n",
       "      <th></th>\n",
       "      <th>qseqid</th>\n",
       "      <th>sseqid</th>\n",
       "      <th>qstart</th>\n",
       "      <th>qend</th>\n",
       "      <th>sstart</th>\n",
       "      <th>send</th>\n",
       "      <th>score</th>\n",
       "      <th>length</th>\n",
       "      <th>mismatch</th>\n",
       "      <th>gaps</th>\n",
       "      <th>gapopen</th>\n",
       "      <th>nident</th>\n",
       "      <th>pident</th>\n",
       "      <th>qlen</th>\n",
       "      <th>slen</th>\n",
       "      <th>qcovs</th>\n",
       "    </tr>\n",
       "  </thead>\n",
       "  <tbody>\n",
       "    <tr>\n",
       "      <th>0</th>\n",
       "      <td>MITE_T_126801|chr7B|78567635|78568204|CTTCCCT|...</td>\n",
       "      <td>1A</td>\n",
       "      <td>43</td>\n",
       "      <td>517</td>\n",
       "      <td>77566</td>\n",
       "      <td>78050</td>\n",
       "      <td>738</td>\n",
       "      <td>487</td>\n",
       "      <td>31</td>\n",
       "      <td>14</td>\n",
       "      <td>5</td>\n",
       "      <td>442</td>\n",
       "      <td>90.76</td>\n",
       "      <td>569</td>\n",
       "      <td>594102056</td>\n",
       "      <td>93</td>\n",
       "    </tr>\n",
       "    <tr>\n",
       "      <th>2</th>\n",
       "      <td>MITE_T_10416|chr4A|373381651|373381997|TGTT|36...</td>\n",
       "      <td>1A</td>\n",
       "      <td>4</td>\n",
       "      <td>341</td>\n",
       "      <td>213862</td>\n",
       "      <td>214201</td>\n",
       "      <td>520</td>\n",
       "      <td>341</td>\n",
       "      <td>27</td>\n",
       "      <td>4</td>\n",
       "      <td>2</td>\n",
       "      <td>310</td>\n",
       "      <td>90.91</td>\n",
       "      <td>346</td>\n",
       "      <td>594102056</td>\n",
       "      <td>99</td>\n",
       "    </tr>\n",
       "    <tr>\n",
       "      <th>6</th>\n",
       "      <td>MITE_T_13765|chr7B|255748631|255748962|TTTT|33...</td>\n",
       "      <td>1A</td>\n",
       "      <td>4</td>\n",
       "      <td>328</td>\n",
       "      <td>213868</td>\n",
       "      <td>214192</td>\n",
       "      <td>504</td>\n",
       "      <td>325</td>\n",
       "      <td>29</td>\n",
       "      <td>0</td>\n",
       "      <td>0</td>\n",
       "      <td>296</td>\n",
       "      <td>91.08</td>\n",
       "      <td>331</td>\n",
       "      <td>594102056</td>\n",
       "      <td>100</td>\n",
       "    </tr>\n",
       "    <tr>\n",
       "      <th>11</th>\n",
       "      <td>MITE_T_126801|chr7B|78567635|78568204|CTTCCCT|...</td>\n",
       "      <td>1A</td>\n",
       "      <td>44</td>\n",
       "      <td>515</td>\n",
       "      <td>305432</td>\n",
       "      <td>305913</td>\n",
       "      <td>716</td>\n",
       "      <td>484</td>\n",
       "      <td>34</td>\n",
       "      <td>14</td>\n",
       "      <td>5</td>\n",
       "      <td>436</td>\n",
       "      <td>90.08</td>\n",
       "      <td>569</td>\n",
       "      <td>594102056</td>\n",
       "      <td>93</td>\n",
       "    </tr>\n",
       "    <tr>\n",
       "      <th>13</th>\n",
       "      <td>MITE_T_126801|chr7B|78567635|78568204|CTTCCCT|...</td>\n",
       "      <td>1A</td>\n",
       "      <td>43</td>\n",
       "      <td>517</td>\n",
       "      <td>325494</td>\n",
       "      <td>325978</td>\n",
       "      <td>728</td>\n",
       "      <td>487</td>\n",
       "      <td>33</td>\n",
       "      <td>14</td>\n",
       "      <td>5</td>\n",
       "      <td>440</td>\n",
       "      <td>90.35</td>\n",
       "      <td>569</td>\n",
       "      <td>594102056</td>\n",
       "      <td>93</td>\n",
       "    </tr>\n",
       "  </tbody>\n",
       "</table>\n",
       "</div>"
      ],
      "text/plain": [
       "                                               qseqid sseqid  qstart  qend  \\\n",
       "0   MITE_T_126801|chr7B|78567635|78568204|CTTCCCT|...     1A      43   517   \n",
       "2   MITE_T_10416|chr4A|373381651|373381997|TGTT|36...     1A       4   341   \n",
       "6   MITE_T_13765|chr7B|255748631|255748962|TTTT|33...     1A       4   328   \n",
       "11  MITE_T_126801|chr7B|78567635|78568204|CTTCCCT|...     1A      44   515   \n",
       "13  MITE_T_126801|chr7B|78567635|78568204|CTTCCCT|...     1A      43   517   \n",
       "\n",
       "    sstart    send  score  length  mismatch  gaps  gapopen  nident  pident  \\\n",
       "0    77566   78050    738     487        31    14        5     442   90.76   \n",
       "2   213862  214201    520     341        27     4        2     310   90.91   \n",
       "6   213868  214192    504     325        29     0        0     296   91.08   \n",
       "11  305432  305913    716     484        34    14        5     436   90.08   \n",
       "13  325494  325978    728     487        33    14        5     440   90.35   \n",
       "\n",
       "    qlen       slen  qcovs  \n",
       "0    569  594102056     93  \n",
       "2    346  594102056     99  \n",
       "6    331  594102056    100  \n",
       "11   569  594102056     93  \n",
       "13   569  594102056     93  "
      ]
     },
     "execution_count": 246,
=======
      "text/plain": [
       "'data/results/blast_clustered_lard.csv.filtered'"
      ]
     },
     "execution_count": 22,
>>>>>>> ad72cc7d3c4397b7a42f11e0df9845a6532c16c1
     "metadata": {},
     "output_type": "execute_result"
    }
   ],
   "source": [
<<<<<<< HEAD
    "df.head()"
=======
    "filename = path_blast + params[te_type]['file'] + '.filtered'\n",
    "df.to_csv(filename, index=None, sep='\\t')\n",
    "filename"
>>>>>>> ad72cc7d3c4397b7a42f11e0df9845a6532c16c1
   ]
  },
  {
   "cell_type": "code",
<<<<<<< HEAD
   "execution_count": 247,
   "metadata": {},
   "outputs": [
    {
     "data": {
      "text/plain": [
       "'data/tes/blast_1A.csv.first.filtered'"
      ]
     },
     "execution_count": 247,
     "metadata": {},
     "output_type": "execute_result"
    }
   ],
   "source": [
    "filename = params[te_type]['file'] + '.filtered'\n",
    "df.to_csv(filename, index=None, sep='\\t')\n",
    "filename"
=======
   "execution_count": 23,
   "metadata": {},
   "outputs": [
    {
     "name": "stdout",
     "output_type": "stream",
     "text": [
      "Running: LARD\n",
      "Initial: 45\n",
      "Min len: 45\n",
      "Max len: 45\n",
      "Min treshold: 22\n",
      "Max treshold: 22\n",
      "Min pident: 21\n",
      "Min qcov: 21\n",
      "Non overlapped: 18\n",
      "Saved: data/results/blast_clustered_lard.csv.filtered\n"
     ]
    }
   ],
   "source": [
    "print('Running: ' + str(te_type))\n",
    "print('Initial: ' + str(initial))\n",
    "print('Min len: ' + str(min_length))\n",
    "print('Max len: ' + str(max_length))\n",
    "print('Min treshold: ' + str(min_treshold))\n",
    "print('Max treshold: ' + str(max_treshold))\n",
    "print('Min pident: ' + str(min_pident))\n",
    "print('Min qcov: ' + str(min_qcov))\n",
    "print('Non overlapped: ' + str(non_overlapped))\n",
    "print('Saved: ' + filename)"
>>>>>>> ad72cc7d3c4397b7a42f11e0df9845a6532c16c1
   ]
  },
  {
   "cell_type": "code",
   "execution_count": null,
   "metadata": {},
   "outputs": [],
   "source": []
  },
  {
   "cell_type": "code",
   "execution_count": null,
   "metadata": {},
   "outputs": [],
   "source": []
<<<<<<< HEAD
=======
  },
  {
   "cell_type": "code",
   "execution_count": null,
   "metadata": {},
   "outputs": [],
   "source": []
>>>>>>> ad72cc7d3c4397b7a42f11e0df9845a6532c16c1
  }
 ],
 "metadata": {
  "kernelspec": {
   "display_name": "Python 3",
   "language": "python",
   "name": "python3"
  },
  "language_info": {
   "codemirror_mode": {
    "name": "ipython",
    "version": 2
   },
   "file_extension": ".py",
   "mimetype": "text/x-python",
   "name": "python",
   "nbconvert_exporter": "python",
   "pygments_lexer": "ipython2",
   "version": "2.7.15"
  }
 },
 "nbformat": 4,
 "nbformat_minor": 2
}
