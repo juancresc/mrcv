{
 "cells": [
  {
   "cell_type": "code",
   "execution_count": 156,
   "metadata": {},
   "outputs": [
    {
     "name": "stdout",
     "output_type": "stream",
     "text": [
      "('Running for', 'MITE')\n"
     ]
    }
   ],
   "source": [
    "import pandas as pd\n",
    "from itertools import cycle\n",
    "\n",
    "te_type = 'MITE'\n",
    "print('Running for', te_type)"
   ]
  },
  {
   "cell_type": "code",
   "execution_count": 157,
   "metadata": {},
   "outputs": [],
   "source": [
    "#TEs\n",
    "params = {}\n",
    "params['MITE'] = {'min_len':50,'max_len':800,'min_distance':5,'max_q':1.15,'min_q':0.85,'min_pident':90,'min_qcov':90,'file':'data/tes/blast_all.csv'}\n",
    "#select which TE type you want to run"
   ]
  },
  {
   "cell_type": "code",
   "execution_count": 158,
   "metadata": {},
   "outputs": [
    {
     "name": "stdout",
     "output_type": "stream",
     "text": [
      "('initial:', 4000)\n"
     ]
    }
   ],
   "source": [
    "#read blast output\n",
    "df = pd.read_csv(params[te_type]['file'], sep='\\t', header=None)\n",
    "df.columns = ['qseqid','sseqid','qstart','qend','sstart','send','score','length','mismatch','gaps','gapopen','nident','pident','qlen','slen','qcovs']\n",
    "print('initial:',len(df.index))"
   ]
  },
  {
   "cell_type": "code",
   "execution_count": 159,
   "metadata": {},
   "outputs": [
    {
     "name": "stdout",
     "output_type": "stream",
     "text": [
      "Min len: 4000\n"
     ]
    }
   ],
   "source": [
    "#filter by length\n",
    "if(params[te_type]['min_len']):\n",
    "    df = df[df.qlen > params[te_type]['min_len']]\n",
    "print('Min len: ' + str(len(df.index)))    "
   ]
  },
  {
   "cell_type": "code",
   "execution_count": 160,
   "metadata": {},
   "outputs": [
    {
     "name": "stdout",
     "output_type": "stream",
     "text": [
      "Max len: 4000\n"
     ]
    }
   ],
   "source": [
    "if(params[te_type]['max_len']):\n",
    "    df = df[df.qlen < params[te_type]['max_len']]\n",
    "print('Max len: ' + str(len(df.index)))    "
   ]
  },
  {
   "cell_type": "code",
   "execution_count": 161,
   "metadata": {},
   "outputs": [
    {
     "name": "stdout",
     "output_type": "stream",
     "text": [
      "('min treshold:', 3791)\n"
     ]
    }
   ],
   "source": [
    "#filter by query / subject length treshold\n",
    "df = df[((df.length / df.qlen) >= params[te_type]['min_q'])]\n",
    "print('min treshold:',len(df.index))"
   ]
  },
  {
   "cell_type": "code",
   "execution_count": 162,
   "metadata": {},
   "outputs": [
    {
     "name": "stdout",
     "output_type": "stream",
     "text": [
      "('max treshold:', 3791)\n"
     ]
    }
   ],
   "source": [
    "df = df[((df.length / df.qlen) <= params[te_type]['max_q'])]\n",
    "print('max treshold:',len(df.index))"
   ]
  },
  {
   "cell_type": "code",
   "execution_count": 163,
   "metadata": {},
   "outputs": [
    {
     "name": "stdout",
     "output_type": "stream",
     "text": [
      "Min_pident: 2045\n"
     ]
    }
   ],
   "source": [
    "df = df[(df.pident >= params[te_type]['min_pident'])]\n",
    "print('Min_pident: ' + str(len(df.index)))"
   ]
  },
  {
   "cell_type": "code",
   "execution_count": 164,
   "metadata": {},
   "outputs": [
    {
     "name": "stdout",
     "output_type": "stream",
     "text": [
      "Min qcov: 2037\n"
     ]
    }
   ],
   "source": [
    "df = df[(df.qcovs >= params[te_type]['min_qcov'])]\n",
    "print('Min qcov: ' + str(len(df.index)))"
   ]
  },
  {
   "cell_type": "code",
   "execution_count": 165,
   "metadata": {},
   "outputs": [],
   "source": [
    "#re-arrange start and end\n",
    "df['new_sstart'] = df[['sstart','send']].min(axis=1)\n",
    "df['new_ssend'] = df[['sstart','send']].max(axis=1)\n",
    "df['sstart'] = df['new_sstart']\n",
    "df['send'] = df['new_ssend']\n",
    "df = df.drop('new_sstart',axis=1).drop('new_ssend',axis=1)\n"
   ]
  },
  {
   "cell_type": "code",
   "execution_count": 166,
   "metadata": {},
   "outputs": [],
   "source": [
    "df = df.sort_values(by=['sseqid','sstart'])\n",
    "df.reset_index(inplace=True)\n",
    "df = df.drop('index',axis=1)"
   ]
  },
  {
   "cell_type": "code",
   "execution_count": 167,
   "metadata": {},
   "outputs": [],
   "source": [
    "dfs = {}\n",
    "for seq in df.sseqid.unique():\n",
    "    dfs[seq] = df[df.sseqid == seq]"
   ]
  },
  {
   "cell_type": "code",
   "execution_count": null,
   "metadata": {},
   "outputs": [],
   "source": []
  },
  {
   "cell_type": "code",
   "execution_count": null,
   "metadata": {},
   "outputs": [],
   "source": []
  },
  {
   "cell_type": "code",
   "execution_count": 170,
   "metadata": {},
   "outputs": [
    {
     "name": "stdout",
     "output_type": "stream",
     "text": [
      "10\n",
      "20\n",
      "30\n",
      "40\n",
      "50\n",
      "60\n",
      "70\n",
      "80\n",
      "90\n",
      "100\n"
     ]
    }
   ],
   "source": [
    "# filter overlapped \n",
    "rows = []\n",
    "discard = []\n",
    "total = len(df.index)\n",
    "count = 0\n",
    "curr = 0\n",
    "for index, row in df.iterrows():\n",
    "    count += 1\n",
    "    curr_new = int(count * 100 * 1.0 / (total * 1.0))\n",
    "    if curr_new != curr:\n",
    "        curr = curr_new\n",
    "        if curr_new % 10 == 0:\n",
    "            print(curr_new)\n",
    "    if index in discard:\n",
    "        continue\n",
    "    df_2 = dfs[row.sseqid]\n",
    "    new_index = index + 1\n",
    "    while (new_index in df_2.index) and (df_2.loc[new_index,'sstart'] - row.sstart <= params[te_type]['min_distance'] or abs(df_2.loc[new_index,'send']) - row.send <= params[te_type]['min_distance']):\n",
    "        discard.append(new_index)\n",
    "        new_index += 1\n",
    "    rows.append(row)"
   ]
  },
  {
   "cell_type": "code",
   "execution_count": 171,
   "metadata": {},
   "outputs": [
    {
     "name": "stdout",
     "output_type": "stream",
     "text": [
      "Non overlapped: 2037\n"
     ]
    }
   ],
   "source": [
    "df = pd.DataFrame(rows)\n",
    "df.sort_values(['sseqid', 'sstart'], inplace=True)\n",
    "print('Non overlapped: ' + str(len(df.index)))\n"
   ]
  },
  {
   "cell_type": "code",
   "execution_count": 172,
   "metadata": {},
   "outputs": [
    {
     "data": {
      "text/plain": [
       "'data/tes/blast_all.head.csv.filtered'"
      ]
     },
     "execution_count": 172,
     "metadata": {},
     "output_type": "execute_result"
    }
   ],
   "source": [
    "filename = params[te_type]['file'] + '.filtered'\n",
    "df.to_csv(filename, index=None, sep='\\t')\n",
    "filename\n",
    "\n"
   ]
  },
  {
   "cell_type": "code",
   "execution_count": null,
   "metadata": {},
   "outputs": [],
   "source": []
  },
  {
   "cell_type": "code",
   "execution_count": null,
   "metadata": {},
   "outputs": [],
   "source": []
  }
 ],
 "metadata": {
  "kernelspec": {
   "display_name": "Python 3",
   "language": "python",
   "name": "python3"
  },
  "language_info": {
   "codemirror_mode": {
    "name": "ipython",
    "version": 2
   },
   "file_extension": ".py",
   "mimetype": "text/x-python",
   "name": "python",
   "nbconvert_exporter": "python",
   "pygments_lexer": "ipython2",
   "version": "2.7.15"
  }
 },
 "nbformat": 4,
 "nbformat_minor": 2
}
