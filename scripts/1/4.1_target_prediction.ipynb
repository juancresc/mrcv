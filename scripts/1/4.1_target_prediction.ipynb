{
 "cells": [
  {
   "cell_type": "code",
   "execution_count": 21,
   "metadata": {},
   "outputs": [],
   "source": [
    "import pandas as pd\n",
    "from subprocess import Popen, PIPE, call\n",
    "lb = 'iwgsc_10_12_18'\n",
    "path_target_finder = '/home/juan/Desktop/juan/bio/mrcv/sw/TargetFinder/targetfinder.pl'\n",
    "target_seqs = 'data/res/DEG_SEQS.fasta'"
   ]
  },
  {
   "cell_type": "code",
   "execution_count": 22,
   "metadata": {},
   "outputs": [
    {
     "data": {
      "text/html": [
       "<div>\n",
       "<style scoped>\n",
       "    .dataframe tbody tr th:only-of-type {\n",
       "        vertical-align: middle;\n",
       "    }\n",
       "\n",
       "    .dataframe tbody tr th {\n",
       "        vertical-align: top;\n",
       "    }\n",
       "\n",
       "    .dataframe thead th {\n",
       "        text-align: right;\n",
       "    }\n",
       "</style>\n",
       "<table border=\"1\" class=\"dataframe\">\n",
       "  <thead>\n",
       "    <tr style=\"text-align: right;\">\n",
       "      <th></th>\n",
       "      <th>Gene</th>\n",
       "      <th>seq</th>\n",
       "      <th>log2FoldChange</th>\n",
       "      <th>miRBASE</th>\n",
       "      <th>MIRNA</th>\n",
       "    </tr>\n",
       "  </thead>\n",
       "  <tbody>\n",
       "    <tr>\n",
       "      <th>0</th>\n",
       "      <td>AAAAACGACGUAACAAAUGUAACACUUGGUC</td>\n",
       "      <td>AAAAACGACGUAACAAAUGUAACACUUGGUC</td>\n",
       "      <td>6.424695</td>\n",
       "      <td>NaN</td>\n",
       "      <td>NaN</td>\n",
       "    </tr>\n",
       "    <tr>\n",
       "      <th>1</th>\n",
       "      <td>AAAAAGAUUUACUUAAACGCCU</td>\n",
       "      <td>AAAAAGAUUUACUUAAACGCCU</td>\n",
       "      <td>9.809143</td>\n",
       "      <td>NaN</td>\n",
       "      <td>NaN</td>\n",
       "    </tr>\n",
       "    <tr>\n",
       "      <th>2</th>\n",
       "      <td>AAAAAGCUCGUAGUUGGACCUUGG</td>\n",
       "      <td>AAAAAGCUCGUAGUUGGACCUUGG</td>\n",
       "      <td>0.685402</td>\n",
       "      <td>NaN</td>\n",
       "      <td>NaN</td>\n",
       "    </tr>\n",
       "    <tr>\n",
       "      <th>3</th>\n",
       "      <td>AAAAAGCUCGUAGUUGGACCUUGGGCCG</td>\n",
       "      <td>AAAAAGCUCGUAGUUGGACCUUGGGCCG</td>\n",
       "      <td>1.084518</td>\n",
       "      <td>NaN</td>\n",
       "      <td>NaN</td>\n",
       "    </tr>\n",
       "    <tr>\n",
       "      <th>4</th>\n",
       "      <td>AAAAAGUAUACAAUUGAGCGU</td>\n",
       "      <td>AAAAAGUAUACAAUUGAGCGU</td>\n",
       "      <td>5.297593</td>\n",
       "      <td>NaN</td>\n",
       "      <td>NaN</td>\n",
       "    </tr>\n",
       "  </tbody>\n",
       "</table>\n",
       "</div>"
      ],
      "text/plain": [
       "                              Gene                              seq  \\\n",
       "0  AAAAACGACGUAACAAAUGUAACACUUGGUC  AAAAACGACGUAACAAAUGUAACACUUGGUC   \n",
       "1           AAAAAGAUUUACUUAAACGCCU           AAAAAGAUUUACUUAAACGCCU   \n",
       "2         AAAAAGCUCGUAGUUGGACCUUGG         AAAAAGCUCGUAGUUGGACCUUGG   \n",
       "3     AAAAAGCUCGUAGUUGGACCUUGGGCCG     AAAAAGCUCGUAGUUGGACCUUGGGCCG   \n",
       "4            AAAAAGUAUACAAUUGAGCGU            AAAAAGUAUACAAUUGAGCGU   \n",
       "\n",
       "   log2FoldChange miRBASE MIRNA  \n",
       "0        6.424695     NaN   NaN  \n",
       "1        9.809143     NaN   NaN  \n",
       "2        0.685402     NaN   NaN  \n",
       "3        1.084518     NaN   NaN  \n",
       "4        5.297593     NaN   NaN  "
      ]
     },
     "execution_count": 22,
     "metadata": {},
     "output_type": "execute_result"
    }
   ],
   "source": [
    "df = pd.read_csv('data/res/iwgsc_4_2_19/sRNA_DEG_mirbase.formatted.csv', sep='\\t')\n",
    "df.head()"
   ]
  },
  {
   "cell_type": "code",
   "execution_count": 23,
   "metadata": {},
   "outputs": [
    {
     "data": {
      "text/plain": [
       "15187"
      ]
     },
     "execution_count": 23,
     "metadata": {},
     "output_type": "execute_result"
    }
   ],
   "source": [
    "len(df.index)"
   ]
  },
  {
   "cell_type": "code",
   "execution_count": null,
   "metadata": {},
   "outputs": [],
   "source": [
    "#search targets\n",
    "out_file = open(\"data/res/iwgsc_4_2_19/targets_cdna.csv\",\"w\")\n",
    "print(len(df.index))\n",
    "out_total = ''\n",
    "for k,v in df.iterrows():\n",
    "    if 'N' in v.seq:\n",
    "        continue\n",
    "    cmd_list = ['perl', path_target_finder,'-r','-t','8','-s',v.seq,'-q',v.Gene,'-d',target_seqs,'-p','table']\n",
    "#    print(' '.join(cmd_list))\n",
    "    pro = Popen(cmd_list, stdout=PIPE, stderr=PIPE)\n",
    "    out,err = pro.communicate()\n",
    "#    out = str(out)\n",
    "#    err = str(err)\n",
    "#    print(out,err)\n",
    "    if b\"No results for\" in out:\n",
    "        print(k,)\n",
    "        continue\n",
    "    print(k,'-')\n",
    "#    out_total += out.decode(\"utf-8\") \n",
    "    out_file.write(out.decode(\"utf-8\") )\n",
    "out_file.close()\n",
    "#os.system('grep -v \"No results for\" targets.csv > targets.clean.csv')"
   ]
  },
  {
   "cell_type": "code",
   "execution_count": 25,
   "metadata": {},
   "outputs": [],
   "source": [
    "df_t = pd.read_csv('data/res/iwgsc_4_2_19/targets_cdna.csv', sep='\\t', header=None)\n",
    "df_t.columns = ['query_seq','target','start','end','strand','score','t_align','align','q_align']"
   ]
  },
  {
   "cell_type": "code",
   "execution_count": 26,
   "metadata": {},
   "outputs": [
    {
     "data": {
      "text/html": [
       "<div>\n",
       "<style scoped>\n",
       "    .dataframe tbody tr th:only-of-type {\n",
       "        vertical-align: middle;\n",
       "    }\n",
       "\n",
       "    .dataframe tbody tr th {\n",
       "        vertical-align: top;\n",
       "    }\n",
       "\n",
       "    .dataframe thead th {\n",
       "        text-align: right;\n",
       "    }\n",
       "</style>\n",
       "<table border=\"1\" class=\"dataframe\">\n",
       "  <thead>\n",
       "    <tr style=\"text-align: right;\">\n",
       "      <th></th>\n",
       "      <th>Gene</th>\n",
       "      <th>seq</th>\n",
       "      <th>log2FoldChange</th>\n",
       "      <th>miRBASE</th>\n",
       "      <th>MIRNA</th>\n",
       "    </tr>\n",
       "  </thead>\n",
       "  <tbody>\n",
       "    <tr>\n",
       "      <th>0</th>\n",
       "      <td>AAAAACGACGUAACAAAUGUAACACUUGGUC</td>\n",
       "      <td>AAAAACGACGUAACAAAUGUAACACUUGGUC</td>\n",
       "      <td>6.424695</td>\n",
       "      <td>NaN</td>\n",
       "      <td>NaN</td>\n",
       "    </tr>\n",
       "    <tr>\n",
       "      <th>1</th>\n",
       "      <td>AAAAAGAUUUACUUAAACGCCU</td>\n",
       "      <td>AAAAAGAUUUACUUAAACGCCU</td>\n",
       "      <td>9.809143</td>\n",
       "      <td>NaN</td>\n",
       "      <td>NaN</td>\n",
       "    </tr>\n",
       "  </tbody>\n",
       "</table>\n",
       "</div>"
      ],
      "text/plain": [
       "                              Gene                              seq  \\\n",
       "0  AAAAACGACGUAACAAAUGUAACACUUGGUC  AAAAACGACGUAACAAAUGUAACACUUGGUC   \n",
       "1           AAAAAGAUUUACUUAAACGCCU           AAAAAGAUUUACUUAAACGCCU   \n",
       "\n",
       "   log2FoldChange miRBASE MIRNA  \n",
       "0        6.424695     NaN   NaN  \n",
       "1        9.809143     NaN   NaN  "
      ]
     },
     "execution_count": 26,
     "metadata": {},
     "output_type": "execute_result"
    }
   ],
   "source": [
    "df.head(2)"
   ]
  },
  {
   "cell_type": "code",
   "execution_count": 27,
   "metadata": {},
   "outputs": [
    {
     "data": {
      "text/plain": [
       "154914"
      ]
     },
     "execution_count": 27,
     "metadata": {},
     "output_type": "execute_result"
    }
   ],
   "source": [
    "len(df_t.index)"
   ]
  },
  {
   "cell_type": "code",
   "execution_count": 28,
   "metadata": {},
   "outputs": [
    {
     "data": {
      "text/plain": [
       "6742"
      ]
     },
     "execution_count": 28,
     "metadata": {},
     "output_type": "execute_result"
    }
   ],
   "source": [
    "len(df_t.query_seq.unique())"
   ]
  },
  {
   "cell_type": "code",
   "execution_count": 29,
   "metadata": {},
   "outputs": [
    {
     "data": {
      "text/plain": [
       "3019"
      ]
     },
     "execution_count": 29,
     "metadata": {},
     "output_type": "execute_result"
    }
   ],
   "source": [
    "len(df_t.target.unique())"
   ]
  },
  {
   "cell_type": "code",
   "execution_count": null,
   "metadata": {},
   "outputs": [],
   "source": []
  },
  {
   "cell_type": "code",
   "execution_count": 30,
   "metadata": {},
   "outputs": [],
   "source": [
    "df_t.to_csv('data/res/iwgsc_4_2_19/targets_cdna.csv', sep='\\t', header=None, index=None)"
   ]
  },
  {
   "cell_type": "code",
   "execution_count": null,
   "metadata": {},
   "outputs": [],
   "source": []
  }
 ],
 "metadata": {
  "kernelspec": {
   "display_name": "Python 3",
   "language": "python",
   "name": "python3"
  },
  "language_info": {
   "codemirror_mode": {
    "name": "ipython",
    "version": 2
   },
   "file_extension": ".py",
   "mimetype": "text/x-python",
   "name": "python",
   "nbconvert_exporter": "python",
   "pygments_lexer": "ipython2",
   "version": "2.7.15"
  }
 },
 "nbformat": 4,
 "nbformat_minor": 2
}
