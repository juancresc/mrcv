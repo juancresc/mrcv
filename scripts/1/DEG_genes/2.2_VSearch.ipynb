{
 "cells": [
  {
   "cell_type": "code",
   "execution_count": 57,
   "metadata": {},
   "outputs": [],
   "source": [
    "from Bio import SeqIO\n",
    "from os import listdir\n",
    "import csv\n",
    "from os.path import isfile, join\n",
    "# /home/juan/Desktop/juan/bio/sw/vsearch-2.9.0/bin/vsearch --cluster_fast /home/juan/Desktop/juan/bio/mrcv/data/genes.fasta --consout /home/juan/Desktop/juan/bio/mrcv/data/genes.cluster.fasta --threads 2 --strand both --clusters /home/juan/Desktop/juan/bio/mrcv/data/clusters/clust --iddef 1 --id 0.95"
   ]
  },
  {
   "cell_type": "code",
   "execution_count": 71,
   "metadata": {},
   "outputs": [],
   "source": [
    "path_cluster = '/home/juan/Desktop/juan/bio/mrcv/data/clusters'\n",
    "outfile = open('/home/juan/Desktop/juan/bio/mrcv/data/DEG_compare.csv', 'w')\n",
    "wr = csv.writer(outfile, quoting=csv.QUOTE_ALL)"
   ]
  },
  {
   "cell_type": "code",
   "execution_count": 72,
   "metadata": {},
   "outputs": [],
   "source": [
    "files = [f for f in listdir(path_cluster) if isfile(join(path_cluster, f))]\n",
    "clusters = {}\n",
    "for file in files:\n",
    "    record_dict = SeqIO.index(join(path_cluster, file), \"fasta\")\n",
    "    clusters[file] = list(record_dict)"
   ]
  },
  {
   "cell_type": "code",
   "execution_count": 73,
   "metadata": {
    "scrolled": true
   },
   "outputs": [],
   "source": [
    "clusters_order = sorted(clusters, key=lambda k: len(clusters[k]))"
   ]
  },
  {
   "cell_type": "code",
   "execution_count": 75,
   "metadata": {},
   "outputs": [
    {
     "name": "stdout",
     "output_type": "stream",
     "text": [
      "142\n"
     ]
    }
   ],
   "source": [
    "both = 0\n",
    "for k in clusters_order:\n",
    "    v = clusters[k]\n",
    "    iwgsc = False\n",
    "    tgac = False\n",
    "    for gene in v:\n",
    "        if gene[:5] == 'TRIAE':\n",
    "            tgac = True\n",
    "        if gene[:5] == 'Traes':\n",
    "            iwgsc = True\n",
    "    if iwgsc and tgac:\n",
    "        both += 1\n",
    "    wr.writerow(sorted(v))\n",
    "print(both)"
   ]
  },
  {
   "cell_type": "code",
   "execution_count": null,
   "metadata": {},
   "outputs": [],
   "source": []
  }
 ],
 "metadata": {
  "kernelspec": {
   "display_name": "Python 3",
   "language": "python",
   "name": "python3"
  },
  "language_info": {
   "codemirror_mode": {
    "name": "ipython",
    "version": 3
   },
   "file_extension": ".py",
   "mimetype": "text/x-python",
   "name": "python",
   "nbconvert_exporter": "python",
   "pygments_lexer": "ipython3",
   "version": "3.6.5"
  }
 },
 "nbformat": 4,
 "nbformat_minor": 2
}
