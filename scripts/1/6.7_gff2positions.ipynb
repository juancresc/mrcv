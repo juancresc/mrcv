{
 "cells": [
  {
   "cell_type": "code",
   "execution_count": 1,
   "metadata": {},
   "outputs": [],
   "source": [
    "import pandas as pd\n",
    "df = pd.read_csv('data/tes/mites.genes.csv',sep=\"\\t\", header=None)\n",
    "df.columns = ['seqname' , 'source' , 'feature' , 'start' , 'end' , 'score' , 'strand' , 'frame' , 'attribute']\n",
    "df_genome = pd.read_csv('data/wheat.gff3',sep=\"\\t\", header=None)\n",
    "df_genome.columns = ['seqname' , 'source' , 'feature' , 'start' , 'end' , 'score' , 'strand' , 'frame' , 'attribute']\n",
    "padding = 20"
   ]
  },
  {
   "cell_type": "code",
   "execution_count": 2,
   "metadata": {},
   "outputs": [],
   "source": [
    "g_ends = {}\n",
    "for k,v in df_genome.iterrows():\n",
    "    g_ends[v.seqname] = v.end"
   ]
  },
  {
   "cell_type": "code",
   "execution_count": 3,
   "metadata": {},
   "outputs": [
    {
     "data": {
      "text/html": [
       "<div>\n",
       "<table border=\"1\" class=\"dataframe\">\n",
       "  <thead>\n",
       "    <tr style=\"text-align: right;\">\n",
       "      <th></th>\n",
       "      <th>seqname</th>\n",
       "      <th>source</th>\n",
       "      <th>feature</th>\n",
       "      <th>start</th>\n",
       "      <th>end</th>\n",
       "      <th>score</th>\n",
       "      <th>strand</th>\n",
       "      <th>frame</th>\n",
       "      <th>attribute</th>\n",
       "    </tr>\n",
       "  </thead>\n",
       "  <tbody>\n",
       "    <tr>\n",
       "      <th>0</th>\n",
       "      <td>1A</td>\n",
       "      <td>MITE_tracker</td>\n",
       "      <td>TE</td>\n",
       "      <td>305432</td>\n",
       "      <td>305913</td>\n",
       "      <td>.</td>\n",
       "      <td>+</td>\n",
       "      <td>.</td>\n",
       "      <td>MITE_T_126801|chr7B|78567635|78568204|CTTCCCT|...</td>\n",
       "    </tr>\n",
       "    <tr>\n",
       "      <th>1</th>\n",
       "      <td>1A</td>\n",
       "      <td>MITE_tracker</td>\n",
       "      <td>TE</td>\n",
       "      <td>1161221</td>\n",
       "      <td>1161333</td>\n",
       "      <td>.</td>\n",
       "      <td>+</td>\n",
       "      <td>.</td>\n",
       "      <td>MITE_T_96201|chr1B|604318810|604318923|TA|118|...</td>\n",
       "    </tr>\n",
       "    <tr>\n",
       "      <th>2</th>\n",
       "      <td>1A</td>\n",
       "      <td>MITE_tracker</td>\n",
       "      <td>TE</td>\n",
       "      <td>1163540</td>\n",
       "      <td>1163669</td>\n",
       "      <td>.</td>\n",
       "      <td>+</td>\n",
       "      <td>.</td>\n",
       "      <td>MITE_T_81671|chr7A|709387058|709387195|TA|143|...</td>\n",
       "    </tr>\n",
       "    <tr>\n",
       "      <th>3</th>\n",
       "      <td>1A</td>\n",
       "      <td>MITE_tracker</td>\n",
       "      <td>TE</td>\n",
       "      <td>2161882</td>\n",
       "      <td>2162018</td>\n",
       "      <td>.</td>\n",
       "      <td>+</td>\n",
       "      <td>.</td>\n",
       "      <td>MITE_T_80633|chr2A|74829051|74829194|TCT|147|F...</td>\n",
       "    </tr>\n",
       "    <tr>\n",
       "      <th>4</th>\n",
       "      <td>1A</td>\n",
       "      <td>MITE_tracker</td>\n",
       "      <td>TE</td>\n",
       "      <td>2665266</td>\n",
       "      <td>2665568</td>\n",
       "      <td>.</td>\n",
       "      <td>+</td>\n",
       "      <td>.</td>\n",
       "      <td>MITE_T_10716|chr7D|582600067|582600413|ATAT|12...</td>\n",
       "    </tr>\n",
       "  </tbody>\n",
       "</table>\n",
       "</div>"
      ],
      "text/plain": [
       "  seqname        source feature    start      end score strand frame  \\\n",
       "0      1A  MITE_tracker      TE   305432   305913     .      +     .   \n",
       "1      1A  MITE_tracker      TE  1161221  1161333     .      +     .   \n",
       "2      1A  MITE_tracker      TE  1163540  1163669     .      +     .   \n",
       "3      1A  MITE_tracker      TE  2161882  2162018     .      +     .   \n",
       "4      1A  MITE_tracker      TE  2665266  2665568     .      +     .   \n",
       "\n",
       "                                           attribute  \n",
       "0  MITE_T_126801|chr7B|78567635|78568204|CTTCCCT|...  \n",
       "1  MITE_T_96201|chr1B|604318810|604318923|TA|118|...  \n",
       "2  MITE_T_81671|chr7A|709387058|709387195|TA|143|...  \n",
       "3  MITE_T_80633|chr2A|74829051|74829194|TCT|147|F...  \n",
       "4  MITE_T_10716|chr7D|582600067|582600413|ATAT|12...  "
      ]
     },
     "execution_count": 3,
     "metadata": {},
     "output_type": "execute_result"
    }
   ],
   "source": [
    "df.head()"
   ]
  },
  {
   "cell_type": "code",
   "execution_count": 4,
   "metadata": {},
   "outputs": [],
   "source": [
    "\n",
    "f = open(\"data/tes/mites.locifile\",\"w+\")\n",
    "for k,v in df.iterrows():\n",
    "    name = v.attribute.split('|')[0]\n",
    "    if v.start - padding > 0:\n",
    "        start = v.start - padding\n",
    "    else:\n",
    "        start = 0\n",
    "    if v.end + padding < g_ends[v.seqname]:\n",
    "        end = v.end + padding\n",
    "    else:\n",
    "        end = g_ends[v.seqname]\n",
    "    pos = '%s:%i-%i\\t%s\\n' % (v.seqname, start, end, name)\n",
    "    f.write(pos)\n",
    "f.close()"
   ]
  },
  {
   "cell_type": "code",
   "execution_count": null,
   "metadata": {},
   "outputs": [],
   "source": []
  },
  {
   "cell_type": "code",
   "execution_count": null,
   "metadata": {},
   "outputs": [],
   "source": []
  }
 ],
 "metadata": {
  "kernelspec": {
   "display_name": "Python 3",
   "language": "python",
   "name": "python3"
  },
  "language_info": {
   "codemirror_mode": {
    "name": "ipython",
    "version": 2
   },
   "file_extension": ".py",
   "mimetype": "text/x-python",
   "name": "python",
   "nbconvert_exporter": "python",
   "pygments_lexer": "ipython2",
   "version": "2.7.15"
  }
 },
 "nbformat": 4,
 "nbformat_minor": 2
}
