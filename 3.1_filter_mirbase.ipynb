{
 "cells": [
  {
   "cell_type": "code",
   "execution_count": 67,
   "metadata": {},
   "outputs": [],
   "source": [
    "import pandas as pd\n",
    "data_dir = 'data'\n",
    "lb = '21dpi_iwgsc_bowtie_m_all_2'\n",
    "blast_out = data_dir + '/res/' + lb + '/degs_mirbase.blast.csv'"
   ]
  },
  {
   "cell_type": "code",
   "execution_count": 62,
   "metadata": {},
   "outputs": [
    {
     "name": "stdout",
     "output_type": "stream",
     "text": [
      "('Res len:', 39)\n"
     ]
    }
   ],
   "source": [
    "deg_file = data_dir + '/res/' + lb + '/deg_data.csv'\n",
    "df_deg = pd.read_csv(deg_file,sep=\"\\t\")\n",
    "print('Res len:',len(df_deg.index))"
   ]
  },
  {
   "cell_type": "code",
   "execution_count": 73,
   "metadata": {},
   "outputs": [],
   "source": [
    "\n",
    "!blastn -task blastn -query data/res/21dpi_iwgsc_bowtie_m_all_2/degs.fasta  -subject data/libs/mature.fa -outfmt \"6 qseqid sseqid qstart qend sstart send score length mismatch gaps gapopen nident pident qlen slen qcovs\" > data/res/21dpi_iwgsc_bowtie_m_all_2/degs_mirbase.blast.csv\n"
   ]
  },
  {
   "cell_type": "code",
   "execution_count": 74,
   "metadata": {},
   "outputs": [
    {
     "name": "stdout",
     "output_type": "stream",
     "text": [
      "('initial:', 110)\n"
     ]
    }
   ],
   "source": [
    "df_blast = pd.read_csv(blast_out,sep=\"\\t\", header=None)\n",
    "df_blast.columns = ['qseqid','sseqid','qstart','qend','sstart','send','score','length','mismatch','gaps','gapopen','nident','pident','qlen','slen','qcovs']\n",
    "print('initial:',len(df_blast.index))"
   ]
  },
  {
   "cell_type": "code",
   "execution_count": 75,
   "metadata": {},
   "outputs": [
    {
     "data": {
      "text/html": [
       "<div>\n",
       "<style scoped>\n",
       "    .dataframe tbody tr th:only-of-type {\n",
       "        vertical-align: middle;\n",
       "    }\n",
       "\n",
       "    .dataframe tbody tr th {\n",
       "        vertical-align: top;\n",
       "    }\n",
       "\n",
       "    .dataframe thead th {\n",
       "        text-align: right;\n",
       "    }\n",
       "</style>\n",
       "<table border=\"1\" class=\"dataframe\">\n",
       "  <thead>\n",
       "    <tr style=\"text-align: right;\">\n",
       "      <th></th>\n",
       "      <th>qseqid</th>\n",
       "      <th>sseqid</th>\n",
       "      <th>qstart</th>\n",
       "      <th>qend</th>\n",
       "      <th>sstart</th>\n",
       "      <th>send</th>\n",
       "      <th>score</th>\n",
       "      <th>length</th>\n",
       "      <th>mismatch</th>\n",
       "      <th>gaps</th>\n",
       "      <th>gapopen</th>\n",
       "      <th>nident</th>\n",
       "      <th>pident</th>\n",
       "      <th>qlen</th>\n",
       "      <th>slen</th>\n",
       "      <th>qcovs</th>\n",
       "    </tr>\n",
       "  </thead>\n",
       "  <tbody>\n",
       "    <tr>\n",
       "      <th>0</th>\n",
       "      <td>Cluster_3799</td>\n",
       "      <td>cfa-miR-8791b</td>\n",
       "      <td>5</td>\n",
       "      <td>16</td>\n",
       "      <td>12</td>\n",
       "      <td>1</td>\n",
       "      <td>24</td>\n",
       "      <td>12</td>\n",
       "      <td>0</td>\n",
       "      <td>0</td>\n",
       "      <td>0</td>\n",
       "      <td>12</td>\n",
       "      <td>100.0</td>\n",
       "      <td>21</td>\n",
       "      <td>25</td>\n",
       "      <td>57</td>\n",
       "    </tr>\n",
       "    <tr>\n",
       "      <th>1</th>\n",
       "      <td>Cluster_3799</td>\n",
       "      <td>hpo-miR-43b-3p</td>\n",
       "      <td>4</td>\n",
       "      <td>14</td>\n",
       "      <td>23</td>\n",
       "      <td>13</td>\n",
       "      <td>22</td>\n",
       "      <td>11</td>\n",
       "      <td>0</td>\n",
       "      <td>0</td>\n",
       "      <td>0</td>\n",
       "      <td>11</td>\n",
       "      <td>100.0</td>\n",
       "      <td>21</td>\n",
       "      <td>23</td>\n",
       "      <td>52</td>\n",
       "    </tr>\n",
       "    <tr>\n",
       "      <th>2</th>\n",
       "      <td>Cluster_3799</td>\n",
       "      <td>aca-miR-34b-3p</td>\n",
       "      <td>8</td>\n",
       "      <td>18</td>\n",
       "      <td>4</td>\n",
       "      <td>14</td>\n",
       "      <td>22</td>\n",
       "      <td>11</td>\n",
       "      <td>0</td>\n",
       "      <td>0</td>\n",
       "      <td>0</td>\n",
       "      <td>11</td>\n",
       "      <td>100.0</td>\n",
       "      <td>21</td>\n",
       "      <td>22</td>\n",
       "      <td>52</td>\n",
       "    </tr>\n",
       "    <tr>\n",
       "      <th>3</th>\n",
       "      <td>Cluster_4453</td>\n",
       "      <td>oni-miR-10645</td>\n",
       "      <td>5</td>\n",
       "      <td>15</td>\n",
       "      <td>20</td>\n",
       "      <td>10</td>\n",
       "      <td>22</td>\n",
       "      <td>11</td>\n",
       "      <td>0</td>\n",
       "      <td>0</td>\n",
       "      <td>0</td>\n",
       "      <td>11</td>\n",
       "      <td>100.0</td>\n",
       "      <td>21</td>\n",
       "      <td>22</td>\n",
       "      <td>52</td>\n",
       "    </tr>\n",
       "    <tr>\n",
       "      <th>4</th>\n",
       "      <td>Cluster_4453</td>\n",
       "      <td>eun-miR10221-5p</td>\n",
       "      <td>2</td>\n",
       "      <td>12</td>\n",
       "      <td>19</td>\n",
       "      <td>9</td>\n",
       "      <td>22</td>\n",
       "      <td>11</td>\n",
       "      <td>0</td>\n",
       "      <td>0</td>\n",
       "      <td>0</td>\n",
       "      <td>11</td>\n",
       "      <td>100.0</td>\n",
       "      <td>21</td>\n",
       "      <td>21</td>\n",
       "      <td>52</td>\n",
       "    </tr>\n",
       "  </tbody>\n",
       "</table>\n",
       "</div>"
      ],
      "text/plain": [
       "         qseqid           sseqid  qstart  qend  sstart  send  score  length  \\\n",
       "0  Cluster_3799    cfa-miR-8791b       5    16      12     1     24      12   \n",
       "1  Cluster_3799   hpo-miR-43b-3p       4    14      23    13     22      11   \n",
       "2  Cluster_3799   aca-miR-34b-3p       8    18       4    14     22      11   \n",
       "3  Cluster_4453    oni-miR-10645       5    15      20    10     22      11   \n",
       "4  Cluster_4453  eun-miR10221-5p       2    12      19     9     22      11   \n",
       "\n",
       "   mismatch  gaps  gapopen  nident  pident  qlen  slen  qcovs  \n",
       "0         0     0        0      12   100.0    21    25     57  \n",
       "1         0     0        0      11   100.0    21    23     52  \n",
       "2         0     0        0      11   100.0    21    22     52  \n",
       "3         0     0        0      11   100.0    21    22     52  \n",
       "4         0     0        0      11   100.0    21    21     52  "
      ]
     },
     "execution_count": 75,
     "metadata": {},
     "output_type": "execute_result"
    }
   ],
   "source": [
    "df_blast.head()"
   ]
  },
  {
   "cell_type": "code",
   "execution_count": 76,
   "metadata": {},
   "outputs": [
    {
     "name": "stdout",
     "output_type": "stream",
     "text": [
      "('len -2:', 7)\n"
     ]
    }
   ],
   "source": [
    "df_blast = df_blast[df_blast.length >= df_blast.qlen - 4]\n",
    "print('len -2:',len(df_blast.index))"
   ]
  },
  {
   "cell_type": "code",
   "execution_count": 77,
   "metadata": {},
   "outputs": [],
   "source": [
    "df_res = pd.merge(df_deg, df_blast[['qseqid','sseqid']], left_on='Name', right_on='qseqid', how='left')"
   ]
  },
  {
   "cell_type": "code",
   "execution_count": 78,
   "metadata": {},
   "outputs": [],
   "source": [
    "df_res.to_csv(data_dir + '/res/' + lb + '/deg_data.mirbase.csv', sep='\\t', index=None)"
   ]
  },
  {
   "cell_type": "code",
   "execution_count": 79,
   "metadata": {},
   "outputs": [
    {
     "data": {
      "text/plain": [
       "39"
      ]
     },
     "execution_count": 79,
     "metadata": {},
     "output_type": "execute_result"
    }
   ],
   "source": [
    "len(set(df_res['#Locus'].tolist()))"
   ]
  },
  {
   "cell_type": "code",
   "execution_count": null,
   "metadata": {},
   "outputs": [],
   "source": []
  }
 ],
 "metadata": {
  "kernelspec": {
   "display_name": "Python 3",
   "language": "python",
   "name": "python3"
  },
  "language_info": {
   "codemirror_mode": {
    "name": "ipython",
    "version": 2
   },
   "file_extension": ".py",
   "mimetype": "text/x-python",
   "name": "python",
   "nbconvert_exporter": "python",
   "pygments_lexer": "ipython2",
   "version": "2.7.15"
  }
 },
 "nbformat": 4,
 "nbformat_minor": 2
}
