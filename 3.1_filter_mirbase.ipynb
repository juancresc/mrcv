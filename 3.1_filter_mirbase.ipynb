{
 "cells": [
  {
   "cell_type": "code",
   "execution_count": 155,
   "metadata": {},
   "outputs": [],
   "source": [
    "!blastn -task blastn -query data/res/sRNA_DEG.fasta  -subject data/data/miRNAs/mature.fa -outfmt \"6 qseqid sseqid qstart qend sstart send score length mismatch gaps gapopen nident pident qlen slen qcovs\" > data/res/sRNA_DEG_mirbase.blast.csv"
   ]
  },
  {
   "cell_type": "code",
   "execution_count": 156,
   "metadata": {},
   "outputs": [],
   "source": [
    "import pandas as pd\n",
    "import numpy as np\n",
    "data_dir = 'data'\n",
    "lb = 'iwgsc_10_12_18'\n",
    "blast_out = data_dir + '/res/sRNA_DEG_mirbase.blast.csv'"
   ]
  },
  {
   "cell_type": "code",
   "execution_count": 157,
   "metadata": {},
   "outputs": [
    {
     "name": "stdout",
     "output_type": "stream",
     "text": [
      "Res len: 14769\n"
     ]
    },
    {
     "data": {
      "text/html": [
       "<div>\n",
       "<style scoped>\n",
       "    .dataframe tbody tr th:only-of-type {\n",
       "        vertical-align: middle;\n",
       "    }\n",
       "\n",
       "    .dataframe tbody tr th {\n",
       "        vertical-align: top;\n",
       "    }\n",
       "\n",
       "    .dataframe thead th {\n",
       "        text-align: right;\n",
       "    }\n",
       "</style>\n",
       "<table border=\"1\" class=\"dataframe\">\n",
       "  <thead>\n",
       "    <tr style=\"text-align: right;\">\n",
       "      <th></th>\n",
       "      <th>Unnamed: 0</th>\n",
       "      <th>Gene</th>\n",
       "      <th>baseMean</th>\n",
       "      <th>log2FoldChange</th>\n",
       "      <th>lfcSE</th>\n",
       "      <th>stat</th>\n",
       "      <th>pvalue</th>\n",
       "      <th>padj</th>\n",
       "      <th>X21dpiR1C.trimmed</th>\n",
       "      <th>X21dpiR3C.trimmed</th>\n",
       "      <th>...</th>\n",
       "      <th>DicerCall</th>\n",
       "      <th>MIRNA</th>\n",
       "      <th>PhaseScore</th>\n",
       "      <th>Short</th>\n",
       "      <th>Long</th>\n",
       "      <th>20</th>\n",
       "      <th>21</th>\n",
       "      <th>22</th>\n",
       "      <th>23</th>\n",
       "      <th>24</th>\n",
       "    </tr>\n",
       "  </thead>\n",
       "  <tbody>\n",
       "    <tr>\n",
       "      <th>0</th>\n",
       "      <td>1</td>\n",
       "      <td>UUGUACCAACUGUAAACUCGU</td>\n",
       "      <td>2442.153702</td>\n",
       "      <td>11.330772</td>\n",
       "      <td>0.881097</td>\n",
       "      <td>12.859849</td>\n",
       "      <td>7.572419e-38</td>\n",
       "      <td>1.445802e-33</td>\n",
       "      <td>2.131286</td>\n",
       "      <td>1.558099</td>\n",
       "      <td>...</td>\n",
       "      <td>NaN</td>\n",
       "      <td>NaN</td>\n",
       "      <td>NaN</td>\n",
       "      <td>NaN</td>\n",
       "      <td>NaN</td>\n",
       "      <td>NaN</td>\n",
       "      <td>NaN</td>\n",
       "      <td>NaN</td>\n",
       "      <td>NaN</td>\n",
       "      <td>NaN</td>\n",
       "    </tr>\n",
       "    <tr>\n",
       "      <th>1</th>\n",
       "      <td>2</td>\n",
       "      <td>AGAUUCUGUUGAACUCGUUCUC</td>\n",
       "      <td>1771.326168</td>\n",
       "      <td>10.859947</td>\n",
       "      <td>0.862006</td>\n",
       "      <td>12.598466</td>\n",
       "      <td>2.152912e-36</td>\n",
       "      <td>2.055278e-32</td>\n",
       "      <td>1.065643</td>\n",
       "      <td>3.116198</td>\n",
       "      <td>...</td>\n",
       "      <td>NaN</td>\n",
       "      <td>NaN</td>\n",
       "      <td>NaN</td>\n",
       "      <td>NaN</td>\n",
       "      <td>NaN</td>\n",
       "      <td>NaN</td>\n",
       "      <td>NaN</td>\n",
       "      <td>NaN</td>\n",
       "      <td>NaN</td>\n",
       "      <td>NaN</td>\n",
       "    </tr>\n",
       "    <tr>\n",
       "      <th>2</th>\n",
       "      <td>3</td>\n",
       "      <td>AAUGAACAUCACAAACAGCCU</td>\n",
       "      <td>1043.480079</td>\n",
       "      <td>9.692181</td>\n",
       "      <td>0.780177</td>\n",
       "      <td>12.423061</td>\n",
       "      <td>1.959203e-35</td>\n",
       "      <td>1.246902e-31</td>\n",
       "      <td>3.196929</td>\n",
       "      <td>1.558099</td>\n",
       "      <td>...</td>\n",
       "      <td>NaN</td>\n",
       "      <td>NaN</td>\n",
       "      <td>NaN</td>\n",
       "      <td>NaN</td>\n",
       "      <td>NaN</td>\n",
       "      <td>NaN</td>\n",
       "      <td>NaN</td>\n",
       "      <td>NaN</td>\n",
       "      <td>NaN</td>\n",
       "      <td>NaN</td>\n",
       "    </tr>\n",
       "  </tbody>\n",
       "</table>\n",
       "<p>3 rows × 33 columns</p>\n",
       "</div>"
      ],
      "text/plain": [
       "   Unnamed: 0                    Gene     baseMean  log2FoldChange     lfcSE  \\\n",
       "0           1   UUGUACCAACUGUAAACUCGU  2442.153702       11.330772  0.881097   \n",
       "1           2  AGAUUCUGUUGAACUCGUUCUC  1771.326168       10.859947  0.862006   \n",
       "2           3   AAUGAACAUCACAAACAGCCU  1043.480079        9.692181  0.780177   \n",
       "\n",
       "        stat        pvalue          padj  X21dpiR1C.trimmed  \\\n",
       "0  12.859849  7.572419e-38  1.445802e-33           2.131286   \n",
       "1  12.598466  2.152912e-36  2.055278e-32           1.065643   \n",
       "2  12.423061  1.959203e-35  1.246902e-31           3.196929   \n",
       "\n",
       "   X21dpiR3C.trimmed ...  DicerCall  MIRNA PhaseScore Short  Long  20  21  22  \\\n",
       "0           1.558099 ...        NaN    NaN        NaN   NaN   NaN NaN NaN NaN   \n",
       "1           3.116198 ...        NaN    NaN        NaN   NaN   NaN NaN NaN NaN   \n",
       "2           1.558099 ...        NaN    NaN        NaN   NaN   NaN NaN NaN NaN   \n",
       "\n",
       "   23  24  \n",
       "0 NaN NaN  \n",
       "1 NaN NaN  \n",
       "2 NaN NaN  \n",
       "\n",
       "[3 rows x 33 columns]"
      ]
     },
     "execution_count": 157,
     "metadata": {},
     "output_type": "execute_result"
    }
   ],
   "source": [
    "deg_file = data_dir + '/res/deg_data.csv'\n",
    "df_deg = pd.read_csv(deg_file,sep=\"\\t\")\n",
    "df_deg.loc[pd.isnull(df_deg['MajorRNA']), 'MajorRNA'] = df_deg['Gene']\n",
    "print('Res len:',len(df_deg.index))\n",
    "df_deg.head(3)"
   ]
  },
  {
   "cell_type": "code",
   "execution_count": null,
   "metadata": {},
   "outputs": [],
   "source": []
  },
  {
   "cell_type": "code",
   "execution_count": 158,
   "metadata": {},
   "outputs": [
    {
     "name": "stdout",
     "output_type": "stream",
     "text": [
      "initial: 94331\n"
     ]
    }
   ],
   "source": [
    "df_blast = pd.read_csv(blast_out,sep=\"\\t\", header=None)\n",
    "df_blast.columns = ['qseqid','sseqid','qstart','qend','sstart','send','score','length','mismatch','gaps','gapopen','nident','pident','qlen','slen','qcovs']\n",
    "print('initial:',len(df_blast.index))"
   ]
  },
  {
   "cell_type": "code",
   "execution_count": 159,
   "metadata": {},
   "outputs": [
    {
     "name": "stdout",
     "output_type": "stream",
     "text": [
      "len -4: 42503\n"
     ]
    }
   ],
   "source": [
    "df_blast = df_blast[df_blast.length >= df_blast.qlen - 4]\n",
    "print('len -4:',len(df_blast.index))"
   ]
  },
  {
   "cell_type": "code",
   "execution_count": 160,
   "metadata": {},
   "outputs": [
    {
     "name": "stdout",
     "output_type": "stream",
     "text": [
      "56505\n"
     ]
    },
    {
     "data": {
      "text/html": [
       "<div>\n",
       "<style scoped>\n",
       "    .dataframe tbody tr th:only-of-type {\n",
       "        vertical-align: middle;\n",
       "    }\n",
       "\n",
       "    .dataframe tbody tr th {\n",
       "        vertical-align: top;\n",
       "    }\n",
       "\n",
       "    .dataframe thead th {\n",
       "        text-align: right;\n",
       "    }\n",
       "</style>\n",
       "<table border=\"1\" class=\"dataframe\">\n",
       "  <thead>\n",
       "    <tr style=\"text-align: right;\">\n",
       "      <th></th>\n",
       "      <th>Unnamed: 0</th>\n",
       "      <th>Gene</th>\n",
       "      <th>baseMean</th>\n",
       "      <th>log2FoldChange</th>\n",
       "      <th>lfcSE</th>\n",
       "      <th>stat</th>\n",
       "      <th>pvalue</th>\n",
       "      <th>padj</th>\n",
       "      <th>X21dpiR1C.trimmed</th>\n",
       "      <th>X21dpiR3C.trimmed</th>\n",
       "      <th>...</th>\n",
       "      <th>MIRNA</th>\n",
       "      <th>PhaseScore</th>\n",
       "      <th>Short</th>\n",
       "      <th>Long</th>\n",
       "      <th>20</th>\n",
       "      <th>21</th>\n",
       "      <th>22</th>\n",
       "      <th>23</th>\n",
       "      <th>24</th>\n",
       "      <th>miRBASE</th>\n",
       "    </tr>\n",
       "  </thead>\n",
       "  <tbody>\n",
       "    <tr>\n",
       "      <th>0</th>\n",
       "      <td>1</td>\n",
       "      <td>UUGUACCAACUGUAAACUCGU</td>\n",
       "      <td>2442.153702</td>\n",
       "      <td>11.330772</td>\n",
       "      <td>0.881097</td>\n",
       "      <td>12.859849</td>\n",
       "      <td>7.572419e-38</td>\n",
       "      <td>1.445802e-33</td>\n",
       "      <td>2.131286</td>\n",
       "      <td>1.558099</td>\n",
       "      <td>...</td>\n",
       "      <td></td>\n",
       "      <td></td>\n",
       "      <td></td>\n",
       "      <td></td>\n",
       "      <td></td>\n",
       "      <td></td>\n",
       "      <td></td>\n",
       "      <td></td>\n",
       "      <td></td>\n",
       "      <td></td>\n",
       "    </tr>\n",
       "    <tr>\n",
       "      <th>1</th>\n",
       "      <td>2</td>\n",
       "      <td>AGAUUCUGUUGAACUCGUUCUC</td>\n",
       "      <td>1771.326168</td>\n",
       "      <td>10.859947</td>\n",
       "      <td>0.862006</td>\n",
       "      <td>12.598466</td>\n",
       "      <td>2.152912e-36</td>\n",
       "      <td>2.055278e-32</td>\n",
       "      <td>1.065643</td>\n",
       "      <td>3.116198</td>\n",
       "      <td>...</td>\n",
       "      <td></td>\n",
       "      <td></td>\n",
       "      <td></td>\n",
       "      <td></td>\n",
       "      <td></td>\n",
       "      <td></td>\n",
       "      <td></td>\n",
       "      <td></td>\n",
       "      <td></td>\n",
       "      <td></td>\n",
       "    </tr>\n",
       "  </tbody>\n",
       "</table>\n",
       "<p>2 rows × 34 columns</p>\n",
       "</div>"
      ],
      "text/plain": [
       "   Unnamed: 0                    Gene     baseMean  log2FoldChange     lfcSE  \\\n",
       "0           1   UUGUACCAACUGUAAACUCGU  2442.153702       11.330772  0.881097   \n",
       "1           2  AGAUUCUGUUGAACUCGUUCUC  1771.326168       10.859947  0.862006   \n",
       "\n",
       "        stat        pvalue          padj  X21dpiR1C.trimmed  \\\n",
       "0  12.859849  7.572419e-38  1.445802e-33           2.131286   \n",
       "1  12.598466  2.152912e-36  2.055278e-32           1.065643   \n",
       "\n",
       "   X21dpiR3C.trimmed   ...    MIRNA  PhaseScore Short Long 20 21 22 23 24  \\\n",
       "0           1.558099   ...                                                  \n",
       "1           3.116198   ...                                                  \n",
       "\n",
       "  miRBASE  \n",
       "0          \n",
       "1          \n",
       "\n",
       "[2 rows x 34 columns]"
      ]
     },
     "execution_count": 160,
     "metadata": {},
     "output_type": "execute_result"
    }
   ],
   "source": [
    "df_res = pd.merge(df_deg, df_blast[['qseqid','sseqid']], left_on='Gene', right_on='qseqid', how='left')\n",
    "df_res = df_res.drop(['qseqid'], axis=1)\n",
    "df_res.rename(columns={'sseqid': 'miRBASE'}, inplace=True)\n",
    "df_res = df_res.replace(np.nan, '', regex=True)\n",
    "print(len(df_res.index))\n",
    "df_res.head(2)"
   ]
  },
  {
   "cell_type": "code",
   "execution_count": 161,
   "metadata": {},
   "outputs": [],
   "source": [
    "rules = {'MajorRNA':'first','log2FoldChange':'first','miRBASE':','.join}\n",
    "df_res = df_res.groupby('Gene',as_index=False).agg(rules)"
   ]
  },
  {
   "cell_type": "code",
   "execution_count": 162,
   "metadata": {},
   "outputs": [],
   "source": [
    "df_res.to_csv(data_dir + '/res/sRNA_DEG_mirbase.csv', sep='\\t', index=None)"
   ]
  },
  {
   "cell_type": "code",
   "execution_count": null,
   "metadata": {},
   "outputs": [],
   "source": []
  },
  {
   "cell_type": "code",
   "execution_count": null,
   "metadata": {},
   "outputs": [],
   "source": []
  }
 ],
 "metadata": {
  "kernelspec": {
   "display_name": "Python 3",
   "language": "python",
   "name": "python3"
  },
  "language_info": {
   "codemirror_mode": {
    "name": "ipython",
    "version": 2
   },
   "file_extension": ".py",
   "mimetype": "text/x-python",
   "name": "python",
   "nbconvert_exporter": "python",
   "pygments_lexer": "ipython2",
   "version": "2.7.15"
  }
 },
 "nbformat": 4,
 "nbformat_minor": 2
}
