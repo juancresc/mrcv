{
 "cells": [
  {
   "cell_type": "code",
   "execution_count": 1,
   "metadata": {},
   "outputs": [],
   "source": [
    "!blastn -task blastn -query data/res/sRNA_DEG.fasta  -subject data/data/miRNAs/mature.fa -outfmt \"6 qseqid sseqid qstart qend sstart send score length mismatch gaps gapopen nident pident qlen slen qcovs\" > data/res/sRNA_DEG_mirbase.blast.csv"
   ]
  },
  {
   "cell_type": "code",
   "execution_count": 139,
   "metadata": {},
   "outputs": [],
   "source": [
    "import pandas as pd\n",
    "import numpy as np\n",
    "data_dir = 'data'\n",
    "lb = 'iwgsc_10_12_18'\n",
    "blast_out = data_dir + '/res/sRNA_DEG_mirbase.blast.csv'"
   ]
  },
  {
   "cell_type": "code",
   "execution_count": 148,
   "metadata": {},
   "outputs": [
    {
     "name": "stdout",
     "output_type": "stream",
     "text": [
      "Res len: 19180\n"
     ]
    },
    {
     "data": {
      "text/html": [
       "<div>\n",
       "<style scoped>\n",
       "    .dataframe tbody tr th:only-of-type {\n",
       "        vertical-align: middle;\n",
       "    }\n",
       "\n",
       "    .dataframe tbody tr th {\n",
       "        vertical-align: top;\n",
       "    }\n",
       "\n",
       "    .dataframe thead th {\n",
       "        text-align: right;\n",
       "    }\n",
       "</style>\n",
       "<table border=\"1\" class=\"dataframe\">\n",
       "  <thead>\n",
       "    <tr style=\"text-align: right;\">\n",
       "      <th></th>\n",
       "      <th>Unnamed: 0</th>\n",
       "      <th>Gene</th>\n",
       "      <th>baseMean</th>\n",
       "      <th>log2FoldChange</th>\n",
       "      <th>lfcSE</th>\n",
       "      <th>stat</th>\n",
       "      <th>pvalue</th>\n",
       "      <th>padj</th>\n",
       "      <th>X21dpiR1C.trimmed</th>\n",
       "      <th>X21dpiR3C.trimmed</th>\n",
       "      <th>...</th>\n",
       "      <th>DicerCall</th>\n",
       "      <th>MIRNA</th>\n",
       "      <th>PhaseScore</th>\n",
       "      <th>Short</th>\n",
       "      <th>Long</th>\n",
       "      <th>20</th>\n",
       "      <th>21</th>\n",
       "      <th>22</th>\n",
       "      <th>23</th>\n",
       "      <th>24</th>\n",
       "    </tr>\n",
       "  </thead>\n",
       "  <tbody>\n",
       "    <tr>\n",
       "      <th>0</th>\n",
       "      <td>1</td>\n",
       "      <td>UUGUACCAACUGUAAACUCGU</td>\n",
       "      <td>2848.856383</td>\n",
       "      <td>11.769840</td>\n",
       "      <td>0.889328</td>\n",
       "      <td>13.234532</td>\n",
       "      <td>5.544114e-40</td>\n",
       "      <td>3.126881e-35</td>\n",
       "      <td>2.069231</td>\n",
       "      <td>1.148383</td>\n",
       "      <td>...</td>\n",
       "      <td>NaN</td>\n",
       "      <td>NaN</td>\n",
       "      <td>NaN</td>\n",
       "      <td>NaN</td>\n",
       "      <td>NaN</td>\n",
       "      <td>NaN</td>\n",
       "      <td>NaN</td>\n",
       "      <td>NaN</td>\n",
       "      <td>NaN</td>\n",
       "      <td>NaN</td>\n",
       "    </tr>\n",
       "    <tr>\n",
       "      <th>1</th>\n",
       "      <td>2</td>\n",
       "      <td>AGAUUCUGUUGAACUCGUUCUC</td>\n",
       "      <td>2065.048285</td>\n",
       "      <td>11.302687</td>\n",
       "      <td>0.872536</td>\n",
       "      <td>12.953837</td>\n",
       "      <td>2.234989e-38</td>\n",
       "      <td>6.302670e-34</td>\n",
       "      <td>1.034615</td>\n",
       "      <td>2.296765</td>\n",
       "      <td>...</td>\n",
       "      <td>NaN</td>\n",
       "      <td>NaN</td>\n",
       "      <td>NaN</td>\n",
       "      <td>NaN</td>\n",
       "      <td>NaN</td>\n",
       "      <td>NaN</td>\n",
       "      <td>NaN</td>\n",
       "      <td>NaN</td>\n",
       "      <td>NaN</td>\n",
       "      <td>NaN</td>\n",
       "    </tr>\n",
       "    <tr>\n",
       "      <th>2</th>\n",
       "      <td>3</td>\n",
       "      <td>AAUGAACAUCACAAACAGCCU</td>\n",
       "      <td>1217.082821</td>\n",
       "      <td>10.128707</td>\n",
       "      <td>0.789553</td>\n",
       "      <td>12.828409</td>\n",
       "      <td>1.136739e-37</td>\n",
       "      <td>2.137069e-33</td>\n",
       "      <td>3.103846</td>\n",
       "      <td>1.148383</td>\n",
       "      <td>...</td>\n",
       "      <td>NaN</td>\n",
       "      <td>NaN</td>\n",
       "      <td>NaN</td>\n",
       "      <td>NaN</td>\n",
       "      <td>NaN</td>\n",
       "      <td>NaN</td>\n",
       "      <td>NaN</td>\n",
       "      <td>NaN</td>\n",
       "      <td>NaN</td>\n",
       "      <td>NaN</td>\n",
       "    </tr>\n",
       "  </tbody>\n",
       "</table>\n",
       "<p>3 rows × 33 columns</p>\n",
       "</div>"
      ],
      "text/plain": [
       "   Unnamed: 0                    Gene     baseMean  log2FoldChange     lfcSE  \\\n",
       "0           1   UUGUACCAACUGUAAACUCGU  2848.856383       11.769840  0.889328   \n",
       "1           2  AGAUUCUGUUGAACUCGUUCUC  2065.048285       11.302687  0.872536   \n",
       "2           3   AAUGAACAUCACAAACAGCCU  1217.082821       10.128707  0.789553   \n",
       "\n",
       "        stat        pvalue          padj  X21dpiR1C.trimmed  \\\n",
       "0  13.234532  5.544114e-40  3.126881e-35           2.069231   \n",
       "1  12.953837  2.234989e-38  6.302670e-34           1.034615   \n",
       "2  12.828409  1.136739e-37  2.137069e-33           3.103846   \n",
       "\n",
       "   X21dpiR3C.trimmed ...  DicerCall  MIRNA PhaseScore Short  Long  20  21  22  \\\n",
       "0           1.148383 ...        NaN    NaN        NaN   NaN   NaN NaN NaN NaN   \n",
       "1           2.296765 ...        NaN    NaN        NaN   NaN   NaN NaN NaN NaN   \n",
       "2           1.148383 ...        NaN    NaN        NaN   NaN   NaN NaN NaN NaN   \n",
       "\n",
       "   23  24  \n",
       "0 NaN NaN  \n",
       "1 NaN NaN  \n",
       "2 NaN NaN  \n",
       "\n",
       "[3 rows x 33 columns]"
      ]
     },
     "execution_count": 148,
     "metadata": {},
     "output_type": "execute_result"
    }
   ],
   "source": [
    "deg_file = data_dir + '/res/deg_data.csv'\n",
    "df_deg = pd.read_csv(deg_file,sep=\"\\t\")\n",
    "df_deg.loc[pd.isnull(df_deg['MajorRNA']), 'MajorRNA'] = df_deg['Gene']\n",
    "print('Res len:',len(df_deg.index))\n",
    "df_deg.head(3)"
   ]
  },
  {
   "cell_type": "code",
   "execution_count": null,
   "metadata": {},
   "outputs": [],
   "source": []
  },
  {
   "cell_type": "code",
   "execution_count": 149,
   "metadata": {},
   "outputs": [
    {
     "name": "stdout",
     "output_type": "stream",
     "text": [
      "initial: 78432\n"
     ]
    }
   ],
   "source": [
    "df_blast = pd.read_csv(blast_out,sep=\"\\t\", header=None)\n",
    "df_blast.columns = ['qseqid','sseqid','qstart','qend','sstart','send','score','length','mismatch','gaps','gapopen','nident','pident','qlen','slen','qcovs']\n",
    "print('initial:',len(df_blast.index))"
   ]
  },
  {
   "cell_type": "code",
   "execution_count": 150,
   "metadata": {},
   "outputs": [
    {
     "name": "stdout",
     "output_type": "stream",
     "text": [
      "len -4: 13263\n"
     ]
    }
   ],
   "source": [
    "df_blast = df_blast[df_blast.length >= df_blast.qlen - 4]\n",
    "print('len -4:',len(df_blast.index))"
   ]
  },
  {
   "cell_type": "code",
   "execution_count": 151,
   "metadata": {},
   "outputs": [
    {
     "name": "stdout",
     "output_type": "stream",
     "text": [
      "32015\n"
     ]
    },
    {
     "data": {
      "text/html": [
       "<div>\n",
       "<style scoped>\n",
       "    .dataframe tbody tr th:only-of-type {\n",
       "        vertical-align: middle;\n",
       "    }\n",
       "\n",
       "    .dataframe tbody tr th {\n",
       "        vertical-align: top;\n",
       "    }\n",
       "\n",
       "    .dataframe thead th {\n",
       "        text-align: right;\n",
       "    }\n",
       "</style>\n",
       "<table border=\"1\" class=\"dataframe\">\n",
       "  <thead>\n",
       "    <tr style=\"text-align: right;\">\n",
       "      <th></th>\n",
       "      <th>Unnamed: 0</th>\n",
       "      <th>Gene</th>\n",
       "      <th>baseMean</th>\n",
       "      <th>log2FoldChange</th>\n",
       "      <th>lfcSE</th>\n",
       "      <th>stat</th>\n",
       "      <th>pvalue</th>\n",
       "      <th>padj</th>\n",
       "      <th>X21dpiR1C.trimmed</th>\n",
       "      <th>X21dpiR3C.trimmed</th>\n",
       "      <th>...</th>\n",
       "      <th>MIRNA</th>\n",
       "      <th>PhaseScore</th>\n",
       "      <th>Short</th>\n",
       "      <th>Long</th>\n",
       "      <th>20</th>\n",
       "      <th>21</th>\n",
       "      <th>22</th>\n",
       "      <th>23</th>\n",
       "      <th>24</th>\n",
       "      <th>miRBASE</th>\n",
       "    </tr>\n",
       "  </thead>\n",
       "  <tbody>\n",
       "    <tr>\n",
       "      <th>0</th>\n",
       "      <td>1</td>\n",
       "      <td>UUGUACCAACUGUAAACUCGU</td>\n",
       "      <td>2848.856383</td>\n",
       "      <td>11.769840</td>\n",
       "      <td>0.889328</td>\n",
       "      <td>13.234532</td>\n",
       "      <td>5.544114e-40</td>\n",
       "      <td>3.126881e-35</td>\n",
       "      <td>2.069231</td>\n",
       "      <td>1.148383</td>\n",
       "      <td>...</td>\n",
       "      <td></td>\n",
       "      <td></td>\n",
       "      <td></td>\n",
       "      <td></td>\n",
       "      <td></td>\n",
       "      <td></td>\n",
       "      <td></td>\n",
       "      <td></td>\n",
       "      <td></td>\n",
       "      <td></td>\n",
       "    </tr>\n",
       "    <tr>\n",
       "      <th>1</th>\n",
       "      <td>2</td>\n",
       "      <td>AGAUUCUGUUGAACUCGUUCUC</td>\n",
       "      <td>2065.048285</td>\n",
       "      <td>11.302687</td>\n",
       "      <td>0.872536</td>\n",
       "      <td>12.953837</td>\n",
       "      <td>2.234989e-38</td>\n",
       "      <td>6.302670e-34</td>\n",
       "      <td>1.034615</td>\n",
       "      <td>2.296765</td>\n",
       "      <td>...</td>\n",
       "      <td></td>\n",
       "      <td></td>\n",
       "      <td></td>\n",
       "      <td></td>\n",
       "      <td></td>\n",
       "      <td></td>\n",
       "      <td></td>\n",
       "      <td></td>\n",
       "      <td></td>\n",
       "      <td></td>\n",
       "    </tr>\n",
       "  </tbody>\n",
       "</table>\n",
       "<p>2 rows × 34 columns</p>\n",
       "</div>"
      ],
      "text/plain": [
       "   Unnamed: 0                    Gene     baseMean  log2FoldChange     lfcSE  \\\n",
       "0           1   UUGUACCAACUGUAAACUCGU  2848.856383       11.769840  0.889328   \n",
       "1           2  AGAUUCUGUUGAACUCGUUCUC  2065.048285       11.302687  0.872536   \n",
       "\n",
       "        stat        pvalue          padj  X21dpiR1C.trimmed  \\\n",
       "0  13.234532  5.544114e-40  3.126881e-35           2.069231   \n",
       "1  12.953837  2.234989e-38  6.302670e-34           1.034615   \n",
       "\n",
       "   X21dpiR3C.trimmed   ...    MIRNA  PhaseScore Short Long 20 21 22 23 24  \\\n",
       "0           1.148383   ...                                                  \n",
       "1           2.296765   ...                                                  \n",
       "\n",
       "  miRBASE  \n",
       "0          \n",
       "1          \n",
       "\n",
       "[2 rows x 34 columns]"
      ]
     },
     "execution_count": 151,
     "metadata": {},
     "output_type": "execute_result"
    }
   ],
   "source": [
    "df_res = pd.merge(df_deg, df_blast[['qseqid','sseqid']], left_on='Gene', right_on='qseqid', how='left')\n",
    "df_res = df_res.drop(['qseqid'], axis=1)\n",
    "df_res.rename(columns={'sseqid': 'miRBASE'}, inplace=True)\n",
    "df_res = df_res.replace(np.nan, '', regex=True)\n",
    "print(len(df_res.index))\n",
    "df_res.head(2)"
   ]
  },
  {
   "cell_type": "code",
   "execution_count": 152,
   "metadata": {},
   "outputs": [],
   "source": [
    "rules = {'MajorRNA':'first','log2FoldChange':'first','miRBASE':','.join}\n",
    "df_res = df_res.groupby('Gene',as_index=False).agg(rules)"
   ]
  },
  {
   "cell_type": "code",
   "execution_count": 153,
   "metadata": {},
   "outputs": [],
   "source": [
    "df_res.to_csv(data_dir + '/res/sRNA_DEG_mirbase.csv', sep='\\t', index=None)"
   ]
  },
  {
   "cell_type": "code",
   "execution_count": null,
   "metadata": {},
   "outputs": [],
   "source": []
  },
  {
   "cell_type": "code",
   "execution_count": null,
   "metadata": {},
   "outputs": [],
   "source": []
  }
 ],
 "metadata": {
  "kernelspec": {
   "display_name": "Python 3",
   "language": "python",
   "name": "python3"
  },
  "language_info": {
   "codemirror_mode": {
    "name": "ipython",
    "version": 3
   },
   "file_extension": ".py",
   "mimetype": "text/x-python",
   "name": "python",
   "nbconvert_exporter": "python",
   "pygments_lexer": "ipython3",
   "version": "3.6.5"
  }
 },
 "nbformat": 4,
 "nbformat_minor": 2
}
