{
 "cells": [
  {
   "cell_type": "code",
   "execution_count": 4,
   "metadata": {},
   "outputs": [],
   "source": [
    "import pandas as pd\n",
    "padding = 24"
   ]
  },
  {
   "cell_type": "code",
   "execution_count": 5,
   "metadata": {},
   "outputs": [
    {
     "name": "stdout",
     "output_type": "stream",
     "text": [
      "337728\n"
     ]
    }
   ],
   "source": [
    "df_mites = pd.read_csv('data/tes/mites.gff', sep='\\t')\n",
    "df_mites.columns = ['seqname' , 'source' , 'feature' , 'start' , 'end' , 'score' , 'strand' , 'frame' , 'attribute']\n",
    "print(len(df_mites.index))"
   ]
  },
  {
   "cell_type": "code",
   "execution_count": 6,
   "metadata": {},
   "outputs": [
    {
     "name": "stdout",
     "output_type": "stream",
     "text": [
      "107890\n"
     ]
    }
   ],
   "source": [
    "df_genes = pd.read_csv('data/genes.gff3', sep='\\t')\n",
    "df_genes.columns = ['seqname' , 'source' , 'feature' , 'start' , 'end' , 'score' , 'strand' , 'frame' , 'attribute']\n",
    "print(len(df_genes.index))"
   ]
  },
  {
   "cell_type": "code",
   "execution_count": 7,
   "metadata": {},
   "outputs": [],
   "source": [
    "chrs = {}\n",
    "df_genome = pd.read_csv('data/wheat.gff3',sep=\"\\t\", header=None)\n",
    "df_genome.columns = ['seqname' , 'source' , 'feature' , 'start' , 'end' , 'score' , 'strand' , 'frame' , 'attribute']\n",
    "for seq in df_genome.seqname.tolist():\n",
    "    chrs[seq] = df_genes[df_genes.seqname == seq]"
   ]
  },
  {
   "cell_type": "code",
   "execution_count": 8,
   "metadata": {},
   "outputs": [
    {
     "data": {
      "text/html": [
       "<div>\n",
       "<table border=\"1\" class=\"dataframe\">\n",
       "  <thead>\n",
       "    <tr style=\"text-align: right;\">\n",
       "      <th></th>\n",
       "      <th>seqname</th>\n",
       "      <th>source</th>\n",
       "      <th>feature</th>\n",
       "      <th>start</th>\n",
       "      <th>end</th>\n",
       "      <th>score</th>\n",
       "      <th>strand</th>\n",
       "      <th>frame</th>\n",
       "      <th>attribute</th>\n",
       "    </tr>\n",
       "  </thead>\n",
       "  <tbody>\n",
       "    <tr>\n",
       "      <th>0</th>\n",
       "      <td>1A</td>\n",
       "      <td>MITE_tracker</td>\n",
       "      <td>TE</td>\n",
       "      <td>213862</td>\n",
       "      <td>214201</td>\n",
       "      <td>.</td>\n",
       "      <td>+</td>\n",
       "      <td>.</td>\n",
       "      <td>MITE_T_10416|chr4A|373381651|373381997|TGTT|36...</td>\n",
       "    </tr>\n",
       "    <tr>\n",
       "      <th>1</th>\n",
       "      <td>1A</td>\n",
       "      <td>MITE_tracker</td>\n",
       "      <td>TE</td>\n",
       "      <td>213868</td>\n",
       "      <td>214192</td>\n",
       "      <td>.</td>\n",
       "      <td>+</td>\n",
       "      <td>.</td>\n",
       "      <td>MITE_T_13765|chr7B|255748631|255748962|TTTT|33...</td>\n",
       "    </tr>\n",
       "    <tr>\n",
       "      <th>2</th>\n",
       "      <td>1A</td>\n",
       "      <td>MITE_tracker</td>\n",
       "      <td>TE</td>\n",
       "      <td>305432</td>\n",
       "      <td>305913</td>\n",
       "      <td>.</td>\n",
       "      <td>+</td>\n",
       "      <td>.</td>\n",
       "      <td>MITE_T_126801|chr7B|78567635|78568204|CTTCCCT|...</td>\n",
       "    </tr>\n",
       "    <tr>\n",
       "      <th>3</th>\n",
       "      <td>1A</td>\n",
       "      <td>MITE_tracker</td>\n",
       "      <td>TE</td>\n",
       "      <td>325494</td>\n",
       "      <td>325978</td>\n",
       "      <td>.</td>\n",
       "      <td>+</td>\n",
       "      <td>.</td>\n",
       "      <td>MITE_T_126801|chr7B|78567635|78568204|CTTCCCT|...</td>\n",
       "    </tr>\n",
       "    <tr>\n",
       "      <th>4</th>\n",
       "      <td>1A</td>\n",
       "      <td>MITE_tracker</td>\n",
       "      <td>TE</td>\n",
       "      <td>442468</td>\n",
       "      <td>442806</td>\n",
       "      <td>.</td>\n",
       "      <td>+</td>\n",
       "      <td>.</td>\n",
       "      <td>MITE_T_9379|chr5A|253680838|253681189|GC|364|F534</td>\n",
       "    </tr>\n",
       "  </tbody>\n",
       "</table>\n",
       "</div>"
      ],
      "text/plain": [
       "  seqname        source feature   start     end score strand frame  \\\n",
       "0      1A  MITE_tracker      TE  213862  214201     .      +     .   \n",
       "1      1A  MITE_tracker      TE  213868  214192     .      +     .   \n",
       "2      1A  MITE_tracker      TE  305432  305913     .      +     .   \n",
       "3      1A  MITE_tracker      TE  325494  325978     .      +     .   \n",
       "4      1A  MITE_tracker      TE  442468  442806     .      +     .   \n",
       "\n",
       "                                           attribute  \n",
       "0  MITE_T_10416|chr4A|373381651|373381997|TGTT|36...  \n",
       "1  MITE_T_13765|chr7B|255748631|255748962|TTTT|33...  \n",
       "2  MITE_T_126801|chr7B|78567635|78568204|CTTCCCT|...  \n",
       "3  MITE_T_126801|chr7B|78567635|78568204|CTTCCCT|...  \n",
       "4  MITE_T_9379|chr5A|253680838|253681189|GC|364|F534  "
      ]
     },
     "execution_count": 8,
     "metadata": {},
     "output_type": "execute_result"
    }
   ],
   "source": [
    "df_mites.head()"
   ]
  },
  {
   "cell_type": "code",
   "execution_count": 9,
   "metadata": {},
   "outputs": [],
   "source": [
    "indexes = []\n",
    "for k,v in df_mites.iterrows():\n",
    "    df = chrs[v.seqname]\n",
    "    df_res = df[(df.start <= v.end + padding) & (df.end >= v.start - padding)]\n",
    "    if len(df_res.index) > 0:\n",
    "        indexes.append(k)"
   ]
  },
  {
   "cell_type": "code",
   "execution_count": 10,
   "metadata": {},
   "outputs": [],
   "source": [
    "df_mites_save = df_mites[df_mites.index.isin(indexes)]\n",
    "df_mites_save.to_csv('data/tes/mites.genes.csv', index=None, sep='\\t', header=None)"
   ]
  },
  {
   "cell_type": "code",
   "execution_count": null,
   "metadata": {},
   "outputs": [],
   "source": []
  }
 ],
 "metadata": {
  "kernelspec": {
   "display_name": "Python 3",
   "language": "python",
   "name": "python3"
  },
  "language_info": {
   "codemirror_mode": {
    "name": "ipython",
    "version": 2
   },
   "file_extension": ".py",
   "mimetype": "text/x-python",
   "name": "python",
   "nbconvert_exporter": "python",
   "pygments_lexer": "ipython2",
   "version": "2.7.15"
  }
 },
 "nbformat": 4,
 "nbformat_minor": 2
}
