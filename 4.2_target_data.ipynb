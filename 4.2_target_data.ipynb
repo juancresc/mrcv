{
 "cells": [
  {
   "cell_type": "code",
   "execution_count": 29,
   "metadata": {},
   "outputs": [],
   "source": [
    "import pandas as pd\n",
    "file_targets = 'data/targets_cdna.csv'\n",
    "file_deg = 'data/DEG-normalized.csv'"
   ]
  },
  {
   "cell_type": "code",
   "execution_count": 30,
   "metadata": {},
   "outputs": [
    {
     "name": "stdout",
     "output_type": "stream",
     "text": [
      "3019\n"
     ]
    }
   ],
   "source": [
    "df_deg = pd.read_csv(file_deg, index_col=False, sep=',', comment='#')\n",
    "genes = df_deg.gene.tolist() \n",
    "print(len(genes))"
   ]
  },
  {
   "cell_type": "code",
   "execution_count": 31,
   "metadata": {},
   "outputs": [
    {
     "data": {
      "text/plain": [
       "154914"
      ]
     },
     "execution_count": 31,
     "metadata": {},
     "output_type": "execute_result"
    }
   ],
   "source": [
    "df_t = pd.read_csv(file_targets, sep='\\t', header=None)\n",
    "df_t.columns = ['query_seq','target','start','end','strand','score','t_align','align','q_align']\n",
    "len(df_t.index)"
   ]
  },
  {
   "cell_type": "code",
   "execution_count": 32,
   "metadata": {},
   "outputs": [],
   "source": [
    "df_t['target_name'] = df_t['target'].str.split(\" \").str[0]"
   ]
  },
  {
   "cell_type": "code",
   "execution_count": 33,
   "metadata": {},
   "outputs": [],
   "source": [
    "df_deg['gene_name'] = df_deg['gene'].str.split(\":\").str[1]"
   ]
  },
  {
   "cell_type": "code",
   "execution_count": 37,
   "metadata": {},
   "outputs": [
    {
     "data": {
      "text/html": [
       "<div>\n",
       "<table border=\"1\" class=\"dataframe\">\n",
       "  <thead>\n",
       "    <tr style=\"text-align: right;\">\n",
       "      <th></th>\n",
       "      <th>unique_values</th>\n",
       "      <th>counts</th>\n",
       "    </tr>\n",
       "  </thead>\n",
       "  <tbody>\n",
       "    <tr>\n",
       "      <th>0</th>\n",
       "      <td>TraesCS6B02G002100</td>\n",
       "      <td>300</td>\n",
       "    </tr>\n",
       "    <tr>\n",
       "      <th>1</th>\n",
       "      <td>TraesCS7B02G120300</td>\n",
       "      <td>271</td>\n",
       "    </tr>\n",
       "    <tr>\n",
       "      <th>2</th>\n",
       "      <td>TraesCS7B02G184100</td>\n",
       "      <td>269</td>\n",
       "    </tr>\n",
       "    <tr>\n",
       "      <th>3</th>\n",
       "      <td>TraesCS5A02G268100</td>\n",
       "      <td>228</td>\n",
       "    </tr>\n",
       "    <tr>\n",
       "      <th>4</th>\n",
       "      <td>TraesCS7D02G053700</td>\n",
       "      <td>211</td>\n",
       "    </tr>\n",
       "  </tbody>\n",
       "</table>\n",
       "</div>"
      ],
      "text/plain": [
       "        unique_values  counts\n",
       "0  TraesCS6B02G002100     300\n",
       "1  TraesCS7B02G120300     271\n",
       "2  TraesCS7B02G184100     269\n",
       "3  TraesCS5A02G268100     228\n",
       "4  TraesCS7D02G053700     211"
      ]
     },
     "execution_count": 37,
     "metadata": {},
     "output_type": "execute_result"
    }
   ],
   "source": [
    "vc = df_t['target_name'].value_counts()\n",
    "df_count = vc.rename_axis('unique_values').reset_index(name='counts')\n",
    "df_count.head()"
   ]
  },
  {
   "cell_type": "code",
   "execution_count": 41,
   "metadata": {},
   "outputs": [
    {
     "data": {
      "text/html": [
       "<div>\n",
       "<table border=\"1\" class=\"dataframe\">\n",
       "  <thead>\n",
       "    <tr style=\"text-align: right;\">\n",
       "      <th></th>\n",
       "      <th>unique_values</th>\n",
       "      <th>counts</th>\n",
       "      <th>gene_name</th>\n",
       "      <th>log2FoldChange</th>\n",
       "    </tr>\n",
       "  </thead>\n",
       "  <tbody>\n",
       "    <tr>\n",
       "      <th>0</th>\n",
       "      <td>TraesCS6B02G002100</td>\n",
       "      <td>300</td>\n",
       "      <td>TraesCS6B02G002100</td>\n",
       "      <td>-6.133970</td>\n",
       "    </tr>\n",
       "    <tr>\n",
       "      <th>1</th>\n",
       "      <td>TraesCS7B02G120300</td>\n",
       "      <td>271</td>\n",
       "      <td>TraesCS7B02G120300</td>\n",
       "      <td>-1.421459</td>\n",
       "    </tr>\n",
       "    <tr>\n",
       "      <th>2</th>\n",
       "      <td>TraesCS7B02G184100</td>\n",
       "      <td>269</td>\n",
       "      <td>TraesCS7B02G184100</td>\n",
       "      <td>-0.638028</td>\n",
       "    </tr>\n",
       "    <tr>\n",
       "      <th>3</th>\n",
       "      <td>TraesCS5A02G268100</td>\n",
       "      <td>228</td>\n",
       "      <td>TraesCS5A02G268100</td>\n",
       "      <td>-1.071639</td>\n",
       "    </tr>\n",
       "    <tr>\n",
       "      <th>4</th>\n",
       "      <td>TraesCS7D02G053700</td>\n",
       "      <td>211</td>\n",
       "      <td>TraesCS7D02G053700</td>\n",
       "      <td>-8.645583</td>\n",
       "    </tr>\n",
       "  </tbody>\n",
       "</table>\n",
       "</div>"
      ],
      "text/plain": [
       "        unique_values  counts           gene_name  log2FoldChange\n",
       "0  TraesCS6B02G002100     300  TraesCS6B02G002100       -6.133970\n",
       "1  TraesCS7B02G120300     271  TraesCS7B02G120300       -1.421459\n",
       "2  TraesCS7B02G184100     269  TraesCS7B02G184100       -0.638028\n",
       "3  TraesCS5A02G268100     228  TraesCS5A02G268100       -1.071639\n",
       "4  TraesCS7D02G053700     211  TraesCS7D02G053700       -8.645583"
      ]
     },
     "execution_count": 41,
     "metadata": {},
     "output_type": "execute_result"
    }
   ],
   "source": [
    "df_res = pd.merge(df_count, df_deg[['gene_name', 'log2FoldChange']], left_on='unique_values', right_on='gene_name')\n",
    "df_res.head()\n",
    "\n"
   ]
  },
  {
   "cell_type": "code",
   "execution_count": 44,
   "metadata": {},
   "outputs": [
    {
     "data": {
      "text/plain": [
       "<matplotlib.axes._subplots.AxesSubplot at 0x125ed5650>"
      ]
     },
     "execution_count": 44,
     "metadata": {},
     "output_type": "execute_result"
    },
    {
     "data": {
      "image/png": "[encoded data removed]",
      "text/plain": [
       "<Figure size 432x288 with 1 Axes>"
      ]
     },
     "metadata": {
      "needs_background": "light"
     },
     "output_type": "display_data"
    }
   ],
   "source": [
    "df_res.plot.scatter(x='counts', y='log2FoldChange',c='DarkBlue')\n"
   ]
  },
  {
   "cell_type": "code",
   "execution_count": null,
   "metadata": {},
   "outputs": [],
   "source": []
  }
 ],
 "metadata": {
  "kernelspec": {
   "display_name": "Python 3",
   "language": "python",
   "name": "python3"
  },
  "language_info": {
   "codemirror_mode": {
    "name": "ipython",
    "version": 2
   },
   "file_extension": ".py",
   "mimetype": "text/x-python",
   "name": "python",
   "nbconvert_exporter": "python",
   "pygments_lexer": "ipython2",
   "version": "2.7.15"
  }
 },
 "nbformat": 4,
 "nbformat_minor": 2
}
