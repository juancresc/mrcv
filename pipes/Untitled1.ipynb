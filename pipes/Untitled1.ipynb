{
 "cells": [
  {
   "cell_type": "code",
   "execution_count": 3,
   "metadata": {},
   "outputs": [],
   "source": [
    "import pandas as pd\n",
    "from Bio import SeqIO\n",
    "from Bio.SeqRecord import SeqRecord\n",
    "from Bio.Seq import Seq"
   ]
  },
  {
   "cell_type": "code",
   "execution_count": 8,
   "metadata": {},
   "outputs": [],
   "source": [
    "path_compare_res = '../data/res/04_02_19/compared_res.csv'\n",
    "df = pd.read_csv(path_compare_res, sep='\\t')"
   ]
  },
  {
   "cell_type": "code",
   "execution_count": 10,
   "metadata": {},
   "outputs": [
    {
     "data": {
      "text/html": [
       "<div>\n",
       "<style scoped>\n",
       "    .dataframe tbody tr th:only-of-type {\n",
       "        vertical-align: middle;\n",
       "    }\n",
       "\n",
       "    .dataframe tbody tr th {\n",
       "        vertical-align: top;\n",
       "    }\n",
       "\n",
       "    .dataframe thead th {\n",
       "        text-align: right;\n",
       "    }\n",
       "</style>\n",
       "<table border=\"1\" class=\"dataframe\">\n",
       "  <thead>\n",
       "    <tr style=\"text-align: right;\">\n",
       "      <th></th>\n",
       "      <th>miRNA_name</th>\n",
       "      <th>miRNA_l2fc</th>\n",
       "      <th>target</th>\n",
       "      <th>gene</th>\n",
       "      <th>gene_l2fc</th>\n",
       "      <th>Expectation</th>\n",
       "      <th>miRNA_aligned_fragment</th>\n",
       "      <th>Target_aligned_fragment</th>\n",
       "      <th>Inhibition</th>\n",
       "      <th>description</th>\n",
       "      <th>...</th>\n",
       "      <th>Infected_average_counts</th>\n",
       "      <th>log2FoldChange</th>\n",
       "      <th>FC</th>\n",
       "      <th>padj</th>\n",
       "      <th>description_taestivum</th>\n",
       "      <th>go_ids</th>\n",
       "      <th>atauschii_eg_homolog_ensembl_gene</th>\n",
       "      <th>description_atauschii</th>\n",
       "      <th>athaliana_eg_homolog_ensembl_gene</th>\n",
       "      <th>description_athaliana</th>\n",
       "    </tr>\n",
       "  </thead>\n",
       "  <tbody>\n",
       "    <tr>\n",
       "      <th>0</th>\n",
       "      <td>Cluster_30749</td>\n",
       "      <td>0.604528</td>\n",
       "      <td>TraesCS5B02G062100.1</td>\n",
       "      <td>TraesCS5B02G062100</td>\n",
       "      <td>1.378806</td>\n",
       "      <td>2.5</td>\n",
       "      <td>GCGGCUCUGUGGUGUUCAAGC</td>\n",
       "      <td>UGGUGACCACCACGGAGCCGC</td>\n",
       "      <td>Cleavage</td>\n",
       "      <td>Kinase interacting (KIP1-like) family protein,...</td>\n",
       "      <td>...</td>\n",
       "      <td>74.820683</td>\n",
       "      <td>1.680049</td>\n",
       "      <td>3.204388</td>\n",
       "      <td>0.000201</td>\n",
       "      <td>NaN</td>\n",
       "      <td>GO:0003779</td>\n",
       "      <td>F775_13157</td>\n",
       "      <td>NaN</td>\n",
       "      <td>AT3G22790, AT4G02710, AT4G14760, AT1G03080</td>\n",
       "      <td>Protein NETWORKED 1A [Source:UniProtKB/Swiss-P...</td>\n",
       "    </tr>\n",
       "    <tr>\n",
       "      <th>1</th>\n",
       "      <td>Cluster_30749</td>\n",
       "      <td>0.604528</td>\n",
       "      <td>TraesCS5B02G062100.1</td>\n",
       "      <td>TraesCS5B02G062100</td>\n",
       "      <td>1.378806</td>\n",
       "      <td>2.5</td>\n",
       "      <td>GCGGCUCUGUGGUGUUCAAGC</td>\n",
       "      <td>UGGUGACCACCACGGAGCCGC</td>\n",
       "      <td>Cleavage</td>\n",
       "      <td>Kinase interacting (KIP1-like) family protein,...</td>\n",
       "      <td>...</td>\n",
       "      <td>63.044070</td>\n",
       "      <td>1.404955</td>\n",
       "      <td>2.648096</td>\n",
       "      <td>0.005446</td>\n",
       "      <td>NaN</td>\n",
       "      <td>GO:0003779,</td>\n",
       "      <td>F775_13157</td>\n",
       "      <td>NaN</td>\n",
       "      <td>AT3G22790, AT1G03080, AT4G02710, AT4G14760</td>\n",
       "      <td>Protein NETWORKED 1A [Source:UniProtKB/Swiss-P...</td>\n",
       "    </tr>\n",
       "  </tbody>\n",
       "</table>\n",
       "<p>2 rows × 24 columns</p>\n",
       "</div>"
      ],
      "text/plain": [
       "      miRNA_name  miRNA_l2fc                target                gene  \\\n",
       "0  Cluster_30749    0.604528  TraesCS5B02G062100.1  TraesCS5B02G062100   \n",
       "1  Cluster_30749    0.604528  TraesCS5B02G062100.1  TraesCS5B02G062100   \n",
       "\n",
       "   gene_l2fc  Expectation miRNA_aligned_fragment Target_aligned_fragment  \\\n",
       "0   1.378806          2.5  GCGGCUCUGUGGUGUUCAAGC   UGGUGACCACCACGGAGCCGC   \n",
       "1   1.378806          2.5  GCGGCUCUGUGGUGUUCAAGC   UGGUGACCACCACGGAGCCGC   \n",
       "\n",
       "  Inhibition                                        description  \\\n",
       "0   Cleavage  Kinase interacting (KIP1-like) family protein,...   \n",
       "1   Cleavage  Kinase interacting (KIP1-like) family protein,...   \n",
       "\n",
       "                         ...                         Infected_average_counts  \\\n",
       "0                        ...                                       74.820683   \n",
       "1                        ...                                       63.044070   \n",
       "\n",
       "  log2FoldChange        FC      padj  description_taestivum        go_ids  \\\n",
       "0       1.680049  3.204388  0.000201                    NaN    GO:0003779   \n",
       "1       1.404955  2.648096  0.005446                    NaN  GO:0003779,    \n",
       "\n",
       "   atauschii_eg_homolog_ensembl_gene  description_atauschii  \\\n",
       "0                         F775_13157                    NaN   \n",
       "1                         F775_13157                    NaN   \n",
       "\n",
       "            athaliana_eg_homolog_ensembl_gene  \\\n",
       "0  AT3G22790, AT4G02710, AT4G14760, AT1G03080   \n",
       "1  AT3G22790, AT1G03080, AT4G02710, AT4G14760   \n",
       "\n",
       "                               description_athaliana  \n",
       "0  Protein NETWORKED 1A [Source:UniProtKB/Swiss-P...  \n",
       "1  Protein NETWORKED 1A [Source:UniProtKB/Swiss-P...  \n",
       "\n",
       "[2 rows x 24 columns]"
      ]
     },
     "execution_count": 10,
     "metadata": {},
     "output_type": "execute_result"
    }
   ],
   "source": [
    "df.head(2)"
   ]
  },
  {
   "cell_type": "code",
   "execution_count": 4,
   "metadata": {},
   "outputs": [
    {
     "data": {
      "text/plain": [
       "['SWEET.txt', 'TPS.txt', 'Inv&Fructosyl.txt']"
      ]
     },
     "execution_count": 4,
     "metadata": {},
     "output_type": "execute_result"
    }
   ],
   "source": [
    "mypath = '../data/race/Secuencias/'\n",
    "from os import listdir\n",
    "from os.path import isfile, join\n",
    "onlyfiles = [f for f in listdir(mypath) if isfile(join(mypath, f))]\n",
    "onlyfiles\n"
   ]
  },
  {
   "cell_type": "code",
   "execution_count": 12,
   "metadata": {},
   "outputs": [
    {
     "name": "stdout",
     "output_type": "stream",
     "text": [
      "TraesCS6B02G421500\n",
      "TraesCS6B02G248300\n",
      "TraesCS1A02G338200\n",
      "TraesCS5D02G210000\n",
      "TraesCS4A02G484800\n",
      "TraesCS7A02G010200\n",
      "TraesCS7A02G009200\n"
     ]
    }
   ],
   "source": [
    "for f in onlyfiles:\n",
    "    seqs = SeqIO.parse(mypath + f,'fasta')\n",
    "    for s in seqs:\n",
    "        ss = s.id.split('|')[0]\n",
    "        if ss in df.gene.tolist():\n",
    "            print(ss)\n",
    "        "
   ]
  },
  {
   "cell_type": "code",
   "execution_count": null,
   "metadata": {},
   "outputs": [],
   "source": []
  },
  {
   "cell_type": "code",
   "execution_count": null,
   "metadata": {},
   "outputs": [],
   "source": []
  },
  {
   "cell_type": "code",
   "execution_count": null,
   "metadata": {},
   "outputs": [],
   "source": []
  }
 ],
 "metadata": {
  "kernelspec": {
   "display_name": "Python 3",
   "language": "python",
   "name": "python3"
  },
  "language_info": {
   "codemirror_mode": {
    "name": "ipython",
    "version": 3
   },
   "file_extension": ".py",
   "mimetype": "text/x-python",
   "name": "python",
   "nbconvert_exporter": "python",
   "pygments_lexer": "ipython3",
   "version": "3.6.5"
  }
 },
 "nbformat": 4,
 "nbformat_minor": 2
}
