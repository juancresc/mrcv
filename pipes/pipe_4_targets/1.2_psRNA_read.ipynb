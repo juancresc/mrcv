{
 "cells": [
  {
   "cell_type": "code",
   "execution_count": 2,
   "metadata": {},
   "outputs": [],
   "source": [
    "import pandas as pd\n",
    "path_targets = \"../../data/res/psRNATargetJob-1552408016123276.txt\""
   ]
  },
  {
   "cell_type": "code",
   "execution_count": 4,
   "metadata": {},
   "outputs": [
    {
     "name": "stdout",
     "output_type": "stream",
     "text": [
      "715\n"
     ]
    },
    {
     "data": {
      "text/html": [
       "<div>\n",
       "<style scoped>\n",
       "    .dataframe tbody tr th:only-of-type {\n",
       "        vertical-align: middle;\n",
       "    }\n",
       "\n",
       "    .dataframe tbody tr th {\n",
       "        vertical-align: top;\n",
       "    }\n",
       "\n",
       "    .dataframe thead th {\n",
       "        text-align: right;\n",
       "    }\n",
       "</style>\n",
       "<table border=\"1\" class=\"dataframe\">\n",
       "  <thead>\n",
       "    <tr style=\"text-align: right;\">\n",
       "      <th></th>\n",
       "      <th>miRNA_Acc.</th>\n",
       "      <th>Target_Acc.</th>\n",
       "      <th>Expectation</th>\n",
       "      <th>UPE$</th>\n",
       "      <th>miRNA_start</th>\n",
       "      <th>miRNA_end</th>\n",
       "      <th>Target_start</th>\n",
       "      <th>Target_end</th>\n",
       "      <th>miRNA_aligned_fragment</th>\n",
       "      <th>Target_aligned_fragment</th>\n",
       "      <th>Inhibition</th>\n",
       "      <th>Target_Desc.</th>\n",
       "      <th>Multiplicity</th>\n",
       "    </tr>\n",
       "  </thead>\n",
       "  <tbody>\n",
       "    <tr>\n",
       "      <th>0</th>\n",
       "      <td>Cluster_30749</td>\n",
       "      <td>TraesCS5B02G062100.1</td>\n",
       "      <td>2.5</td>\n",
       "      <td>-1.0</td>\n",
       "      <td>1</td>\n",
       "      <td>21</td>\n",
       "      <td>4244</td>\n",
       "      <td>4264</td>\n",
       "      <td>GCGGCUCUGUGGUGUUCAAGC</td>\n",
       "      <td>UGGUGACCACCACGGAGCCGC</td>\n",
       "      <td>Cleavage</td>\n",
       "      <td>cdna chromosome:IWGSC:5B:69643783:69651235:-1 ...</td>\n",
       "      <td>1</td>\n",
       "    </tr>\n",
       "    <tr>\n",
       "      <th>1</th>\n",
       "      <td>Cluster_9839</td>\n",
       "      <td>TraesCS2B02G490400.1</td>\n",
       "      <td>2.5</td>\n",
       "      <td>-1.0</td>\n",
       "      <td>1</td>\n",
       "      <td>20</td>\n",
       "      <td>264</td>\n",
       "      <td>283</td>\n",
       "      <td>AGGCGGUUACCUUGGCUAGC</td>\n",
       "      <td>GCUGGCCAAGGUGGCCGCCG</td>\n",
       "      <td>Cleavage</td>\n",
       "      <td>cdna chromosome:IWGSC:2B:688234797:688235685:-...</td>\n",
       "      <td>1</td>\n",
       "    </tr>\n",
       "  </tbody>\n",
       "</table>\n",
       "</div>"
      ],
      "text/plain": [
       "      miRNA_Acc.           Target_Acc.  Expectation  UPE$  miRNA_start  \\\n",
       "0  Cluster_30749  TraesCS5B02G062100.1          2.5  -1.0            1   \n",
       "1   Cluster_9839  TraesCS2B02G490400.1          2.5  -1.0            1   \n",
       "\n",
       "   miRNA_end  Target_start  Target_end miRNA_aligned_fragment  \\\n",
       "0         21          4244        4264  GCGGCUCUGUGGUGUUCAAGC   \n",
       "1         20           264         283   AGGCGGUUACCUUGGCUAGC   \n",
       "\n",
       "  Target_aligned_fragment Inhibition  \\\n",
       "0   UGGUGACCACCACGGAGCCGC   Cleavage   \n",
       "1    GCUGGCCAAGGUGGCCGCCG   Cleavage   \n",
       "\n",
       "                                        Target_Desc.  Multiplicity  \n",
       "0  cdna chromosome:IWGSC:5B:69643783:69651235:-1 ...             1  \n",
       "1  cdna chromosome:IWGSC:2B:688234797:688235685:-...             1  "
      ]
     },
     "execution_count": 4,
     "metadata": {},
     "output_type": "execute_result"
    }
   ],
   "source": [
    "df = pd.read_csv(path_targets, sep=\"\\t\", comment=\"#\")\n",
    "print(len(df.index))\n",
    "df.head(2)"
   ]
  },
  {
   "cell_type": "code",
   "execution_count": 5,
   "metadata": {},
   "outputs": [
    {
     "data": {
      "text/plain": [
       "12"
      ]
     },
     "execution_count": 5,
     "metadata": {},
     "output_type": "execute_result"
    }
   ],
   "source": [
    "len(df['miRNA_Acc.'].unique().tolist())"
   ]
  },
  {
   "cell_type": "code",
   "execution_count": null,
   "metadata": {},
   "outputs": [],
   "source": []
  }
 ],
 "metadata": {
  "kernelspec": {
   "display_name": "Python 3",
   "language": "python",
   "name": "python3"
  },
  "language_info": {
   "codemirror_mode": {
    "name": "ipython",
    "version": 3
   },
   "file_extension": ".py",
   "mimetype": "text/x-python",
   "name": "python",
   "nbconvert_exporter": "python",
   "pygments_lexer": "ipython3",
   "version": "3.6.5"
  }
 },
 "nbformat": 4,
 "nbformat_minor": 2
}
