{
 "cells": [
  {
   "cell_type": "code",
   "execution_count": null,
   "metadata": {},
   "outputs": [],
   "source": [
    "import pandas as pd\n",
    "from subprocess import Popen, PIPE, call\n",
    "lb = 'iwgsc_10_12_18'\n",
    "path_target_finder = '/home/juan/Desktop/juan/bio/mrcv/sw/TargetFinder/targetfinder.pl'\n",
    "target_seqs = 'data/res/genes/DEG_SEQS.fasta'"
   ]
  },
  {
   "cell_type": "code",
   "execution_count": null,
   "metadata": {},
   "outputs": [],
   "source": [
    "df = pd.read_csv('data/res/iwgsc_4_2_19/sRNA_DEG_mirbase.csv', sep='\\t')\n",
    "df.head()"
   ]
  },
  {
   "cell_type": "code",
   "execution_count": null,
   "metadata": {},
   "outputs": [
    {
     "name": "stdout",
     "output_type": "stream",
     "text": [
      "16459\n",
      "0\n",
      "1\n",
      "2\n",
      "3\n",
      "4\n",
      "5\n",
      "6\n",
      "7\n",
      "8\n",
      "9\n",
      "10\n",
      "11\n",
      "12\n",
      "13\n",
      "14\n",
      "15\n",
      "16\n",
      "17\n",
      "18\n",
      "19\n",
      "20\n",
      "21\n",
      "22\n",
      "23\n",
      "24\n",
      "25\n",
      "26\n",
      "27\n",
      "28\n",
      "29\n",
      "30\n",
      "31\n",
      "32\n",
      "33\n",
      "34\n",
      "35\n",
      "36\n",
      "37\n",
      "38\n",
      "39\n",
      "40\n",
      "41\n",
      "42\n",
      "43\n",
      "44\n",
      "45\n",
      "46\n",
      "47\n",
      "48\n",
      "49\n",
      "50\n",
      "51\n",
      "52\n",
      "53\n",
      "54\n",
      "55\n",
      "56\n",
      "57\n",
      "58\n",
      "59\n",
      "60\n",
      "61\n",
      "62\n",
      "63\n"
     ]
    }
   ],
   "source": [
    "#search targets\n",
    "out_file = open(\"data/res/iwgsc_4_2_19/targets_cdna.csv\",\"w\")\n",
    "print(len(df.index))\n",
    "out_total = ''\n",
    "for k,v in df.iterrows():\n",
    "    print(k,)\n",
    "    if 'N' in v.seq:\n",
    "        continue\n",
    "    cmd_list = ['perl', path_target_finder,'-s',v.seq,'-q',v.Gene,'-d',target_seqs,'-p','table']\n",
    "#    print(' '.join(cmd_list))\n",
    "    pro = Popen(cmd_list, stdout=PIPE, stderr=PIPE)\n",
    "    out,err = pro.communicate()\n",
    "#    out = str(out)\n",
    "#    err = str(err)\n",
    "#    print(out,err)\n",
    "    if b\"No results for\" in out:\n",
    "        continue\n",
    "#    out_total += out.decode(\"utf-8\") \n",
    "    out_file.write(out.decode(\"utf-8\") )\n",
    "out_file.close()\n",
    "#os.system('grep -v \"No results for\" targets.csv > targets.clean.csv')"
   ]
  },
  {
   "cell_type": "code",
   "execution_count": 25,
   "metadata": {},
   "outputs": [],
   "source": []
  },
  {
   "cell_type": "code",
   "execution_count": null,
   "metadata": {},
   "outputs": [],
   "source": []
  }
 ],
 "metadata": {
  "kernelspec": {
   "display_name": "Python 3",
   "language": "python",
   "name": "python3"
  },
  "language_info": {
   "codemirror_mode": {
    "name": "ipython",
    "version": 3
   },
   "file_extension": ".py",
   "mimetype": "text/x-python",
   "name": "python",
   "nbconvert_exporter": "python",
   "pygments_lexer": "ipython3",
   "version": "3.6.5"
  }
 },
 "nbformat": 4,
 "nbformat_minor": 2
}
