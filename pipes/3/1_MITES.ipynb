{
 "cells": [
  {
   "cell_type": "code",
   "execution_count": 38,
   "metadata": {},
   "outputs": [],
   "source": [
    "import pandas as pd"
   ]
  },
  {
   "cell_type": "code",
   "execution_count": 39,
   "metadata": {},
   "outputs": [],
   "source": [
    "file_all_tes = '../../data/TEs/all.gff3'\n",
    "file_all_mite = '../../data/TEs/all_filter_mite.gff3'\n",
    "file_ann = '../../data/genome/annotations/introns.gff3'"
   ]
  },
  {
   "cell_type": "code",
   "execution_count": 40,
   "metadata": {},
   "outputs": [
    {
     "name": "stderr",
     "output_type": "stream",
     "text": [
      "/home/juan/Desktop/juan/bio/venv/lib/python3.6/site-packages/IPython/core/interactiveshell.py:2785: DtypeWarning: Columns (3,4) have mixed types. Specify dtype option on import or set low_memory=False.\n",
      "  interactivity=interactivity, compiler=compiler, result=result)\n"
     ]
    }
   ],
   "source": [
    "df = pd.read_csv(file_all_tes, index_col=False, sep='\\t', comment='#', header=None)\n",
    "df.columns = ['seqname' , 'source' , 'feature' , 'start' , 'end' , 'score' , 'strand' , 'frame' , 'attribute']\n"
   ]
  },
  {
   "cell_type": "code",
   "execution_count": 41,
   "metadata": {},
   "outputs": [
    {
     "name": "stdout",
     "output_type": "stream",
     "text": [
      "1745371\n"
     ]
    }
   ],
   "source": [
    "print(len(df.index))"
   ]
  },
  {
   "cell_type": "code",
   "execution_count": 42,
   "metadata": {},
   "outputs": [
    {
     "data": {
      "text/html": [
       "<div>\n",
       "<style scoped>\n",
       "    .dataframe tbody tr th:only-of-type {\n",
       "        vertical-align: middle;\n",
       "    }\n",
       "\n",
       "    .dataframe tbody tr th {\n",
       "        vertical-align: top;\n",
       "    }\n",
       "\n",
       "    .dataframe thead th {\n",
       "        text-align: right;\n",
       "    }\n",
       "</style>\n",
       "<table border=\"1\" class=\"dataframe\">\n",
       "  <thead>\n",
       "    <tr style=\"text-align: right;\">\n",
       "      <th></th>\n",
       "      <th>seqname</th>\n",
       "      <th>source</th>\n",
       "      <th>feature</th>\n",
       "      <th>start</th>\n",
       "      <th>end</th>\n",
       "      <th>score</th>\n",
       "      <th>strand</th>\n",
       "      <th>frame</th>\n",
       "      <th>attribute</th>\n",
       "    </tr>\n",
       "  </thead>\n",
       "  <tbody>\n",
       "    <tr>\n",
       "      <th>0</th>\n",
       "      <td>1A</td>\n",
       "      <td>TE</td>\n",
       "      <td>TE</td>\n",
       "      <td>77566</td>\n",
       "      <td>78177</td>\n",
       "      <td>.</td>\n",
       "      <td>+</td>\n",
       "      <td>.</td>\n",
       "      <td>MITE_T_122702|chr2B|476704370|476705072|AT|10|...</td>\n",
       "    </tr>\n",
       "    <tr>\n",
       "      <th>1</th>\n",
       "      <td>1A</td>\n",
       "      <td>TE</td>\n",
       "      <td>TE</td>\n",
       "      <td>86285</td>\n",
       "      <td>86766</td>\n",
       "      <td>.</td>\n",
       "      <td>+</td>\n",
       "      <td>.</td>\n",
       "      <td>MITE_T_126801|chr7B|78567635|78568204|CTTCCCT|...</td>\n",
       "    </tr>\n",
       "    <tr>\n",
       "      <th>2</th>\n",
       "      <td>1A</td>\n",
       "      <td>TE</td>\n",
       "      <td>TE</td>\n",
       "      <td>213867</td>\n",
       "      <td>214194</td>\n",
       "      <td>.</td>\n",
       "      <td>+</td>\n",
       "      <td>.</td>\n",
       "      <td>MITE_T_8262|chr5A|273309274|273309638|TA|373|F468</td>\n",
       "    </tr>\n",
       "    <tr>\n",
       "      <th>3</th>\n",
       "      <td>1A</td>\n",
       "      <td>TE</td>\n",
       "      <td>TE</td>\n",
       "      <td>219804</td>\n",
       "      <td>220469</td>\n",
       "      <td>.</td>\n",
       "      <td>+</td>\n",
       "      <td>.</td>\n",
       "      <td>MITE_T_82582|chr3D|312088827|312089549|AT|18|F...</td>\n",
       "    </tr>\n",
       "  </tbody>\n",
       "</table>\n",
       "</div>"
      ],
      "text/plain": [
       "  seqname source feature   start     end score strand frame  \\\n",
       "0      1A     TE      TE   77566   78177     .      +     .   \n",
       "1      1A     TE      TE   86285   86766     .      +     .   \n",
       "2      1A     TE      TE  213867  214194     .      +     .   \n",
       "3      1A     TE      TE  219804  220469     .      +     .   \n",
       "\n",
       "                                           attribute  \n",
       "0  MITE_T_122702|chr2B|476704370|476705072|AT|10|...  \n",
       "1  MITE_T_126801|chr7B|78567635|78568204|CTTCCCT|...  \n",
       "2  MITE_T_8262|chr5A|273309274|273309638|TA|373|F468  \n",
       "3  MITE_T_82582|chr3D|312088827|312089549|AT|18|F...  "
      ]
     },
     "execution_count": 42,
     "metadata": {},
     "output_type": "execute_result"
    }
   ],
   "source": [
    "df.head(4)"
   ]
  },
  {
   "cell_type": "code",
   "execution_count": 43,
   "metadata": {},
   "outputs": [],
   "source": [
    "df = df[(df.attribute.str.startswith('MITE')) | (df.attribute.str.startswith('DT'))]"
   ]
  },
  {
   "cell_type": "code",
   "execution_count": 44,
   "metadata": {},
   "outputs": [
    {
     "name": "stdout",
     "output_type": "stream",
     "text": [
      "1222547\n"
     ]
    }
   ],
   "source": [
    "print(len(df.index))"
   ]
  },
  {
   "cell_type": "code",
   "execution_count": 60,
   "metadata": {},
   "outputs": [
    {
     "data": {
      "text/html": [
       "<div>\n",
       "<style scoped>\n",
       "    .dataframe tbody tr th:only-of-type {\n",
       "        vertical-align: middle;\n",
       "    }\n",
       "\n",
       "    .dataframe tbody tr th {\n",
       "        vertical-align: top;\n",
       "    }\n",
       "\n",
       "    .dataframe thead th {\n",
       "        text-align: right;\n",
       "    }\n",
       "</style>\n",
       "<table border=\"1\" class=\"dataframe\">\n",
       "  <thead>\n",
       "    <tr style=\"text-align: right;\">\n",
       "      <th></th>\n",
       "      <th>index</th>\n",
       "      <th>seqname</th>\n",
       "      <th>source</th>\n",
       "      <th>feature</th>\n",
       "      <th>start</th>\n",
       "      <th>end</th>\n",
       "      <th>score</th>\n",
       "      <th>strand</th>\n",
       "      <th>frame</th>\n",
       "      <th>attribute</th>\n",
       "    </tr>\n",
       "  </thead>\n",
       "  <tbody>\n",
       "    <tr>\n",
       "      <th>0</th>\n",
       "      <td>0</td>\n",
       "      <td>1A</td>\n",
       "      <td>TE</td>\n",
       "      <td>exon</td>\n",
       "      <td>77566</td>\n",
       "      <td>78177</td>\n",
       "      <td>.</td>\n",
       "      <td>+</td>\n",
       "      <td>.</td>\n",
       "      <td>MITE_T_122702|chr2B|476704370|476705072|AT|10|...</td>\n",
       "    </tr>\n",
       "    <tr>\n",
       "      <th>1</th>\n",
       "      <td>1</td>\n",
       "      <td>1A</td>\n",
       "      <td>TE</td>\n",
       "      <td>intron</td>\n",
       "      <td>86285</td>\n",
       "      <td>86766</td>\n",
       "      <td>.</td>\n",
       "      <td>+</td>\n",
       "      <td>.</td>\n",
       "      <td>MITE_T_126801|chr7B|78567635|78568204|CTTCCCT|...</td>\n",
       "    </tr>\n",
       "    <tr>\n",
       "      <th>2</th>\n",
       "      <td>2</td>\n",
       "      <td>1A</td>\n",
       "      <td>TE</td>\n",
       "      <td></td>\n",
       "      <td>213867</td>\n",
       "      <td>214194</td>\n",
       "      <td>.</td>\n",
       "      <td>+</td>\n",
       "      <td>.</td>\n",
       "      <td>MITE_T_8262|chr5A|273309274|273309638|TA|373|F468</td>\n",
       "    </tr>\n",
       "    <tr>\n",
       "      <th>3</th>\n",
       "      <td>3</td>\n",
       "      <td>1A</td>\n",
       "      <td>TE</td>\n",
       "      <td></td>\n",
       "      <td>219804</td>\n",
       "      <td>220469</td>\n",
       "      <td>.</td>\n",
       "      <td>+</td>\n",
       "      <td>.</td>\n",
       "      <td>MITE_T_82582|chr3D|312088827|312089549|AT|18|F...</td>\n",
       "    </tr>\n",
       "  </tbody>\n",
       "</table>\n",
       "</div>"
      ],
      "text/plain": [
       "   index seqname source feature   start     end score strand frame  \\\n",
       "0      0      1A     TE    exon   77566   78177     .      +     .   \n",
       "1      1      1A     TE  intron   86285   86766     .      +     .   \n",
       "2      2      1A     TE          213867  214194     .      +     .   \n",
       "3      3      1A     TE          219804  220469     .      +     .   \n",
       "\n",
       "                                           attribute  \n",
       "0  MITE_T_122702|chr2B|476704370|476705072|AT|10|...  \n",
       "1  MITE_T_126801|chr7B|78567635|78568204|CTTCCCT|...  \n",
       "2  MITE_T_8262|chr5A|273309274|273309638|TA|373|F468  \n",
       "3  MITE_T_82582|chr3D|312088827|312089549|AT|18|F...  "
      ]
     },
     "execution_count": 60,
     "metadata": {},
     "output_type": "execute_result"
    }
   ],
   "source": [
    "df.head(4)"
   ]
  },
  {
   "cell_type": "code",
   "execution_count": 57,
   "metadata": {},
   "outputs": [],
   "source": [
    "df.reset_index(inplace=True)"
   ]
  },
  {
   "cell_type": "code",
   "execution_count": 58,
   "metadata": {},
   "outputs": [],
   "source": [
    "df.to_csv(file_all_mite, sep='\\t', index=None, header=None)"
   ]
  },
  {
   "cell_type": "code",
   "execution_count": null,
   "metadata": {},
   "outputs": [],
   "source": []
  },
  {
   "cell_type": "code",
   "execution_count": 51,
   "metadata": {},
   "outputs": [],
   "source": [
    "df_ann = pd.read_csv(file_ann, index_col=False, sep='\\t', comment='#', header=None)\n",
    "df_ann.columns = ['seqname' , 'source' , 'feature' , 'start' , 'end' , 'score' , 'strand' , 'frame' , 'attribute']\n"
   ]
  },
  {
   "cell_type": "code",
   "execution_count": 52,
   "metadata": {},
   "outputs": [
    {
     "name": "stdout",
     "output_type": "stream",
     "text": [
      "2573233\n"
     ]
    }
   ],
   "source": [
    "print(len(df_ann.index))"
   ]
  },
  {
   "cell_type": "code",
   "execution_count": 53,
   "metadata": {},
   "outputs": [],
   "source": [
    "df_ann = df_ann[\n",
    "    (df_ann.feature == 'intron') | \n",
    "    (df_ann.feature == 'exon') | \n",
    "    (df_ann.feature == 'three_prime_UTR') | \n",
    "    (df_ann.feature == 'five_prime_UTR')]"
   ]
  },
  {
   "cell_type": "code",
   "execution_count": 54,
   "metadata": {},
   "outputs": [
    {
     "name": "stdout",
     "output_type": "stream",
     "text": [
      "1593666\n"
     ]
    }
   ],
   "source": [
    "print(len(df_ann.index))"
   ]
  },
  {
   "cell_type": "code",
   "execution_count": null,
   "metadata": {},
   "outputs": [],
   "source": []
  },
  {
   "cell_type": "code",
   "execution_count": null,
   "metadata": {},
   "outputs": [
    {
     "name": "stdout",
     "output_type": "stream",
     "text": [
      "0\n"
     ]
    }
   ],
   "source": [
    "howfar = 200\n",
    "df['feature'] = ''\n",
    "rows = []\n",
    "for k_mite, v_mite in df.iterrows():\n",
    "    if k_mite % 100 == 0:\n",
    "        print(k_mite)\n",
    "    for k_feature,v_feature in df_ann[df_ann.seqname == v_mite.seqname].iterrows():\n",
    "        start = max(int(v_feature.start) - howfar, 0)\n",
    "        end = int(v_feature.end) + howfar\n",
    "        #overlaps with gene\n",
    "        if int(v_mite.end) >= start and v_mite.start <= end:\n",
    "            df.at[k_mite, 'feature'] = v_feature.feature"
   ]
  },
  {
   "cell_type": "code",
   "execution_count": null,
   "metadata": {},
   "outputs": [],
   "source": []
  },
  {
   "cell_type": "code",
   "execution_count": null,
   "metadata": {},
   "outputs": [],
   "source": []
  },
  {
   "cell_type": "code",
   "execution_count": null,
   "metadata": {},
   "outputs": [],
   "source": []
  }
 ],
 "metadata": {
  "kernelspec": {
   "display_name": "Python 3",
   "language": "python",
   "name": "python3"
  },
  "language_info": {
   "codemirror_mode": {
    "name": "ipython",
    "version": 3
   },
   "file_extension": ".py",
   "mimetype": "text/x-python",
   "name": "python",
   "nbconvert_exporter": "python",
   "pygments_lexer": "ipython3",
   "version": "3.6.5"
  }
 },
 "nbformat": 4,
 "nbformat_minor": 2
}
