{
 "cells": [
  {
   "cell_type": "code",
   "execution_count": 1,
   "metadata": {},
   "outputs": [],
   "source": [
    "import pandas as pd\n",
    "import matplotlib.pyplot as plt\n",
    "import seaborn as sns\n",
    "import pandas as pd\n",
    "from Bio import SeqIO\n",
    "from Bio.SeqRecord import SeqRecord\n",
    "from Bio.Seq import Seq\n",
    "from subprocess import Popen, PIPE, call"
   ]
  },
  {
   "cell_type": "code",
   "execution_count": null,
   "metadata": {},
   "outputs": [],
   "source": []
  },
  {
   "cell_type": "code",
   "execution_count": 2,
   "metadata": {},
   "outputs": [],
   "source": [
    "#loci_nt\n",
    "path_all_all = '/home/juan/Desktop/juan/bio/mrcv/data/ss/all_all/'\n",
    "path_all_21 = '/home/juan/Desktop/juan/bio/mrcv/data/ss/all_21nt/'\n",
    "path_mite_all = '/home/juan/Desktop/juan/bio/mrcv/data/ss/mite_all/'\n",
    "path_mite_21 = '/home/juan/Desktop/juan/bio/mrcv/data/ss/mite_21/'\n",
    "\n",
    "#mirbase\n",
    "path_mite_21_seqs = '/home/juan/Desktop/juan/bio/mrcv/data/ss/mite_21/mir.Y.fasta'\n",
    "path_mirbase = '/home/juan/Desktop/juan/bio/mrcv/data/ss/mite_21/mir.Y.mirbase.csv'\n",
    "\n",
    "#annotations\n",
    "file_ann = '/home/juan/Desktop/juan/bio/mrcv/data/genome/annotations/introns.gff3'\n",
    "file_ann_promoters = '/home/juan/Desktop/juan/bio/mrcv/data/genome/annotations/promoters.gff3'"
   ]
  },
  {
   "cell_type": "code",
   "execution_count": 53,
   "metadata": {},
   "outputs": [],
   "source": [
    "#loci_nt\n",
    "path_all_all = '/home/juan/Desktop/juan/bio/mrcv/data/ss_temp/all_all/'\n",
    "path_all_21 = '/home/juan/Desktop/juan/bio/mrcv/data/ss_temp/all_21/'\n",
    "path_mite_all = '/home/juan/Desktop/juan/bio/mrcv/data/ss_temp/mite_all/'\n",
    "path_mite_21 = '/home/juan/Desktop/juan/bio/mrcv/data/ss_temp/mite_21/'\n",
    "\n",
    "#mirbase\n",
    "path_mite_21_seqs = '/home/juan/Desktop/juan/bio/mrcv/data/ss_temp/mite_21/mir.Y.fasta'\n",
    "path_mirbase = '/home/juan/Desktop/juan/bio/mrcv/data/ss_temp/mite_21/mir.Y.mirbase.csv'\n",
    "\n",
    "#annotations\n",
    "file_ann = '/home/juan/Desktop/juan/bio/mrcv/data/genome/annotations/introns.gff3'\n",
    "file_ann_promoters = '/home/juan/Desktop/juan/bio/mrcv/data/genome/annotations/promoters.gff3'\n",
    "\n",
    "#MITEs\n",
    "path_mites = '/home/juan/Desktop/juan/bio/mrcv/data/genome/annotations/all_filter_mite.gff3'\n",
    "path_locifile = '/home/juan/Desktop/juan/bio/mrcv/data/genome/locifiles/mitesall.locifile.csv'\n"
   ]
  },
  {
   "cell_type": "code",
   "execution_count": 54,
   "metadata": {},
   "outputs": [
    {
     "ename": "ValueError",
     "evalue": "Length mismatch: Expected axis has 10 elements, new values have 9 elements",
     "output_type": "error",
     "traceback": [
      "\u001b[0;31m---------------------------------------------------------------------------\u001b[0m",
      "\u001b[0;31mValueError\u001b[0m                                Traceback (most recent call last)",
      "\u001b[0;32m<ipython-input-54-b47224214483>\u001b[0m in \u001b[0;36m<module>\u001b[0;34m()\u001b[0m\n\u001b[1;32m      1\u001b[0m \u001b[0;31m#make locifile\u001b[0m\u001b[0;34m\u001b[0m\u001b[0;34m\u001b[0m\u001b[0;34m\u001b[0m\u001b[0m\n\u001b[1;32m      2\u001b[0m \u001b[0mdf_mites\u001b[0m \u001b[0;34m=\u001b[0m \u001b[0mpd\u001b[0m\u001b[0;34m.\u001b[0m\u001b[0mread_csv\u001b[0m\u001b[0;34m(\u001b[0m\u001b[0mpath_mites\u001b[0m\u001b[0;34m,\u001b[0m \u001b[0msep\u001b[0m\u001b[0;34m=\u001b[0m\u001b[0;34m'\\t'\u001b[0m\u001b[0;34m)\u001b[0m\u001b[0;34m\u001b[0m\u001b[0;34m\u001b[0m\u001b[0m\n\u001b[0;32m----> 3\u001b[0;31m \u001b[0mdf_mites\u001b[0m\u001b[0;34m.\u001b[0m\u001b[0mcolumns\u001b[0m \u001b[0;34m=\u001b[0m \u001b[0;34m[\u001b[0m\u001b[0;34m'seqname'\u001b[0m \u001b[0;34m,\u001b[0m \u001b[0;34m'source'\u001b[0m \u001b[0;34m,\u001b[0m \u001b[0;34m'feature'\u001b[0m \u001b[0;34m,\u001b[0m \u001b[0;34m'start'\u001b[0m \u001b[0;34m,\u001b[0m \u001b[0;34m'end'\u001b[0m \u001b[0;34m,\u001b[0m \u001b[0;34m'score'\u001b[0m \u001b[0;34m,\u001b[0m \u001b[0;34m'strand'\u001b[0m \u001b[0;34m,\u001b[0m \u001b[0;34m'frame'\u001b[0m \u001b[0;34m,\u001b[0m \u001b[0;34m'attribute'\u001b[0m\u001b[0;34m]\u001b[0m\u001b[0;34m\u001b[0m\u001b[0;34m\u001b[0m\u001b[0m\n\u001b[0m\u001b[1;32m      4\u001b[0m \u001b[0mdf_mites\u001b[0m\u001b[0;34m[\u001b[0m\u001b[0;34m'locifile_position'\u001b[0m\u001b[0;34m]\u001b[0m \u001b[0;34m=\u001b[0m \u001b[0mdf_mites\u001b[0m\u001b[0;34m.\u001b[0m\u001b[0mseqname\u001b[0m \u001b[0;34m+\u001b[0m \u001b[0;34m':'\u001b[0m \u001b[0;34m+\u001b[0m \u001b[0mdf_mites\u001b[0m\u001b[0;34m.\u001b[0m\u001b[0mstart\u001b[0m\u001b[0;34m.\u001b[0m\u001b[0mastype\u001b[0m\u001b[0;34m(\u001b[0m\u001b[0mstr\u001b[0m\u001b[0;34m)\u001b[0m \u001b[0;34m+\u001b[0m \u001b[0;34m'-'\u001b[0m \u001b[0;34m+\u001b[0m \u001b[0mdf_mites\u001b[0m\u001b[0;34m.\u001b[0m\u001b[0mend\u001b[0m\u001b[0;34m.\u001b[0m\u001b[0mastype\u001b[0m\u001b[0;34m(\u001b[0m\u001b[0mstr\u001b[0m\u001b[0;34m)\u001b[0m\u001b[0;34m\u001b[0m\u001b[0;34m\u001b[0m\u001b[0m\n\u001b[1;32m      5\u001b[0m \u001b[0mdf_save\u001b[0m \u001b[0;34m=\u001b[0m \u001b[0mdf_res\u001b[0m\u001b[0;34m[\u001b[0m\u001b[0;34m[\u001b[0m\u001b[0;34m'locifile_position'\u001b[0m\u001b[0;34m,\u001b[0m\u001b[0;34m'attribute'\u001b[0m\u001b[0;34m]\u001b[0m\u001b[0;34m]\u001b[0m\u001b[0;34m\u001b[0m\u001b[0;34m\u001b[0m\u001b[0m\n",
      "\u001b[0;32m~/Desktop/juan/bio/venv/lib/python3.6/site-packages/pandas/core/generic.py\u001b[0m in \u001b[0;36m__setattr__\u001b[0;34m(self, name, value)\u001b[0m\n\u001b[1;32m   4387\u001b[0m         \u001b[0;32mtry\u001b[0m\u001b[0;34m:\u001b[0m\u001b[0;34m\u001b[0m\u001b[0;34m\u001b[0m\u001b[0m\n\u001b[1;32m   4388\u001b[0m             \u001b[0mobject\u001b[0m\u001b[0;34m.\u001b[0m\u001b[0m__getattribute__\u001b[0m\u001b[0;34m(\u001b[0m\u001b[0mself\u001b[0m\u001b[0;34m,\u001b[0m \u001b[0mname\u001b[0m\u001b[0;34m)\u001b[0m\u001b[0;34m\u001b[0m\u001b[0;34m\u001b[0m\u001b[0m\n\u001b[0;32m-> 4389\u001b[0;31m             \u001b[0;32mreturn\u001b[0m \u001b[0mobject\u001b[0m\u001b[0;34m.\u001b[0m\u001b[0m__setattr__\u001b[0m\u001b[0;34m(\u001b[0m\u001b[0mself\u001b[0m\u001b[0;34m,\u001b[0m \u001b[0mname\u001b[0m\u001b[0;34m,\u001b[0m \u001b[0mvalue\u001b[0m\u001b[0;34m)\u001b[0m\u001b[0;34m\u001b[0m\u001b[0;34m\u001b[0m\u001b[0m\n\u001b[0m\u001b[1;32m   4390\u001b[0m         \u001b[0;32mexcept\u001b[0m \u001b[0mAttributeError\u001b[0m\u001b[0;34m:\u001b[0m\u001b[0;34m\u001b[0m\u001b[0;34m\u001b[0m\u001b[0m\n\u001b[1;32m   4391\u001b[0m             \u001b[0;32mpass\u001b[0m\u001b[0;34m\u001b[0m\u001b[0;34m\u001b[0m\u001b[0m\n",
      "\u001b[0;32mpandas/_libs/properties.pyx\u001b[0m in \u001b[0;36mpandas._libs.properties.AxisProperty.__set__\u001b[0;34m()\u001b[0m\n",
      "\u001b[0;32m~/Desktop/juan/bio/venv/lib/python3.6/site-packages/pandas/core/generic.py\u001b[0m in \u001b[0;36m_set_axis\u001b[0;34m(self, axis, labels)\u001b[0m\n\u001b[1;32m    644\u001b[0m \u001b[0;34m\u001b[0m\u001b[0m\n\u001b[1;32m    645\u001b[0m     \u001b[0;32mdef\u001b[0m \u001b[0m_set_axis\u001b[0m\u001b[0;34m(\u001b[0m\u001b[0mself\u001b[0m\u001b[0;34m,\u001b[0m \u001b[0maxis\u001b[0m\u001b[0;34m,\u001b[0m \u001b[0mlabels\u001b[0m\u001b[0;34m)\u001b[0m\u001b[0;34m:\u001b[0m\u001b[0;34m\u001b[0m\u001b[0;34m\u001b[0m\u001b[0m\n\u001b[0;32m--> 646\u001b[0;31m         \u001b[0mself\u001b[0m\u001b[0;34m.\u001b[0m\u001b[0m_data\u001b[0m\u001b[0;34m.\u001b[0m\u001b[0mset_axis\u001b[0m\u001b[0;34m(\u001b[0m\u001b[0maxis\u001b[0m\u001b[0;34m,\u001b[0m \u001b[0mlabels\u001b[0m\u001b[0;34m)\u001b[0m\u001b[0;34m\u001b[0m\u001b[0;34m\u001b[0m\u001b[0m\n\u001b[0m\u001b[1;32m    647\u001b[0m         \u001b[0mself\u001b[0m\u001b[0;34m.\u001b[0m\u001b[0m_clear_item_cache\u001b[0m\u001b[0;34m(\u001b[0m\u001b[0;34m)\u001b[0m\u001b[0;34m\u001b[0m\u001b[0;34m\u001b[0m\u001b[0m\n\u001b[1;32m    648\u001b[0m \u001b[0;34m\u001b[0m\u001b[0m\n",
      "\u001b[0;32m~/Desktop/juan/bio/venv/lib/python3.6/site-packages/pandas/core/internals.py\u001b[0m in \u001b[0;36mset_axis\u001b[0;34m(self, axis, new_labels)\u001b[0m\n\u001b[1;32m   3321\u001b[0m             raise ValueError(\n\u001b[1;32m   3322\u001b[0m                 \u001b[0;34m'Length mismatch: Expected axis has {old} elements, new '\u001b[0m\u001b[0;34m\u001b[0m\u001b[0;34m\u001b[0m\u001b[0m\n\u001b[0;32m-> 3323\u001b[0;31m                 'values have {new} elements'.format(old=old_len, new=new_len))\n\u001b[0m\u001b[1;32m   3324\u001b[0m \u001b[0;34m\u001b[0m\u001b[0m\n\u001b[1;32m   3325\u001b[0m         \u001b[0mself\u001b[0m\u001b[0;34m.\u001b[0m\u001b[0maxes\u001b[0m\u001b[0;34m[\u001b[0m\u001b[0maxis\u001b[0m\u001b[0;34m]\u001b[0m \u001b[0;34m=\u001b[0m \u001b[0mnew_labels\u001b[0m\u001b[0;34m\u001b[0m\u001b[0;34m\u001b[0m\u001b[0m\n",
      "\u001b[0;31mValueError\u001b[0m: Length mismatch: Expected axis has 10 elements, new values have 9 elements"
     ]
    }
   ],
   "source": [
    "#make locifile\n",
    "df_mites = pd.read_csv(path_mites, sep='\\t')\n",
    "df_mites.columns = ['seqname' , 'source' , 'feature' , 'start' , 'end' , 'score' , 'strand' , 'frame' , 'attribute']\n",
    "df_mites['locifile_position'] = df_mites.seqname + ':' + df_mites.start.astype(str) + '-' + df_mites.end.astype(str)\n",
    "df_save = df_res[['locifile_position','attribute']]\n",
    "df_save.to_csv(path_locifile, header=None, index=None,sep='\\t')"
   ]
  },
  {
   "cell_type": "code",
   "execution_count": null,
   "metadata": {},
   "outputs": [],
   "source": []
  },
  {
   "cell_type": "code",
   "execution_count": 4,
   "metadata": {},
   "outputs": [
    {
     "name": "stdout",
     "output_type": "stream",
     "text": [
      "all_all total clusters: 38496\n"
     ]
    },
    {
     "data": {
      "text/plain": [
       "<matplotlib.axes._subplots.AxesSubplot at 0x7fa6bd4a6eb8>"
      ]
     },
     "execution_count": 4,
     "metadata": {},
     "output_type": "execute_result"
    },
    {
     "data": {
      "image/png": "[encoded data removed]",
      "text/plain": [
       "<Figure size 432x288 with 1 Axes>"
      ]
     },
     "metadata": {
      "needs_background": "light"
     },
     "output_type": "display_data"
    }
   ],
   "source": [
    "df_all_all = pd.read_csv(path_all_all + 'Results.txt', sep='\\t')\n",
    "print('all_all clusters: ' + str(len(df_all_all.index)))\n",
    "df_all_all.MIRNA.value_counts().plot('bar')\n"
   ]
  },
  {
   "cell_type": "code",
   "execution_count": 5,
   "metadata": {},
   "outputs": [
    {
     "name": "stdout",
     "output_type": "stream",
     "text": [
      "all_all total miRNA 139\n"
     ]
    }
   ],
   "source": [
    "df_all_all = df_all_all[df_all_all.MIRNA == 'Y']\n",
    "print('all_all miRNA: ' + str(len(df_all_all.index)))\n"
   ]
  },
  {
   "cell_type": "code",
   "execution_count": null,
   "metadata": {},
   "outputs": [],
   "source": []
  },
  {
   "cell_type": "code",
   "execution_count": null,
   "metadata": {},
   "outputs": [],
   "source": []
  },
  {
   "cell_type": "code",
   "execution_count": 6,
   "metadata": {},
   "outputs": [
    {
     "name": "stdout",
     "output_type": "stream",
     "text": [
      "all_21 clusters 33556\n"
     ]
    },
    {
     "data": {
      "image/png": "[encoded data removed]",
      "text/plain": [
       "<Figure size 432x288 with 1 Axes>"
      ]
     },
     "metadata": {
      "needs_background": "light"
     },
     "output_type": "display_data"
    }
   ],
   "source": [
    "df_all_21 = pd.read_csv(path_all_21 + 'Results.txt', sep='\\t')\n",
    "df_all_21.MIRNA.value_counts().plot('bar')\n",
    "print('all_21 clusters ' + str(len(df_all_21.index)))"
   ]
  },
  {
   "cell_type": "code",
   "execution_count": 7,
   "metadata": {},
   "outputs": [
    {
     "name": "stdout",
     "output_type": "stream",
     "text": [
      "all_21 miRNA: 212\n"
     ]
    }
   ],
   "source": [
    "df_all_21 = df_all_21[df_all_21.MIRNA == 'Y']\n",
    "print('all_21 miRNA: ' + str(len(df_all_21.index)))"
   ]
  },
  {
   "cell_type": "code",
   "execution_count": null,
   "metadata": {},
   "outputs": [],
   "source": []
  },
  {
   "cell_type": "code",
   "execution_count": 8,
   "metadata": {},
   "outputs": [
    {
     "name": "stdout",
     "output_type": "stream",
     "text": [
      "MITEs all clusters: 1203406\n"
     ]
    },
    {
     "data": {
      "image/png": "[encoded data removed]",
      "text/plain": [
       "<Figure size 432x288 with 1 Axes>"
      ]
     },
     "metadata": {
      "needs_background": "light"
     },
     "output_type": "display_data"
    }
   ],
   "source": [
    "df_mite_all = pd.read_csv(path_mite_all + 'Results.txt', sep='\\t')\n",
    "df_mite_all.MIRNA.value_counts().plot('bar')\n",
    "print('MITEs all clusters: ' + str(len(df_mite_all.index)))"
   ]
  },
  {
   "cell_type": "code",
   "execution_count": 9,
   "metadata": {},
   "outputs": [
    {
     "name": "stdout",
     "output_type": "stream",
     "text": [
      "MITEs all miRNA: 45\n"
     ]
    }
   ],
   "source": [
    "df_mite_all = df_mite_all[df_mite_all.MIRNA == 'Y']\n",
    "print('MITEs all miRNA: ' + str(len(df_mite_all.index)))\n",
    "df_mite_all.to_csv(path_mite_all + 'Results.valid.csv', sep='\\t', index=None)"
   ]
  },
  {
   "cell_type": "code",
   "execution_count": null,
   "metadata": {},
   "outputs": [],
   "source": []
  },
  {
   "cell_type": "code",
   "execution_count": 13,
   "metadata": {},
   "outputs": [
    {
     "name": "stdout",
     "output_type": "stream",
     "text": [
      "MITEs 21 clusters: 1203406\n"
     ]
    },
    {
     "data": {
      "image/png": "[encoded data removed]",
      "text/plain": [
       "<Figure size 432x288 with 1 Axes>"
      ]
     },
     "metadata": {
      "needs_background": "light"
     },
     "output_type": "display_data"
    }
   ],
   "source": [
    "df_mite_21 = pd.read_csv(path_mite_21 + 'Results.txt', sep='\\t')\n",
    "df_mite_21.MIRNA.value_counts().plot('bar')\n",
    "print('MITEs 21 clusters: ' + str(len(df_mite_21.index)))"
   ]
  },
  {
   "cell_type": "code",
   "execution_count": 14,
   "metadata": {},
   "outputs": [
    {
     "name": "stdout",
     "output_type": "stream",
     "text": [
      "MITEs 21 miRNA: 93\n"
     ]
    }
   ],
   "source": [
    "df_mite_21 = df_mite_21[df_mite_21.MIRNA == 'Y']\n",
    "print('MITEs 21 miRNA: ' + str(len(df_mite_21.index)))"
   ]
  },
  {
   "cell_type": "code",
   "execution_count": null,
   "metadata": {},
   "outputs": [],
   "source": []
  },
  {
   "cell_type": "code",
   "execution_count": 15,
   "metadata": {},
   "outputs": [],
   "source": [
    "#all miRNA and MITEs"
   ]
  },
  {
   "cell_type": "code",
   "execution_count": 16,
   "metadata": {},
   "outputs": [
    {
     "data": {
      "text/plain": [
       "'all 6.474820143884892'"
      ]
     },
     "execution_count": 16,
     "metadata": {},
     "output_type": "execute_result"
    }
   ],
   "source": [
    "yeses = 0\n",
    "stuff = []\n",
    "total = 0\n",
    "for k, v in df_all_all.iterrows():\n",
    "    total += 1\n",
    "    seqname = v['#Locus'].split(':')[0]\n",
    "    start = v['#Locus'].split(':')[1].split('-')[0]\n",
    "    end = v['#Locus'].split(':')[1].split('-')[1]\n",
    "    ss = False\n",
    "    for k2, v2 in df_mite_all.iterrows():\n",
    "        seqname2 = v2['#Locus'].split(':')[0]\n",
    "        if seqname2 != seqname:\n",
    "            continue\n",
    "        start2 = v2['#Locus'].split(':')[1].split('-')[0]\n",
    "        end2 = v2['#Locus'].split(':')[1].split('-')[1]\n",
    "        if int(start) <= int(end2) and int(end) >= int(start2):\n",
    "            stuff_ = {}\n",
    "            stuff_['miRNA_cluster_locus'] = v['#Locus']\n",
    "            stuff_['miRNA_cluster_name'] = v['Name']\n",
    "            stuff_['MITE_miRNA_cluster_locus'] = v2['#Locus']\n",
    "            stuff_['MITE_miRNA_cluster_name'] = v2['Name']\n",
    "            stuff.append(stuff_)\n",
    "            ss = True\n",
    "            break\n",
    "    if ss:\n",
    "        yeses += 1\n",
    "'all ' + str(yeses * 100 / total)"
   ]
  },
  {
   "cell_type": "code",
   "execution_count": null,
   "metadata": {},
   "outputs": [],
   "source": []
  },
  {
   "cell_type": "code",
   "execution_count": 17,
   "metadata": {},
   "outputs": [],
   "source": [
    "#21nt miRNA and MITEs"
   ]
  },
  {
   "cell_type": "code",
   "execution_count": 18,
   "metadata": {},
   "outputs": [
    {
     "data": {
      "text/plain": [
       "17.452830188679247"
      ]
     },
     "execution_count": 18,
     "metadata": {},
     "output_type": "execute_result"
    }
   ],
   "source": [
    "yeses = 0\n",
    "stuff = []\n",
    "total = 0\n",
    "for k, v in df_all_21.iterrows():\n",
    "    total += 1\n",
    "    seqname = v['#Locus'].split(':')[0]\n",
    "    start = v['#Locus'].split(':')[1].split('-')[0]\n",
    "    end = v['#Locus'].split(':')[1].split('-')[1]\n",
    "    ss = False\n",
    "    for k2, v2 in df_mite_21.iterrows():\n",
    "        seqname2 = v2['#Locus'].split(':')[0]\n",
    "        if seqname2 != seqname:\n",
    "            continue\n",
    "        start2 = v2['#Locus'].split(':')[1].split('-')[0]\n",
    "        end2 = v2['#Locus'].split(':')[1].split('-')[1]\n",
    "        if int(start) <= int(end2) and int(end) >= int(start2):\n",
    "            stuff_ = {}\n",
    "            stuff_['miRNA_cluster_locus'] = v['#Locus']\n",
    "            stuff_['miRNA_cluster_name'] = v['Name']\n",
    "            stuff_['MITE_miRNA_cluster_locus'] = v2['#Locus']\n",
    "            stuff_['MITE_miRNA_cluster_name'] = v2['Name']\n",
    "            stuff.append(stuff_)\n",
    "            ss = True\n",
    "            break\n",
    "    if ss:\n",
    "        yeses += 1\n",
    "yeses * 100 / total"
   ]
  },
  {
   "cell_type": "code",
   "execution_count": 19,
   "metadata": {},
   "outputs": [],
   "source": [
    "#reverse"
   ]
  },
  {
   "cell_type": "code",
   "execution_count": 20,
   "metadata": {},
   "outputs": [
    {
     "data": {
      "text/plain": [
       "53.763440860215056"
      ]
     },
     "execution_count": 20,
     "metadata": {},
     "output_type": "execute_result"
    }
   ],
   "source": [
    "yeses = 0\n",
    "stuff = []\n",
    "total = 0\n",
    "for k, v in df_mite_21.iterrows():\n",
    "    total += 1\n",
    "    seqname = v['#Locus'].split(':')[0]\n",
    "    start = v['#Locus'].split(':')[1].split('-')[0]\n",
    "    end = v['#Locus'].split(':')[1].split('-')[1]\n",
    "    ss = False\n",
    "    for k2, v2 in df_all_21.iterrows():\n",
    "        seqname2 = v2['#Locus'].split(':')[0]\n",
    "        if seqname2 != seqname:\n",
    "            continue\n",
    "        start2 = v2['#Locus'].split(':')[1].split('-')[0]\n",
    "        end2 = v2['#Locus'].split(':')[1].split('-')[1]\n",
    "        if int(start) <= int(end2) and int(end) >= int(start2):\n",
    "            stuff_ = {}\n",
    "            stuff_['miRNA_cluster_locus'] = v['#Locus']\n",
    "            stuff_['miRNA_cluster_name'] = v['Name']\n",
    "            stuff_['MITE_miRNA_cluster_locus'] = v2['#Locus']\n",
    "            stuff_['MITE_miRNA_cluster_name'] = v2['Name']\n",
    "            stuff.append(stuff_)\n",
    "            ss = True\n",
    "            break\n",
    "    if ss:\n",
    "        yeses += 1\n",
    "yeses * 100 / total"
   ]
  },
  {
   "cell_type": "code",
   "execution_count": null,
   "metadata": {},
   "outputs": [],
   "source": []
  },
  {
   "cell_type": "code",
   "execution_count": 21,
   "metadata": {},
   "outputs": [],
   "source": [
    "#21 pero no en all mites"
   ]
  },
  {
   "cell_type": "code",
   "execution_count": 22,
   "metadata": {},
   "outputs": [
    {
     "data": {
      "text/plain": [
       "39.784946236559136"
      ]
     },
     "execution_count": 22,
     "metadata": {},
     "output_type": "execute_result"
    }
   ],
   "source": [
    "yeses = 0\n",
    "stuff = []\n",
    "total = 0\n",
    "for k, v in df_mite_21.iterrows():\n",
    "    total += 1\n",
    "    seqname = v['#Locus'].split(':')[0]\n",
    "    start = v['#Locus'].split(':')[1].split('-')[0]\n",
    "    end = v['#Locus'].split(':')[1].split('-')[1]\n",
    "    ss = False\n",
    "    for k2, v2 in df_mite_all.iterrows():\n",
    "        seqname2 = v2['#Locus'].split(':')[0]\n",
    "        if seqname2 != seqname:\n",
    "            continue\n",
    "        start2 = v2['#Locus'].split(':')[1].split('-')[0]\n",
    "        end2 = v2['#Locus'].split(':')[1].split('-')[1]\n",
    "        if int(start) <= int(end2) and int(end) >= int(start2):\n",
    "            stuff_ = {}\n",
    "            stuff_['miRNA_cluster_locus'] = v['#Locus']\n",
    "            stuff_['miRNA_cluster_name'] = v['Name']\n",
    "            stuff_['MITE_miRNA_cluster_locus'] = v2['#Locus']\n",
    "            stuff_['MITE_miRNA_cluster_name'] = v2['Name']\n",
    "            stuff.append(stuff_)\n",
    "            ss = True\n",
    "            break\n",
    "    if ss:\n",
    "        yeses += 1\n",
    "yeses * 100 / total"
   ]
  },
  {
   "cell_type": "code",
   "execution_count": null,
   "metadata": {},
   "outputs": [],
   "source": []
  },
  {
   "cell_type": "code",
   "execution_count": 23,
   "metadata": {},
   "outputs": [],
   "source": [
    "#mirBASE with 21"
   ]
  },
  {
   "cell_type": "code",
   "execution_count": 24,
   "metadata": {},
   "outputs": [
    {
     "data": {
      "text/plain": [
       "'/home/juan/Desktop/juan/bio/mrcv/data/ss_temp/mite_21/mir.Y.fasta'"
      ]
     },
     "execution_count": 24,
     "metadata": {},
     "output_type": "execute_result"
    }
   ],
   "source": [
    "records = []\n",
    "for k,v in df_mite_21.iterrows():\n",
    "    record = SeqRecord(Seq(v.MajorRNA), id=v['#Locus'], description=v['Name'])\n",
    "    records.append(record)\n",
    "SeqIO.write(records, path_mite_21_seqs, 'fasta')\n",
    "path_mite_21_seqs"
   ]
  },
  {
   "cell_type": "markdown",
   "metadata": {},
   "source": [
    "#blast\n",
    "blastn -task blastn -query /home/juan/Desktop/juan/bio/mrcv/data/ss_temp/mite_21/mir.Y.fasta -subject /home/juan/Desktop/juan/bio/mrcv/data/mature.fa -outfmt \"6 qseqid sseqid qstart qend sstart send mismatch gaps pident evalue length qlen slen qcovs\" > /home/juan/Desktop/juan/bio/mrcv/data/ss_temp/mite_21/mir.Y.mirbase.csv"
   ]
  },
  {
   "cell_type": "code",
   "execution_count": 25,
   "metadata": {},
   "outputs": [
    {
     "name": "stdout",
     "output_type": "stream",
     "text": [
      "2064\n"
     ]
    },
    {
     "data": {
      "text/html": [
       "<div>\n",
       "<style scoped>\n",
       "    .dataframe tbody tr th:only-of-type {\n",
       "        vertical-align: middle;\n",
       "    }\n",
       "\n",
       "    .dataframe tbody tr th {\n",
       "        vertical-align: top;\n",
       "    }\n",
       "\n",
       "    .dataframe thead th {\n",
       "        text-align: right;\n",
       "    }\n",
       "</style>\n",
       "<table border=\"1\" class=\"dataframe\">\n",
       "  <thead>\n",
       "    <tr style=\"text-align: right;\">\n",
       "      <th></th>\n",
       "      <th>qseqid</th>\n",
       "      <th>sseqid</th>\n",
       "      <th>qstart</th>\n",
       "      <th>qend</th>\n",
       "      <th>sstart</th>\n",
       "      <th>send</th>\n",
       "      <th>mismatch</th>\n",
       "      <th>gaps</th>\n",
       "      <th>pident</th>\n",
       "      <th>evalue</th>\n",
       "      <th>length</th>\n",
       "      <th>qlen</th>\n",
       "      <th>slen</th>\n",
       "      <th>qcovs</th>\n",
       "    </tr>\n",
       "  </thead>\n",
       "  <tbody>\n",
       "    <tr>\n",
       "      <th>0</th>\n",
       "      <td>1A:169645857-169646029</td>\n",
       "      <td>rno-miR-3587</td>\n",
       "      <td>5</td>\n",
       "      <td>16</td>\n",
       "      <td>7</td>\n",
       "      <td>18</td>\n",
       "      <td>0</td>\n",
       "      <td>0</td>\n",
       "      <td>100.0</td>\n",
       "      <td>0.26</td>\n",
       "      <td>12</td>\n",
       "      <td>21</td>\n",
       "      <td>21</td>\n",
       "      <td>57</td>\n",
       "    </tr>\n",
       "    <tr>\n",
       "      <th>1</th>\n",
       "      <td>1A:169645857-169646029</td>\n",
       "      <td>rno-miR-3556b</td>\n",
       "      <td>5</td>\n",
       "      <td>16</td>\n",
       "      <td>4</td>\n",
       "      <td>15</td>\n",
       "      <td>0</td>\n",
       "      <td>0</td>\n",
       "      <td>100.0</td>\n",
       "      <td>0.26</td>\n",
       "      <td>12</td>\n",
       "      <td>21</td>\n",
       "      <td>20</td>\n",
       "      <td>57</td>\n",
       "    </tr>\n",
       "  </tbody>\n",
       "</table>\n",
       "</div>"
      ],
      "text/plain": [
       "                   qseqid         sseqid  qstart  qend  sstart  send  \\\n",
       "0  1A:169645857-169646029   rno-miR-3587       5    16       7    18   \n",
       "1  1A:169645857-169646029  rno-miR-3556b       5    16       4    15   \n",
       "\n",
       "   mismatch  gaps  pident  evalue  length  qlen  slen  qcovs  \n",
       "0         0     0   100.0    0.26      12    21    21     57  \n",
       "1         0     0   100.0    0.26      12    21    20     57  "
      ]
     },
     "execution_count": 25,
     "metadata": {},
     "output_type": "execute_result"
    }
   ],
   "source": [
    "df_mirbase = pd.read_csv(path_mirbase, sep=\"\\t\")\n",
    "cols = ['qseqid','sseqid','qstart','qend','sstart','send','mismatch','gaps','pident','evalue','length','qlen','slen','qcovs']\n",
    "df_mirbase.columns = cols\n",
    "print(len(df_mirbase.index))\n",
    "df_mirbase.head(2)"
   ]
  },
  {
   "cell_type": "code",
   "execution_count": 26,
   "metadata": {},
   "outputs": [
    {
     "name": "stdout",
     "output_type": "stream",
     "text": [
      "lenght >= (length -2) 43\n"
     ]
    }
   ],
   "source": [
    "df_mirbase = df_mirbase[df_mirbase.length >= df_mirbase.qlen - 2]\n",
    "print('lenght >= (length -2) ' + str(len(df_mirbase.index)))"
   ]
  },
  {
   "cell_type": "code",
   "execution_count": 27,
   "metadata": {},
   "outputs": [
    {
     "name": "stdout",
     "output_type": "stream",
     "text": [
      "gaps <= 2 43\n"
     ]
    }
   ],
   "source": [
    "df_mirbase = df_mirbase[df_mirbase.mismatch + df_mirbase.gaps <= 2]\n",
    "print('gaps <= 2 ' + str(len(df_mirbase.index)))"
   ]
  },
  {
   "cell_type": "code",
   "execution_count": 28,
   "metadata": {},
   "outputs": [
    {
     "name": "stdout",
     "output_type": "stream",
     "text": [
      "MITEs with miRBASE results 25\n"
     ]
    }
   ],
   "source": [
    "print('MITEs with miRBASE results ' + str(len(df_mirbase.qseqid.unique().tolist())))"
   ]
  },
  {
   "cell_type": "code",
   "execution_count": 29,
   "metadata": {},
   "outputs": [],
   "source": [
    "df_mirbase_s = df_mirbase.groupby('qseqid')#['sseqid'].apply(lambda x: \"%s\" % ', '.join(x))"
   ]
  },
  {
   "cell_type": "code",
   "execution_count": 30,
   "metadata": {},
   "outputs": [
    {
     "data": {
      "text/plain": [
       "<pandas.core.groupby.groupby.DataFrameGroupBy object at 0x7fa6b9ef0d68>"
      ]
     },
     "execution_count": 30,
     "metadata": {},
     "output_type": "execute_result"
    }
   ],
   "source": [
    "df_mirbase_s"
   ]
  },
  {
   "cell_type": "code",
   "execution_count": 31,
   "metadata": {},
   "outputs": [],
   "source": [
    "#add miRBASE annotation to df_mite_21"
   ]
  },
  {
   "cell_type": "code",
   "execution_count": 32,
   "metadata": {},
   "outputs": [],
   "source": [
    "df_mite_21['miRBASE'] = ''\n",
    "for k_mite, v_mite in df_mite_21.iterrows():\n",
    "    for name, group in df_mirbase_s:\n",
    "        if v_mite['#Locus'] == name:\n",
    "            df_mite_21.at[k_mite, 'miRBASE'] += ','.join(group.sseqid.tolist()) + '.'"
   ]
  },
  {
   "cell_type": "code",
   "execution_count": null,
   "metadata": {},
   "outputs": [],
   "source": []
  },
  {
   "cell_type": "code",
   "execution_count": 33,
   "metadata": {},
   "outputs": [],
   "source": [
    "#genomic annotation"
   ]
  },
  {
   "cell_type": "code",
   "execution_count": 34,
   "metadata": {},
   "outputs": [
    {
     "name": "stdout",
     "output_type": "stream",
     "text": [
      "all features: 2573211\n"
     ]
    }
   ],
   "source": [
    "df_ann = pd.read_csv(file_ann, index_col=False, sep='\\t', comment='#', header=None)\n",
    "df_ann.columns = ['seqname' , 'source' , 'feature' , 'start' , 'end' , 'score' , 'strand' , 'frame' , 'attribute']\n",
    "print('all features: ' + str(len(df_ann.index)))"
   ]
  },
  {
   "cell_type": "code",
   "execution_count": 35,
   "metadata": {},
   "outputs": [
    {
     "name": "stdout",
     "output_type": "stream",
     "text": [
      "gene-related features: 1593666\n"
     ]
    }
   ],
   "source": [
    "df_ann = df_ann[\n",
    "    (df_ann.feature == 'intron') | \n",
    "    (df_ann.feature == 'exon') | \n",
    "    (df_ann.feature == 'three_prime_UTR') | \n",
    "    (df_ann.feature == 'five_prime_UTR')]\n",
    "print('gene-related features: ' + str(len(df_ann.index)))"
   ]
  },
  {
   "cell_type": "code",
   "execution_count": 36,
   "metadata": {},
   "outputs": [
    {
     "name": "stdout",
     "output_type": "stream",
     "text": [
      "promoters: 120744\n"
     ]
    }
   ],
   "source": [
    "df_ann_promoters = pd.read_csv(file_ann_promoters, index_col=False, sep='\\t', comment='#', header=None)\n",
    "df_ann_promoters.columns = ['seqname' , 'source' , 'feature' , 'start' , 'end' , 'score' , 'strand' , 'frame' , 'attribute']\n",
    "print('promoters: ' + str(len(df_ann_promoters.index)))"
   ]
  },
  {
   "cell_type": "code",
   "execution_count": 37,
   "metadata": {},
   "outputs": [
    {
     "name": "stdout",
     "output_type": "stream",
     "text": [
      "total: 1714410\n"
     ]
    }
   ],
   "source": [
    "df_ann_total = pd.concat([df_ann, df_ann_promoters])\n",
    "print('total: ' + str(len(df_ann_total.index)))"
   ]
  },
  {
   "cell_type": "code",
   "execution_count": null,
   "metadata": {},
   "outputs": [],
   "source": []
  },
  {
   "cell_type": "code",
   "execution_count": 38,
   "metadata": {},
   "outputs": [],
   "source": [
    "df_mite_21['seqname'] = df_mite_21['#Locus'].str.split(':').str[0]\n",
    "df_mite_21['start'] = df_mite_21['#Locus'].str.split(':').str[1].str.split('-').str[0]\n",
    "df_mite_21['end'] = df_mite_21['#Locus'].str.split(':').str[1].str.split('-').str[1]"
   ]
  },
  {
   "cell_type": "code",
   "execution_count": 39,
   "metadata": {},
   "outputs": [
    {
     "data": {
      "text/html": [
       "<div>\n",
       "<style scoped>\n",
       "    .dataframe tbody tr th:only-of-type {\n",
       "        vertical-align: middle;\n",
       "    }\n",
       "\n",
       "    .dataframe tbody tr th {\n",
       "        vertical-align: top;\n",
       "    }\n",
       "\n",
       "    .dataframe thead th {\n",
       "        text-align: right;\n",
       "    }\n",
       "</style>\n",
       "<table border=\"1\" class=\"dataframe\">\n",
       "  <thead>\n",
       "    <tr style=\"text-align: right;\">\n",
       "      <th></th>\n",
       "      <th>#Locus</th>\n",
       "      <th>Name</th>\n",
       "      <th>Length</th>\n",
       "      <th>Reads</th>\n",
       "      <th>RPM</th>\n",
       "      <th>UniqueReads</th>\n",
       "      <th>FracTop</th>\n",
       "      <th>Strand</th>\n",
       "      <th>MajorRNA</th>\n",
       "      <th>MajorRNAReads</th>\n",
       "      <th>...</th>\n",
       "      <th>Long</th>\n",
       "      <th>20</th>\n",
       "      <th>21</th>\n",
       "      <th>22</th>\n",
       "      <th>23</th>\n",
       "      <th>24</th>\n",
       "      <th>miRBASE</th>\n",
       "      <th>seqname</th>\n",
       "      <th>start</th>\n",
       "      <th>end</th>\n",
       "    </tr>\n",
       "  </thead>\n",
       "  <tbody>\n",
       "    <tr>\n",
       "      <th>15275</th>\n",
       "      <td>1A:169645857-169646029</td>\n",
       "      <td>MITE_T_62663|chr6B|624472362|624472543|TTTAAA|...</td>\n",
       "      <td>173</td>\n",
       "      <td>9</td>\n",
       "      <td>0.719</td>\n",
       "      <td>1</td>\n",
       "      <td>1.0</td>\n",
       "      <td>+</td>\n",
       "      <td>UAGAGAUUUCAAAUGGAACAC</td>\n",
       "      <td>7</td>\n",
       "      <td>...</td>\n",
       "      <td>0</td>\n",
       "      <td>0</td>\n",
       "      <td>9</td>\n",
       "      <td>0</td>\n",
       "      <td>0</td>\n",
       "      <td>0</td>\n",
       "      <td></td>\n",
       "      <td>1A</td>\n",
       "      <td>169645857</td>\n",
       "      <td>169646029</td>\n",
       "    </tr>\n",
       "    <tr>\n",
       "      <th>15276</th>\n",
       "      <td>1A:169645864-169646038</td>\n",
       "      <td>MITE_T_58158|chr2D|446317622|446317827|AT|219|...</td>\n",
       "      <td>175</td>\n",
       "      <td>9</td>\n",
       "      <td>0.719</td>\n",
       "      <td>1</td>\n",
       "      <td>1.0</td>\n",
       "      <td>+</td>\n",
       "      <td>UAGAGAUUUCAAAUGGAACAC</td>\n",
       "      <td>7</td>\n",
       "      <td>...</td>\n",
       "      <td>0</td>\n",
       "      <td>0</td>\n",
       "      <td>9</td>\n",
       "      <td>0</td>\n",
       "      <td>0</td>\n",
       "      <td>0</td>\n",
       "      <td></td>\n",
       "      <td>1A</td>\n",
       "      <td>169645864</td>\n",
       "      <td>169646038</td>\n",
       "    </tr>\n",
       "    <tr>\n",
       "      <th>15277</th>\n",
       "      <td>1A:169645881-169646012</td>\n",
       "      <td>MITE_T_83087|chr3D|7232862|7232993|TA|139|F3602</td>\n",
       "      <td>132</td>\n",
       "      <td>9</td>\n",
       "      <td>0.719</td>\n",
       "      <td>1</td>\n",
       "      <td>1.0</td>\n",
       "      <td>+</td>\n",
       "      <td>UAGAGAUUUCAAAUGGAACAC</td>\n",
       "      <td>7</td>\n",
       "      <td>...</td>\n",
       "      <td>0</td>\n",
       "      <td>0</td>\n",
       "      <td>9</td>\n",
       "      <td>0</td>\n",
       "      <td>0</td>\n",
       "      <td>0</td>\n",
       "      <td></td>\n",
       "      <td>1A</td>\n",
       "      <td>169645881</td>\n",
       "      <td>169646012</td>\n",
       "    </tr>\n",
       "  </tbody>\n",
       "</table>\n",
       "<p>3 rows × 25 columns</p>\n",
       "</div>"
      ],
      "text/plain": [
       "                       #Locus  \\\n",
       "15275  1A:169645857-169646029   \n",
       "15276  1A:169645864-169646038   \n",
       "15277  1A:169645881-169646012   \n",
       "\n",
       "                                                    Name  Length  Reads  \\\n",
       "15275  MITE_T_62663|chr6B|624472362|624472543|TTTAAA|...     173      9   \n",
       "15276  MITE_T_58158|chr2D|446317622|446317827|AT|219|...     175      9   \n",
       "15277    MITE_T_83087|chr3D|7232862|7232993|TA|139|F3602     132      9   \n",
       "\n",
       "         RPM  UniqueReads  FracTop Strand               MajorRNA  \\\n",
       "15275  0.719            1      1.0      +  UAGAGAUUUCAAAUGGAACAC   \n",
       "15276  0.719            1      1.0      +  UAGAGAUUUCAAAUGGAACAC   \n",
       "15277  0.719            1      1.0      +  UAGAGAUUUCAAAUGGAACAC   \n",
       "\n",
       "       MajorRNAReads    ...      Long  20 21  22  23  24  miRBASE  seqname  \\\n",
       "15275              7    ...         0   0  9   0   0   0                1A   \n",
       "15276              7    ...         0   0  9   0   0   0                1A   \n",
       "15277              7    ...         0   0  9   0   0   0                1A   \n",
       "\n",
       "           start        end  \n",
       "15275  169645857  169646029  \n",
       "15276  169645864  169646038  \n",
       "15277  169645881  169646012  \n",
       "\n",
       "[3 rows x 25 columns]"
      ]
     },
     "execution_count": 39,
     "metadata": {},
     "output_type": "execute_result"
    }
   ],
   "source": [
    "df_mite_21.head(3)"
   ]
  },
  {
   "cell_type": "code",
   "execution_count": 46,
   "metadata": {},
   "outputs": [],
   "source": [
    "df_mite_21['feature'] = 'intergenic'"
   ]
  },
  {
   "cell_type": "code",
   "execution_count": 48,
   "metadata": {},
   "outputs": [],
   "source": [
    "df_mite_21['gene'] = ''\n",
    "for k_mite, v_mite in df_mite_21.iterrows():\n",
    "    cur = df_ann_total[df_ann_total.seqname == v_mite.seqname]\n",
    "    for k_feature,v_feature in cur.iterrows():\n",
    "        start = int(v_feature.start)\n",
    "        end = int(v_feature.end)\n",
    "        #overlaps with gene\n",
    "        if int(v_mite.end) >= start and int(v_mite.start) <= end:\n",
    "            #I dont want to replace 'UTRs with exon\n",
    "            if v_feature.feature != 'three_prime_UTR' and  v_feature.feature != 'five_prime_UTR':\n",
    "                df_mite_21.at[k_mite, 'feature'] = v_feature.feature\n",
    "                df_mite_21.at[k_mite, 'gene'] = v_feature.attribute\n",
    "                #print (k_mite,v_mite.Name, v_feature.feature,v_feature.attribute)\n"
   ]
  },
  {
   "cell_type": "code",
   "execution_count": 49,
   "metadata": {},
   "outputs": [
    {
     "data": {
      "text/plain": [
       "93"
      ]
     },
     "execution_count": 49,
     "metadata": {},
     "output_type": "execute_result"
    }
   ],
   "source": [
    "len(df_mite_21.index)"
   ]
  },
  {
   "cell_type": "code",
   "execution_count": 50,
   "metadata": {},
   "outputs": [
    {
     "data": {
      "text/plain": [
       "intergenic    37\n",
       "intron        34\n",
       "promoter      15\n",
       "exon           7\n",
       "Name: feature, dtype: int64"
      ]
     },
     "execution_count": 50,
     "metadata": {},
     "output_type": "execute_result"
    }
   ],
   "source": [
    "df_mite_21.feature.value_counts()"
   ]
  },
  {
   "cell_type": "code",
   "execution_count": 51,
   "metadata": {},
   "outputs": [
    {
     "data": {
      "text/plain": [
       "<matplotlib.axes._subplots.AxesSubplot at 0x7fa6b9f81ac8>"
      ]
     },
     "execution_count": 51,
     "metadata": {},
     "output_type": "execute_result"
    },
    {
     "data": {
      "image/png": "[encoded data removed]",
      "text/plain": [
       "<Figure size 432x288 with 1 Axes>"
      ]
     },
     "metadata": {
      "needs_background": "light"
     },
     "output_type": "display_data"
    }
   ],
   "source": [
    "df_mite_21.feature.value_counts().plot('bar')"
   ]
  },
  {
   "cell_type": "code",
   "execution_count": 52,
   "metadata": {},
   "outputs": [],
   "source": [
    "df_mite_21.to_csv(path_mite_21 + 'annotated.csv', sep='\\t', index=None)"
   ]
  },
  {
   "cell_type": "code",
   "execution_count": null,
   "metadata": {},
   "outputs": [],
   "source": []
  },
  {
   "cell_type": "code",
   "execution_count": null,
   "metadata": {},
   "outputs": [],
   "source": []
  },
  {
   "cell_type": "code",
   "execution_count": null,
   "metadata": {},
   "outputs": [],
   "source": []
  },
  {
   "cell_type": "code",
   "execution_count": null,
   "metadata": {},
   "outputs": [],
   "source": []
  },
  {
   "cell_type": "code",
   "execution_count": null,
   "metadata": {},
   "outputs": [],
   "source": []
  },
  {
   "cell_type": "code",
   "execution_count": null,
   "metadata": {},
   "outputs": [],
   "source": []
  },
  {
   "cell_type": "code",
   "execution_count": null,
   "metadata": {},
   "outputs": [],
   "source": []
  },
  {
   "cell_type": "code",
   "execution_count": null,
   "metadata": {},
   "outputs": [],
   "source": []
  }
 ],
 "metadata": {
  "kernelspec": {
   "display_name": "Python 3",
   "language": "python",
   "name": "python3"
  },
  "language_info": {
   "codemirror_mode": {
    "name": "ipython",
    "version": 3
   },
   "file_extension": ".py",
   "mimetype": "text/x-python",
   "name": "python",
   "nbconvert_exporter": "python",
   "pygments_lexer": "ipython3",
   "version": "3.6.5"
  }
 },
 "nbformat": 4,
 "nbformat_minor": 2
}
