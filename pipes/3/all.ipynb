{
 "cells": [
  {
   "cell_type": "code",
   "execution_count": 12,
   "metadata": {},
   "outputs": [],
   "source": [
    "import pandas as pd\n",
    "import matplotlib.pyplot as plt\n",
    "import seaborn as sns\n",
    "import pandas as pd\n",
    "from Bio import SeqIO\n",
    "from Bio.SeqRecord import SeqRecord\n",
    "from Bio.Seq import Seq\n",
    "from subprocess import Popen, PIPE, call"
   ]
  },
  {
   "cell_type": "code",
   "execution_count": null,
   "metadata": {},
   "outputs": [],
   "source": []
  },
  {
   "cell_type": "code",
   "execution_count": 2,
   "metadata": {},
   "outputs": [],
   "source": [
    "#loci_nt\n",
    "path_all_all = '/home/juan/Desktop/juan/bio/mrcv/data/ss/all_all/'\n",
    "path_all_21 = '/home/juan/Desktop/juan/bio/mrcv/data/ss/all_21nt/'\n",
    "path_mite_all = '/home/juan/Desktop/juan/bio/mrcv/data/ss/mite_all/'\n",
    "path_mite_21 = '/home/juan/Desktop/juan/bio/mrcv/data/ss/mite_21/'\n",
    "\n",
    "#mirbase\n",
    "path_mite_21_seqs = '/home/juan/Desktop/juan/bio/mrcv/data/ss/mite_21/mir.Y.fasta'\n",
    "path_mirbase = '/home/juan/Desktop/juan/bio/mrcv/data/ss/mite_21/mir.Y.mirbase.csv'\n",
    "\n",
    "#annotations\n",
    "file_ann = '/home/juan/Desktop/juan/bio/mrcv/data/genome/annotations/introns.gff3'\n",
    "file_ann_promoters = '/home/juan/Desktop/juan/bio/mrcv/data/genome/annotations/promoters.gff3'"
   ]
  },
  {
   "cell_type": "code",
   "execution_count": 61,
   "metadata": {},
   "outputs": [],
   "source": [
    "#loci_nt\n",
    "path_all_all = '/home/juan/Desktop/juan/bio/mrcv/data/ss_mite/all_all/'\n",
    "path_all_21 = '/home/juan/Desktop/juan/bio/mrcv/data/ss_mite/all_21/'\n",
    "path_mite_all = '/home/juan/Desktop/juan/bio/mrcv/data/ss_mite/mite_all/'\n",
    "path_mite_21 = '/home/juan/Desktop/juan/bio/mrcv/data/ss_mite/mite_21/'\n",
    "\n",
    "#mirbase\n",
    "path_mite_21_seqs = '/home/juan/Desktop/juan/bio/mrcv/data/ss_mite/mite_21/mir.Y.fasta'\n",
    "path_mirbase = '/home/juan/Desktop/juan/bio/mrcv/data/ss_mite/mite_21/mir.Y.mirbase.csv'\n",
    "\n",
    "#annotations\n",
    "file_ann = '/home/juan/Desktop/juan/bio/mrcv/data/genome/annotations/introns.gff3'\n",
    "file_ann_promoters = '/home/juan/Desktop/juan/bio/mrcv/data/genome/annotations/promoters.gff3'\n",
    "\n",
    "#MITEs\n",
    "path_mites = '/home/juan/Desktop/juan/bio/mrcv/data/genome/annotations/all_filter_mite.gff3'\n",
    "path_locifile = '/home/juan/Desktop/juan/bio/mrcv/data/genome/locifiles/mitesall.locifile.csv'\n"
   ]
  },
  {
   "cell_type": "code",
   "execution_count": 14,
   "metadata": {},
   "outputs": [],
   "source": [
    "#loci_nt\n",
    "path_all_all = '/home/juan/Desktop/juan/bio/mrcv/data/ss_miteall/all_all/'\n",
    "path_all_21 = '/home/juan/Desktop/juan/bio/mrcv/data/ss_miteall/all_21/'\n",
    "path_mite_all = '/home/juan/Desktop/juan/bio/mrcv/data/ss_miteall/mite_all/'\n",
    "path_mite_21 = '/home/juan/Desktop/juan/bio/mrcv/data/ss_miteall/mite_21/'\n",
    "\n",
    "#mirbase\n",
    "path_mite_21_seqs = '/home/juan/Desktop/juan/bio/mrcv/data/ss_mite/mite_21/mir.Y.fasta'\n",
    "path_mirbase = '/home/juan/Desktop/juan/bio/mrcv/data/ss_mite/mite_21/mir.Y.mirbase.csv'\n",
    "\n",
    "#annotations\n",
    "file_ann = '/home/juan/Desktop/juan/bio/mrcv/data/genome/annotations/introns.gff3'\n",
    "file_ann_promoters = '/home/juan/Desktop/juan/bio/mrcv/data/genome/annotations/promoters.gff3'\n",
    "\n",
    "#MITEs\n",
    "path_mites = '/home/juan/Desktop/juan/bio/mrcv/data/genome/annotations/all_filter_mite.gff3'\n",
    "path_locifile = '/home/juan/Desktop/juan/bio/mrcv/data/genome/locifiles/mitesall.locifile.csv'\n"
   ]
  },
  {
   "cell_type": "code",
   "execution_count": 62,
   "metadata": {},
   "outputs": [],
   "source": [
    "#make locifile\n",
    "df_mites = pd.read_csv(path_mites, sep='\\t')\n",
    "df_mites.columns = ['id','seqname' , 'source' , 'feature' , 'start' , 'end' , 'score' , 'strand' , 'frame' , 'attribute']\n",
    "df_mites['locifile_position'] = df_mites.seqname + ':' + df_mites.start.astype(str) + '-' + df_mites.end.astype(str)\n",
    "df_save = df_mites[['locifile_position','attribute']]\n",
    "df_save.to_csv(path_locifile, header=None, index=None,sep='\\t')"
   ]
  },
  {
   "cell_type": "code",
   "execution_count": 63,
   "metadata": {},
   "outputs": [
    {
     "data": {
      "text/plain": [
       "1222546"
      ]
     },
     "execution_count": 63,
     "metadata": {},
     "output_type": "execute_result"
    }
   ],
   "source": [
    "len(df_mites.index)"
   ]
  },
  {
   "cell_type": "code",
   "execution_count": null,
   "metadata": {},
   "outputs": [],
   "source": []
  },
  {
   "cell_type": "code",
   "execution_count": 64,
   "metadata": {},
   "outputs": [
    {
     "name": "stdout",
     "output_type": "stream",
     "text": [
      "all_all clusters: 48876\n"
     ]
    },
    {
     "data": {
      "text/plain": [
       "<matplotlib.axes._subplots.AxesSubplot at 0x7f984ec942e8>"
      ]
     },
     "execution_count": 64,
     "metadata": {},
     "output_type": "execute_result"
    },
    {
     "data": {
      "image/png": "[encoded data removed]",
      "text/plain": [
       "<Figure size 432x288 with 1 Axes>"
      ]
     },
     "metadata": {
      "needs_background": "light"
     },
     "output_type": "display_data"
    }
   ],
   "source": [
    "df_all_all = pd.read_csv(path_all_all + 'Results.txt', sep='\\t')\n",
    "print('all_all clusters: ' + str(len(df_all_all.index)))\n",
    "df_all_all.MIRNA.value_counts().plot('bar')\n"
   ]
  },
  {
   "cell_type": "code",
   "execution_count": 65,
   "metadata": {},
   "outputs": [
    {
     "name": "stdout",
     "output_type": "stream",
     "text": [
      "all_all miRNA: 162\n"
     ]
    }
   ],
   "source": [
    "df_all_all = df_all_all[df_all_all.MIRNA == 'Y']\n",
    "print('all_all miRNA: ' + str(len(df_all_all.index)))\n"
   ]
  },
  {
   "cell_type": "code",
   "execution_count": null,
   "metadata": {},
   "outputs": [],
   "source": []
  },
  {
   "cell_type": "code",
   "execution_count": null,
   "metadata": {},
   "outputs": [],
   "source": []
  },
  {
   "cell_type": "code",
   "execution_count": 66,
   "metadata": {},
   "outputs": [
    {
     "name": "stdout",
     "output_type": "stream",
     "text": [
      "all_21 clusters 33636\n"
     ]
    },
    {
     "data": {
      "image/png": "[encoded data removed]",
      "text/plain": [
       "<Figure size 432x288 with 1 Axes>"
      ]
     },
     "metadata": {
      "needs_background": "light"
     },
     "output_type": "display_data"
    }
   ],
   "source": [
    "df_all_21 = pd.read_csv(path_all_21 + 'Results.txt', sep='\\t')\n",
    "df_all_21.MIRNA.value_counts().plot('bar')\n",
    "print('all_21 clusters ' + str(len(df_all_21.index)))"
   ]
  },
  {
   "cell_type": "code",
   "execution_count": 67,
   "metadata": {},
   "outputs": [
    {
     "name": "stdout",
     "output_type": "stream",
     "text": [
      "all_21 miRNA: 220\n"
     ]
    }
   ],
   "source": [
    "df_all_21 = df_all_21[df_all_21.MIRNA == 'Y']\n",
    "print('all_21 miRNA: ' + str(len(df_all_21.index)))"
   ]
  },
  {
   "cell_type": "code",
   "execution_count": null,
   "metadata": {},
   "outputs": [],
   "source": []
  },
  {
   "cell_type": "code",
   "execution_count": 68,
   "metadata": {},
   "outputs": [
    {
     "name": "stdout",
     "output_type": "stream",
     "text": [
      "MITEs all clusters: 1203406\n"
     ]
    },
    {
     "data": {
      "image/png": "[encoded data removed]",
      "text/plain": [
       "<Figure size 432x288 with 1 Axes>"
      ]
     },
     "metadata": {
      "needs_background": "light"
     },
     "output_type": "display_data"
    }
   ],
   "source": [
    "df_mite_all = pd.read_csv(path_mite_all + 'Results.txt', sep='\\t')\n",
    "df_mite_all.MIRNA.value_counts().plot('bar')\n",
    "print('MITEs all clusters: ' + str(len(df_mite_all.index)))"
   ]
  },
  {
   "cell_type": "code",
   "execution_count": 69,
   "metadata": {},
   "outputs": [
    {
     "name": "stdout",
     "output_type": "stream",
     "text": [
      "MITEs all miRNA: 50\n"
     ]
    }
   ],
   "source": [
    "df_mite_all = df_mite_all[df_mite_all.MIRNA == 'Y']\n",
    "print('MITEs all miRNA: ' + str(len(df_mite_all.index)))\n",
    "df_mite_all.to_csv(path_mite_all + 'Results.valid.csv', sep='\\t', index=None)"
   ]
  },
  {
   "cell_type": "code",
   "execution_count": null,
   "metadata": {},
   "outputs": [],
   "source": []
  },
  {
   "cell_type": "code",
   "execution_count": 70,
   "metadata": {},
   "outputs": [
    {
     "name": "stdout",
     "output_type": "stream",
     "text": [
      "MITEs 21 clusters: 1203406\n"
     ]
    },
    {
     "data": {
      "image/png": "[encoded data removed]",
      "text/plain": [
       "<Figure size 432x288 with 1 Axes>"
      ]
     },
     "metadata": {
      "needs_background": "light"
     },
     "output_type": "display_data"
    }
   ],
   "source": [
    "df_mite_21 = pd.read_csv(path_mite_21 + 'Results.txt', sep='\\t')\n",
    "df_mite_21.MIRNA.value_counts().plot('bar')\n",
    "print('MITEs 21 clusters: ' + str(len(df_mite_21.index)))"
   ]
  },
  {
   "cell_type": "code",
   "execution_count": 71,
   "metadata": {},
   "outputs": [
    {
     "name": "stdout",
     "output_type": "stream",
     "text": [
      "MITEs 21 miRNA: 99\n"
     ]
    }
   ],
   "source": [
    "df_mite_21 = df_mite_21[df_mite_21.MIRNA == 'Y']\n",
    "print('MITEs 21 miRNA: ' + str(len(df_mite_21.index)))"
   ]
  },
  {
   "cell_type": "code",
   "execution_count": 72,
   "metadata": {},
   "outputs": [
    {
     "name": "stdout",
     "output_type": "stream",
     "text": [
      "Counts: 1203406\n"
     ]
    }
   ],
   "source": [
    "#counts\n",
    "df_mite_21_counts = pd.read_csv(path_mite_21 + 'Counts.txt', sep='\\t')\n",
    "print('Counts: ' + str(len(df_mite_21_counts.index)))"
   ]
  },
  {
   "cell_type": "code",
   "execution_count": null,
   "metadata": {},
   "outputs": [],
   "source": []
  },
  {
   "cell_type": "code",
   "execution_count": 73,
   "metadata": {},
   "outputs": [],
   "source": [
    "mites = df_mite_21['#Locus'].tolist()\n",
    "df_mite_21_counts = df_mite_21_counts[df_mite_21_counts['Locus'].isin(mites)]"
   ]
  },
  {
   "cell_type": "code",
   "execution_count": 74,
   "metadata": {},
   "outputs": [
    {
     "name": "stdout",
     "output_type": "stream",
     "text": [
      "Counts valid: 99\n"
     ]
    }
   ],
   "source": [
    "print('Counts valid: ' + str(len(df_mite_21_counts.index)))"
   ]
  },
  {
   "cell_type": "code",
   "execution_count": 75,
   "metadata": {},
   "outputs": [],
   "source": [
    "df_mite_21_counts.to_csv(path_mite_21 + 'counts.valid.csv',sep='\\t',index=None)"
   ]
  },
  {
   "cell_type": "code",
   "execution_count": 25,
   "metadata": {},
   "outputs": [],
   "source": [
    "#all miRNA and MITEs"
   ]
  },
  {
   "cell_type": "code",
   "execution_count": 26,
   "metadata": {},
   "outputs": [
    {
     "data": {
      "text/plain": [
       "'all 8.641975308641975'"
      ]
     },
     "execution_count": 26,
     "metadata": {},
     "output_type": "execute_result"
    }
   ],
   "source": [
    "yeses = 0\n",
    "stuff = []\n",
    "total = 0\n",
    "for k, v in df_all_all.iterrows():\n",
    "    total += 1\n",
    "    seqname = v['#Locus'].split(':')[0]\n",
    "    start = v['#Locus'].split(':')[1].split('-')[0]\n",
    "    end = v['#Locus'].split(':')[1].split('-')[1]\n",
    "    ss = False\n",
    "    for k2, v2 in df_mite_all.iterrows():\n",
    "        seqname2 = v2['#Locus'].split(':')[0]\n",
    "        if seqname2 != seqname:\n",
    "            continue\n",
    "        start2 = v2['#Locus'].split(':')[1].split('-')[0]\n",
    "        end2 = v2['#Locus'].split(':')[1].split('-')[1]\n",
    "        if int(start) <= int(end2) and int(end) >= int(start2):\n",
    "            stuff_ = {}\n",
    "            stuff_['miRNA_cluster_locus'] = v['#Locus']\n",
    "            stuff_['miRNA_cluster_name'] = v['Name']\n",
    "            stuff_['MITE_miRNA_cluster_locus'] = v2['#Locus']\n",
    "            stuff_['MITE_miRNA_cluster_name'] = v2['Name']\n",
    "            stuff.append(stuff_)\n",
    "            ss = True\n",
    "            break\n",
    "    if ss:\n",
    "        yeses += 1\n",
    "'all ' + str(yeses * 100 / total)"
   ]
  },
  {
   "cell_type": "code",
   "execution_count": null,
   "metadata": {},
   "outputs": [],
   "source": []
  },
  {
   "cell_type": "code",
   "execution_count": 27,
   "metadata": {},
   "outputs": [],
   "source": [
    "#21nt miRNA and MITEs"
   ]
  },
  {
   "cell_type": "code",
   "execution_count": 28,
   "metadata": {},
   "outputs": [
    {
     "data": {
      "text/plain": [
       "0.9049773755656109"
      ]
     },
     "execution_count": 28,
     "metadata": {},
     "output_type": "execute_result"
    }
   ],
   "source": [
    "yeses = 0\n",
    "stuff = []\n",
    "total = 0\n",
    "for k, v in df_all_21.iterrows():\n",
    "    total += 1\n",
    "    seqname = v['#Locus'].split(':')[0]\n",
    "    start = v['#Locus'].split(':')[1].split('-')[0]\n",
    "    end = v['#Locus'].split(':')[1].split('-')[1]\n",
    "    ss = False\n",
    "    for k2, v2 in df_mite_21.iterrows():\n",
    "        seqname2 = v2['#Locus'].split(':')[0]\n",
    "        if seqname2 != seqname:\n",
    "            continue\n",
    "        start2 = v2['#Locus'].split(':')[1].split('-')[0]\n",
    "        end2 = v2['#Locus'].split(':')[1].split('-')[1]\n",
    "        if int(start) <= int(end2) and int(end) >= int(start2):\n",
    "            stuff_ = {}\n",
    "            stuff_['miRNA_cluster_locus'] = v['#Locus']\n",
    "            stuff_['miRNA_cluster_name'] = v['Name']\n",
    "            stuff_['MITE_miRNA_cluster_locus'] = v2['#Locus']\n",
    "            stuff_['MITE_miRNA_cluster_name'] = v2['Name']\n",
    "            stuff.append(stuff_)\n",
    "            ss = True\n",
    "            break\n",
    "    if ss:\n",
    "        yeses += 1\n",
    "yeses * 100 / total"
   ]
  },
  {
   "cell_type": "code",
   "execution_count": 29,
   "metadata": {},
   "outputs": [],
   "source": [
    "#reverse"
   ]
  },
  {
   "cell_type": "code",
   "execution_count": 30,
   "metadata": {},
   "outputs": [
    {
     "data": {
      "text/plain": [
       "54.54545454545455"
      ]
     },
     "execution_count": 30,
     "metadata": {},
     "output_type": "execute_result"
    }
   ],
   "source": [
    "yeses = 0\n",
    "stuff = []\n",
    "total = 0\n",
    "for k, v in df_mite_21.iterrows():\n",
    "    total += 1\n",
    "    seqname = v['#Locus'].split(':')[0]\n",
    "    start = v['#Locus'].split(':')[1].split('-')[0]\n",
    "    end = v['#Locus'].split(':')[1].split('-')[1]\n",
    "    ss = False\n",
    "    for k2, v2 in df_all_21.iterrows():\n",
    "        seqname2 = v2['#Locus'].split(':')[0]\n",
    "        if seqname2 != seqname:\n",
    "            continue\n",
    "        start2 = v2['#Locus'].split(':')[1].split('-')[0]\n",
    "        end2 = v2['#Locus'].split(':')[1].split('-')[1]\n",
    "        if int(start) <= int(end2) and int(end) >= int(start2):\n",
    "            stuff_ = {}\n",
    "            stuff_['miRNA_cluster_locus'] = v['#Locus']\n",
    "            stuff_['miRNA_cluster_name'] = v['Name']\n",
    "            stuff_['MITE_miRNA_cluster_locus'] = v2['#Locus']\n",
    "            stuff_['MITE_miRNA_cluster_name'] = v2['Name']\n",
    "            stuff.append(stuff_)\n",
    "            ss = True\n",
    "            break\n",
    "    if ss:\n",
    "        yeses += 1\n",
    "yeses * 100 / total"
   ]
  },
  {
   "cell_type": "code",
   "execution_count": null,
   "metadata": {},
   "outputs": [],
   "source": []
  },
  {
   "cell_type": "code",
   "execution_count": 31,
   "metadata": {},
   "outputs": [],
   "source": [
    "#21 pero no en all mites"
   ]
  },
  {
   "cell_type": "code",
   "execution_count": 32,
   "metadata": {},
   "outputs": [
    {
     "data": {
      "text/plain": [
       "63.63636363636363"
      ]
     },
     "execution_count": 32,
     "metadata": {},
     "output_type": "execute_result"
    }
   ],
   "source": [
    "yeses = 0\n",
    "stuff = []\n",
    "total = 0\n",
    "for k, v in df_mite_21.iterrows():\n",
    "    total += 1\n",
    "    seqname = v['#Locus'].split(':')[0]\n",
    "    start = v['#Locus'].split(':')[1].split('-')[0]\n",
    "    end = v['#Locus'].split(':')[1].split('-')[1]\n",
    "    ss = False\n",
    "    for k2, v2 in df_mite_all.iterrows():\n",
    "        seqname2 = v2['#Locus'].split(':')[0]\n",
    "        if seqname2 != seqname:\n",
    "            continue\n",
    "        start2 = v2['#Locus'].split(':')[1].split('-')[0]\n",
    "        end2 = v2['#Locus'].split(':')[1].split('-')[1]\n",
    "        if int(start) <= int(end2) and int(end) >= int(start2):\n",
    "            stuff_ = {}\n",
    "            stuff_['miRNA_cluster_locus'] = v['#Locus']\n",
    "            stuff_['miRNA_cluster_name'] = v['Name']\n",
    "            stuff_['MITE_miRNA_cluster_locus'] = v2['#Locus']\n",
    "            stuff_['MITE_miRNA_cluster_name'] = v2['Name']\n",
    "            stuff.append(stuff_)\n",
    "            ss = True\n",
    "            break\n",
    "    if ss:\n",
    "        yeses += 1\n",
    "yeses * 100 / total"
   ]
  },
  {
   "cell_type": "code",
   "execution_count": null,
   "metadata": {},
   "outputs": [],
   "source": []
  },
  {
   "cell_type": "code",
   "execution_count": 33,
   "metadata": {},
   "outputs": [],
   "source": [
    "#mirBASE with 21"
   ]
  },
  {
   "cell_type": "code",
   "execution_count": 34,
   "metadata": {},
   "outputs": [
    {
     "data": {
      "text/plain": [
       "'/home/juan/Desktop/juan/bio/mrcv/data/ss_mite/mite_21/mir.Y.fasta'"
      ]
     },
     "execution_count": 34,
     "metadata": {},
     "output_type": "execute_result"
    }
   ],
   "source": [
    "records = []\n",
    "for k,v in df_mite_21.iterrows():\n",
    "    record = SeqRecord(Seq(v.MajorRNA), id=v['#Locus'], description=v['Name'])\n",
    "    records.append(record)\n",
    "SeqIO.write(records, path_mite_21_seqs, 'fasta')\n",
    "path_mite_21_seqs"
   ]
  },
  {
   "cell_type": "markdown",
   "metadata": {},
   "source": [
    "#blast\n",
    "blastn -task blastn -query /home/juan/Desktop/juan/bio/mrcv/data/ss_temp/mite_21/mir.Y.fasta -subject /home/juan/Desktop/juan/bio/mrcv/data/mature.fa -outfmt \"6 qseqid sseqid qstart qend sstart send mismatch gaps pident evalue length qlen slen qcovs\" > /home/juan/Desktop/juan/bio/mrcv/data/ss_temp/mite_21/mir.Y.mirbase.csv"
   ]
  },
  {
   "cell_type": "code",
   "execution_count": 35,
   "metadata": {},
   "outputs": [
    {
     "name": "stdout",
     "output_type": "stream",
     "text": [
      "2274\n"
     ]
    },
    {
     "data": {
      "text/html": [
       "<div>\n",
       "<style scoped>\n",
       "    .dataframe tbody tr th:only-of-type {\n",
       "        vertical-align: middle;\n",
       "    }\n",
       "\n",
       "    .dataframe tbody tr th {\n",
       "        vertical-align: top;\n",
       "    }\n",
       "\n",
       "    .dataframe thead th {\n",
       "        text-align: right;\n",
       "    }\n",
       "</style>\n",
       "<table border=\"1\" class=\"dataframe\">\n",
       "  <thead>\n",
       "    <tr style=\"text-align: right;\">\n",
       "      <th></th>\n",
       "      <th>qseqid</th>\n",
       "      <th>sseqid</th>\n",
       "      <th>qstart</th>\n",
       "      <th>qend</th>\n",
       "      <th>sstart</th>\n",
       "      <th>send</th>\n",
       "      <th>mismatch</th>\n",
       "      <th>gaps</th>\n",
       "      <th>pident</th>\n",
       "      <th>evalue</th>\n",
       "      <th>length</th>\n",
       "      <th>qlen</th>\n",
       "      <th>slen</th>\n",
       "      <th>qcovs</th>\n",
       "    </tr>\n",
       "  </thead>\n",
       "  <tbody>\n",
       "    <tr>\n",
       "      <th>0</th>\n",
       "      <td>1A:169645857-169646029</td>\n",
       "      <td>rno-miR-3587</td>\n",
       "      <td>5</td>\n",
       "      <td>16</td>\n",
       "      <td>7</td>\n",
       "      <td>18</td>\n",
       "      <td>0</td>\n",
       "      <td>0</td>\n",
       "      <td>100.0</td>\n",
       "      <td>0.26</td>\n",
       "      <td>12</td>\n",
       "      <td>21</td>\n",
       "      <td>21</td>\n",
       "      <td>57</td>\n",
       "    </tr>\n",
       "    <tr>\n",
       "      <th>1</th>\n",
       "      <td>1A:169645857-169646029</td>\n",
       "      <td>rno-miR-3556b</td>\n",
       "      <td>5</td>\n",
       "      <td>16</td>\n",
       "      <td>4</td>\n",
       "      <td>15</td>\n",
       "      <td>0</td>\n",
       "      <td>0</td>\n",
       "      <td>100.0</td>\n",
       "      <td>0.26</td>\n",
       "      <td>12</td>\n",
       "      <td>21</td>\n",
       "      <td>20</td>\n",
       "      <td>57</td>\n",
       "    </tr>\n",
       "  </tbody>\n",
       "</table>\n",
       "</div>"
      ],
      "text/plain": [
       "                   qseqid         sseqid  qstart  qend  sstart  send  \\\n",
       "0  1A:169645857-169646029   rno-miR-3587       5    16       7    18   \n",
       "1  1A:169645857-169646029  rno-miR-3556b       5    16       4    15   \n",
       "\n",
       "   mismatch  gaps  pident  evalue  length  qlen  slen  qcovs  \n",
       "0         0     0   100.0    0.26      12    21    21     57  \n",
       "1         0     0   100.0    0.26      12    21    20     57  "
      ]
     },
     "execution_count": 35,
     "metadata": {},
     "output_type": "execute_result"
    }
   ],
   "source": [
    "df_mirbase = pd.read_csv(path_mirbase, sep=\"\\t\")\n",
    "cols = ['qseqid','sseqid','qstart','qend','sstart','send','mismatch','gaps','pident','evalue','length','qlen','slen','qcovs']\n",
    "df_mirbase.columns = cols\n",
    "print(len(df_mirbase.index))\n",
    "df_mirbase.head(2)"
   ]
  },
  {
   "cell_type": "code",
   "execution_count": 36,
   "metadata": {},
   "outputs": [
    {
     "name": "stdout",
     "output_type": "stream",
     "text": [
      "lenght >= (length -2) 34\n"
     ]
    }
   ],
   "source": [
    "df_mirbase = df_mirbase[df_mirbase.length >= df_mirbase.qlen - 2]\n",
    "print('lenght >= (length -2) ' + str(len(df_mirbase.index)))"
   ]
  },
  {
   "cell_type": "code",
   "execution_count": 37,
   "metadata": {},
   "outputs": [
    {
     "name": "stdout",
     "output_type": "stream",
     "text": [
      "gaps <= 2 34\n"
     ]
    }
   ],
   "source": [
    "df_mirbase = df_mirbase[df_mirbase.mismatch + df_mirbase.gaps <= 2]\n",
    "print('gaps <= 2 ' + str(len(df_mirbase.index)))"
   ]
  },
  {
   "cell_type": "code",
   "execution_count": 38,
   "metadata": {},
   "outputs": [
    {
     "name": "stdout",
     "output_type": "stream",
     "text": [
      "MITEs with miRBASE results 22\n"
     ]
    }
   ],
   "source": [
    "print('MITEs with miRBASE results ' + str(len(df_mirbase.qseqid.unique().tolist())))"
   ]
  },
  {
   "cell_type": "code",
   "execution_count": 39,
   "metadata": {},
   "outputs": [],
   "source": [
    "df_mirbase_s = df_mirbase.groupby('qseqid')#['sseqid'].apply(lambda x: \"%s\" % ', '.join(x))"
   ]
  },
  {
   "cell_type": "code",
   "execution_count": 40,
   "metadata": {},
   "outputs": [
    {
     "data": {
      "text/plain": [
       "<pandas.core.groupby.groupby.DataFrameGroupBy object at 0x7f984f35a240>"
      ]
     },
     "execution_count": 40,
     "metadata": {},
     "output_type": "execute_result"
    }
   ],
   "source": [
    "df_mirbase_s"
   ]
  },
  {
   "cell_type": "code",
   "execution_count": 41,
   "metadata": {},
   "outputs": [],
   "source": [
    "#add miRBASE annotation to df_mite_21"
   ]
  },
  {
   "cell_type": "code",
   "execution_count": 42,
   "metadata": {},
   "outputs": [],
   "source": [
    "df_mite_21['miRBASE'] = ''\n",
    "for k_mite, v_mite in df_mite_21.iterrows():\n",
    "    for name, group in df_mirbase_s:\n",
    "        if v_mite['#Locus'] == name:\n",
    "            df_mite_21.at[k_mite, 'miRBASE'] += ','.join(group.sseqid.tolist()) + '.'"
   ]
  },
  {
   "cell_type": "code",
   "execution_count": null,
   "metadata": {},
   "outputs": [],
   "source": []
  },
  {
   "cell_type": "code",
   "execution_count": 43,
   "metadata": {},
   "outputs": [],
   "source": [
    "#genomic annotation"
   ]
  },
  {
   "cell_type": "code",
   "execution_count": 44,
   "metadata": {},
   "outputs": [
    {
     "name": "stdout",
     "output_type": "stream",
     "text": [
      "all features: 2573211\n"
     ]
    }
   ],
   "source": [
    "df_ann = pd.read_csv(file_ann, index_col=False, sep='\\t', comment='#', header=None)\n",
    "df_ann.columns = ['seqname' , 'source' , 'feature' , 'start' , 'end' , 'score' , 'strand' , 'frame' , 'attribute']\n",
    "print('all features: ' + str(len(df_ann.index)))"
   ]
  },
  {
   "cell_type": "code",
   "execution_count": 45,
   "metadata": {},
   "outputs": [
    {
     "name": "stdout",
     "output_type": "stream",
     "text": [
      "gene-related features: 1593666\n"
     ]
    }
   ],
   "source": [
    "df_ann = df_ann[\n",
    "    (df_ann.feature == 'intron') | \n",
    "    (df_ann.feature == 'exon') | \n",
    "    (df_ann.feature == 'three_prime_UTR') | \n",
    "    (df_ann.feature == 'five_prime_UTR')]\n",
    "print('gene-related features: ' + str(len(df_ann.index)))"
   ]
  },
  {
   "cell_type": "code",
   "execution_count": 46,
   "metadata": {},
   "outputs": [
    {
     "name": "stdout",
     "output_type": "stream",
     "text": [
      "promoters: 120744\n"
     ]
    }
   ],
   "source": [
    "df_ann_promoters = pd.read_csv(file_ann_promoters, index_col=False, sep='\\t', comment='#', header=None)\n",
    "df_ann_promoters.columns = ['seqname' , 'source' , 'feature' , 'start' , 'end' , 'score' , 'strand' , 'frame' , 'attribute']\n",
    "print('promoters: ' + str(len(df_ann_promoters.index)))"
   ]
  },
  {
   "cell_type": "code",
   "execution_count": 47,
   "metadata": {},
   "outputs": [
    {
     "name": "stdout",
     "output_type": "stream",
     "text": [
      "total: 1714410\n"
     ]
    }
   ],
   "source": [
    "df_ann_total = pd.concat([df_ann, df_ann_promoters])\n",
    "print('total: ' + str(len(df_ann_total.index)))"
   ]
  },
  {
   "cell_type": "code",
   "execution_count": null,
   "metadata": {},
   "outputs": [],
   "source": []
  },
  {
   "cell_type": "code",
   "execution_count": null,
   "metadata": {},
   "outputs": [],
   "source": []
  },
  {
   "cell_type": "code",
   "execution_count": 48,
   "metadata": {},
   "outputs": [
    {
     "data": {
      "text/html": [
       "<div>\n",
       "<style scoped>\n",
       "    .dataframe tbody tr th:only-of-type {\n",
       "        vertical-align: middle;\n",
       "    }\n",
       "\n",
       "    .dataframe tbody tr th {\n",
       "        vertical-align: top;\n",
       "    }\n",
       "\n",
       "    .dataframe thead th {\n",
       "        text-align: right;\n",
       "    }\n",
       "</style>\n",
       "<table border=\"1\" class=\"dataframe\">\n",
       "  <thead>\n",
       "    <tr style=\"text-align: right;\">\n",
       "      <th></th>\n",
       "      <th>#Locus</th>\n",
       "      <th>Name</th>\n",
       "      <th>Length</th>\n",
       "      <th>Reads</th>\n",
       "      <th>RPM</th>\n",
       "      <th>UniqueReads</th>\n",
       "      <th>FracTop</th>\n",
       "      <th>Strand</th>\n",
       "      <th>MajorRNA</th>\n",
       "      <th>MajorRNAReads</th>\n",
       "      <th>...</th>\n",
       "      <th>MIRNA</th>\n",
       "      <th>PhaseScore</th>\n",
       "      <th>Short</th>\n",
       "      <th>Long</th>\n",
       "      <th>20</th>\n",
       "      <th>21</th>\n",
       "      <th>22</th>\n",
       "      <th>23</th>\n",
       "      <th>24</th>\n",
       "      <th>miRBASE</th>\n",
       "    </tr>\n",
       "  </thead>\n",
       "  <tbody>\n",
       "    <tr>\n",
       "      <th>15515</th>\n",
       "      <td>1A:169645857-169646029</td>\n",
       "      <td>MITE_T_62663|chr6B|624472362|624472543|TTTAAA|...</td>\n",
       "      <td>173</td>\n",
       "      <td>9</td>\n",
       "      <td>0.719</td>\n",
       "      <td>1</td>\n",
       "      <td>1.0</td>\n",
       "      <td>+</td>\n",
       "      <td>UAGAGAUUUCAAAUGGAACAC</td>\n",
       "      <td>7</td>\n",
       "      <td>...</td>\n",
       "      <td>Y</td>\n",
       "      <td>-1.0</td>\n",
       "      <td>0</td>\n",
       "      <td>0</td>\n",
       "      <td>0</td>\n",
       "      <td>9</td>\n",
       "      <td>0</td>\n",
       "      <td>0</td>\n",
       "      <td>0</td>\n",
       "      <td></td>\n",
       "    </tr>\n",
       "    <tr>\n",
       "      <th>15516</th>\n",
       "      <td>1A:169645864-169646038</td>\n",
       "      <td>MITE_T_58158|chr2D|446317622|446317827|AT|219|...</td>\n",
       "      <td>175</td>\n",
       "      <td>9</td>\n",
       "      <td>0.719</td>\n",
       "      <td>1</td>\n",
       "      <td>1.0</td>\n",
       "      <td>+</td>\n",
       "      <td>UAGAGAUUUCAAAUGGAACAC</td>\n",
       "      <td>7</td>\n",
       "      <td>...</td>\n",
       "      <td>Y</td>\n",
       "      <td>-1.0</td>\n",
       "      <td>0</td>\n",
       "      <td>0</td>\n",
       "      <td>0</td>\n",
       "      <td>9</td>\n",
       "      <td>0</td>\n",
       "      <td>0</td>\n",
       "      <td>0</td>\n",
       "      <td></td>\n",
       "    </tr>\n",
       "    <tr>\n",
       "      <th>15517</th>\n",
       "      <td>1A:169645881-169646012</td>\n",
       "      <td>MITE_T_83087|chr3D|7232862|7232993|TA|139|F3602</td>\n",
       "      <td>132</td>\n",
       "      <td>9</td>\n",
       "      <td>0.719</td>\n",
       "      <td>1</td>\n",
       "      <td>1.0</td>\n",
       "      <td>+</td>\n",
       "      <td>UAGAGAUUUCAAAUGGAACAC</td>\n",
       "      <td>7</td>\n",
       "      <td>...</td>\n",
       "      <td>Y</td>\n",
       "      <td>-1.0</td>\n",
       "      <td>0</td>\n",
       "      <td>0</td>\n",
       "      <td>0</td>\n",
       "      <td>9</td>\n",
       "      <td>0</td>\n",
       "      <td>0</td>\n",
       "      <td>0</td>\n",
       "      <td></td>\n",
       "    </tr>\n",
       "  </tbody>\n",
       "</table>\n",
       "<p>3 rows × 22 columns</p>\n",
       "</div>"
      ],
      "text/plain": [
       "                       #Locus  \\\n",
       "15515  1A:169645857-169646029   \n",
       "15516  1A:169645864-169646038   \n",
       "15517  1A:169645881-169646012   \n",
       "\n",
       "                                                    Name  Length  Reads  \\\n",
       "15515  MITE_T_62663|chr6B|624472362|624472543|TTTAAA|...     173      9   \n",
       "15516  MITE_T_58158|chr2D|446317622|446317827|AT|219|...     175      9   \n",
       "15517    MITE_T_83087|chr3D|7232862|7232993|TA|139|F3602     132      9   \n",
       "\n",
       "         RPM  UniqueReads  FracTop Strand               MajorRNA  \\\n",
       "15515  0.719            1      1.0      +  UAGAGAUUUCAAAUGGAACAC   \n",
       "15516  0.719            1      1.0      +  UAGAGAUUUCAAAUGGAACAC   \n",
       "15517  0.719            1      1.0      +  UAGAGAUUUCAAAUGGAACAC   \n",
       "\n",
       "       MajorRNAReads   ...     MIRNA  PhaseScore Short  Long  20  21  22  23  \\\n",
       "15515              7   ...         Y        -1.0     0     0   0   9   0   0   \n",
       "15516              7   ...         Y        -1.0     0     0   0   9   0   0   \n",
       "15517              7   ...         Y        -1.0     0     0   0   9   0   0   \n",
       "\n",
       "       24  miRBASE  \n",
       "15515   0           \n",
       "15516   0           \n",
       "15517   0           \n",
       "\n",
       "[3 rows x 22 columns]"
      ]
     },
     "execution_count": 48,
     "metadata": {},
     "output_type": "execute_result"
    }
   ],
   "source": [
    "df_mite_21.head(3)"
   ]
  },
  {
   "cell_type": "code",
   "execution_count": null,
   "metadata": {},
   "outputs": [],
   "source": []
  },
  {
   "cell_type": "code",
   "execution_count": 49,
   "metadata": {},
   "outputs": [
    {
     "ename": "KeyboardInterrupt",
     "evalue": "",
     "output_type": "error",
     "traceback": [
      "\u001b[0;31m---------------------------------------------------------------------------\u001b[0m",
      "\u001b[0;31mKeyboardInterrupt\u001b[0m                         Traceback (most recent call last)",
      "\u001b[0;32m<ipython-input-49-200af465c36b>\u001b[0m in \u001b[0;36m<module>\u001b[0;34m()\u001b[0m\n\u001b[1;32m      6\u001b[0m \u001b[0;32mfor\u001b[0m \u001b[0mk_mite\u001b[0m\u001b[0;34m,\u001b[0m \u001b[0mv_mite\u001b[0m \u001b[0;32min\u001b[0m \u001b[0mdf_mite_21\u001b[0m\u001b[0;34m.\u001b[0m\u001b[0miterrows\u001b[0m\u001b[0;34m(\u001b[0m\u001b[0;34m)\u001b[0m\u001b[0;34m:\u001b[0m\u001b[0;34m\u001b[0m\u001b[0;34m\u001b[0m\u001b[0m\n\u001b[1;32m      7\u001b[0m     \u001b[0mcur\u001b[0m \u001b[0;34m=\u001b[0m \u001b[0mdf_ann_total\u001b[0m\u001b[0;34m[\u001b[0m\u001b[0mdf_ann_total\u001b[0m\u001b[0;34m.\u001b[0m\u001b[0mseqname\u001b[0m \u001b[0;34m==\u001b[0m \u001b[0mv_mite\u001b[0m\u001b[0;34m.\u001b[0m\u001b[0mseqname\u001b[0m\u001b[0;34m]\u001b[0m\u001b[0;34m\u001b[0m\u001b[0;34m\u001b[0m\u001b[0m\n\u001b[0;32m----> 8\u001b[0;31m     \u001b[0;32mfor\u001b[0m \u001b[0mk_feature\u001b[0m\u001b[0;34m,\u001b[0m\u001b[0mv_feature\u001b[0m \u001b[0;32min\u001b[0m \u001b[0mcur\u001b[0m\u001b[0;34m.\u001b[0m\u001b[0miterrows\u001b[0m\u001b[0;34m(\u001b[0m\u001b[0;34m)\u001b[0m\u001b[0;34m:\u001b[0m\u001b[0;34m\u001b[0m\u001b[0;34m\u001b[0m\u001b[0m\n\u001b[0m\u001b[1;32m      9\u001b[0m         \u001b[0mstart\u001b[0m \u001b[0;34m=\u001b[0m \u001b[0mint\u001b[0m\u001b[0;34m(\u001b[0m\u001b[0mv_feature\u001b[0m\u001b[0;34m.\u001b[0m\u001b[0mstart\u001b[0m\u001b[0;34m)\u001b[0m\u001b[0;34m\u001b[0m\u001b[0;34m\u001b[0m\u001b[0m\n\u001b[1;32m     10\u001b[0m         \u001b[0mend\u001b[0m \u001b[0;34m=\u001b[0m \u001b[0mint\u001b[0m\u001b[0;34m(\u001b[0m\u001b[0mv_feature\u001b[0m\u001b[0;34m.\u001b[0m\u001b[0mend\u001b[0m\u001b[0;34m)\u001b[0m\u001b[0;34m\u001b[0m\u001b[0;34m\u001b[0m\u001b[0m\n",
      "\u001b[0;32m~/Desktop/juan/bio/venv/lib/python3.6/site-packages/pandas/core/frame.py\u001b[0m in \u001b[0;36miterrows\u001b[0;34m(self)\u001b[0m\n\u001b[1;32m    773\u001b[0m         \u001b[0mklass\u001b[0m \u001b[0;34m=\u001b[0m \u001b[0mself\u001b[0m\u001b[0;34m.\u001b[0m\u001b[0m_constructor_sliced\u001b[0m\u001b[0;34m\u001b[0m\u001b[0;34m\u001b[0m\u001b[0m\n\u001b[1;32m    774\u001b[0m         \u001b[0;32mfor\u001b[0m \u001b[0mk\u001b[0m\u001b[0;34m,\u001b[0m \u001b[0mv\u001b[0m \u001b[0;32min\u001b[0m \u001b[0mzip\u001b[0m\u001b[0;34m(\u001b[0m\u001b[0mself\u001b[0m\u001b[0;34m.\u001b[0m\u001b[0mindex\u001b[0m\u001b[0;34m,\u001b[0m \u001b[0mself\u001b[0m\u001b[0;34m.\u001b[0m\u001b[0mvalues\u001b[0m\u001b[0;34m)\u001b[0m\u001b[0;34m:\u001b[0m\u001b[0;34m\u001b[0m\u001b[0;34m\u001b[0m\u001b[0m\n\u001b[0;32m--> 775\u001b[0;31m             \u001b[0ms\u001b[0m \u001b[0;34m=\u001b[0m \u001b[0mklass\u001b[0m\u001b[0;34m(\u001b[0m\u001b[0mv\u001b[0m\u001b[0;34m,\u001b[0m \u001b[0mindex\u001b[0m\u001b[0;34m=\u001b[0m\u001b[0mcolumns\u001b[0m\u001b[0;34m,\u001b[0m \u001b[0mname\u001b[0m\u001b[0;34m=\u001b[0m\u001b[0mk\u001b[0m\u001b[0;34m)\u001b[0m\u001b[0;34m\u001b[0m\u001b[0;34m\u001b[0m\u001b[0m\n\u001b[0m\u001b[1;32m    776\u001b[0m             \u001b[0;32myield\u001b[0m \u001b[0mk\u001b[0m\u001b[0;34m,\u001b[0m \u001b[0ms\u001b[0m\u001b[0;34m\u001b[0m\u001b[0;34m\u001b[0m\u001b[0m\n\u001b[1;32m    777\u001b[0m \u001b[0;34m\u001b[0m\u001b[0m\n",
      "\u001b[0;32m~/Desktop/juan/bio/venv/lib/python3.6/site-packages/pandas/core/series.py\u001b[0m in \u001b[0;36m__init__\u001b[0;34m(self, data, index, dtype, name, copy, fastpath)\u001b[0m\n\u001b[1;32m    251\u001b[0m                     \u001b[0mdata\u001b[0m \u001b[0;34m=\u001b[0m \u001b[0;34m[\u001b[0m\u001b[0mdata\u001b[0m\u001b[0;34m]\u001b[0m\u001b[0;34m\u001b[0m\u001b[0;34m\u001b[0m\u001b[0m\n\u001b[1;32m    252\u001b[0m                 \u001b[0mindex\u001b[0m \u001b[0;34m=\u001b[0m \u001b[0mcom\u001b[0m\u001b[0;34m.\u001b[0m\u001b[0m_default_index\u001b[0m\u001b[0;34m(\u001b[0m\u001b[0mlen\u001b[0m\u001b[0;34m(\u001b[0m\u001b[0mdata\u001b[0m\u001b[0;34m)\u001b[0m\u001b[0;34m)\u001b[0m\u001b[0;34m\u001b[0m\u001b[0;34m\u001b[0m\u001b[0m\n\u001b[0;32m--> 253\u001b[0;31m             \u001b[0;32melif\u001b[0m \u001b[0mis_list_like\u001b[0m\u001b[0;34m(\u001b[0m\u001b[0mdata\u001b[0m\u001b[0;34m)\u001b[0m\u001b[0;34m:\u001b[0m\u001b[0;34m\u001b[0m\u001b[0;34m\u001b[0m\u001b[0m\n\u001b[0m\u001b[1;32m    254\u001b[0m \u001b[0;34m\u001b[0m\u001b[0m\n\u001b[1;32m    255\u001b[0m                 \u001b[0;31m# a scalar numpy array is list-like but doesn't\u001b[0m\u001b[0;34m\u001b[0m\u001b[0;34m\u001b[0m\u001b[0;34m\u001b[0m\u001b[0m\n",
      "\u001b[0;32m~/Desktop/juan/bio/venv/lib/python3.6/site-packages/pandas/core/dtypes/inference.py\u001b[0m in \u001b[0;36mis_list_like\u001b[0;34m(obj)\u001b[0m\n\u001b[1;32m    249\u001b[0m \u001b[0;34m\u001b[0m\u001b[0m\n\u001b[1;32m    250\u001b[0m \u001b[0;34m\u001b[0m\u001b[0m\n\u001b[0;32m--> 251\u001b[0;31m \u001b[0;32mdef\u001b[0m \u001b[0mis_list_like\u001b[0m\u001b[0;34m(\u001b[0m\u001b[0mobj\u001b[0m\u001b[0;34m)\u001b[0m\u001b[0;34m:\u001b[0m\u001b[0;34m\u001b[0m\u001b[0;34m\u001b[0m\u001b[0m\n\u001b[0m\u001b[1;32m    252\u001b[0m     \"\"\"\n\u001b[1;32m    253\u001b[0m     \u001b[0mCheck\u001b[0m \u001b[0;32mif\u001b[0m \u001b[0mthe\u001b[0m \u001b[0mobject\u001b[0m \u001b[0;32mis\u001b[0m \u001b[0mlist\u001b[0m\u001b[0;34m-\u001b[0m\u001b[0mlike\u001b[0m\u001b[0;34m.\u001b[0m\u001b[0;34m\u001b[0m\u001b[0;34m\u001b[0m\u001b[0m\n",
      "\u001b[0;31mKeyboardInterrupt\u001b[0m: "
     ]
    }
   ],
   "source": [
    "df_mite_21['seqname'] = df_mite_21['#Locus'].str.split(':').str[0]\n",
    "df_mite_21['start'] = df_mite_21['#Locus'].str.split(':').str[1].str.split('-').str[0]\n",
    "df_mite_21['end'] = df_mite_21['#Locus'].str.split(':').str[1].str.split('-').str[1]\n",
    "df_mite_21['feature'] = 'intergenic'\n",
    "df_mite_21['gene'] = ''\n",
    "for k_mite, v_mite in df_mite_21.iterrows():\n",
    "    cur = df_ann_total[df_ann_total.seqname == v_mite.seqname]\n",
    "    for k_feature,v_feature in cur.iterrows():\n",
    "        start = int(v_feature.start)\n",
    "        end = int(v_feature.end)\n",
    "        #overlaps with gene\n",
    "        if int(v_mite.end) >= start and int(v_mite.start) <= end:\n",
    "            #I dont want to replace 'UTRs with exon\n",
    "            if v_feature.feature != 'three_prime_UTR' and  v_feature.feature != 'five_prime_UTR':\n",
    "                df_mite_21.at[k_mite, 'feature'] = v_feature.feature\n",
    "                df_mite_21.at[k_mite, 'gene'] = v_feature.attribute\n",
    "                #print (k_mite,v_mite.Name, v_feature.feature,v_feature.attribute)\n",
    "print(len(df_mite_21.index))\n",
    "df_mite_21.feature.value_counts().plot('bar')"
   ]
  },
  {
   "cell_type": "code",
   "execution_count": null,
   "metadata": {},
   "outputs": [],
   "source": []
  },
  {
   "cell_type": "code",
   "execution_count": null,
   "metadata": {},
   "outputs": [],
   "source": [
    "df_all_21['seqname'] = df_all_21['#Locus'].str.split(':').str[0]\n",
    "df_all_21['start'] = df_all_21['#Locus'].str.split(':').str[1].str.split('-').str[0]\n",
    "df_all_21['end'] = df_all_21['#Locus'].str.split(':').str[1].str.split('-').str[1]\n",
    "df_all_21['feature'] = 'intergenic'\n",
    "df_all_21['gene'] = ''\n",
    "for k_mite, v_mite in df_all_21.iterrows():\n",
    "    cur = df_ann_total[df_ann_total.seqname == v_mite.seqname]\n",
    "    for k_feature,v_feature in cur.iterrows():\n",
    "        start = int(v_feature.start)\n",
    "        end = int(v_feature.end)\n",
    "        #overlaps with gene\n",
    "        if int(v_mite.end) >= start and int(v_mite.start) <= end:\n",
    "            #I dont want to replace 'UTRs with exon\n",
    "            if v_feature.feature != 'three_prime_UTR' and  v_feature.feature != 'five_prime_UTR':\n",
    "                df_all_21.at[k_mite, 'feature'] = v_feature.feature\n",
    "                df_all_21.at[k_mite, 'gene'] = v_feature.attribute\n",
    "print(len(df_all_21.index))\n",
    "df_all_21.feature.value_counts().plot('bar')"
   ]
  },
  {
   "cell_type": "code",
   "execution_count": null,
   "metadata": {},
   "outputs": [],
   "source": []
  },
  {
   "cell_type": "code",
   "execution_count": null,
   "metadata": {},
   "outputs": [],
   "source": []
  },
  {
   "cell_type": "code",
   "execution_count": null,
   "metadata": {},
   "outputs": [],
   "source": [
    "df_mite_21.to_csv(path_mite_21 + 'annotated.csv', sep='\\t', index=None)"
   ]
  },
  {
   "cell_type": "code",
   "execution_count": null,
   "metadata": {},
   "outputs": [],
   "source": [
    "df_mite_21['seqname_chr'] = df_mite_21.seqname.str[0]\n",
    "df_mite_21['seqname_genome'] = df_mite_21.seqname.str[1]"
   ]
  },
  {
   "cell_type": "code",
   "execution_count": null,
   "metadata": {},
   "outputs": [],
   "source": [
    "df_mite_21.head()"
   ]
  },
  {
   "cell_type": "code",
   "execution_count": null,
   "metadata": {},
   "outputs": [],
   "source": []
  },
  {
   "cell_type": "code",
   "execution_count": null,
   "metadata": {},
   "outputs": [],
   "source": []
  },
  {
   "cell_type": "code",
   "execution_count": null,
   "metadata": {},
   "outputs": [],
   "source": []
  },
  {
   "cell_type": "code",
   "execution_count": null,
   "metadata": {},
   "outputs": [],
   "source": []
  },
  {
   "cell_type": "code",
   "execution_count": null,
   "metadata": {},
   "outputs": [],
   "source": []
  },
  {
   "cell_type": "code",
   "execution_count": null,
   "metadata": {},
   "outputs": [],
   "source": []
  },
  {
   "cell_type": "code",
   "execution_count": null,
   "metadata": {},
   "outputs": [],
   "source": []
  },
  {
   "cell_type": "code",
   "execution_count": null,
   "metadata": {},
   "outputs": [],
   "source": []
  }
 ],
 "metadata": {
  "kernelspec": {
   "display_name": "Python 3",
   "language": "python",
   "name": "python3"
  },
  "language_info": {
   "codemirror_mode": {
    "name": "ipython",
    "version": 3
   },
   "file_extension": ".py",
   "mimetype": "text/x-python",
   "name": "python",
   "nbconvert_exporter": "python",
   "pygments_lexer": "ipython3",
   "version": "3.6.5"
  }
 },
 "nbformat": 4,
 "nbformat_minor": 2
}
