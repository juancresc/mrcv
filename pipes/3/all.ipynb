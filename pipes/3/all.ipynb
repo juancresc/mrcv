{
 "cells": [
  {
   "cell_type": "code",
   "execution_count": 1,
   "metadata": {},
   "outputs": [],
   "source": [
    "import pandas as pd\n",
    "import matplotlib.pyplot as plt\n",
    "import seaborn as sns\n",
    "import pandas as pd\n",
    "from Bio import SeqIO\n",
    "from Bio.SeqRecord import SeqRecord\n",
    "from Bio.Seq import Seq\n",
    "from subprocess import Popen, PIPE, call"
   ]
  },
  {
   "cell_type": "code",
   "execution_count": null,
   "metadata": {},
   "outputs": [],
   "source": []
  },
  {
   "cell_type": "code",
   "execution_count": null,
   "metadata": {},
   "outputs": [],
   "source": [
    "#loci_nt\n",
    "path_all_all = '/home/juan/Desktop/juan/bio/mrcv/data/ss/all_all/'\n",
    "path_all_21 = '/home/juan/Desktop/juan/bio/mrcv/data/ss/all_21nt/'\n",
    "path_mite_all = '/home/juan/Desktop/juan/bio/mrcv/data/ss/mite_all/'\n",
    "path_mite_21 = '/home/juan/Desktop/juan/bio/mrcv/data/ss/mite_21/'\n",
    "\n",
    "#mirbase\n",
    "path_mite_21_seqs = '/home/juan/Desktop/juan/bio/mrcv/data/ss/mite_21/mir.Y.fasta'\n",
    "path_mirbase = '/home/juan/Desktop/juan/bio/mrcv/data/ss/mite_21/mir.Y.mirbase.csv'\n",
    "\n",
    "#annotations\n",
    "file_ann = '/home/juan/Desktop/juan/bio/mrcv/data/genome/annotations/introns.gff3'\n",
    "file_ann_promoters = '/home/juan/Desktop/juan/bio/mrcv/data/genome/annotations/promoters.gff3'"
   ]
  },
  {
   "cell_type": "code",
   "execution_count": null,
   "metadata": {},
   "outputs": [],
   "source": []
  },
  {
   "cell_type": "code",
   "execution_count": null,
   "metadata": {},
   "outputs": [],
   "source": [
    "df_all_all = pd.read_csv(path_all_all + 'Results.txt', sep='\\t')\n",
    "print('all_all ' + len(df_all_all.index))"
   ]
  },
  {
   "cell_type": "code",
   "execution_count": null,
   "metadata": {},
   "outputs": [],
   "source": [
    "df_all_all = df_all_all[df_all_all.MIRNA == 'Y']\n",
    "print('all_all miRNA' + len(df_all_all.index))"
   ]
  },
  {
   "cell_type": "code",
   "execution_count": null,
   "metadata": {},
   "outputs": [],
   "source": []
  },
  {
   "cell_type": "code",
   "execution_count": null,
   "metadata": {},
   "outputs": [],
   "source": [
    "df_all_21 = pd.read_csv(path_all_21 + 'Results.txt', sep='\\t')\n",
    "print('all_21 ' + len(df_all_21.index))"
   ]
  },
  {
   "cell_type": "code",
   "execution_count": null,
   "metadata": {},
   "outputs": [],
   "source": [
    "df_all_21 = df_all_21[df_all_21.MIRNA == 'Y']\n",
    "print('all_21 miRNA ' + len(df_all_21.index))"
   ]
  },
  {
   "cell_type": "code",
   "execution_count": null,
   "metadata": {},
   "outputs": [],
   "source": []
  },
  {
   "cell_type": "code",
   "execution_count": null,
   "metadata": {},
   "outputs": [],
   "source": [
    "df_mite_all = pd.read_csv(path_mite_all + 'Results.txt', sep='\\t')\n",
    "print('mite_all ' + len(df_mite_all.index))"
   ]
  },
  {
   "cell_type": "code",
   "execution_count": null,
   "metadata": {},
   "outputs": [],
   "source": [
    "df_mite_all = df_mite_all[df_mite_all.MIRNA == 'Y']\n",
    "print('mite_all ' + len(df_mite_all.index))"
   ]
  },
  {
   "cell_type": "code",
   "execution_count": null,
   "metadata": {},
   "outputs": [],
   "source": []
  },
  {
   "cell_type": "code",
   "execution_count": null,
   "metadata": {},
   "outputs": [],
   "source": [
    "df_mite_21 = pd.read_csv(path_mite_21 + 'Results.txt', sep='\\t')\n",
    "print('mite_21 ' + len(df_mite_21.index))"
   ]
  },
  {
   "cell_type": "code",
   "execution_count": null,
   "metadata": {},
   "outputs": [],
   "source": [
    "df_mite_21 = df_mite_21[df_mite_21.MIRNA == 'Y']\n",
    "print('mite_21 ' + len(df_mite_21.index))"
   ]
  },
  {
   "cell_type": "code",
   "execution_count": null,
   "metadata": {},
   "outputs": [],
   "source": []
  },
  {
   "cell_type": "code",
   "execution_count": null,
   "metadata": {},
   "outputs": [],
   "source": [
    "#all miRNA and MITEs"
   ]
  },
  {
   "cell_type": "code",
   "execution_count": null,
   "metadata": {},
   "outputs": [],
   "source": [
    "yeses = 0\n",
    "stuff = []\n",
    "total = 0\n",
    "for k, v in df_all_all.iterrows():\n",
    "    total += 1\n",
    "    seqname = v['#Locus'].split(':')[0]\n",
    "    start = v['#Locus'].split(':')[1].split('-')[0]\n",
    "    end = v['#Locus'].split(':')[1].split('-')[1]\n",
    "    ss = False\n",
    "    for k2, v2 in df_mite_all.iterrows():\n",
    "        seqname2 = v2['#Locus'].split(':')[0]\n",
    "        if seqname2 != seqname:\n",
    "            continue\n",
    "        start2 = v2['#Locus'].split(':')[1].split('-')[0]\n",
    "        end2 = v2['#Locus'].split(':')[1].split('-')[1]\n",
    "        if int(start) <= int(end2) and int(end) >= int(start2):\n",
    "            stuff_ = {}\n",
    "            stuff_['miRNA_cluster_locus'] = v['#Locus']\n",
    "            stuff_['miRNA_cluster_name'] = v['Name']\n",
    "            stuff_['MITE_miRNA_cluster_locus'] = v2['#Locus']\n",
    "            stuff_['MITE_miRNA_cluster_name'] = v2['Name']\n",
    "            stuff.append(stuff_)\n",
    "            ss = True\n",
    "            break\n",
    "    if ss:\n",
    "        yeses += 1\n",
    "yeses * 100 / total"
   ]
  },
  {
   "cell_type": "code",
   "execution_count": null,
   "metadata": {},
   "outputs": [],
   "source": []
  },
  {
   "cell_type": "code",
   "execution_count": null,
   "metadata": {},
   "outputs": [],
   "source": [
    "#21nt miRNA and MITEs"
   ]
  },
  {
   "cell_type": "code",
   "execution_count": null,
   "metadata": {},
   "outputs": [],
   "source": [
    "yeses = 0\n",
    "stuff = []\n",
    "total = 0\n",
    "for k, v in df_all_21.iterrows():\n",
    "    total += 1\n",
    "    seqname = v['#Locus'].split(':')[0]\n",
    "    start = v['#Locus'].split(':')[1].split('-')[0]\n",
    "    end = v['#Locus'].split(':')[1].split('-')[1]\n",
    "    ss = False\n",
    "    for k2, v2 in df_mite_21.iterrows():\n",
    "        seqname2 = v2['#Locus'].split(':')[0]\n",
    "        if seqname2 != seqname:\n",
    "            continue\n",
    "        start2 = v2['#Locus'].split(':')[1].split('-')[0]\n",
    "        end2 = v2['#Locus'].split(':')[1].split('-')[1]\n",
    "        if int(start) <= int(end2) and int(end) >= int(start2):\n",
    "            stuff_ = {}\n",
    "            stuff_['miRNA_cluster_locus'] = v['#Locus']\n",
    "            stuff_['miRNA_cluster_name'] = v['Name']\n",
    "            stuff_['MITE_miRNA_cluster_locus'] = v2['#Locus']\n",
    "            stuff_['MITE_miRNA_cluster_name'] = v2['Name']\n",
    "            stuff.append(stuff_)\n",
    "            ss = True\n",
    "            break\n",
    "    if ss:\n",
    "        yeses += 1\n",
    "yeses * 100 / total"
   ]
  },
  {
   "cell_type": "code",
   "execution_count": null,
   "metadata": {},
   "outputs": [],
   "source": []
  },
  {
   "cell_type": "code",
   "execution_count": null,
   "metadata": {},
   "outputs": [],
   "source": []
  },
  {
   "cell_type": "code",
   "execution_count": null,
   "metadata": {},
   "outputs": [],
   "source": [
    "#mirBASE with 21"
   ]
  },
  {
   "cell_type": "code",
   "execution_count": null,
   "metadata": {},
   "outputs": [],
   "source": [
    "records = []\n",
    "for k,v in df_all_21.iterrows():\n",
    "    record = SeqRecord(Seq(v.MajorRNA), id=v['#Locus'], description=v['Name'])\n",
    "    records.append(record)\n",
    "SeqIO.write(records, path_mite_21_seqs, 'fasta')"
   ]
  },
  {
   "cell_type": "raw",
   "metadata": {},
   "source": [
    "#blast\n",
    "blastn -task blastn -query /home/juan/Desktop/juan/bio/mrcv/data/ss/mite_21/mir.Y.fasta -subject /home/juan/Desktop/juan/bio/mrcv/data/mature.fa -outfmt \"6 qseqid sseqid qstart qend sstart send mismatch gaps pident evalue length qlen slen qcovs\" > /home/juan/Desktop/juan/bio/mrcv/data/ss/mite_21/mir.Y.mirbase.csv"
   ]
  },
  {
   "cell_type": "code",
   "execution_count": null,
   "metadata": {},
   "outputs": [],
   "source": [
    "df_mirbase = pd.read_csv(path_mirbase, sep=\"\\t\")\n",
    "cols = ['qseqid','sseqid','qstart','qend','sstart','send','mismatch','gaps','pident','evalue','length','qlen','slen','qcovs']\n",
    "df_mirbase.columns = cols\n",
    "print(len(df_mirbase.index))\n",
    "df_mirbase.head(2)"
   ]
  },
  {
   "cell_type": "code",
   "execution_count": null,
   "metadata": {},
   "outputs": [],
   "source": [
    "df_mirbase = df_mirbase[df_mirbase.length >= df_mirbase.qlen - 2]\n",
    "print('lenght >= length -2 ' + len(df_mirbase.index))"
   ]
  },
  {
   "cell_type": "code",
   "execution_count": null,
   "metadata": {},
   "outputs": [],
   "source": [
    "df_mirbase = df_mirbase[df_mirbase.mismatch + df_mirbase.gaps <= 2]\n",
    "print('gaps <= 2 ' + len(df_mirbase.index))"
   ]
  },
  {
   "cell_type": "code",
   "execution_count": null,
   "metadata": {},
   "outputs": [],
   "source": [
    "print('MITEs with miRBASE results ' + len(df_mirbase.qseqid.unique().tolist()))"
   ]
  },
  {
   "cell_type": "code",
   "execution_count": null,
   "metadata": {},
   "outputs": [],
   "source": [
    "df_mirbase_s = df_mirbase.groupby('qseqid')['sseqid'].apply(lambda x: \"%s\" % ', '.join(x))"
   ]
  },
  {
   "cell_type": "code",
   "execution_count": null,
   "metadata": {},
   "outputs": [],
   "source": [
    "df_mirbase_s"
   ]
  },
  {
   "cell_type": "code",
   "execution_count": null,
   "metadata": {},
   "outputs": [],
   "source": [
    "#add miRBASE annotation to df_mite_21"
   ]
  },
  {
   "cell_type": "code",
   "execution_count": null,
   "metadata": {},
   "outputs": [],
   "source": [
    "df_mite_21['miRBASE'] = ''\n",
    "for k_mite, v_mite in df_mite_21.iterrows():\n",
    "    for k,v in df_mirbase_s.iterrows():\n",
    "        if v_mite['#Locus'] == v.qseqid:\n",
    "            df_mite_21.at[k_mite, 'miRBASE'] += v.sseqid + '.'"
   ]
  },
  {
   "cell_type": "code",
   "execution_count": null,
   "metadata": {},
   "outputs": [],
   "source": []
  },
  {
   "cell_type": "code",
   "execution_count": null,
   "metadata": {},
   "outputs": [],
   "source": [
    "#genomic annotation"
   ]
  },
  {
   "cell_type": "code",
   "execution_count": null,
   "metadata": {},
   "outputs": [],
   "source": [
    "df_ann = pd.read_csv(file_ann, index_col=False, sep='\\t', comment='#', header=None)\n",
    "df_ann.columns = ['seqname' , 'source' , 'feature' , 'start' , 'end' , 'score' , 'strand' , 'frame' , 'attribute']\n",
    "print('all features: ' + len(df_ann.index))"
   ]
  },
  {
   "cell_type": "code",
   "execution_count": null,
   "metadata": {},
   "outputs": [],
   "source": [
    "df_ann = df_ann[\n",
    "    (df_ann.feature == 'intron') | \n",
    "    (df_ann.feature == 'exon') | \n",
    "    (df_ann.feature == 'three_prime_UTR') | \n",
    "    (df_ann.feature == 'five_prime_UTR')]\n",
    "print('gene-related features: ' + len(df_ann.index))"
   ]
  },
  {
   "cell_type": "code",
   "execution_count": null,
   "metadata": {},
   "outputs": [],
   "source": [
    "df_ann_promoters = pd.read_csv(file_ann_promoters, index_col=False, sep='\\t', comment='#', header=None)\n",
    "df_ann_promoters.columns = ['seqname' , 'source' , 'feature' , 'start' , 'end' , 'score' , 'strand' , 'frame' , 'attribute']\n",
    "print('promoters: ' + len(df_ann_promoters.index))"
   ]
  },
  {
   "cell_type": "code",
   "execution_count": null,
   "metadata": {},
   "outputs": [],
   "source": [
    "df_ann_total = pd.concat([df_ann, df_ann_promoters])\n",
    "print('total: ' + len(df_ann_total.index))"
   ]
  },
  {
   "cell_type": "code",
   "execution_count": null,
   "metadata": {},
   "outputs": [],
   "source": [
    "df_mite_21['feature'] = ''\n",
    "df_mite_21['gene'] = ''\n",
    "for k_mite, v_mite in df_mite_21.iterrows():\n",
    "    cur = df_ann_total[df_ann_total.seqname == v_mite.seqname]\n",
    "    for k_feature,v_feature in cur.iterrows():\n",
    "        start = int(v_feature.start)\n",
    "        end = int(v_feature.end)\n",
    "        #overlaps with gene\n",
    "        if int(v_mite.end) >= start and int(v_mite.start) <= end:\n",
    "            df_mite_21.at[k_mite, 'feature'] += v_feature.feature + '.'\n",
    "            df_mite_21.at[k_mite, 'gene'] += v_feature.attribute + '.'\n",
    "            print (v_mite.attribute, v_feature.feature)\n",
    "            break"
   ]
  },
  {
   "cell_type": "code",
   "execution_count": null,
   "metadata": {},
   "outputs": [],
   "source": []
  },
  {
   "cell_type": "code",
   "execution_count": null,
   "metadata": {},
   "outputs": [],
   "source": []
  },
  {
   "cell_type": "code",
   "execution_count": null,
   "metadata": {},
   "outputs": [],
   "source": []
  },
  {
   "cell_type": "code",
   "execution_count": null,
   "metadata": {},
   "outputs": [],
   "source": []
  },
  {
   "cell_type": "code",
   "execution_count": null,
   "metadata": {},
   "outputs": [],
   "source": []
  },
  {
   "cell_type": "code",
   "execution_count": null,
   "metadata": {},
   "outputs": [],
   "source": []
  },
  {
   "cell_type": "code",
   "execution_count": null,
   "metadata": {},
   "outputs": [],
   "source": []
  },
  {
   "cell_type": "code",
   "execution_count": null,
   "metadata": {},
   "outputs": [],
   "source": []
  },
  {
   "cell_type": "code",
   "execution_count": null,
   "metadata": {},
   "outputs": [],
   "source": []
  },
  {
   "cell_type": "code",
   "execution_count": null,
   "metadata": {},
   "outputs": [],
   "source": []
  }
 ],
 "metadata": {
  "kernelspec": {
   "display_name": "Python 3",
   "language": "python",
   "name": "python3"
  },
  "language_info": {
   "codemirror_mode": {
    "name": "ipython",
    "version": 3
   },
   "file_extension": ".py",
   "mimetype": "text/x-python",
   "name": "python",
   "nbconvert_exporter": "python",
   "pygments_lexer": "ipython3",
   "version": "3.6.5"
  }
 },
 "nbformat": 4,
 "nbformat_minor": 2
}
