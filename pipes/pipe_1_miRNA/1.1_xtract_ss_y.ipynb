{
 "cells": [
  {
   "cell_type": "code",
   "execution_count": 22,
   "metadata": {},
   "outputs": [],
   "source": [
    "import pandas as pd\n",
    "data_dir = \"../data/ss/04_02_19/\""
   ]
  },
  {
   "cell_type": "code",
   "execution_count": null,
   "metadata": {},
   "outputs": [],
   "source": [
    "#!tr -s '\\t' '\\t' < counts.csv > counts.fixed.csv"
   ]
  },
  {
   "cell_type": "code",
   "execution_count": 24,
   "metadata": {},
   "outputs": [],
   "source": [
    "path_counts = data_dir + \"counts.fixed.csv\"\n",
    "df_counts = pd.read_csv(path_counts, sep=\"\\t\", comment='#')\n"
   ]
  },
  {
   "cell_type": "code",
   "execution_count": 25,
   "metadata": {},
   "outputs": [
    {
     "data": {
      "text/html": [
       "<div>\n",
       "<style scoped>\n",
       "    .dataframe tbody tr th:only-of-type {\n",
       "        vertical-align: middle;\n",
       "    }\n",
       "\n",
       "    .dataframe tbody tr th {\n",
       "        vertical-align: top;\n",
       "    }\n",
       "\n",
       "    .dataframe thead th {\n",
       "        text-align: right;\n",
       "    }\n",
       "</style>\n",
       "<table border=\"1\" class=\"dataframe\">\n",
       "  <thead>\n",
       "    <tr style=\"text-align: right;\">\n",
       "      <th></th>\n",
       "      <th>Locus</th>\n",
       "      <th>Name</th>\n",
       "      <th>main</th>\n",
       "      <th>21dpiR1C.trimmed</th>\n",
       "      <th>21dpiR3C.trimmed</th>\n",
       "      <th>21dpiR1T.trimmed</th>\n",
       "      <th>21dpiR3T.trimmed</th>\n",
       "    </tr>\n",
       "  </thead>\n",
       "  <tbody>\n",
       "    <tr>\n",
       "      <th>0</th>\n",
       "      <td>1A:209-460</td>\n",
       "      <td>Cluster_1</td>\n",
       "      <td>124</td>\n",
       "      <td>18</td>\n",
       "      <td>22</td>\n",
       "      <td>47</td>\n",
       "      <td>37</td>\n",
       "    </tr>\n",
       "    <tr>\n",
       "      <th>1</th>\n",
       "      <td>1A:688-753</td>\n",
       "      <td>Cluster_2</td>\n",
       "      <td>86</td>\n",
       "      <td>30</td>\n",
       "      <td>10</td>\n",
       "      <td>28</td>\n",
       "      <td>18</td>\n",
       "    </tr>\n",
       "  </tbody>\n",
       "</table>\n",
       "</div>"
      ],
      "text/plain": [
       "        Locus       Name  main  21dpiR1C.trimmed  21dpiR3C.trimmed  \\\n",
       "0  1A:209-460  Cluster_1   124                18                22   \n",
       "1  1A:688-753  Cluster_2    86                30                10   \n",
       "\n",
       "   21dpiR1T.trimmed  21dpiR3T.trimmed  \n",
       "0                47                37  \n",
       "1                28                18  "
      ]
     },
     "execution_count": 25,
     "metadata": {},
     "output_type": "execute_result"
    }
   ],
   "source": [
    "df_counts.head(2)"
   ]
  },
  {
   "cell_type": "code",
   "execution_count": 26,
   "metadata": {},
   "outputs": [
    {
     "name": "stdout",
     "output_type": "stream",
     "text": [
      "38496\n"
     ]
    }
   ],
   "source": [
    "print(len(df_counts.index))"
   ]
  },
  {
   "cell_type": "code",
   "execution_count": 27,
   "metadata": {},
   "outputs": [
    {
     "data": {
      "text/html": [
       "<div>\n",
       "<style scoped>\n",
       "    .dataframe tbody tr th:only-of-type {\n",
       "        vertical-align: middle;\n",
       "    }\n",
       "\n",
       "    .dataframe tbody tr th {\n",
       "        vertical-align: top;\n",
       "    }\n",
       "\n",
       "    .dataframe thead th {\n",
       "        text-align: right;\n",
       "    }\n",
       "</style>\n",
       "<table border=\"1\" class=\"dataframe\">\n",
       "  <thead>\n",
       "    <tr style=\"text-align: right;\">\n",
       "      <th></th>\n",
       "      <th>#Locus</th>\n",
       "      <th>Name</th>\n",
       "      <th>Length</th>\n",
       "      <th>Reads</th>\n",
       "      <th>RPM</th>\n",
       "      <th>UniqueReads</th>\n",
       "      <th>FracTop</th>\n",
       "      <th>Strand</th>\n",
       "      <th>MajorRNA</th>\n",
       "      <th>MajorRNAReads</th>\n",
       "      <th>...</th>\n",
       "      <th>DicerCall</th>\n",
       "      <th>MIRNA</th>\n",
       "      <th>PhaseScore</th>\n",
       "      <th>Short</th>\n",
       "      <th>Long</th>\n",
       "      <th>20</th>\n",
       "      <th>21</th>\n",
       "      <th>22</th>\n",
       "      <th>23</th>\n",
       "      <th>24</th>\n",
       "    </tr>\n",
       "  </thead>\n",
       "  <tbody>\n",
       "    <tr>\n",
       "      <th>0</th>\n",
       "      <td>1A:209-460</td>\n",
       "      <td>Cluster_1</td>\n",
       "      <td>252</td>\n",
       "      <td>124</td>\n",
       "      <td>0.973</td>\n",
       "      <td>64</td>\n",
       "      <td>1.0</td>\n",
       "      <td>+</td>\n",
       "      <td>CGCGGAUUGCUCGAGCUGCUCACGCGGCGAGAGCGGGUCG</td>\n",
       "      <td>25</td>\n",
       "      <td>...</td>\n",
       "      <td>N</td>\n",
       "      <td>N2</td>\n",
       "      <td>-1.0</td>\n",
       "      <td>29</td>\n",
       "      <td>79</td>\n",
       "      <td>2</td>\n",
       "      <td>1</td>\n",
       "      <td>4</td>\n",
       "      <td>5</td>\n",
       "      <td>4</td>\n",
       "    </tr>\n",
       "    <tr>\n",
       "      <th>1</th>\n",
       "      <td>1A:688-753</td>\n",
       "      <td>Cluster_2</td>\n",
       "      <td>66</td>\n",
       "      <td>86</td>\n",
       "      <td>0.675</td>\n",
       "      <td>0</td>\n",
       "      <td>1.0</td>\n",
       "      <td>+</td>\n",
       "      <td>UAGACCGACUUUGUGAAAUG</td>\n",
       "      <td>5</td>\n",
       "      <td>...</td>\n",
       "      <td>N</td>\n",
       "      <td>N2</td>\n",
       "      <td>-1.0</td>\n",
       "      <td>8</td>\n",
       "      <td>56</td>\n",
       "      <td>7</td>\n",
       "      <td>1</td>\n",
       "      <td>3</td>\n",
       "      <td>6</td>\n",
       "      <td>5</td>\n",
       "    </tr>\n",
       "  </tbody>\n",
       "</table>\n",
       "<p>2 rows × 21 columns</p>\n",
       "</div>"
      ],
      "text/plain": [
       "       #Locus       Name  Length  Reads    RPM  UniqueReads  FracTop Strand  \\\n",
       "0  1A:209-460  Cluster_1     252    124  0.973           64      1.0      +   \n",
       "1  1A:688-753  Cluster_2      66     86  0.675            0      1.0      +   \n",
       "\n",
       "                                   MajorRNA  MajorRNAReads ...  DicerCall  \\\n",
       "0  CGCGGAUUGCUCGAGCUGCUCACGCGGCGAGAGCGGGUCG             25 ...          N   \n",
       "1                      UAGACCGACUUUGUGAAAUG              5 ...          N   \n",
       "\n",
       "  MIRNA PhaseScore  Short  Long  20  21  22  23  24  \n",
       "0    N2       -1.0     29    79   2   1   4   5   4  \n",
       "1    N2       -1.0      8    56   7   1   3   6   5  \n",
       "\n",
       "[2 rows x 21 columns]"
      ]
     },
     "execution_count": 27,
     "metadata": {},
     "output_type": "execute_result"
    }
   ],
   "source": [
    "path_results = data_dir + \"Results.txt\"\n",
    "df_res = pd.read_csv(path_results, sep=\"\\t\")\n",
    "df_res.head(2)"
   ]
  },
  {
   "cell_type": "code",
   "execution_count": 28,
   "metadata": {},
   "outputs": [
    {
     "name": "stdout",
     "output_type": "stream",
     "text": [
      "38496\n"
     ]
    }
   ],
   "source": [
    "print(len(df_res.index))"
   ]
  },
  {
   "cell_type": "code",
   "execution_count": 29,
   "metadata": {},
   "outputs": [
    {
     "name": "stdout",
     "output_type": "stream",
     "text": [
      "139\n"
     ]
    }
   ],
   "source": [
    "df_res = df_res[df_res.MIRNA == \"Y\"]\n",
    "print(len(df_res.index))"
   ]
  },
  {
   "cell_type": "code",
   "execution_count": 30,
   "metadata": {},
   "outputs": [],
   "source": [
    "valids = df_res.Name.unique().tolist()\n",
    "df_counts = df_counts[df_counts.Name.isin(valids)]"
   ]
  },
  {
   "cell_type": "code",
   "execution_count": 31,
   "metadata": {},
   "outputs": [],
   "source": [
    "df_counts.to_csv(data_dir + 'counts.valid.csv', sep=\"\\t\", index=None)"
   ]
  },
  {
   "cell_type": "code",
   "execution_count": null,
   "metadata": {},
   "outputs": [],
   "source": []
  }
 ],
 "metadata": {
  "kernelspec": {
   "display_name": "Python 3",
   "language": "python",
   "name": "python3"
  },
  "language_info": {
   "codemirror_mode": {
    "name": "ipython",
    "version": 2
   },
   "file_extension": ".py",
   "mimetype": "text/x-python",
   "name": "python",
   "nbconvert_exporter": "python",
   "pygments_lexer": "ipython2",
   "version": "2.7.15"
  }
 },
 "nbformat": 4,
 "nbformat_minor": 2
}
