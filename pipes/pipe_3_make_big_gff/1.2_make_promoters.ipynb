{
 "cells": [
  {
   "cell_type": "code",
   "execution_count": 17,
   "metadata": {},
   "outputs": [],
   "source": [
    "import pandas as pd\n",
    "path_gff_genes = \"../../data/libs/genes.gff3\"\n",
    "path_gff_genome = \"../../data/libs/wheat.gff3\""
   ]
  },
  {
   "cell_type": "code",
   "execution_count": 18,
   "metadata": {},
   "outputs": [],
   "source": [
    "df_genome = pd.read_csv(path_gff_genome,sep=\"\\t\", header=None)\n",
    "df_genome.columns = ['seqname' , 'source' , 'feature' , 'start' , 'end' , 'score' , 'strand' , 'frame' , 'attribute']\n",
    "g_ends = {}\n",
    "for k,v in df_genome.iterrows():\n",
    "    g_ends[v.seqname] = v.end\n"
   ]
  },
  {
   "cell_type": "code",
   "execution_count": 19,
   "metadata": {},
   "outputs": [
    {
     "name": "stdout",
     "output_type": "stream",
     "text": [
      "107891\n"
     ]
    }
   ],
   "source": [
    "df_gff = pd.read_csv(path_gff, index_col=False, sep='\\t', header=None, comment='#')\n",
    "df_gff.columns = ['seqname', 'source', 'feature', 'start', 'end', 'score', 'strand', 'frame', 'attribute']\n",
    "print(len(df_gff.index))"
   ]
  },
  {
   "cell_type": "code",
   "execution_count": 20,
   "metadata": {},
   "outputs": [
    {
     "name": "stdout",
     "output_type": "stream",
     "text": [
      "107891\n"
     ]
    }
   ],
   "source": [
    "df_gff = df_gff[(df_gff.feature == 'gene') | (df_gff.feature == 'ncRNA_gene')]\n",
    "print(len(df_gff.index))"
   ]
  },
  {
   "cell_type": "code",
   "execution_count": 21,
   "metadata": {},
   "outputs": [
    {
     "data": {
      "text/html": [
       "<div>\n",
       "<table border=\"1\" class=\"dataframe\">\n",
       "  <thead>\n",
       "    <tr style=\"text-align: right;\">\n",
       "      <th></th>\n",
       "      <th>seqname</th>\n",
       "      <th>source</th>\n",
       "      <th>feature</th>\n",
       "      <th>start</th>\n",
       "      <th>end</th>\n",
       "      <th>score</th>\n",
       "      <th>strand</th>\n",
       "      <th>frame</th>\n",
       "      <th>attribute</th>\n",
       "    </tr>\n",
       "  </thead>\n",
       "  <tbody>\n",
       "    <tr>\n",
       "      <th>0</th>\n",
       "      <td>1A</td>\n",
       "      <td>IWGSC</td>\n",
       "      <td>gene</td>\n",
       "      <td>40098</td>\n",
       "      <td>70338</td>\n",
       "      <td>.</td>\n",
       "      <td>-</td>\n",
       "      <td>.</td>\n",
       "      <td>ID=gene:TraesCS1A02G000100;biotype=protein_cod...</td>\n",
       "    </tr>\n",
       "    <tr>\n",
       "      <th>1</th>\n",
       "      <td>1A</td>\n",
       "      <td>IWGSC</td>\n",
       "      <td>gene</td>\n",
       "      <td>70239</td>\n",
       "      <td>89245</td>\n",
       "      <td>.</td>\n",
       "      <td>+</td>\n",
       "      <td>.</td>\n",
       "      <td>ID=gene:TraesCS1A02G000200;biotype=protein_cod...</td>\n",
       "    </tr>\n",
       "  </tbody>\n",
       "</table>\n",
       "</div>"
      ],
      "text/plain": [
       "  seqname source feature  start    end score strand frame  \\\n",
       "0      1A  IWGSC    gene  40098  70338     .      -     .   \n",
       "1      1A  IWGSC    gene  70239  89245     .      +     .   \n",
       "\n",
       "                                           attribute  \n",
       "0  ID=gene:TraesCS1A02G000100;biotype=protein_cod...  \n",
       "1  ID=gene:TraesCS1A02G000200;biotype=protein_cod...  "
      ]
     },
     "execution_count": 21,
     "metadata": {},
     "output_type": "execute_result"
    }
   ],
   "source": [
    "df_gff.head(2)"
   ]
  },
  {
   "cell_type": "code",
   "execution_count": null,
   "metadata": {},
   "outputs": [],
   "source": []
  },
  {
   "cell_type": "code",
   "execution_count": 22,
   "metadata": {},
   "outputs": [
    {
     "name": "stdout",
     "output_type": "stream",
     "text": [
      "seqname                                                     1A\n",
      "source                                                   IWGSC\n",
      "feature                                                   gene\n",
      "start                                                    41598\n",
      "end                                                      70338\n",
      "score                                                        .\n",
      "strand                                                       -\n",
      "frame                                                        .\n",
      "attribute    ID=gene:TraesCS1A02G000100;biotype=protein_cod...\n",
      "Name: 0, dtype: object\n"
     ]
    }
   ],
   "source": [
    "rows = []\n",
    "for k,v in df_gff.iterrows():\n",
    "    print(v)\n",
    "    if v.strand == \"+\":\n",
    "        v.start = max(0, v.start - 1500)\n",
    "    else:\n",
    "        v.start = min(g_ends[v.seqname], v.start + 1500)\n",
    "    print(v)\n",
    "    break"
   ]
  },
  {
   "cell_type": "code",
   "execution_count": null,
   "metadata": {},
   "outputs": [],
   "source": []
  }
 ],
 "metadata": {
  "kernelspec": {
   "display_name": "Python 3",
   "language": "python",
   "name": "python3"
  },
  "language_info": {
   "codemirror_mode": {
    "name": "ipython",
    "version": 2
   },
   "file_extension": ".py",
   "mimetype": "text/x-python",
   "name": "python",
   "nbconvert_exporter": "python",
   "pygments_lexer": "ipython2",
   "version": "2.7.15"
  }
 },
 "nbformat": 4,
 "nbformat_minor": 2
}
