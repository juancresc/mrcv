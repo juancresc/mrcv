{
 "cells": [
  {
   "cell_type": "code",
   "execution_count": 63,
   "metadata": {},
   "outputs": [],
   "source": [
    "import pandas as pd\n"
   ]
  },
  {
   "cell_type": "code",
   "execution_count": 64,
   "metadata": {},
   "outputs": [],
   "source": [
    "path_merged = '../../data/res/04_02_19/targets_go.csv'\n",
    "path_res = '../../data/res/04_02_19/targets_go_mirbase.csv'\n",
    "path_mirbase_blast = \"../../data/res/04_02_19/DEG_miRNA_mirBASE.csv\""
   ]
  },
  {
   "cell_type": "code",
   "execution_count": 65,
   "metadata": {},
   "outputs": [
    {
     "name": "stdout",
     "output_type": "stream",
     "text": [
      "487\n"
     ]
    },
    {
     "data": {
      "text/html": [
       "<div>\n",
       "<style scoped>\n",
       "    .dataframe tbody tr th:only-of-type {\n",
       "        vertical-align: middle;\n",
       "    }\n",
       "\n",
       "    .dataframe tbody tr th {\n",
       "        vertical-align: top;\n",
       "    }\n",
       "\n",
       "    .dataframe thead th {\n",
       "        text-align: right;\n",
       "    }\n",
       "</style>\n",
       "<table border=\"1\" class=\"dataframe\">\n",
       "  <thead>\n",
       "    <tr style=\"text-align: right;\">\n",
       "      <th></th>\n",
       "      <th>qseqid</th>\n",
       "      <th>sseqid</th>\n",
       "      <th>qstart</th>\n",
       "      <th>qend</th>\n",
       "      <th>sstart</th>\n",
       "      <th>send</th>\n",
       "      <th>mismatch</th>\n",
       "      <th>gaps</th>\n",
       "      <th>pident</th>\n",
       "      <th>evalue</th>\n",
       "      <th>length</th>\n",
       "      <th>qlen</th>\n",
       "      <th>slen</th>\n",
       "      <th>qcovs</th>\n",
       "    </tr>\n",
       "  </thead>\n",
       "  <tbody>\n",
       "    <tr>\n",
       "      <th>0</th>\n",
       "      <td>Cluster_6291</td>\n",
       "      <td>pab-miR399d</td>\n",
       "      <td>1</td>\n",
       "      <td>21</td>\n",
       "      <td>1</td>\n",
       "      <td>21</td>\n",
       "      <td>0</td>\n",
       "      <td>0</td>\n",
       "      <td>100.0</td>\n",
       "      <td>0.000004</td>\n",
       "      <td>21</td>\n",
       "      <td>21</td>\n",
       "      <td>21</td>\n",
       "      <td>100</td>\n",
       "    </tr>\n",
       "    <tr>\n",
       "      <th>1</th>\n",
       "      <td>Cluster_6291</td>\n",
       "      <td>fve-miR399a</td>\n",
       "      <td>1</td>\n",
       "      <td>21</td>\n",
       "      <td>1</td>\n",
       "      <td>21</td>\n",
       "      <td>0</td>\n",
       "      <td>0</td>\n",
       "      <td>100.0</td>\n",
       "      <td>0.000004</td>\n",
       "      <td>21</td>\n",
       "      <td>21</td>\n",
       "      <td>21</td>\n",
       "      <td>100</td>\n",
       "    </tr>\n",
       "  </tbody>\n",
       "</table>\n",
       "</div>"
      ],
      "text/plain": [
       "         qseqid       sseqid  qstart  qend  sstart  send  mismatch  gaps  \\\n",
       "0  Cluster_6291  pab-miR399d       1    21       1    21         0     0   \n",
       "1  Cluster_6291  fve-miR399a       1    21       1    21         0     0   \n",
       "\n",
       "   pident    evalue  length  qlen  slen  qcovs  \n",
       "0   100.0  0.000004      21    21    21    100  \n",
       "1   100.0  0.000004      21    21    21    100  "
      ]
     },
     "execution_count": 65,
     "metadata": {},
     "output_type": "execute_result"
    }
   ],
   "source": [
    "df_mirbase = pd.read_csv(path_mirbase_blast, sep=\"\\t\")\n",
    "cols = ['qseqid','sseqid','qstart','qend','sstart','send','mismatch','gaps','pident','evalue','length','qlen','slen','qcovs']\n",
    "df_mirbase.columns = cols\n",
    "print(len(df_mirbase.index))\n",
    "df_mirbase.head(2)"
   ]
  },
  {
   "cell_type": "code",
   "execution_count": 66,
   "metadata": {},
   "outputs": [
    {
     "name": "stdout",
     "output_type": "stream",
     "text": [
      "326\n"
     ]
    }
   ],
   "source": [
    "df_mirbase = df_mirbase[df_mirbase.length > df_mirbase.qlen - 2]\n",
    "print(len(df_mirbase.index))"
   ]
  },
  {
   "cell_type": "code",
   "execution_count": 67,
   "metadata": {},
   "outputs": [
    {
     "name": "stdout",
     "output_type": "stream",
     "text": [
      "323\n"
     ]
    }
   ],
   "source": [
    "df_mirbase = df_mirbase[df_mirbase.mismatch + df_mirbase.gaps <= 2]\n",
    "print(len(df_mirbase.index))"
   ]
  },
  {
   "cell_type": "code",
   "execution_count": 68,
   "metadata": {},
   "outputs": [
    {
     "data": {
      "text/plain": [
       "10"
      ]
     },
     "execution_count": 68,
     "metadata": {},
     "output_type": "execute_result"
    }
   ],
   "source": [
    "len(df_mirbase.qseqid.unique().tolist())"
   ]
  },
  {
   "cell_type": "code",
   "execution_count": 69,
   "metadata": {},
   "outputs": [],
   "source": [
    "df_mirbase = df_mirbase[['qseqid','sseqid']]"
   ]
  },
  {
   "cell_type": "code",
   "execution_count": 70,
   "metadata": {},
   "outputs": [],
   "source": [
    "\n",
    "df_mirbase_s = df_mirbase.groupby('qseqid')['sseqid'].apply(lambda x: \"%s\" % ', '.join(x))"
   ]
  },
  {
   "cell_type": "code",
   "execution_count": 71,
   "metadata": {},
   "outputs": [],
   "source": [
    "\n",
    "df_mirbase_g = pd.DataFrame({'miRNA_name':df_mirbase_s.index, 'mirbase':df_mirbase_s.values})\n"
   ]
  },
  {
   "cell_type": "code",
   "execution_count": null,
   "metadata": {},
   "outputs": [],
   "source": []
  },
  {
   "cell_type": "code",
   "execution_count": 74,
   "metadata": {},
   "outputs": [
    {
     "data": {
      "text/html": [
       "<div>\n",
       "<style scoped>\n",
       "    .dataframe tbody tr th:only-of-type {\n",
       "        vertical-align: middle;\n",
       "    }\n",
       "\n",
       "    .dataframe tbody tr th {\n",
       "        vertical-align: top;\n",
       "    }\n",
       "\n",
       "    .dataframe thead th {\n",
       "        text-align: right;\n",
       "    }\n",
       "</style>\n",
       "<table border=\"1\" class=\"dataframe\">\n",
       "  <thead>\n",
       "    <tr style=\"text-align: right;\">\n",
       "      <th></th>\n",
       "      <th>miRNA_name</th>\n",
       "      <th>miRNA_l2fc</th>\n",
       "      <th>target</th>\n",
       "      <th>gene</th>\n",
       "      <th>gene_l2fc</th>\n",
       "      <th>Expectation</th>\n",
       "      <th>miRNA_aligned_fragment</th>\n",
       "      <th>Target_aligned_fragment</th>\n",
       "      <th>Inhibition</th>\n",
       "      <th>description</th>\n",
       "    </tr>\n",
       "  </thead>\n",
       "  <tbody>\n",
       "    <tr>\n",
       "      <th>0</th>\n",
       "      <td>Cluster_30749</td>\n",
       "      <td>0.604528</td>\n",
       "      <td>TraesCS5B02G062100.1</td>\n",
       "      <td>TraesCS5B02G062100</td>\n",
       "      <td>1.378806</td>\n",
       "      <td>2.5</td>\n",
       "      <td>GCGGCUCUGUGGUGUUCAAGC</td>\n",
       "      <td>UGGUGACCACCACGGAGCCGC</td>\n",
       "      <td>Cleavage</td>\n",
       "      <td>Kinase interacting (KIP1-like) family protein,...</td>\n",
       "    </tr>\n",
       "    <tr>\n",
       "      <th>1</th>\n",
       "      <td>Cluster_9839</td>\n",
       "      <td>-1.373090</td>\n",
       "      <td>TraesCS2B02G490400.1</td>\n",
       "      <td>TraesCS2B02G490400</td>\n",
       "      <td>1.957450</td>\n",
       "      <td>2.5</td>\n",
       "      <td>AGGCGGUUACCUUGGCUAGC</td>\n",
       "      <td>GCUGGCCAAGGUGGCCGCCG</td>\n",
       "      <td>Cleavage</td>\n",
       "      <td>Pectinesterase inhibitor domain containing pro...</td>\n",
       "    </tr>\n",
       "  </tbody>\n",
       "</table>\n",
       "</div>"
      ],
      "text/plain": [
       "      miRNA_name  miRNA_l2fc                target                gene  \\\n",
       "0  Cluster_30749    0.604528  TraesCS5B02G062100.1  TraesCS5B02G062100   \n",
       "1   Cluster_9839   -1.373090  TraesCS2B02G490400.1  TraesCS2B02G490400   \n",
       "\n",
       "   gene_l2fc  Expectation miRNA_aligned_fragment Target_aligned_fragment  \\\n",
       "0   1.378806          2.5  GCGGCUCUGUGGUGUUCAAGC   UGGUGACCACCACGGAGCCGC   \n",
       "1   1.957450          2.5   AGGCGGUUACCUUGGCUAGC    GCUGGCCAAGGUGGCCGCCG   \n",
       "\n",
       "  Inhibition                                        description  \n",
       "0   Cleavage  Kinase interacting (KIP1-like) family protein,...  \n",
       "1   Cleavage  Pectinesterase inhibitor domain containing pro...  "
      ]
     },
     "execution_count": 74,
     "metadata": {},
     "output_type": "execute_result"
    }
   ],
   "source": [
    "df_go = pd.read_csv(path_merged, sep=',')\n",
    "df_go.head(2)"
   ]
  },
  {
   "cell_type": "code",
   "execution_count": 75,
   "metadata": {},
   "outputs": [],
   "source": [
    "df_res = pd.merge(df_go, df_mirbase_g, on='miRNA_name', how='left')"
   ]
  },
  {
   "cell_type": "code",
   "execution_count": 76,
   "metadata": {},
   "outputs": [
    {
     "data": {
      "text/plain": [
       "'../../data/res/04_02_19/targets_go_mirbase.csv'"
      ]
     },
     "execution_count": 76,
     "metadata": {},
     "output_type": "execute_result"
    }
   ],
   "source": [
    "df_res.to_csv(path_res, index=None, sep=\"\\t\")\n",
    "path_res"
   ]
  },
  {
   "cell_type": "code",
   "execution_count": null,
   "metadata": {},
   "outputs": [],
   "source": []
  },
  {
   "cell_type": "code",
   "execution_count": null,
   "metadata": {},
   "outputs": [],
   "source": []
  }
 ],
 "metadata": {
  "kernelspec": {
   "display_name": "Python 3",
   "language": "python",
   "name": "python3"
  },
  "language_info": {
   "codemirror_mode": {
    "name": "ipython",
    "version": 3
   },
   "file_extension": ".py",
   "mimetype": "text/x-python",
   "name": "python",
   "nbconvert_exporter": "python",
   "pygments_lexer": "ipython3",
   "version": "3.6.5"
  }
 },
 "nbformat": 4,
 "nbformat_minor": 2
}
