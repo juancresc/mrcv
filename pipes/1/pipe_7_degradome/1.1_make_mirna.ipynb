{
 "cells": [
  {
   "cell_type": "code",
   "execution_count": 12,
   "metadata": {},
   "outputs": [],
   "source": [
    "import pandas as pd\n",
    "from Bio import SeqIO\n",
    "from Bio.SeqRecord import SeqRecord\n",
    "from Bio.Seq import Seq"
   ]
  },
  {
   "cell_type": "code",
   "execution_count": 13,
   "metadata": {},
   "outputs": [],
   "source": [
    "path_compare_res = '../../data/ss/04_02_19/DEG.Y.csv'\n",
    "path_out_dir = '../../data/res/04_02_19/miRNA.Y.DEG.fasta'"
   ]
  },
  {
   "cell_type": "code",
   "execution_count": 14,
   "metadata": {},
   "outputs": [
    {
     "name": "stdout",
     "output_type": "stream",
     "text": [
      "12\n"
     ]
    },
    {
     "data": {
      "text/html": [
       "<div>\n",
       "<style scoped>\n",
       "    .dataframe tbody tr th:only-of-type {\n",
       "        vertical-align: middle;\n",
       "    }\n",
       "\n",
       "    .dataframe tbody tr th {\n",
       "        vertical-align: top;\n",
       "    }\n",
       "\n",
       "    .dataframe thead th {\n",
       "        text-align: right;\n",
       "    }\n",
       "</style>\n",
       "<table border=\"1\" class=\"dataframe\">\n",
       "  <thead>\n",
       "    <tr style=\"text-align: right;\">\n",
       "      <th></th>\n",
       "      <th>#Locus</th>\n",
       "      <th>Name</th>\n",
       "      <th>Length</th>\n",
       "      <th>Reads</th>\n",
       "      <th>RPM</th>\n",
       "      <th>UniqueReads</th>\n",
       "      <th>FracTop</th>\n",
       "      <th>Strand</th>\n",
       "      <th>MajorRNA</th>\n",
       "      <th>MajorRNAReads</th>\n",
       "      <th>...</th>\n",
       "      <th>PhaseScore</th>\n",
       "      <th>Short</th>\n",
       "      <th>Long</th>\n",
       "      <th>20</th>\n",
       "      <th>21</th>\n",
       "      <th>22</th>\n",
       "      <th>23</th>\n",
       "      <th>24</th>\n",
       "      <th>Gene</th>\n",
       "      <th>log2FoldChange</th>\n",
       "    </tr>\n",
       "  </thead>\n",
       "  <tbody>\n",
       "    <tr>\n",
       "      <th>0</th>\n",
       "      <td>2A:652328872-652329011</td>\n",
       "      <td>Cluster_6291</td>\n",
       "      <td>140</td>\n",
       "      <td>1185</td>\n",
       "      <td>9.300</td>\n",
       "      <td>1</td>\n",
       "      <td>0.001</td>\n",
       "      <td>-</td>\n",
       "      <td>UGCCAAAGGAGAGUUGCCCUG</td>\n",
       "      <td>1136</td>\n",
       "      <td>...</td>\n",
       "      <td>-1.0</td>\n",
       "      <td>14</td>\n",
       "      <td>0</td>\n",
       "      <td>3</td>\n",
       "      <td>1155</td>\n",
       "      <td>11</td>\n",
       "      <td>2</td>\n",
       "      <td>0</td>\n",
       "      <td>Cluster_6291</td>\n",
       "      <td>-1.193250</td>\n",
       "    </tr>\n",
       "    <tr>\n",
       "      <th>1</th>\n",
       "      <td>2A:707747484-707747579</td>\n",
       "      <td>Cluster_6500</td>\n",
       "      <td>96</td>\n",
       "      <td>1395</td>\n",
       "      <td>10.948</td>\n",
       "      <td>1</td>\n",
       "      <td>0.999</td>\n",
       "      <td>+</td>\n",
       "      <td>UGGACGAGGAUGUGCAGCUGC</td>\n",
       "      <td>1119</td>\n",
       "      <td>...</td>\n",
       "      <td>-1.0</td>\n",
       "      <td>7</td>\n",
       "      <td>2</td>\n",
       "      <td>0</td>\n",
       "      <td>1385</td>\n",
       "      <td>1</td>\n",
       "      <td>0</td>\n",
       "      <td>0</td>\n",
       "      <td>Cluster_6500</td>\n",
       "      <td>0.832313</td>\n",
       "    </tr>\n",
       "  </tbody>\n",
       "</table>\n",
       "<p>2 rows × 23 columns</p>\n",
       "</div>"
      ],
      "text/plain": [
       "                   #Locus          Name  Length  Reads     RPM  UniqueReads  \\\n",
       "0  2A:652328872-652329011  Cluster_6291     140   1185   9.300            1   \n",
       "1  2A:707747484-707747579  Cluster_6500      96   1395  10.948            1   \n",
       "\n",
       "   FracTop Strand               MajorRNA  MajorRNAReads       ...        \\\n",
       "0    0.001      -  UGCCAAAGGAGAGUUGCCCUG           1136       ...         \n",
       "1    0.999      +  UGGACGAGGAUGUGCAGCUGC           1119       ...         \n",
       "\n",
       "   PhaseScore  Short Long  20    21  22  23  24          Gene  log2FoldChange  \n",
       "0        -1.0     14    0   3  1155  11   2   0  Cluster_6291       -1.193250  \n",
       "1        -1.0      7    2   0  1385   1   0   0  Cluster_6500        0.832313  \n",
       "\n",
       "[2 rows x 23 columns]"
      ]
     },
     "execution_count": 14,
     "metadata": {},
     "output_type": "execute_result"
    }
   ],
   "source": [
    "df = pd.read_csv(path_compare_res, sep='\\t')\n",
    "print(len(df.index))\n",
    "df.head(2)"
   ]
  },
  {
   "cell_type": "code",
   "execution_count": 15,
   "metadata": {},
   "outputs": [],
   "source": [
    "records = []\n",
    "for k,v in df.iterrows():\n",
    "    new_seq = v.MajorRNA\n",
    "    id = v.Name\n",
    "    seq = SeqRecord(Seq(new_seq), id=id, description=\"_\")\n",
    "    records.append(seq)"
   ]
  },
  {
   "cell_type": "code",
   "execution_count": 16,
   "metadata": {},
   "outputs": [
    {
     "data": {
      "text/plain": [
       "12"
      ]
     },
     "execution_count": 16,
     "metadata": {},
     "output_type": "execute_result"
    }
   ],
   "source": [
    "SeqIO.write(records, path_out_dir , \"fasta\")"
   ]
  },
  {
   "cell_type": "code",
   "execution_count": null,
   "metadata": {},
   "outputs": [],
   "source": []
  }
 ],
 "metadata": {
  "kernelspec": {
   "display_name": "Python 3",
   "language": "python",
   "name": "python3"
  },
  "language_info": {
   "codemirror_mode": {
    "name": "ipython",
    "version": 3
   },
   "file_extension": ".py",
   "mimetype": "text/x-python",
   "name": "python",
   "nbconvert_exporter": "python",
   "pygments_lexer": "ipython3",
   "version": "3.6.5"
  }
 },
 "nbformat": 4,
 "nbformat_minor": 2
}
