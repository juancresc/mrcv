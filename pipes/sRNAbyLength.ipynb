{
 "cells": [
  {
   "cell_type": "code",
   "execution_count": 1,
   "metadata": {},
   "outputs": [],
   "source": [
    "from Bio import SeqIO\n",
    "from Bio.SeqRecord import SeqRecord\n",
    "from Bio.Seq import Seq\n",
    "import matplotlib.mlab as mlab\n",
    "import matplotlib.pyplot as plt\n",
    "from collections import defaultdict\n",
    "plt.style.use('seaborn-deep')\n"
   ]
  },
  {
   "cell_type": "code",
   "execution_count": 2,
   "metadata": {},
   "outputs": [
    {
     "name": "stdout",
     "output_type": "stream",
     "text": [
      "../data/sRNASeq/21dpiR1C.trimmed.fq\n",
      "../data/sRNASeq/21dpiR3C.trimmed.fq\n",
      "../data/sRNASeq/21dpiR1T.trimmed.fq\n",
      "../data/sRNASeq/21dpiR3T.trimmed.fq\n"
     ]
    }
   ],
   "source": [
    "path = '../data/sRNASeq/'\n",
    "lengths = {}\n",
    "for exp in ['1C','3C','1T','3T']:\n",
    "    lengths[exp] = {}\n",
    "    filename = path + '21dpiR' + exp + '.trimmed.fq'\n",
    "    print(filename)\n",
    "    seqs = SeqIO.parse(filename,'fastq')\n",
    "    for record in seqs:\n",
    "        if not len(record.seq) in lengths[exp]:\n",
    "            lengths[exp][len(record.seq)] = 1\n",
    "        else:\n",
    "            lengths[exp][len(record.seq)] += 1"
   ]
  },
  {
   "cell_type": "code",
   "execution_count": null,
   "metadata": {},
   "outputs": [],
   "source": []
  },
  {
   "cell_type": "code",
   "execution_count": null,
   "metadata": {},
   "outputs": [],
   "source": [
    "plt.hist(lengths, bins, label=keys(lengths))\n",
    "plt.legend(loc='upper right')\n",
    "plt.show()\n"
   ]
  },
  {
   "cell_type": "code",
   "execution_count": null,
   "metadata": {},
   "outputs": [],
   "source": []
  },
  {
   "cell_type": "code",
   "execution_count": null,
   "metadata": {},
   "outputs": [],
   "source": []
  }
 ],
 "metadata": {
  "kernelspec": {
   "display_name": "Python 3",
   "language": "python",
   "name": "python3"
  },
  "language_info": {
   "codemirror_mode": {
    "name": "ipython",
    "version": 3
   },
   "file_extension": ".py",
   "mimetype": "text/x-python",
   "name": "python",
   "nbconvert_exporter": "python",
   "pygments_lexer": "ipython3",
   "version": "3.6.5"
  }
 },
 "nbformat": 4,
 "nbformat_minor": 2
}
