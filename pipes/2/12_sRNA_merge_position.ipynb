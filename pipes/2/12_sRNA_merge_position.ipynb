{
 "cells": [
  {
   "cell_type": "code",
   "execution_count": 294,
   "metadata": {},
   "outputs": [],
   "source": [
    "import pandas as pd\n",
    "import numpy as np"
   ]
  },
  {
   "cell_type": "code",
   "execution_count": 295,
   "metadata": {},
   "outputs": [],
   "source": [
    "file_srna_dat = '../../data/res/04_02_19/counts.fixed.dat.0.05.csv'\n",
    "file_ann = '../../data/genome/annotations/genes.gff3'\n",
    "file_deg = '../../data/res/04_02_19/DEG-normalized.csv'\n",
    "file_output = '../../data/res/DEGX_sRNA_DAT.csv'"
   ]
  },
  {
   "cell_type": "code",
   "execution_count": 296,
   "metadata": {},
   "outputs": [],
   "source": [
    "#load sRNA loci DATs"
   ]
  },
  {
   "cell_type": "code",
   "execution_count": 297,
   "metadata": {},
   "outputs": [
    {
     "name": "stdout",
     "output_type": "stream",
     "text": [
      "280\n"
     ]
    }
   ],
   "source": [
    "df_srna_dat = pd.read_csv(file_srna_dat, index_col=False, sep=',', comment='#')\n",
    "print(len(df_srna_dat.index))"
   ]
  },
  {
   "cell_type": "code",
   "execution_count": 298,
   "metadata": {},
   "outputs": [
    {
     "data": {
      "text/html": [
       "<div>\n",
       "<style scoped>\n",
       "    .dataframe tbody tr th:only-of-type {\n",
       "        vertical-align: middle;\n",
       "    }\n",
       "\n",
       "    .dataframe tbody tr th {\n",
       "        vertical-align: top;\n",
       "    }\n",
       "\n",
       "    .dataframe thead th {\n",
       "        text-align: right;\n",
       "    }\n",
       "</style>\n",
       "<table border=\"1\" class=\"dataframe\">\n",
       "  <thead>\n",
       "    <tr style=\"text-align: right;\">\n",
       "      <th></th>\n",
       "      <th>Gene</th>\n",
       "      <th>baseMean</th>\n",
       "      <th>log2FoldChange</th>\n",
       "      <th>lfcSE</th>\n",
       "      <th>stat</th>\n",
       "      <th>pvalue</th>\n",
       "      <th>padj</th>\n",
       "      <th>X21dpiR1C.trimmed</th>\n",
       "      <th>X21dpiR3C.trimmed</th>\n",
       "      <th>X21dpiR1T.trimmed</th>\n",
       "      <th>X21dpiR3T.trimmed</th>\n",
       "    </tr>\n",
       "  </thead>\n",
       "  <tbody>\n",
       "    <tr>\n",
       "      <th>63</th>\n",
       "      <td>Cluster_33427 _ Un:443605205-443605719</td>\n",
       "      <td>166.613480</td>\n",
       "      <td>1.167749</td>\n",
       "      <td>0.310674</td>\n",
       "      <td>3.758762</td>\n",
       "      <td>0.000171</td>\n",
       "      <td>0.007948</td>\n",
       "      <td>110</td>\n",
       "      <td>95.174791</td>\n",
       "      <td>239.457941</td>\n",
       "      <td>221.821187</td>\n",
       "    </tr>\n",
       "    <tr>\n",
       "      <th>60</th>\n",
       "      <td>Cluster_28286 _ 7A:379928277-379929939</td>\n",
       "      <td>590.855043</td>\n",
       "      <td>0.955348</td>\n",
       "      <td>0.253146</td>\n",
       "      <td>3.773901</td>\n",
       "      <td>0.000161</td>\n",
       "      <td>0.007722</td>\n",
       "      <td>419</td>\n",
       "      <td>385.341836</td>\n",
       "      <td>886.620415</td>\n",
       "      <td>672.457921</td>\n",
       "    </tr>\n",
       "    <tr>\n",
       "      <th>70</th>\n",
       "      <td>Cluster_5516 _ 2A:652328873-652329011</td>\n",
       "      <td>285.697430</td>\n",
       "      <td>-1.245848</td>\n",
       "      <td>0.339714</td>\n",
       "      <td>-3.667346</td>\n",
       "      <td>0.000245</td>\n",
       "      <td>0.010140</td>\n",
       "      <td>539</td>\n",
       "      <td>264.632345</td>\n",
       "      <td>175.289473</td>\n",
       "      <td>163.867904</td>\n",
       "    </tr>\n",
       "  </tbody>\n",
       "</table>\n",
       "</div>"
      ],
      "text/plain": [
       "                                      Gene    baseMean  log2FoldChange  \\\n",
       "63  Cluster_33427 _ Un:443605205-443605719  166.613480        1.167749   \n",
       "60  Cluster_28286 _ 7A:379928277-379929939  590.855043        0.955348   \n",
       "70   Cluster_5516 _ 2A:652328873-652329011  285.697430       -1.245848   \n",
       "\n",
       "       lfcSE      stat    pvalue      padj  X21dpiR1C.trimmed  \\\n",
       "63  0.310674  3.758762  0.000171  0.007948                110   \n",
       "60  0.253146  3.773901  0.000161  0.007722                419   \n",
       "70  0.339714 -3.667346  0.000245  0.010140                539   \n",
       "\n",
       "    X21dpiR3C.trimmed  X21dpiR1T.trimmed  X21dpiR3T.trimmed  \n",
       "63          95.174791         239.457941         221.821187  \n",
       "60         385.341836         886.620415         672.457921  \n",
       "70         264.632345         175.289473         163.867904  "
      ]
     },
     "execution_count": 298,
     "metadata": {},
     "output_type": "execute_result"
    }
   ],
   "source": [
    "df_srna_dat.sample(3)"
   ]
  },
  {
   "cell_type": "code",
   "execution_count": 299,
   "metadata": {},
   "outputs": [],
   "source": [
    "df_srna_dat['loci'] = df_srna_dat['Gene'].str.split(' _ ').str[0]\n",
    "df_srna_dat['seqname'] = df_srna_dat['Gene'].str.split(' _ ').str[1]\n",
    "df_srna_dat['start'] = df_srna_dat['seqname'].str.split('-').str[0]\n",
    "df_srna_dat['end'] = df_srna_dat['seqname'].str.split('-').str[1]\n",
    "df_srna_dat['seqname'] = df_srna_dat['start'].str.split(':').str[0]\n",
    "df_srna_dat['start'] = df_srna_dat['start'].str.split(':').str[1]"
   ]
  },
  {
   "cell_type": "code",
   "execution_count": 300,
   "metadata": {},
   "outputs": [
    {
     "data": {
      "text/html": [
       "<div>\n",
       "<style scoped>\n",
       "    .dataframe tbody tr th:only-of-type {\n",
       "        vertical-align: middle;\n",
       "    }\n",
       "\n",
       "    .dataframe tbody tr th {\n",
       "        vertical-align: top;\n",
       "    }\n",
       "\n",
       "    .dataframe thead th {\n",
       "        text-align: right;\n",
       "    }\n",
       "</style>\n",
       "<table border=\"1\" class=\"dataframe\">\n",
       "  <thead>\n",
       "    <tr style=\"text-align: right;\">\n",
       "      <th></th>\n",
       "      <th>Gene</th>\n",
       "      <th>baseMean</th>\n",
       "      <th>log2FoldChange</th>\n",
       "      <th>lfcSE</th>\n",
       "      <th>stat</th>\n",
       "      <th>pvalue</th>\n",
       "      <th>padj</th>\n",
       "      <th>X21dpiR1C.trimmed</th>\n",
       "      <th>X21dpiR3C.trimmed</th>\n",
       "      <th>X21dpiR1T.trimmed</th>\n",
       "      <th>X21dpiR3T.trimmed</th>\n",
       "      <th>loci</th>\n",
       "      <th>seqname</th>\n",
       "      <th>start</th>\n",
       "      <th>end</th>\n",
       "    </tr>\n",
       "  </thead>\n",
       "  <tbody>\n",
       "    <tr>\n",
       "      <th>206</th>\n",
       "      <td>Cluster_33306 _ Un:416933289-416933469</td>\n",
       "      <td>571.549023</td>\n",
       "      <td>0.863779</td>\n",
       "      <td>0.284257</td>\n",
       "      <td>3.038729</td>\n",
       "      <td>0.002376</td>\n",
       "      <td>0.034773</td>\n",
       "      <td>481</td>\n",
       "      <td>329.629764</td>\n",
       "      <td>867.056857</td>\n",
       "      <td>608.509471</td>\n",
       "      <td>Cluster_33306</td>\n",
       "      <td>Un</td>\n",
       "      <td>416933289</td>\n",
       "      <td>416933469</td>\n",
       "    </tr>\n",
       "    <tr>\n",
       "      <th>239</th>\n",
       "      <td>Cluster_33484 _ Un:455961952-455962668</td>\n",
       "      <td>353.314137</td>\n",
       "      <td>0.838498</td>\n",
       "      <td>0.287784</td>\n",
       "      <td>2.913635</td>\n",
       "      <td>0.003572</td>\n",
       "      <td>0.044587</td>\n",
       "      <td>309</td>\n",
       "      <td>197.313591</td>\n",
       "      <td>452.309444</td>\n",
       "      <td>454.633513</td>\n",
       "      <td>Cluster_33484</td>\n",
       "      <td>Un</td>\n",
       "      <td>455961952</td>\n",
       "      <td>455962668</td>\n",
       "    </tr>\n",
       "    <tr>\n",
       "      <th>148</th>\n",
       "      <td>Cluster_27727 _ 7A:72700594-72700677</td>\n",
       "      <td>392.916260</td>\n",
       "      <td>-0.880354</td>\n",
       "      <td>0.272316</td>\n",
       "      <td>-3.232847</td>\n",
       "      <td>0.001226</td>\n",
       "      <td>0.024311</td>\n",
       "      <td>592</td>\n",
       "      <td>425.965223</td>\n",
       "      <td>262.934209</td>\n",
       "      <td>290.765609</td>\n",
       "      <td>Cluster_27727</td>\n",
       "      <td>7A</td>\n",
       "      <td>72700594</td>\n",
       "      <td>72700677</td>\n",
       "    </tr>\n",
       "  </tbody>\n",
       "</table>\n",
       "</div>"
      ],
      "text/plain": [
       "                                       Gene    baseMean  log2FoldChange  \\\n",
       "206  Cluster_33306 _ Un:416933289-416933469  571.549023        0.863779   \n",
       "239  Cluster_33484 _ Un:455961952-455962668  353.314137        0.838498   \n",
       "148    Cluster_27727 _ 7A:72700594-72700677  392.916260       -0.880354   \n",
       "\n",
       "        lfcSE      stat    pvalue      padj  X21dpiR1C.trimmed  \\\n",
       "206  0.284257  3.038729  0.002376  0.034773                481   \n",
       "239  0.287784  2.913635  0.003572  0.044587                309   \n",
       "148  0.272316 -3.232847  0.001226  0.024311                592   \n",
       "\n",
       "     X21dpiR3C.trimmed  X21dpiR1T.trimmed  X21dpiR3T.trimmed           loci  \\\n",
       "206         329.629764         867.056857         608.509471  Cluster_33306   \n",
       "239         197.313591         452.309444         454.633513  Cluster_33484   \n",
       "148         425.965223         262.934209         290.765609  Cluster_27727   \n",
       "\n",
       "    seqname      start        end  \n",
       "206      Un  416933289  416933469  \n",
       "239      Un  455961952  455962668  \n",
       "148      7A   72700594   72700677  "
      ]
     },
     "execution_count": 300,
     "metadata": {},
     "output_type": "execute_result"
    }
   ],
   "source": [
    "df_srna_dat.sample(3)"
   ]
  },
  {
   "cell_type": "code",
   "execution_count": 301,
   "metadata": {},
   "outputs": [
    {
     "data": {
      "text/html": [
       "<div>\n",
       "<style scoped>\n",
       "    .dataframe tbody tr th:only-of-type {\n",
       "        vertical-align: middle;\n",
       "    }\n",
       "\n",
       "    .dataframe tbody tr th {\n",
       "        vertical-align: top;\n",
       "    }\n",
       "\n",
       "    .dataframe thead th {\n",
       "        text-align: right;\n",
       "    }\n",
       "</style>\n",
       "<table border=\"1\" class=\"dataframe\">\n",
       "  <thead>\n",
       "    <tr style=\"text-align: right;\">\n",
       "      <th></th>\n",
       "      <th>loci</th>\n",
       "      <th>seqname</th>\n",
       "      <th>start</th>\n",
       "      <th>end</th>\n",
       "      <th>pvalue</th>\n",
       "      <th>padj</th>\n",
       "      <th>log2FoldChange</th>\n",
       "    </tr>\n",
       "  </thead>\n",
       "  <tbody>\n",
       "    <tr>\n",
       "      <th>0</th>\n",
       "      <td>Cluster_17433</td>\n",
       "      <td>4D</td>\n",
       "      <td>236302201</td>\n",
       "      <td>236302457</td>\n",
       "      <td>4.497539e-17</td>\n",
       "      <td>1.339817e-13</td>\n",
       "      <td>1.991005</td>\n",
       "    </tr>\n",
       "    <tr>\n",
       "      <th>1</th>\n",
       "      <td>Cluster_16619</td>\n",
       "      <td>4B</td>\n",
       "      <td>600374555</td>\n",
       "      <td>600374577</td>\n",
       "      <td>1.289745e-15</td>\n",
       "      <td>1.921076e-12</td>\n",
       "      <td>2.254593</td>\n",
       "    </tr>\n",
       "    <tr>\n",
       "      <th>2</th>\n",
       "      <td>Cluster_9813</td>\n",
       "      <td>3A</td>\n",
       "      <td>149826050</td>\n",
       "      <td>149826090</td>\n",
       "      <td>6.079758e-12</td>\n",
       "      <td>3.260401e-09</td>\n",
       "      <td>10.206085</td>\n",
       "    </tr>\n",
       "    <tr>\n",
       "      <th>3</th>\n",
       "      <td>Cluster_15102</td>\n",
       "      <td>4A</td>\n",
       "      <td>611586002</td>\n",
       "      <td>611586328</td>\n",
       "      <td>6.566769e-12</td>\n",
       "      <td>3.260401e-09</td>\n",
       "      <td>1.826796</td>\n",
       "    </tr>\n",
       "  </tbody>\n",
       "</table>\n",
       "</div>"
      ],
      "text/plain": [
       "            loci seqname      start        end        pvalue          padj  \\\n",
       "0  Cluster_17433      4D  236302201  236302457  4.497539e-17  1.339817e-13   \n",
       "1  Cluster_16619      4B  600374555  600374577  1.289745e-15  1.921076e-12   \n",
       "2   Cluster_9813      3A  149826050  149826090  6.079758e-12  3.260401e-09   \n",
       "3  Cluster_15102      4A  611586002  611586328  6.566769e-12  3.260401e-09   \n",
       "\n",
       "   log2FoldChange  \n",
       "0        1.991005  \n",
       "1        2.254593  \n",
       "2       10.206085  \n",
       "3        1.826796  "
      ]
     },
     "execution_count": 301,
     "metadata": {},
     "output_type": "execute_result"
    }
   ],
   "source": [
    "df_srna_dat = df_srna_dat[['loci','seqname','start','end','pvalue','padj','log2FoldChange']]\n",
    "df_srna_dat.head(4)"
   ]
  },
  {
   "cell_type": "code",
   "execution_count": 302,
   "metadata": {},
   "outputs": [],
   "source": [
    "#genes DEG"
   ]
  },
  {
   "cell_type": "code",
   "execution_count": 303,
   "metadata": {},
   "outputs": [
    {
     "name": "stdout",
     "output_type": "stream",
     "text": [
      "3019\n"
     ]
    }
   ],
   "source": [
    "df_deg = pd.read_csv(file_deg, index_col=False, sep=',', comment='#')\n",
    "print(len(df_deg.index))\n",
    "df_deg['gene'] = df_deg['gene'].str.split('gene:').str[1]\n",
    "df_deg.drop(\"Unnamed: 0\", axis=1, inplace=True)"
   ]
  },
  {
   "cell_type": "code",
   "execution_count": 304,
   "metadata": {},
   "outputs": [
    {
     "name": "stdout",
     "output_type": "stream",
     "text": [
      "120744\n"
     ]
    }
   ],
   "source": [
    "df_ann = pd.read_csv(file_ann, index_col=False, sep='\\t', comment='#', header=None)\n",
    "df_ann.columns = ['seqname' , 'source' , 'feature' , 'start' , 'end' , 'score' , 'strand' , 'frame' , 'attribute']\n",
    "df_ann['gene'] = df_ann.attribute.str.split('gene:').str[1]\n",
    "df_ann['gene'] = df_ann.gene.str.split(';').str[0]\n",
    "df_ann = df_ann[['gene','seqname','start','end', 'strand']]\n",
    "print(len(df_ann.index))\n"
   ]
  },
  {
   "cell_type": "code",
   "execution_count": 305,
   "metadata": {},
   "outputs": [],
   "source": [
    "df_deg_pos = pd.merge(df_deg, df_ann, on='gene')\n",
    "df_deg_pos = df_deg_pos[['gene','log2FoldChange','pvalue','padj','seqname','start','end','strand']]"
   ]
  },
  {
   "cell_type": "code",
   "execution_count": 306,
   "metadata": {},
   "outputs": [
    {
     "data": {
      "text/html": [
       "<div>\n",
       "<style scoped>\n",
       "    .dataframe tbody tr th:only-of-type {\n",
       "        vertical-align: middle;\n",
       "    }\n",
       "\n",
       "    .dataframe tbody tr th {\n",
       "        vertical-align: top;\n",
       "    }\n",
       "\n",
       "    .dataframe thead th {\n",
       "        text-align: right;\n",
       "    }\n",
       "</style>\n",
       "<table border=\"1\" class=\"dataframe\">\n",
       "  <thead>\n",
       "    <tr style=\"text-align: right;\">\n",
       "      <th></th>\n",
       "      <th>gene</th>\n",
       "      <th>log2FoldChange</th>\n",
       "      <th>pvalue</th>\n",
       "      <th>padj</th>\n",
       "      <th>seqname</th>\n",
       "      <th>start</th>\n",
       "      <th>end</th>\n",
       "      <th>strand</th>\n",
       "    </tr>\n",
       "  </thead>\n",
       "  <tbody>\n",
       "    <tr>\n",
       "      <th>0</th>\n",
       "      <td>TraesCS2B02G286300</td>\n",
       "      <td>-2.445058</td>\n",
       "      <td>1.703566e-27</td>\n",
       "      <td>5.369742e-23</td>\n",
       "      <td>2B</td>\n",
       "      <td>394317533</td>\n",
       "      <td>394318758</td>\n",
       "      <td>+</td>\n",
       "    </tr>\n",
       "    <tr>\n",
       "      <th>1</th>\n",
       "      <td>TraesCS2B02G336800</td>\n",
       "      <td>2.909847</td>\n",
       "      <td>1.882766e-27</td>\n",
       "      <td>5.369742e-23</td>\n",
       "      <td>2B</td>\n",
       "      <td>481048634</td>\n",
       "      <td>481054363</td>\n",
       "      <td>+</td>\n",
       "    </tr>\n",
       "    <tr>\n",
       "      <th>2</th>\n",
       "      <td>TraesCS6D02G241200</td>\n",
       "      <td>-2.320181</td>\n",
       "      <td>2.645301e-25</td>\n",
       "      <td>5.029687e-21</td>\n",
       "      <td>6D</td>\n",
       "      <td>343557954</td>\n",
       "      <td>343558810</td>\n",
       "      <td>-</td>\n",
       "    </tr>\n",
       "  </tbody>\n",
       "</table>\n",
       "</div>"
      ],
      "text/plain": [
       "                 gene  log2FoldChange        pvalue          padj seqname  \\\n",
       "0  TraesCS2B02G286300       -2.445058  1.703566e-27  5.369742e-23      2B   \n",
       "1  TraesCS2B02G336800        2.909847  1.882766e-27  5.369742e-23      2B   \n",
       "2  TraesCS6D02G241200       -2.320181  2.645301e-25  5.029687e-21      6D   \n",
       "\n",
       "       start        end strand  \n",
       "0  394317533  394318758      +  \n",
       "1  481048634  481054363      +  \n",
       "2  343557954  343558810      -  "
      ]
     },
     "execution_count": 306,
     "metadata": {},
     "output_type": "execute_result"
    }
   ],
   "source": [
    "df_deg_pos.head(3)"
   ]
  },
  {
   "cell_type": "code",
   "execution_count": 307,
   "metadata": {},
   "outputs": [],
   "source": [
    "#GENEs"
   ]
  },
  {
   "cell_type": "code",
   "execution_count": 308,
   "metadata": {},
   "outputs": [],
   "source": [
    "#merge with genes"
   ]
  },
  {
   "cell_type": "code",
   "execution_count": 309,
   "metadata": {},
   "outputs": [],
   "source": [
    "df_deg_pos['cluster_name'] = ''\n",
    "df_deg_pos['cluster_seqname'] = ''\n",
    "df_deg_pos['cluster_start'] = ''\n",
    "df_deg_pos['cluster_end'] = ''\n",
    "df_deg_pos['cluster_position'] = ''\n",
    "df_deg_pos['cluster_padj'] = ''\n",
    "df_deg_pos['cluster_pvalue'] = ''\n",
    "df_deg_pos['cluster_log2FoldChange'] = ''"
   ]
  },
  {
   "cell_type": "code",
   "execution_count": null,
   "metadata": {},
   "outputs": [],
   "source": []
  },
  {
   "cell_type": "code",
   "execution_count": 310,
   "metadata": {},
   "outputs": [],
   "source": [
    "howfar = 3000\n",
    "rows = []\n",
    "for k_gene, v_gene in df_deg_pos.iterrows():\n",
    "    for k_srna,v_srna in df_srna_dat[df_srna_dat.seqname == v_gene.seqname].iterrows():\n",
    "        #overlaps with gene\n",
    "        if int(v_srna.end) >= int(v_gene.start) and int(v_srna.start) <= int(v_gene.end):\n",
    "            df_deg_pos.at[k_gene, 'cluster_name'] = v_srna.loci\n",
    "            df_deg_pos.at[k_gene, 'cluster_seqname'] = v_srna.seqname\n",
    "            df_deg_pos.at[k_gene, 'cluster_start'] = v_srna.start\n",
    "            df_deg_pos.at[k_gene, 'cluster_end'] = v_srna.end\n",
    "            df_deg_pos['cluster_padj'] = v_srna.padj\n",
    "            df_deg_pos['cluster_pvalue'] = v_srna.pvalue\n",
    "            df_deg_pos['cluster_log2FoldChange'] = v_srna.log2FoldChange\n",
    "            df_deg_pos.at[k_gene, 'cluster_position'] = 'overlaps'\n",
    "            rows.append(df_deg_pos.iloc[k_gene])\n",
    "        else:\n",
    "            #upstream (promoter)\n",
    "            if v_gene.strand == '+':\n",
    "                start = max(int(v_gene.start) - howfar, 0)\n",
    "                end = int(v_gene.start)\n",
    "            else:\n",
    "                start = int(v_gene.end)\n",
    "                end = int(v_gene.end) + howfar\n",
    "            if int(v_srna.end) >= start and int(v_srna.start) <= end:\n",
    "                df_deg_pos.at[k_gene, 'cluster_name'] = v_srna.loci\n",
    "                df_deg_pos.at[k_gene, 'cluster_seqname'] = v_srna.seqname\n",
    "                df_deg_pos.at[k_gene, 'cluster_start'] = v_srna.start\n",
    "                df_deg_pos.at[k_gene, 'cluster_end'] = v_srna.end\n",
    "                df_deg_pos.at[k_gene, 'cluster_position'] = 'promoter'\n",
    "                df_deg_pos['cluster_padj'] = v_srna.padj\n",
    "                df_deg_pos['cluster_pvalue'] = v_srna.pvalue\n",
    "                df_deg_pos['cluster_log2FoldChange'] = v_srna.log2FoldChange\n",
    "                rows.append(df_deg_pos.iloc[k_gene])\n",
    "            else:\n",
    "                #downstream\n",
    "                if v_gene.strand == '+':\n",
    "                    end = int(v_gene.end) + howfar\n",
    "                    start = int(v_gene.end)\n",
    "                else:\n",
    "                    end = int(v_gene.start)\n",
    "                    start = max(int(v_gene.start) - howfar,0)\n",
    "                if int(v_srna.end) >= start and int(v_srna.start) <= end:\n",
    "                    df_deg_pos.at[k_gene, 'cluster_name'] = v_srna.loci\n",
    "                    df_deg_pos.at[k_gene, 'cluster_seqname'] = v_srna.seqname\n",
    "                    df_deg_pos.at[k_gene, 'cluster_start'] = v_srna.start\n",
    "                    df_deg_pos.at[k_gene, 'cluster_end'] = v_srna.end\n",
    "                    df_deg_pos.at[k_gene, 'cluster_position'] = 'downstream'\n",
    "                    df_deg_pos['cluster_padj'] = v_srna.padj\n",
    "                    df_deg_pos['cluster_pvalue'] = v_srna.pvalue\n",
    "                    df_deg_pos['cluster_log2FoldChange'] = v_srna.log2FoldChange\n",
    "                    rows.append(df_deg_pos.iloc[k_gene])\n",
    "                "
   ]
  },
  {
   "cell_type": "code",
   "execution_count": 311,
   "metadata": {},
   "outputs": [],
   "source": [
    "df_res = pd.DataFrame(rows)"
   ]
  },
  {
   "cell_type": "code",
   "execution_count": 312,
   "metadata": {},
   "outputs": [
    {
     "data": {
      "text/html": [
       "<div>\n",
       "<style scoped>\n",
       "    .dataframe tbody tr th:only-of-type {\n",
       "        vertical-align: middle;\n",
       "    }\n",
       "\n",
       "    .dataframe tbody tr th {\n",
       "        vertical-align: top;\n",
       "    }\n",
       "\n",
       "    .dataframe thead th {\n",
       "        text-align: right;\n",
       "    }\n",
       "</style>\n",
       "<table border=\"1\" class=\"dataframe\">\n",
       "  <thead>\n",
       "    <tr style=\"text-align: right;\">\n",
       "      <th></th>\n",
       "      <th>gene</th>\n",
       "      <th>log2FoldChange</th>\n",
       "      <th>pvalue</th>\n",
       "      <th>padj</th>\n",
       "      <th>seqname</th>\n",
       "      <th>start</th>\n",
       "      <th>end</th>\n",
       "      <th>strand</th>\n",
       "      <th>cluster_name</th>\n",
       "      <th>cluster_seqname</th>\n",
       "      <th>cluster_start</th>\n",
       "      <th>cluster_end</th>\n",
       "      <th>cluster_position</th>\n",
       "      <th>cluster_padj</th>\n",
       "      <th>cluster_pvalue</th>\n",
       "      <th>cluster_log2FoldChange</th>\n",
       "    </tr>\n",
       "  </thead>\n",
       "  <tbody>\n",
       "    <tr>\n",
       "      <th>2992</th>\n",
       "      <td>TraesCS4A02G323700</td>\n",
       "      <td>0.54068</td>\n",
       "      <td>0.002577</td>\n",
       "      <td>0.049104</td>\n",
       "      <td>4A</td>\n",
       "      <td>611579524</td>\n",
       "      <td>611583216</td>\n",
       "      <td>+</td>\n",
       "      <td>Cluster_15102</td>\n",
       "      <td>4A</td>\n",
       "      <td>611586002</td>\n",
       "      <td>611586328</td>\n",
       "      <td>downstream</td>\n",
       "      <td>3.260401e-09</td>\n",
       "      <td>6.566769e-12</td>\n",
       "      <td>1.826796</td>\n",
       "    </tr>\n",
       "  </tbody>\n",
       "</table>\n",
       "</div>"
      ],
      "text/plain": [
       "                    gene  log2FoldChange    pvalue      padj seqname  \\\n",
       "2992  TraesCS4A02G323700         0.54068  0.002577  0.049104      4A   \n",
       "\n",
       "          start        end strand   cluster_name cluster_seqname  \\\n",
       "2992  611579524  611583216      +  Cluster_15102              4A   \n",
       "\n",
       "     cluster_start cluster_end cluster_position  cluster_padj  cluster_pvalue  \\\n",
       "2992     611586002   611586328       downstream  3.260401e-09    6.566769e-12   \n",
       "\n",
       "      cluster_log2FoldChange  \n",
       "2992                1.826796  "
      ]
     },
     "execution_count": 312,
     "metadata": {},
     "output_type": "execute_result"
    }
   ],
   "source": [
    "df_res"
   ]
  },
  {
   "cell_type": "code",
   "execution_count": 313,
   "metadata": {},
   "outputs": [
    {
     "data": {
      "text/plain": [
       "1"
      ]
     },
     "execution_count": 313,
     "metadata": {},
     "output_type": "execute_result"
    }
   ],
   "source": [
    "len(df_res[df_res.cluster_name != ''].index)"
   ]
  },
  {
   "cell_type": "code",
   "execution_count": 314,
   "metadata": {},
   "outputs": [
    {
     "data": {
      "text/plain": [
       "'../../data/res/DEG_X_sRNA_DAT.21.csv'"
      ]
     },
     "execution_count": 314,
     "metadata": {},
     "output_type": "execute_result"
    }
   ],
   "source": [
    "df_res.to_csv(file_output, index=None, )\n",
    "file_output"
   ]
  },
  {
   "cell_type": "code",
   "execution_count": null,
   "metadata": {},
   "outputs": [],
   "source": []
  },
  {
   "cell_type": "code",
   "execution_count": null,
   "metadata": {},
   "outputs": [],
   "source": []
  }
 ],
 "metadata": {
  "kernelspec": {
   "display_name": "Python 3",
   "language": "python",
   "name": "python3"
  },
  "language_info": {
   "codemirror_mode": {
    "name": "ipython",
    "version": 3
   },
   "file_extension": ".py",
   "mimetype": "text/x-python",
   "name": "python",
   "nbconvert_exporter": "python",
   "pygments_lexer": "ipython3",
   "version": "3.6.5"
  }
 },
 "nbformat": 4,
 "nbformat_minor": 2
}
