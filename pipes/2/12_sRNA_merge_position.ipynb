{
 "cells": [
  {
   "cell_type": "code",
   "execution_count": 1,
   "metadata": {},
   "outputs": [],
   "source": [
    "import pandas as pd\n",
    "import numpy as np"
   ]
  },
  {
   "cell_type": "code",
   "execution_count": null,
   "metadata": {},
   "outputs": [],
   "source": []
  },
  {
   "cell_type": "code",
   "execution_count": 27,
   "metadata": {},
   "outputs": [],
   "source": [
    "file_srna_dat = '../../data/ss/all_21/counts.21.dat.0.05.csv'\n",
    "file_srna_dat = '../../data/ss/all_24/counts.24.dat.0.05.csv'\n",
    "file_ann = '../../data/genome/annotations/genes.gff3'\n",
    "file_deg = '../../data/res/04_02_19/DEG-normalized.csv'\n",
    "file_output = '../../data/res/DEGX_sRNA_DAT.csv'"
   ]
  },
  {
   "cell_type": "code",
   "execution_count": 28,
   "metadata": {},
   "outputs": [],
   "source": [
    "#load sRNA loci DATs"
   ]
  },
  {
   "cell_type": "code",
   "execution_count": 29,
   "metadata": {},
   "outputs": [
    {
     "name": "stdout",
     "output_type": "stream",
     "text": [
      "559\n"
     ]
    }
   ],
   "source": [
    "df_srna_dat = pd.read_csv(file_srna_dat, index_col=False, sep=',', comment='#')\n",
    "print(len(df_srna_dat.index))"
   ]
  },
  {
   "cell_type": "code",
   "execution_count": 30,
   "metadata": {},
   "outputs": [
    {
     "data": {
      "text/html": [
       "<div>\n",
       "<style scoped>\n",
       "    .dataframe tbody tr th:only-of-type {\n",
       "        vertical-align: middle;\n",
       "    }\n",
       "\n",
       "    .dataframe tbody tr th {\n",
       "        vertical-align: top;\n",
       "    }\n",
       "\n",
       "    .dataframe thead th {\n",
       "        text-align: right;\n",
       "    }\n",
       "</style>\n",
       "<table border=\"1\" class=\"dataframe\">\n",
       "  <thead>\n",
       "    <tr style=\"text-align: right;\">\n",
       "      <th></th>\n",
       "      <th>Gene</th>\n",
       "      <th>baseMean</th>\n",
       "      <th>log2FoldChange</th>\n",
       "      <th>lfcSE</th>\n",
       "      <th>stat</th>\n",
       "      <th>pvalue</th>\n",
       "      <th>padj</th>\n",
       "      <th>X21dpiR1C.trimmed</th>\n",
       "      <th>X21dpiR3C.trimmed</th>\n",
       "      <th>X21dpiR1T.trimmed</th>\n",
       "      <th>X21dpiR3T.trimmed</th>\n",
       "    </tr>\n",
       "  </thead>\n",
       "  <tbody>\n",
       "    <tr>\n",
       "      <th>128</th>\n",
       "      <td>Cluster_150 _ 1A:179537-179669</td>\n",
       "      <td>99.150516</td>\n",
       "      <td>1.478639</td>\n",
       "      <td>0.352556</td>\n",
       "      <td>4.194057</td>\n",
       "      <td>0.000027</td>\n",
       "      <td>0.002106</td>\n",
       "      <td>60</td>\n",
       "      <td>44.739258</td>\n",
       "      <td>154.317854</td>\n",
       "      <td>137.544951</td>\n",
       "    </tr>\n",
       "    <tr>\n",
       "      <th>231</th>\n",
       "      <td>Cluster_197092 _ Un:274341718-274342162</td>\n",
       "      <td>93.490360</td>\n",
       "      <td>1.363133</td>\n",
       "      <td>0.363431</td>\n",
       "      <td>3.750734</td>\n",
       "      <td>0.000176</td>\n",
       "      <td>0.007535</td>\n",
       "      <td>63</td>\n",
       "      <td>41.617915</td>\n",
       "      <td>137.171426</td>\n",
       "      <td>132.172102</td>\n",
       "    </tr>\n",
       "    <tr>\n",
       "      <th>533</th>\n",
       "      <td>Cluster_129867 _ 5D:18891415-18891853</td>\n",
       "      <td>63.928654</td>\n",
       "      <td>1.295715</td>\n",
       "      <td>0.426135</td>\n",
       "      <td>3.040621</td>\n",
       "      <td>0.002361</td>\n",
       "      <td>0.043888</td>\n",
       "      <td>46</td>\n",
       "      <td>28.092092</td>\n",
       "      <td>105.328059</td>\n",
       "      <td>76.294465</td>\n",
       "    </tr>\n",
       "  </tbody>\n",
       "</table>\n",
       "</div>"
      ],
      "text/plain": [
       "                                        Gene   baseMean  log2FoldChange  \\\n",
       "128           Cluster_150 _ 1A:179537-179669  99.150516        1.478639   \n",
       "231  Cluster_197092 _ Un:274341718-274342162  93.490360        1.363133   \n",
       "533    Cluster_129867 _ 5D:18891415-18891853  63.928654        1.295715   \n",
       "\n",
       "        lfcSE      stat    pvalue      padj  X21dpiR1C.trimmed  \\\n",
       "128  0.352556  4.194057  0.000027  0.002106                 60   \n",
       "231  0.363431  3.750734  0.000176  0.007535                 63   \n",
       "533  0.426135  3.040621  0.002361  0.043888                 46   \n",
       "\n",
       "     X21dpiR3C.trimmed  X21dpiR1T.trimmed  X21dpiR3T.trimmed  \n",
       "128          44.739258         154.317854         137.544951  \n",
       "231          41.617915         137.171426         132.172102  \n",
       "533          28.092092         105.328059          76.294465  "
      ]
     },
     "execution_count": 30,
     "metadata": {},
     "output_type": "execute_result"
    }
   ],
   "source": [
    "df_srna_dat.sample(3)"
   ]
  },
  {
   "cell_type": "code",
   "execution_count": 31,
   "metadata": {},
   "outputs": [],
   "source": [
    "df_srna_dat['loci'] = df_srna_dat['Gene'].str.split(' _ ').str[0]\n",
    "df_srna_dat['seqname'] = df_srna_dat['Gene'].str.split(' _ ').str[1]\n",
    "df_srna_dat['start'] = df_srna_dat['seqname'].str.split('-').str[0]\n",
    "df_srna_dat['end'] = df_srna_dat['seqname'].str.split('-').str[1]\n",
    "df_srna_dat['seqname'] = df_srna_dat['start'].str.split(':').str[0]\n",
    "df_srna_dat['start'] = df_srna_dat['start'].str.split(':').str[1]"
   ]
  },
  {
   "cell_type": "code",
   "execution_count": 32,
   "metadata": {},
   "outputs": [
    {
     "data": {
      "text/html": [
       "<div>\n",
       "<style scoped>\n",
       "    .dataframe tbody tr th:only-of-type {\n",
       "        vertical-align: middle;\n",
       "    }\n",
       "\n",
       "    .dataframe tbody tr th {\n",
       "        vertical-align: top;\n",
       "    }\n",
       "\n",
       "    .dataframe thead th {\n",
       "        text-align: right;\n",
       "    }\n",
       "</style>\n",
       "<table border=\"1\" class=\"dataframe\">\n",
       "  <thead>\n",
       "    <tr style=\"text-align: right;\">\n",
       "      <th></th>\n",
       "      <th>Gene</th>\n",
       "      <th>baseMean</th>\n",
       "      <th>log2FoldChange</th>\n",
       "      <th>lfcSE</th>\n",
       "      <th>stat</th>\n",
       "      <th>pvalue</th>\n",
       "      <th>padj</th>\n",
       "      <th>X21dpiR1C.trimmed</th>\n",
       "      <th>X21dpiR3C.trimmed</th>\n",
       "      <th>X21dpiR1T.trimmed</th>\n",
       "      <th>X21dpiR3T.trimmed</th>\n",
       "      <th>loci</th>\n",
       "      <th>seqname</th>\n",
       "      <th>start</th>\n",
       "      <th>end</th>\n",
       "    </tr>\n",
       "  </thead>\n",
       "  <tbody>\n",
       "    <tr>\n",
       "      <th>34</th>\n",
       "      <td>Cluster_198159 _ Un:464266077-464266322</td>\n",
       "      <td>238.788207</td>\n",
       "      <td>1.385550</td>\n",
       "      <td>0.281060</td>\n",
       "      <td>4.929739</td>\n",
       "      <td>8.233938e-07</td>\n",
       "      <td>0.000238</td>\n",
       "      <td>152</td>\n",
       "      <td>112.368369</td>\n",
       "      <td>360.891489</td>\n",
       "      <td>329.892969</td>\n",
       "      <td>Cluster_198159</td>\n",
       "      <td>Un</td>\n",
       "      <td>464266077</td>\n",
       "      <td>464266322</td>\n",
       "    </tr>\n",
       "    <tr>\n",
       "      <th>259</th>\n",
       "      <td>Cluster_131214 _ 5D:87535037-87535829</td>\n",
       "      <td>794.868321</td>\n",
       "      <td>0.897237</td>\n",
       "      <td>0.246843</td>\n",
       "      <td>3.634844</td>\n",
       "      <td>2.781492e-04</td>\n",
       "      <td>0.010607</td>\n",
       "      <td>621</td>\n",
       "      <td>490.050943</td>\n",
       "      <td>1173.305587</td>\n",
       "      <td>895.116753</td>\n",
       "      <td>Cluster_131214</td>\n",
       "      <td>5D</td>\n",
       "      <td>87535037</td>\n",
       "      <td>87535829</td>\n",
       "    </tr>\n",
       "    <tr>\n",
       "      <th>255</th>\n",
       "      <td>Cluster_113625 _ 5A:473315741-473316910</td>\n",
       "      <td>829.102718</td>\n",
       "      <td>0.847991</td>\n",
       "      <td>0.232355</td>\n",
       "      <td>3.649542</td>\n",
       "      <td>2.627083e-04</td>\n",
       "      <td>0.010175</td>\n",
       "      <td>565</td>\n",
       "      <td>619.066478</td>\n",
       "      <td>943.870048</td>\n",
       "      <td>1188.474345</td>\n",
       "      <td>Cluster_113625</td>\n",
       "      <td>5A</td>\n",
       "      <td>473315741</td>\n",
       "      <td>473316910</td>\n",
       "    </tr>\n",
       "  </tbody>\n",
       "</table>\n",
       "</div>"
      ],
      "text/plain": [
       "                                        Gene    baseMean  log2FoldChange  \\\n",
       "34   Cluster_198159 _ Un:464266077-464266322  238.788207        1.385550   \n",
       "259    Cluster_131214 _ 5D:87535037-87535829  794.868321        0.897237   \n",
       "255  Cluster_113625 _ 5A:473315741-473316910  829.102718        0.847991   \n",
       "\n",
       "        lfcSE      stat        pvalue      padj  X21dpiR1C.trimmed  \\\n",
       "34   0.281060  4.929739  8.233938e-07  0.000238                152   \n",
       "259  0.246843  3.634844  2.781492e-04  0.010607                621   \n",
       "255  0.232355  3.649542  2.627083e-04  0.010175                565   \n",
       "\n",
       "     X21dpiR3C.trimmed  X21dpiR1T.trimmed  X21dpiR3T.trimmed            loci  \\\n",
       "34          112.368369         360.891489         329.892969  Cluster_198159   \n",
       "259         490.050943        1173.305587         895.116753  Cluster_131214   \n",
       "255         619.066478         943.870048        1188.474345  Cluster_113625   \n",
       "\n",
       "    seqname      start        end  \n",
       "34       Un  464266077  464266322  \n",
       "259      5D   87535037   87535829  \n",
       "255      5A  473315741  473316910  "
      ]
     },
     "execution_count": 32,
     "metadata": {},
     "output_type": "execute_result"
    }
   ],
   "source": [
    "df_srna_dat.sample(3)"
   ]
  },
  {
   "cell_type": "code",
   "execution_count": 33,
   "metadata": {},
   "outputs": [
    {
     "data": {
      "text/html": [
       "<div>\n",
       "<style scoped>\n",
       "    .dataframe tbody tr th:only-of-type {\n",
       "        vertical-align: middle;\n",
       "    }\n",
       "\n",
       "    .dataframe tbody tr th {\n",
       "        vertical-align: top;\n",
       "    }\n",
       "\n",
       "    .dataframe thead th {\n",
       "        text-align: right;\n",
       "    }\n",
       "</style>\n",
       "<table border=\"1\" class=\"dataframe\">\n",
       "  <thead>\n",
       "    <tr style=\"text-align: right;\">\n",
       "      <th></th>\n",
       "      <th>loci</th>\n",
       "      <th>seqname</th>\n",
       "      <th>start</th>\n",
       "      <th>end</th>\n",
       "      <th>pvalue</th>\n",
       "      <th>padj</th>\n",
       "      <th>log2FoldChange</th>\n",
       "    </tr>\n",
       "  </thead>\n",
       "  <tbody>\n",
       "    <tr>\n",
       "      <th>0</th>\n",
       "      <td>Cluster_151</td>\n",
       "      <td>1A</td>\n",
       "      <td>179839</td>\n",
       "      <td>180318</td>\n",
       "      <td>3.861921e-10</td>\n",
       "      <td>0.000002</td>\n",
       "      <td>1.952684</td>\n",
       "    </tr>\n",
       "    <tr>\n",
       "      <th>1</th>\n",
       "      <td>Cluster_85331</td>\n",
       "      <td>4A</td>\n",
       "      <td>17099978</td>\n",
       "      <td>17100629</td>\n",
       "      <td>5.381033e-10</td>\n",
       "      <td>0.000002</td>\n",
       "      <td>1.615417</td>\n",
       "    </tr>\n",
       "    <tr>\n",
       "      <th>2</th>\n",
       "      <td>Cluster_185336</td>\n",
       "      <td>7D</td>\n",
       "      <td>73982491</td>\n",
       "      <td>73982773</td>\n",
       "      <td>2.818768e-10</td>\n",
       "      <td>0.000002</td>\n",
       "      <td>1.766788</td>\n",
       "    </tr>\n",
       "    <tr>\n",
       "      <th>3</th>\n",
       "      <td>Cluster_269</td>\n",
       "      <td>1A</td>\n",
       "      <td>357450</td>\n",
       "      <td>358514</td>\n",
       "      <td>2.811058e-08</td>\n",
       "      <td>0.000056</td>\n",
       "      <td>1.327617</td>\n",
       "    </tr>\n",
       "  </tbody>\n",
       "</table>\n",
       "</div>"
      ],
      "text/plain": [
       "             loci seqname     start       end        pvalue      padj  \\\n",
       "0     Cluster_151      1A    179839    180318  3.861921e-10  0.000002   \n",
       "1   Cluster_85331      4A  17099978  17100629  5.381033e-10  0.000002   \n",
       "2  Cluster_185336      7D  73982491  73982773  2.818768e-10  0.000002   \n",
       "3     Cluster_269      1A    357450    358514  2.811058e-08  0.000056   \n",
       "\n",
       "   log2FoldChange  \n",
       "0        1.952684  \n",
       "1        1.615417  \n",
       "2        1.766788  \n",
       "3        1.327617  "
      ]
     },
     "execution_count": 33,
     "metadata": {},
     "output_type": "execute_result"
    }
   ],
   "source": [
    "df_srna_dat = df_srna_dat[['loci','seqname','start','end','pvalue','padj','log2FoldChange']]\n",
    "df_srna_dat.head(4)"
   ]
  },
  {
   "cell_type": "code",
   "execution_count": 34,
   "metadata": {},
   "outputs": [],
   "source": [
    "#genes DEG"
   ]
  },
  {
   "cell_type": "code",
   "execution_count": 35,
   "metadata": {},
   "outputs": [
    {
     "name": "stdout",
     "output_type": "stream",
     "text": [
      "3019\n"
     ]
    }
   ],
   "source": [
    "df_deg = pd.read_csv(file_deg, index_col=False, sep=',', comment='#')\n",
    "print(len(df_deg.index))\n",
    "df_deg['gene'] = df_deg['gene'].str.split('gene:').str[1]\n",
    "df_deg.drop(\"Unnamed: 0\", axis=1, inplace=True)"
   ]
  },
  {
   "cell_type": "code",
   "execution_count": 36,
   "metadata": {},
   "outputs": [
    {
     "name": "stdout",
     "output_type": "stream",
     "text": [
      "120744\n"
     ]
    }
   ],
   "source": [
    "df_ann = pd.read_csv(file_ann, index_col=False, sep='\\t', comment='#', header=None)\n",
    "df_ann.columns = ['seqname' , 'source' , 'feature' , 'start' , 'end' , 'score' , 'strand' , 'frame' , 'attribute']\n",
    "df_ann['gene'] = df_ann.attribute.str.split('gene:').str[1]\n",
    "df_ann['gene'] = df_ann.gene.str.split(';').str[0]\n",
    "df_ann = df_ann[['gene','seqname','start','end', 'strand']]\n",
    "print(len(df_ann.index))\n"
   ]
  },
  {
   "cell_type": "code",
   "execution_count": 37,
   "metadata": {},
   "outputs": [],
   "source": [
    "df_deg_pos = pd.merge(df_deg, df_ann, on='gene')\n",
    "df_deg_pos = df_deg_pos[['gene','log2FoldChange','pvalue','padj','seqname','start','end','strand']]"
   ]
  },
  {
   "cell_type": "code",
   "execution_count": 38,
   "metadata": {},
   "outputs": [
    {
     "data": {
      "text/html": [
       "<div>\n",
       "<style scoped>\n",
       "    .dataframe tbody tr th:only-of-type {\n",
       "        vertical-align: middle;\n",
       "    }\n",
       "\n",
       "    .dataframe tbody tr th {\n",
       "        vertical-align: top;\n",
       "    }\n",
       "\n",
       "    .dataframe thead th {\n",
       "        text-align: right;\n",
       "    }\n",
       "</style>\n",
       "<table border=\"1\" class=\"dataframe\">\n",
       "  <thead>\n",
       "    <tr style=\"text-align: right;\">\n",
       "      <th></th>\n",
       "      <th>gene</th>\n",
       "      <th>log2FoldChange</th>\n",
       "      <th>pvalue</th>\n",
       "      <th>padj</th>\n",
       "      <th>seqname</th>\n",
       "      <th>start</th>\n",
       "      <th>end</th>\n",
       "      <th>strand</th>\n",
       "    </tr>\n",
       "  </thead>\n",
       "  <tbody>\n",
       "    <tr>\n",
       "      <th>0</th>\n",
       "      <td>TraesCS2B02G286300</td>\n",
       "      <td>-2.445058</td>\n",
       "      <td>1.703566e-27</td>\n",
       "      <td>5.369742e-23</td>\n",
       "      <td>2B</td>\n",
       "      <td>394317533</td>\n",
       "      <td>394318758</td>\n",
       "      <td>+</td>\n",
       "    </tr>\n",
       "    <tr>\n",
       "      <th>1</th>\n",
       "      <td>TraesCS2B02G336800</td>\n",
       "      <td>2.909847</td>\n",
       "      <td>1.882766e-27</td>\n",
       "      <td>5.369742e-23</td>\n",
       "      <td>2B</td>\n",
       "      <td>481048634</td>\n",
       "      <td>481054363</td>\n",
       "      <td>+</td>\n",
       "    </tr>\n",
       "    <tr>\n",
       "      <th>2</th>\n",
       "      <td>TraesCS6D02G241200</td>\n",
       "      <td>-2.320181</td>\n",
       "      <td>2.645301e-25</td>\n",
       "      <td>5.029687e-21</td>\n",
       "      <td>6D</td>\n",
       "      <td>343557954</td>\n",
       "      <td>343558810</td>\n",
       "      <td>-</td>\n",
       "    </tr>\n",
       "  </tbody>\n",
       "</table>\n",
       "</div>"
      ],
      "text/plain": [
       "                 gene  log2FoldChange        pvalue          padj seqname  \\\n",
       "0  TraesCS2B02G286300       -2.445058  1.703566e-27  5.369742e-23      2B   \n",
       "1  TraesCS2B02G336800        2.909847  1.882766e-27  5.369742e-23      2B   \n",
       "2  TraesCS6D02G241200       -2.320181  2.645301e-25  5.029687e-21      6D   \n",
       "\n",
       "       start        end strand  \n",
       "0  394317533  394318758      +  \n",
       "1  481048634  481054363      +  \n",
       "2  343557954  343558810      -  "
      ]
     },
     "execution_count": 38,
     "metadata": {},
     "output_type": "execute_result"
    }
   ],
   "source": [
    "df_deg_pos.head(3)"
   ]
  },
  {
   "cell_type": "code",
   "execution_count": 39,
   "metadata": {},
   "outputs": [],
   "source": [
    "#GENEs"
   ]
  },
  {
   "cell_type": "code",
   "execution_count": 40,
   "metadata": {},
   "outputs": [],
   "source": [
    "#merge with genes"
   ]
  },
  {
   "cell_type": "code",
   "execution_count": 41,
   "metadata": {},
   "outputs": [],
   "source": [
    "df_deg_pos['cluster_name'] = ''\n",
    "df_deg_pos['cluster_seqname'] = ''\n",
    "df_deg_pos['cluster_start'] = ''\n",
    "df_deg_pos['cluster_end'] = ''\n",
    "df_deg_pos['cluster_position'] = ''\n",
    "df_deg_pos['cluster_padj'] = ''\n",
    "df_deg_pos['cluster_pvalue'] = ''\n",
    "df_deg_pos['cluster_log2FoldChange'] = ''"
   ]
  },
  {
   "cell_type": "code",
   "execution_count": null,
   "metadata": {},
   "outputs": [],
   "source": []
  },
  {
   "cell_type": "code",
   "execution_count": 42,
   "metadata": {},
   "outputs": [],
   "source": [
    "howfar = 5000\n",
    "rows = []\n",
    "for k_gene, v_gene in df_deg_pos.iterrows():\n",
    "    for k_srna,v_srna in df_srna_dat[df_srna_dat.seqname == v_gene.seqname].iterrows():\n",
    "        #overlaps with gene\n",
    "        if int(v_srna.end) >= int(v_gene.start) and int(v_srna.start) <= int(v_gene.end):\n",
    "            df_deg_pos.at[k_gene, 'cluster_name'] = v_srna.loci\n",
    "            df_deg_pos.at[k_gene, 'cluster_seqname'] = v_srna.seqname\n",
    "            df_deg_pos.at[k_gene, 'cluster_start'] = v_srna.start\n",
    "            df_deg_pos.at[k_gene, 'cluster_end'] = v_srna.end\n",
    "            df_deg_pos['cluster_padj'] = v_srna.padj\n",
    "            df_deg_pos['cluster_pvalue'] = v_srna.pvalue\n",
    "            df_deg_pos['cluster_log2FoldChange'] = v_srna.log2FoldChange\n",
    "            df_deg_pos.at[k_gene, 'cluster_position'] = 'overlaps'\n",
    "            rows.append(df_deg_pos.iloc[k_gene])\n",
    "        else:\n",
    "            #upstream (promoter)\n",
    "            if v_gene.strand == '+':\n",
    "                start = max(int(v_gene.start) - howfar, 0)\n",
    "                end = int(v_gene.start)\n",
    "            else:\n",
    "                start = int(v_gene.end)\n",
    "                end = int(v_gene.end) + howfar\n",
    "            if int(v_srna.end) >= start and int(v_srna.start) <= end:\n",
    "                df_deg_pos.at[k_gene, 'cluster_name'] = v_srna.loci\n",
    "                df_deg_pos.at[k_gene, 'cluster_seqname'] = v_srna.seqname\n",
    "                df_deg_pos.at[k_gene, 'cluster_start'] = v_srna.start\n",
    "                df_deg_pos.at[k_gene, 'cluster_end'] = v_srna.end\n",
    "                df_deg_pos.at[k_gene, 'cluster_position'] = 'promoter'\n",
    "                df_deg_pos['cluster_padj'] = v_srna.padj\n",
    "                df_deg_pos['cluster_pvalue'] = v_srna.pvalue\n",
    "                df_deg_pos['cluster_log2FoldChange'] = v_srna.log2FoldChange\n",
    "                rows.append(df_deg_pos.iloc[k_gene])\n",
    "            else:\n",
    "                #downstream\n",
    "                if v_gene.strand == '+':\n",
    "                    end = int(v_gene.end) + howfar\n",
    "                    start = int(v_gene.end)\n",
    "                else:\n",
    "                    end = int(v_gene.start)\n",
    "                    start = max(int(v_gene.start) - howfar,0)\n",
    "                if int(v_srna.end) >= start and int(v_srna.start) <= end:\n",
    "                    df_deg_pos.at[k_gene, 'cluster_name'] = v_srna.loci\n",
    "                    df_deg_pos.at[k_gene, 'cluster_seqname'] = v_srna.seqname\n",
    "                    df_deg_pos.at[k_gene, 'cluster_start'] = v_srna.start\n",
    "                    df_deg_pos.at[k_gene, 'cluster_end'] = v_srna.end\n",
    "                    df_deg_pos.at[k_gene, 'cluster_position'] = 'downstream'\n",
    "                    df_deg_pos['cluster_padj'] = v_srna.padj\n",
    "                    df_deg_pos['cluster_pvalue'] = v_srna.pvalue\n",
    "                    df_deg_pos['cluster_log2FoldChange'] = v_srna.log2FoldChange\n",
    "                    rows.append(df_deg_pos.iloc[k_gene])\n",
    "                "
   ]
  },
  {
   "cell_type": "code",
   "execution_count": 43,
   "metadata": {},
   "outputs": [],
   "source": [
    "df_res = pd.DataFrame(rows)"
   ]
  },
  {
   "cell_type": "code",
   "execution_count": 44,
   "metadata": {},
   "outputs": [
    {
     "data": {
      "text/html": [
       "<div>\n",
       "<style scoped>\n",
       "    .dataframe tbody tr th:only-of-type {\n",
       "        vertical-align: middle;\n",
       "    }\n",
       "\n",
       "    .dataframe tbody tr th {\n",
       "        vertical-align: top;\n",
       "    }\n",
       "\n",
       "    .dataframe thead th {\n",
       "        text-align: right;\n",
       "    }\n",
       "</style>\n",
       "<table border=\"1\" class=\"dataframe\">\n",
       "  <thead>\n",
       "    <tr style=\"text-align: right;\">\n",
       "      <th></th>\n",
       "      <th>gene</th>\n",
       "      <th>log2FoldChange</th>\n",
       "      <th>pvalue</th>\n",
       "      <th>padj</th>\n",
       "      <th>seqname</th>\n",
       "      <th>start</th>\n",
       "      <th>end</th>\n",
       "      <th>strand</th>\n",
       "      <th>cluster_name</th>\n",
       "      <th>cluster_seqname</th>\n",
       "      <th>cluster_start</th>\n",
       "      <th>cluster_end</th>\n",
       "      <th>cluster_position</th>\n",
       "      <th>cluster_padj</th>\n",
       "      <th>cluster_pvalue</th>\n",
       "      <th>cluster_log2FoldChange</th>\n",
       "    </tr>\n",
       "  </thead>\n",
       "  <tbody>\n",
       "    <tr>\n",
       "      <th>64</th>\n",
       "      <td>TraesCS1A02G343700</td>\n",
       "      <td>-1.451898</td>\n",
       "      <td>1.224791e-12</td>\n",
       "      <td>1.074820e-09</td>\n",
       "      <td>1A</td>\n",
       "      <td>532089135</td>\n",
       "      <td>532090633</td>\n",
       "      <td>+</td>\n",
       "      <td>Cluster_6273</td>\n",
       "      <td>1A</td>\n",
       "      <td>532087554</td>\n",
       "      <td>532087821</td>\n",
       "      <td>promoter</td>\n",
       "      <td>0.006770</td>\n",
       "      <td>0.000149</td>\n",
       "      <td>0.869135</td>\n",
       "    </tr>\n",
       "    <tr>\n",
       "      <th>1017</th>\n",
       "      <td>TraesCS7D02G100000</td>\n",
       "      <td>2.221068</td>\n",
       "      <td>1.061880e-04</td>\n",
       "      <td>5.949969e-03</td>\n",
       "      <td>7D</td>\n",
       "      <td>60019916</td>\n",
       "      <td>60023243</td>\n",
       "      <td>-</td>\n",
       "      <td>Cluster_184960</td>\n",
       "      <td>7D</td>\n",
       "      <td>60017051</td>\n",
       "      <td>60017196</td>\n",
       "      <td>downstream</td>\n",
       "      <td>0.033080</td>\n",
       "      <td>0.001561</td>\n",
       "      <td>1.375026</td>\n",
       "    </tr>\n",
       "    <tr>\n",
       "      <th>2992</th>\n",
       "      <td>TraesCS4A02G323700</td>\n",
       "      <td>0.540680</td>\n",
       "      <td>2.577402e-03</td>\n",
       "      <td>4.910407e-02</td>\n",
       "      <td>4A</td>\n",
       "      <td>611579524</td>\n",
       "      <td>611583216</td>\n",
       "      <td>+</td>\n",
       "      <td>Cluster_90774</td>\n",
       "      <td>4A</td>\n",
       "      <td>611586010</td>\n",
       "      <td>611586421</td>\n",
       "      <td>downstream</td>\n",
       "      <td>0.002527</td>\n",
       "      <td>0.000037</td>\n",
       "      <td>1.502569</td>\n",
       "    </tr>\n",
       "  </tbody>\n",
       "</table>\n",
       "</div>"
      ],
      "text/plain": [
       "                    gene  log2FoldChange        pvalue          padj seqname  \\\n",
       "64    TraesCS1A02G343700       -1.451898  1.224791e-12  1.074820e-09      1A   \n",
       "1017  TraesCS7D02G100000        2.221068  1.061880e-04  5.949969e-03      7D   \n",
       "2992  TraesCS4A02G323700        0.540680  2.577402e-03  4.910407e-02      4A   \n",
       "\n",
       "          start        end strand    cluster_name cluster_seqname  \\\n",
       "64    532089135  532090633      +    Cluster_6273              1A   \n",
       "1017   60019916   60023243      -  Cluster_184960              7D   \n",
       "2992  611579524  611583216      +   Cluster_90774              4A   \n",
       "\n",
       "     cluster_start cluster_end cluster_position  cluster_padj  cluster_pvalue  \\\n",
       "64       532087554   532087821         promoter      0.006770        0.000149   \n",
       "1017      60017051    60017196       downstream      0.033080        0.001561   \n",
       "2992     611586010   611586421       downstream      0.002527        0.000037   \n",
       "\n",
       "      cluster_log2FoldChange  \n",
       "64                  0.869135  \n",
       "1017                1.375026  \n",
       "2992                1.502569  "
      ]
     },
     "execution_count": 44,
     "metadata": {},
     "output_type": "execute_result"
    }
   ],
   "source": [
    "df_res"
   ]
  },
  {
   "cell_type": "code",
   "execution_count": 45,
   "metadata": {},
   "outputs": [
    {
     "data": {
      "text/plain": [
       "3"
      ]
     },
     "execution_count": 45,
     "metadata": {},
     "output_type": "execute_result"
    }
   ],
   "source": [
    "len(df_res[df_res.cluster_name != ''].index)"
   ]
  },
  {
   "cell_type": "code",
   "execution_count": 46,
   "metadata": {},
   "outputs": [
    {
     "data": {
      "text/plain": [
       "'../../data/res/DEGX_sRNA_DAT.csv'"
      ]
     },
     "execution_count": 46,
     "metadata": {},
     "output_type": "execute_result"
    }
   ],
   "source": [
    "df_res.to_csv(file_output, index=None, )\n",
    "file_output"
   ]
  },
  {
   "cell_type": "code",
   "execution_count": null,
   "metadata": {},
   "outputs": [],
   "source": []
  },
  {
   "cell_type": "code",
   "execution_count": null,
   "metadata": {},
   "outputs": [],
   "source": []
  }
 ],
 "metadata": {
  "kernelspec": {
   "display_name": "Python 3",
   "language": "python",
   "name": "python3"
  },
  "language_info": {
   "codemirror_mode": {
    "name": "ipython",
    "version": 3
   },
   "file_extension": ".py",
   "mimetype": "text/x-python",
   "name": "python",
   "nbconvert_exporter": "python",
   "pygments_lexer": "ipython3",
   "version": "3.6.5"
  }
 },
 "nbformat": 4,
 "nbformat_minor": 2
}
