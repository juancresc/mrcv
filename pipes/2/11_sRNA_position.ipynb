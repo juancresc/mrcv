{
 "cells": [
  {
   "cell_type": "code",
   "execution_count": 116,
   "metadata": {},
   "outputs": [],
   "source": [
    "import pandas as pd"
   ]
  },
  {
   "cell_type": "code",
   "execution_count": 148,
   "metadata": {},
   "outputs": [],
   "source": [
    "file_deg = '../../data/res/04_02_19/DEG-normalized.csv'\n",
    "file_ann = '../../data/genome/annotations/genes.gff3'\n",
    "file_output = '../../data/res/deg_sRNA.csv'\n",
    "path_dat_promoters = '../../data/ss/GTP_promoters/'\n",
    "path_dat_genes = '../../data/ss/GTP_genes/'\n",
    "path_dat_tes = '../../data/ss/GTP_TEs_vMITEs/'\n"
   ]
  },
  {
   "cell_type": "code",
   "execution_count": null,
   "metadata": {},
   "outputs": [],
   "source": []
  },
  {
   "cell_type": "code",
   "execution_count": 118,
   "metadata": {},
   "outputs": [],
   "source": [
    "#get DEG list"
   ]
  },
  {
   "cell_type": "code",
   "execution_count": 119,
   "metadata": {},
   "outputs": [
    {
     "name": "stdout",
     "output_type": "stream",
     "text": [
      "3019\n"
     ]
    }
   ],
   "source": [
    "df_deg = pd.read_csv(file_deg, index_col=False, sep=',', comment='#')\n",
    "print(len(df_deg.index))\n",
    "df_deg['gene'] = df_deg['gene'].str.split('gene:').str[1]\n",
    "df_deg.drop(\"Unnamed: 0\", axis=1, inplace=True)"
   ]
  },
  {
   "cell_type": "code",
   "execution_count": 120,
   "metadata": {},
   "outputs": [
    {
     "data": {
      "text/html": [
       "<div>\n",
       "<style scoped>\n",
       "    .dataframe tbody tr th:only-of-type {\n",
       "        vertical-align: middle;\n",
       "    }\n",
       "\n",
       "    .dataframe tbody tr th {\n",
       "        vertical-align: top;\n",
       "    }\n",
       "\n",
       "    .dataframe thead th {\n",
       "        text-align: right;\n",
       "    }\n",
       "</style>\n",
       "<table border=\"1\" class=\"dataframe\">\n",
       "  <thead>\n",
       "    <tr style=\"text-align: right;\">\n",
       "      <th></th>\n",
       "      <th>gene</th>\n",
       "      <th>baseMean</th>\n",
       "      <th>log2FoldChange</th>\n",
       "      <th>lfcSE</th>\n",
       "      <th>stat</th>\n",
       "      <th>pvalue</th>\n",
       "      <th>padj</th>\n",
       "      <th>C1.counts.txt</th>\n",
       "      <th>C2.counts.txt</th>\n",
       "      <th>C3.counts.txt</th>\n",
       "      <th>C4.counts.txt</th>\n",
       "      <th>T1.counts.txt</th>\n",
       "      <th>T2.counts.txt</th>\n",
       "      <th>T3.counts.txt</th>\n",
       "      <th>T4.counts.txt</th>\n",
       "    </tr>\n",
       "  </thead>\n",
       "  <tbody>\n",
       "    <tr>\n",
       "      <th>1881</th>\n",
       "      <td>TraesCS5A02G308900</td>\n",
       "      <td>570.813371</td>\n",
       "      <td>0.683258</td>\n",
       "      <td>0.202392</td>\n",
       "      <td>3.375916</td>\n",
       "      <td>0.000736</td>\n",
       "      <td>0.022306</td>\n",
       "      <td>353.436700</td>\n",
       "      <td>381.722000</td>\n",
       "      <td>526.966131</td>\n",
       "      <td>490.489368</td>\n",
       "      <td>557.344445</td>\n",
       "      <td>818.865313</td>\n",
       "      <td>653.265827</td>\n",
       "      <td>784.417183</td>\n",
       "    </tr>\n",
       "    <tr>\n",
       "      <th>690</th>\n",
       "      <td>TraesCS1D02G361800</td>\n",
       "      <td>67.512071</td>\n",
       "      <td>1.394833</td>\n",
       "      <td>0.333821</td>\n",
       "      <td>4.178386</td>\n",
       "      <td>0.000029</td>\n",
       "      <td>0.002423</td>\n",
       "      <td>56.936611</td>\n",
       "      <td>20.875422</td>\n",
       "      <td>39.696130</td>\n",
       "      <td>31.712675</td>\n",
       "      <td>108.535497</td>\n",
       "      <td>125.554084</td>\n",
       "      <td>86.416267</td>\n",
       "      <td>70.369879</td>\n",
       "    </tr>\n",
       "    <tr>\n",
       "      <th>2410</th>\n",
       "      <td>TraesCS3A02G164700</td>\n",
       "      <td>49.012025</td>\n",
       "      <td>1.357499</td>\n",
       "      <td>0.426147</td>\n",
       "      <td>3.185519</td>\n",
       "      <td>0.001445</td>\n",
       "      <td>0.034186</td>\n",
       "      <td>29.005443</td>\n",
       "      <td>10.934745</td>\n",
       "      <td>39.696130</td>\n",
       "      <td>30.655585</td>\n",
       "      <td>82.134971</td>\n",
       "      <td>99.495689</td>\n",
       "      <td>34.978013</td>\n",
       "      <td>65.195623</td>\n",
       "    </tr>\n",
       "  </tbody>\n",
       "</table>\n",
       "</div>"
      ],
      "text/plain": [
       "                    gene    baseMean  log2FoldChange     lfcSE      stat  \\\n",
       "1881  TraesCS5A02G308900  570.813371        0.683258  0.202392  3.375916   \n",
       "690   TraesCS1D02G361800   67.512071        1.394833  0.333821  4.178386   \n",
       "2410  TraesCS3A02G164700   49.012025        1.357499  0.426147  3.185519   \n",
       "\n",
       "        pvalue      padj  C1.counts.txt  C2.counts.txt  C3.counts.txt  \\\n",
       "1881  0.000736  0.022306     353.436700     381.722000     526.966131   \n",
       "690   0.000029  0.002423      56.936611      20.875422      39.696130   \n",
       "2410  0.001445  0.034186      29.005443      10.934745      39.696130   \n",
       "\n",
       "      C4.counts.txt  T1.counts.txt  T2.counts.txt  T3.counts.txt  \\\n",
       "1881     490.489368     557.344445     818.865313     653.265827   \n",
       "690       31.712675     108.535497     125.554084      86.416267   \n",
       "2410      30.655585      82.134971      99.495689      34.978013   \n",
       "\n",
       "      T4.counts.txt  \n",
       "1881     784.417183  \n",
       "690       70.369879  \n",
       "2410      65.195623  "
      ]
     },
     "execution_count": 120,
     "metadata": {},
     "output_type": "execute_result"
    }
   ],
   "source": [
    "df_deg.sample(3)"
   ]
  },
  {
   "cell_type": "code",
   "execution_count": 121,
   "metadata": {},
   "outputs": [],
   "source": [
    "df_deg = df_deg[['gene','log2FoldChange']]"
   ]
  },
  {
   "cell_type": "code",
   "execution_count": null,
   "metadata": {},
   "outputs": [],
   "source": []
  },
  {
   "cell_type": "code",
   "execution_count": 122,
   "metadata": {},
   "outputs": [],
   "source": [
    "#get genes positions"
   ]
  },
  {
   "cell_type": "code",
   "execution_count": 123,
   "metadata": {},
   "outputs": [
    {
     "name": "stdout",
     "output_type": "stream",
     "text": [
      "120744\n"
     ]
    }
   ],
   "source": [
    "df_ann = pd.read_csv(file_ann, index_col=False, sep='\\t', comment='#', header=None)\n",
    "df_ann.columns = ['seqname' , 'source' , 'feature' , 'start' , 'end' , 'score' , 'strand' , 'frame' , 'attribute']\n",
    "df_ann['gene'] = df_ann.attribute.str.split('gene:').str[1]\n",
    "df_ann['gene'] = df_ann.gene.str.split(';').str[0]\n",
    "print(len(df_ann.index))\n"
   ]
  },
  {
   "cell_type": "code",
   "execution_count": 124,
   "metadata": {},
   "outputs": [],
   "source": [
    "df_ann = df_ann[['gene','seqname','start','end']]"
   ]
  },
  {
   "cell_type": "code",
   "execution_count": 125,
   "metadata": {},
   "outputs": [
    {
     "data": {
      "text/html": [
       "<div>\n",
       "<style scoped>\n",
       "    .dataframe tbody tr th:only-of-type {\n",
       "        vertical-align: middle;\n",
       "    }\n",
       "\n",
       "    .dataframe tbody tr th {\n",
       "        vertical-align: top;\n",
       "    }\n",
       "\n",
       "    .dataframe thead th {\n",
       "        text-align: right;\n",
       "    }\n",
       "</style>\n",
       "<table border=\"1\" class=\"dataframe\">\n",
       "  <thead>\n",
       "    <tr style=\"text-align: right;\">\n",
       "      <th></th>\n",
       "      <th>gene</th>\n",
       "      <th>seqname</th>\n",
       "      <th>start</th>\n",
       "      <th>end</th>\n",
       "    </tr>\n",
       "  </thead>\n",
       "  <tbody>\n",
       "    <tr>\n",
       "      <th>118181</th>\n",
       "      <td>TraesCSU02G238900</td>\n",
       "      <td>Un</td>\n",
       "      <td>354963326</td>\n",
       "      <td>354964152</td>\n",
       "    </tr>\n",
       "    <tr>\n",
       "      <th>70784</th>\n",
       "      <td>ENSRNA050023979</td>\n",
       "      <td>5B</td>\n",
       "      <td>30846619</td>\n",
       "      <td>30846699</td>\n",
       "    </tr>\n",
       "  </tbody>\n",
       "</table>\n",
       "</div>"
      ],
      "text/plain": [
       "                     gene seqname      start        end\n",
       "118181  TraesCSU02G238900      Un  354963326  354964152\n",
       "70784     ENSRNA050023979      5B   30846619   30846699"
      ]
     },
     "execution_count": 125,
     "metadata": {},
     "output_type": "execute_result"
    }
   ],
   "source": [
    "df_ann.sample(2)"
   ]
  },
  {
   "cell_type": "code",
   "execution_count": null,
   "metadata": {},
   "outputs": [],
   "source": []
  },
  {
   "cell_type": "code",
   "execution_count": 126,
   "metadata": {},
   "outputs": [],
   "source": [
    "#merge DEG and positions"
   ]
  },
  {
   "cell_type": "code",
   "execution_count": 127,
   "metadata": {},
   "outputs": [],
   "source": [
    "df_deg_pos = pd.merge(df_deg, df_ann, on='gene')"
   ]
  },
  {
   "cell_type": "code",
   "execution_count": 128,
   "metadata": {},
   "outputs": [
    {
     "data": {
      "text/html": [
       "<div>\n",
       "<style scoped>\n",
       "    .dataframe tbody tr th:only-of-type {\n",
       "        vertical-align: middle;\n",
       "    }\n",
       "\n",
       "    .dataframe tbody tr th {\n",
       "        vertical-align: top;\n",
       "    }\n",
       "\n",
       "    .dataframe thead th {\n",
       "        text-align: right;\n",
       "    }\n",
       "</style>\n",
       "<table border=\"1\" class=\"dataframe\">\n",
       "  <thead>\n",
       "    <tr style=\"text-align: right;\">\n",
       "      <th></th>\n",
       "      <th>gene</th>\n",
       "      <th>log2FoldChange</th>\n",
       "      <th>seqname</th>\n",
       "      <th>start</th>\n",
       "      <th>end</th>\n",
       "    </tr>\n",
       "  </thead>\n",
       "  <tbody>\n",
       "    <tr>\n",
       "      <th>829</th>\n",
       "      <td>TraesCS3D02G394200</td>\n",
       "      <td>1.610921</td>\n",
       "      <td>3D</td>\n",
       "      <td>509228440</td>\n",
       "      <td>509231408</td>\n",
       "    </tr>\n",
       "    <tr>\n",
       "      <th>1354</th>\n",
       "      <td>TraesCS6A02G367000</td>\n",
       "      <td>-0.529017</td>\n",
       "      <td>6A</td>\n",
       "      <td>594405188</td>\n",
       "      <td>594408225</td>\n",
       "    </tr>\n",
       "  </tbody>\n",
       "</table>\n",
       "</div>"
      ],
      "text/plain": [
       "                    gene  log2FoldChange seqname      start        end\n",
       "829   TraesCS3D02G394200        1.610921      3D  509228440  509231408\n",
       "1354  TraesCS6A02G367000       -0.529017      6A  594405188  594408225"
      ]
     },
     "execution_count": 128,
     "metadata": {},
     "output_type": "execute_result"
    }
   ],
   "source": [
    "df_deg_pos.sample(2)"
   ]
  },
  {
   "cell_type": "code",
   "execution_count": null,
   "metadata": {},
   "outputs": [],
   "source": []
  },
  {
   "cell_type": "code",
   "execution_count": 129,
   "metadata": {},
   "outputs": [],
   "source": [
    "#promoters"
   ]
  },
  {
   "cell_type": "code",
   "execution_count": 130,
   "metadata": {},
   "outputs": [
    {
     "name": "stdout",
     "output_type": "stream",
     "text": [
      "182\n"
     ]
    }
   ],
   "source": [
    "df_dat_promoters = pd.read_csv(path_dat_promoters + 'diffexpr-results.0.1.csv', index_col=False, sep=',', comment='#')\n",
    "df_dat_promoters['gene'] = df_dat_promoters.Gene.str.split('gene:').str[1]\n",
    "df_dat_promoters['gene'] = df_dat_promoters.gene.str.split(';').str[0]\n",
    "df_dat_promoters = df_dat_promoters[['gene','log2FoldChange']]\n",
    "df_dat_promoters.rename(columns={'gene':'promoter','log2FoldChange':'log2FoldChange_promoter'}, inplace=True)\n",
    "print(len(df_dat_promoters.index))"
   ]
  },
  {
   "cell_type": "code",
   "execution_count": 131,
   "metadata": {},
   "outputs": [
    {
     "data": {
      "text/html": [
       "<div>\n",
       "<style scoped>\n",
       "    .dataframe tbody tr th:only-of-type {\n",
       "        vertical-align: middle;\n",
       "    }\n",
       "\n",
       "    .dataframe tbody tr th {\n",
       "        vertical-align: top;\n",
       "    }\n",
       "\n",
       "    .dataframe thead th {\n",
       "        text-align: right;\n",
       "    }\n",
       "</style>\n",
       "<table border=\"1\" class=\"dataframe\">\n",
       "  <thead>\n",
       "    <tr style=\"text-align: right;\">\n",
       "      <th></th>\n",
       "      <th>promoter</th>\n",
       "      <th>log2FoldChange_promoter</th>\n",
       "    </tr>\n",
       "  </thead>\n",
       "  <tbody>\n",
       "    <tr>\n",
       "      <th>14</th>\n",
       "      <td>TraesCS3B02G206000</td>\n",
       "      <td>1.255864</td>\n",
       "    </tr>\n",
       "    <tr>\n",
       "      <th>79</th>\n",
       "      <td>TraesCS3D02G498700</td>\n",
       "      <td>0.801119</td>\n",
       "    </tr>\n",
       "    <tr>\n",
       "      <th>169</th>\n",
       "      <td>TraesCSU02G272400</td>\n",
       "      <td>1.004169</td>\n",
       "    </tr>\n",
       "  </tbody>\n",
       "</table>\n",
       "</div>"
      ],
      "text/plain": [
       "               promoter  log2FoldChange_promoter\n",
       "14   TraesCS3B02G206000                 1.255864\n",
       "79   TraesCS3D02G498700                 0.801119\n",
       "169   TraesCSU02G272400                 1.004169"
      ]
     },
     "execution_count": 131,
     "metadata": {},
     "output_type": "execute_result"
    }
   ],
   "source": [
    "df_dat_promoters.sample(3)"
   ]
  },
  {
   "cell_type": "code",
   "execution_count": 132,
   "metadata": {},
   "outputs": [],
   "source": [
    "df_res = pd.merge(df_deg_pos, df_dat_promoters, left_on='gene', right_on='promoter', how='left')"
   ]
  },
  {
   "cell_type": "code",
   "execution_count": 133,
   "metadata": {},
   "outputs": [
    {
     "data": {
      "text/html": [
       "<div>\n",
       "<style scoped>\n",
       "    .dataframe tbody tr th:only-of-type {\n",
       "        vertical-align: middle;\n",
       "    }\n",
       "\n",
       "    .dataframe tbody tr th {\n",
       "        vertical-align: top;\n",
       "    }\n",
       "\n",
       "    .dataframe thead th {\n",
       "        text-align: right;\n",
       "    }\n",
       "</style>\n",
       "<table border=\"1\" class=\"dataframe\">\n",
       "  <thead>\n",
       "    <tr style=\"text-align: right;\">\n",
       "      <th></th>\n",
       "      <th>gene</th>\n",
       "      <th>log2FoldChange</th>\n",
       "      <th>seqname</th>\n",
       "      <th>start</th>\n",
       "      <th>end</th>\n",
       "      <th>promoter</th>\n",
       "      <th>log2FoldChange_promoter</th>\n",
       "    </tr>\n",
       "  </thead>\n",
       "  <tbody>\n",
       "    <tr>\n",
       "      <th>1654</th>\n",
       "      <td>TraesCS2A02G474000</td>\n",
       "      <td>-0.571754</td>\n",
       "      <td>2A</td>\n",
       "      <td>715336822</td>\n",
       "      <td>715343560</td>\n",
       "      <td>TraesCS2A02G474000</td>\n",
       "      <td>0.838466</td>\n",
       "    </tr>\n",
       "  </tbody>\n",
       "</table>\n",
       "</div>"
      ],
      "text/plain": [
       "                    gene  log2FoldChange seqname      start        end  \\\n",
       "1654  TraesCS2A02G474000       -0.571754      2A  715336822  715343560   \n",
       "\n",
       "                promoter  log2FoldChange_promoter  \n",
       "1654  TraesCS2A02G474000                 0.838466  "
      ]
     },
     "execution_count": 133,
     "metadata": {},
     "output_type": "execute_result"
    }
   ],
   "source": [
    "df_res[~pd.isnull(df_res.promoter)]"
   ]
  },
  {
   "cell_type": "code",
   "execution_count": null,
   "metadata": {},
   "outputs": [],
   "source": []
  },
  {
   "cell_type": "code",
   "execution_count": 134,
   "metadata": {},
   "outputs": [],
   "source": [
    "#genes"
   ]
  },
  {
   "cell_type": "code",
   "execution_count": 135,
   "metadata": {},
   "outputs": [
    {
     "name": "stdout",
     "output_type": "stream",
     "text": [
      "55\n"
     ]
    }
   ],
   "source": [
    "df_dat_genes = pd.read_csv(path_dat_genes + 'diffexpr-results.0.1.csv', index_col=False, sep=',', comment='#')\n",
    "df_dat_genes['gene'] = df_dat_genes.Gene.str.split('gene:').str[1]\n",
    "df_dat_genes['gene'] = df_dat_genes.gene.str.split(';').str[0]\n",
    "df_dat_genes = df_dat_genes[['gene','log2FoldChange']]\n",
    "df_dat_genes.rename(columns={'gene':'sRNA_gene','log2FoldChange':'log2FoldChange_gene'}, inplace=True)\n",
    "print(len(df_dat_genes.index))"
   ]
  },
  {
   "cell_type": "code",
   "execution_count": 136,
   "metadata": {},
   "outputs": [],
   "source": [
    "df_res = pd.merge(df_res, df_dat_genes, left_on='gene', right_on='sRNA_gene', how='left')\n",
    "#df_res[(~pd.isnull(df_res.promoter)) | (~pd.isnull(df_res.sRNA_gene))]"
   ]
  },
  {
   "cell_type": "code",
   "execution_count": null,
   "metadata": {},
   "outputs": [],
   "source": []
  },
  {
   "cell_type": "code",
   "execution_count": 137,
   "metadata": {},
   "outputs": [],
   "source": [
    "#TEs"
   ]
  },
  {
   "cell_type": "code",
   "execution_count": 138,
   "metadata": {},
   "outputs": [
    {
     "name": "stdout",
     "output_type": "stream",
     "text": [
      "21\n"
     ]
    }
   ],
   "source": [
    "df_dat_tes = pd.read_csv(path_dat_tes + 'diffexpr-results.0.1.csv', index_col=False, sep=',', comment='#')\n",
    "print(len(df_dat_tes.index))"
   ]
  },
  {
   "cell_type": "code",
   "execution_count": 139,
   "metadata": {},
   "outputs": [],
   "source": [
    "df_dat_tes = df_dat_tes[['Gene','log2FoldChange']]\n",
    "df_dat_tes.rename(columns={'Gene':'TE','log2FoldChange':'log2FoldChange_TE'}, inplace=True)"
   ]
  },
  {
   "cell_type": "code",
   "execution_count": 140,
   "metadata": {},
   "outputs": [],
   "source": [
    "df_dat_tes['position_TE'] = df_dat_tes.TE.str.split(' _ ').str[1]\n",
    "df_dat_tes['TE'] = df_dat_tes.TE.str.split(' _ ').str[0]"
   ]
  },
  {
   "cell_type": "code",
   "execution_count": 141,
   "metadata": {},
   "outputs": [
    {
     "data": {
      "text/html": [
       "<div>\n",
       "<style scoped>\n",
       "    .dataframe tbody tr th:only-of-type {\n",
       "        vertical-align: middle;\n",
       "    }\n",
       "\n",
       "    .dataframe tbody tr th {\n",
       "        vertical-align: top;\n",
       "    }\n",
       "\n",
       "    .dataframe thead th {\n",
       "        text-align: right;\n",
       "    }\n",
       "</style>\n",
       "<table border=\"1\" class=\"dataframe\">\n",
       "  <thead>\n",
       "    <tr style=\"text-align: right;\">\n",
       "      <th></th>\n",
       "      <th>TE</th>\n",
       "      <th>log2FoldChange_TE</th>\n",
       "      <th>position_TE</th>\n",
       "    </tr>\n",
       "  </thead>\n",
       "  <tbody>\n",
       "    <tr>\n",
       "      <th>14</th>\n",
       "      <td>XXX_Taes_Ladon_AF325198-1</td>\n",
       "      <td>2.966002</td>\n",
       "      <td>7B:616772521-616772710</td>\n",
       "    </tr>\n",
       "    <tr>\n",
       "      <th>19</th>\n",
       "      <td>Copia-5_TA-I</td>\n",
       "      <td>6.003682</td>\n",
       "      <td>4D:393818669-393826225</td>\n",
       "    </tr>\n",
       "    <tr>\n",
       "      <th>2</th>\n",
       "      <td>ANGELA1_TM_I</td>\n",
       "      <td>4.769587</td>\n",
       "      <td>1B:514285370-514289839</td>\n",
       "    </tr>\n",
       "  </tbody>\n",
       "</table>\n",
       "</div>"
      ],
      "text/plain": [
       "                           TE  log2FoldChange_TE             position_TE\n",
       "14  XXX_Taes_Ladon_AF325198-1           2.966002  7B:616772521-616772710\n",
       "19               Copia-5_TA-I           6.003682  4D:393818669-393826225\n",
       "2                ANGELA1_TM_I           4.769587  1B:514285370-514289839"
      ]
     },
     "execution_count": 141,
     "metadata": {},
     "output_type": "execute_result"
    }
   ],
   "source": [
    "df_dat_tes.sample(3)"
   ]
  },
  {
   "cell_type": "code",
   "execution_count": 142,
   "metadata": {},
   "outputs": [],
   "source": [
    "df_dat_tes['seqname'] = df_dat_tes.position_TE.str.split(':').str[0]\n",
    "df_dat_tes['start'] = df_dat_tes.position_TE.str.split('-').str[0]\n",
    "df_dat_tes['start'] = df_dat_tes.start.str.split(':').str[1]\n",
    "df_dat_tes['end'] = df_dat_tes.position_TE.str.split('-').str[1]\n"
   ]
  },
  {
   "cell_type": "code",
   "execution_count": 143,
   "metadata": {},
   "outputs": [
    {
     "data": {
      "text/html": [
       "<div>\n",
       "<style scoped>\n",
       "    .dataframe tbody tr th:only-of-type {\n",
       "        vertical-align: middle;\n",
       "    }\n",
       "\n",
       "    .dataframe tbody tr th {\n",
       "        vertical-align: top;\n",
       "    }\n",
       "\n",
       "    .dataframe thead th {\n",
       "        text-align: right;\n",
       "    }\n",
       "</style>\n",
       "<table border=\"1\" class=\"dataframe\">\n",
       "  <thead>\n",
       "    <tr style=\"text-align: right;\">\n",
       "      <th></th>\n",
       "      <th>TE</th>\n",
       "      <th>log2FoldChange_TE</th>\n",
       "      <th>position_TE</th>\n",
       "      <th>seqname</th>\n",
       "      <th>start</th>\n",
       "      <th>end</th>\n",
       "    </tr>\n",
       "  </thead>\n",
       "  <tbody>\n",
       "    <tr>\n",
       "      <th>14</th>\n",
       "      <td>XXX_Taes_Ladon_AF325198-1</td>\n",
       "      <td>2.966002</td>\n",
       "      <td>7B:616772521-616772710</td>\n",
       "      <td>7B</td>\n",
       "      <td>616772521</td>\n",
       "      <td>616772710</td>\n",
       "    </tr>\n",
       "    <tr>\n",
       "      <th>4</th>\n",
       "      <td>Copia-2_TA-I</td>\n",
       "      <td>7.109906</td>\n",
       "      <td>3B:441907282-441916497</td>\n",
       "      <td>3B</td>\n",
       "      <td>441907282</td>\n",
       "      <td>441916497</td>\n",
       "    </tr>\n",
       "    <tr>\n",
       "      <th>17</th>\n",
       "      <td>RLG_Taes_Nusif_3BctgE-7</td>\n",
       "      <td>6.230046</td>\n",
       "      <td>3B:291988255-291991584</td>\n",
       "      <td>3B</td>\n",
       "      <td>291988255</td>\n",
       "      <td>291991584</td>\n",
       "    </tr>\n",
       "  </tbody>\n",
       "</table>\n",
       "</div>"
      ],
      "text/plain": [
       "                           TE  log2FoldChange_TE             position_TE  \\\n",
       "14  XXX_Taes_Ladon_AF325198-1           2.966002  7B:616772521-616772710   \n",
       "4                Copia-2_TA-I           7.109906  3B:441907282-441916497   \n",
       "17    RLG_Taes_Nusif_3BctgE-7           6.230046  3B:291988255-291991584   \n",
       "\n",
       "   seqname      start        end  \n",
       "14      7B  616772521  616772710  \n",
       "4       3B  441907282  441916497  \n",
       "17      3B  291988255  291991584  "
      ]
     },
     "execution_count": 143,
     "metadata": {},
     "output_type": "execute_result"
    }
   ],
   "source": [
    "df_dat_tes.sample(3)"
   ]
  },
  {
   "cell_type": "code",
   "execution_count": null,
   "metadata": {},
   "outputs": [],
   "source": []
  },
  {
   "cell_type": "code",
   "execution_count": 144,
   "metadata": {},
   "outputs": [
    {
     "data": {
      "text/html": [
       "<div>\n",
       "<style scoped>\n",
       "    .dataframe tbody tr th:only-of-type {\n",
       "        vertical-align: middle;\n",
       "    }\n",
       "\n",
       "    .dataframe tbody tr th {\n",
       "        vertical-align: top;\n",
       "    }\n",
       "\n",
       "    .dataframe thead th {\n",
       "        text-align: right;\n",
       "    }\n",
       "</style>\n",
       "<table border=\"1\" class=\"dataframe\">\n",
       "  <thead>\n",
       "    <tr style=\"text-align: right;\">\n",
       "      <th></th>\n",
       "      <th>gene</th>\n",
       "      <th>log2FoldChange</th>\n",
       "      <th>seqname</th>\n",
       "      <th>start</th>\n",
       "      <th>end</th>\n",
       "      <th>promoter</th>\n",
       "      <th>log2FoldChange_promoter</th>\n",
       "      <th>sRNA_gene</th>\n",
       "      <th>log2FoldChange_gene</th>\n",
       "    </tr>\n",
       "  </thead>\n",
       "  <tbody>\n",
       "    <tr>\n",
       "      <th>339</th>\n",
       "      <td>TraesCS6A02G028100</td>\n",
       "      <td>5.954220</td>\n",
       "      <td>6A</td>\n",
       "      <td>14373125</td>\n",
       "      <td>14377288</td>\n",
       "      <td>NaN</td>\n",
       "      <td>NaN</td>\n",
       "      <td>NaN</td>\n",
       "      <td>NaN</td>\n",
       "    </tr>\n",
       "    <tr>\n",
       "      <th>819</th>\n",
       "      <td>TraesCS1D02G275200</td>\n",
       "      <td>2.236091</td>\n",
       "      <td>1D</td>\n",
       "      <td>370917273</td>\n",
       "      <td>370918280</td>\n",
       "      <td>NaN</td>\n",
       "      <td>NaN</td>\n",
       "      <td>NaN</td>\n",
       "      <td>NaN</td>\n",
       "    </tr>\n",
       "    <tr>\n",
       "      <th>942</th>\n",
       "      <td>TraesCS4D02G236400</td>\n",
       "      <td>1.046008</td>\n",
       "      <td>4D</td>\n",
       "      <td>398293345</td>\n",
       "      <td>398296122</td>\n",
       "      <td>NaN</td>\n",
       "      <td>NaN</td>\n",
       "      <td>NaN</td>\n",
       "      <td>NaN</td>\n",
       "    </tr>\n",
       "  </tbody>\n",
       "</table>\n",
       "</div>"
      ],
      "text/plain": [
       "                   gene  log2FoldChange seqname      start        end  \\\n",
       "339  TraesCS6A02G028100        5.954220      6A   14373125   14377288   \n",
       "819  TraesCS1D02G275200        2.236091      1D  370917273  370918280   \n",
       "942  TraesCS4D02G236400        1.046008      4D  398293345  398296122   \n",
       "\n",
       "    promoter  log2FoldChange_promoter sRNA_gene  log2FoldChange_gene  \n",
       "339      NaN                      NaN       NaN                  NaN  \n",
       "819      NaN                      NaN       NaN                  NaN  \n",
       "942      NaN                      NaN       NaN                  NaN  "
      ]
     },
     "execution_count": 144,
     "metadata": {},
     "output_type": "execute_result"
    }
   ],
   "source": [
    "#merge TE and DEGs by position\n",
    "df_res.sample(3)"
   ]
  },
  {
   "cell_type": "code",
   "execution_count": 145,
   "metadata": {},
   "outputs": [],
   "source": [
    "df_res['TE'] = ''\n",
    "df_res['log2FoldChange_TE'] = ''\n",
    "df_res['position_TE'] = ''"
   ]
  },
  {
   "cell_type": "code",
   "execution_count": 174,
   "metadata": {},
   "outputs": [],
   "source": [
    "howfar = 2000\n",
    "for k,v in df_res.iterrows():\n",
    "    for k_te, v_te in df_dat_tes.iterrows():\n",
    "        if v_te.seqname == v.seqname:\n",
    "            te_start = int(min(v_te.start,v_te.end))\n",
    "            te_end = int(max(v_te.start,v_te.end))\n",
    "            \n",
    "            gene_start = int(min(v.start,v.end))\n",
    "            gene_end = int(max(v.start,v.end))\n",
    "            gene_start = int(max(gene_start - howfar, 0))\n",
    "            gene_end += howfar\n",
    "            if gene_end >= te_start and gene_start <= te_end:\n",
    "                df_res.at[k, 'TE'] = v_te.TE\n",
    "                df_res.at[k, 'log2FoldChange_TE'] = v_te.log2FoldChange_TE\n",
    "                df_res.at[k, 'position_TE'] = v_te.position_TE"
   ]
  },
  {
   "cell_type": "code",
   "execution_count": 159,
   "metadata": {},
   "outputs": [
    {
     "data": {
      "text/html": [
       "<div>\n",
       "<style scoped>\n",
       "    .dataframe tbody tr th:only-of-type {\n",
       "        vertical-align: middle;\n",
       "    }\n",
       "\n",
       "    .dataframe tbody tr th {\n",
       "        vertical-align: top;\n",
       "    }\n",
       "\n",
       "    .dataframe thead th {\n",
       "        text-align: right;\n",
       "    }\n",
       "</style>\n",
       "<table border=\"1\" class=\"dataframe\">\n",
       "  <thead>\n",
       "    <tr style=\"text-align: right;\">\n",
       "      <th></th>\n",
       "      <th>gene</th>\n",
       "      <th>log2FoldChange</th>\n",
       "      <th>seqname</th>\n",
       "      <th>start</th>\n",
       "      <th>end</th>\n",
       "      <th>promoter</th>\n",
       "      <th>log2FoldChange_promoter</th>\n",
       "      <th>sRNA_gene</th>\n",
       "      <th>log2FoldChange_gene</th>\n",
       "      <th>TE</th>\n",
       "      <th>log2FoldChange_TE</th>\n",
       "      <th>position_TE</th>\n",
       "    </tr>\n",
       "  </thead>\n",
       "  <tbody>\n",
       "    <tr>\n",
       "      <th>664</th>\n",
       "      <td>TraesCS7B02G050500</td>\n",
       "      <td>3.495037</td>\n",
       "      <td>7B</td>\n",
       "      <td>52347658</td>\n",
       "      <td>52350365</td>\n",
       "      <td>NaN</td>\n",
       "      <td>NaN</td>\n",
       "      <td>NaN</td>\n",
       "      <td>NaN</td>\n",
       "      <td></td>\n",
       "      <td></td>\n",
       "      <td></td>\n",
       "    </tr>\n",
       "    <tr>\n",
       "      <th>2970</th>\n",
       "      <td>TraesCS2B02G411900</td>\n",
       "      <td>-0.648452</td>\n",
       "      <td>2B</td>\n",
       "      <td>586118399</td>\n",
       "      <td>586120605</td>\n",
       "      <td>NaN</td>\n",
       "      <td>NaN</td>\n",
       "      <td>NaN</td>\n",
       "      <td>NaN</td>\n",
       "      <td></td>\n",
       "      <td></td>\n",
       "      <td></td>\n",
       "    </tr>\n",
       "    <tr>\n",
       "      <th>420</th>\n",
       "      <td>TraesCS3B02G011600</td>\n",
       "      <td>5.645763</td>\n",
       "      <td>3B</td>\n",
       "      <td>5199156</td>\n",
       "      <td>5201287</td>\n",
       "      <td>NaN</td>\n",
       "      <td>NaN</td>\n",
       "      <td>NaN</td>\n",
       "      <td>NaN</td>\n",
       "      <td></td>\n",
       "      <td></td>\n",
       "      <td></td>\n",
       "    </tr>\n",
       "    <tr>\n",
       "      <th>453</th>\n",
       "      <td>TraesCS4B02G267200</td>\n",
       "      <td>-0.705791</td>\n",
       "      <td>4B</td>\n",
       "      <td>539965615</td>\n",
       "      <td>539970295</td>\n",
       "      <td>NaN</td>\n",
       "      <td>NaN</td>\n",
       "      <td>NaN</td>\n",
       "      <td>NaN</td>\n",
       "      <td></td>\n",
       "      <td></td>\n",
       "      <td></td>\n",
       "    </tr>\n",
       "    <tr>\n",
       "      <th>1057</th>\n",
       "      <td>TraesCS3D02G401400</td>\n",
       "      <td>-1.442054</td>\n",
       "      <td>3D</td>\n",
       "      <td>515965563</td>\n",
       "      <td>515968953</td>\n",
       "      <td>NaN</td>\n",
       "      <td>NaN</td>\n",
       "      <td>NaN</td>\n",
       "      <td>NaN</td>\n",
       "      <td></td>\n",
       "      <td></td>\n",
       "      <td></td>\n",
       "    </tr>\n",
       "  </tbody>\n",
       "</table>\n",
       "</div>"
      ],
      "text/plain": [
       "                    gene  log2FoldChange seqname      start        end  \\\n",
       "664   TraesCS7B02G050500        3.495037      7B   52347658   52350365   \n",
       "2970  TraesCS2B02G411900       -0.648452      2B  586118399  586120605   \n",
       "420   TraesCS3B02G011600        5.645763      3B    5199156    5201287   \n",
       "453   TraesCS4B02G267200       -0.705791      4B  539965615  539970295   \n",
       "1057  TraesCS3D02G401400       -1.442054      3D  515965563  515968953   \n",
       "\n",
       "     promoter  log2FoldChange_promoter sRNA_gene  log2FoldChange_gene TE  \\\n",
       "664       NaN                      NaN       NaN                  NaN      \n",
       "2970      NaN                      NaN       NaN                  NaN      \n",
       "420       NaN                      NaN       NaN                  NaN      \n",
       "453       NaN                      NaN       NaN                  NaN      \n",
       "1057      NaN                      NaN       NaN                  NaN      \n",
       "\n",
       "     log2FoldChange_TE position_TE  \n",
       "664                                 \n",
       "2970                                \n",
       "420                                 \n",
       "453                                 \n",
       "1057                                "
      ]
     },
     "execution_count": 159,
     "metadata": {},
     "output_type": "execute_result"
    }
   ],
   "source": [
    "df_res.sample(5)"
   ]
  },
  {
   "cell_type": "code",
   "execution_count": 161,
   "metadata": {},
   "outputs": [
    {
     "data": {
      "text/html": [
       "<div>\n",
       "<style scoped>\n",
       "    .dataframe tbody tr th:only-of-type {\n",
       "        vertical-align: middle;\n",
       "    }\n",
       "\n",
       "    .dataframe tbody tr th {\n",
       "        vertical-align: top;\n",
       "    }\n",
       "\n",
       "    .dataframe thead th {\n",
       "        text-align: right;\n",
       "    }\n",
       "</style>\n",
       "<table border=\"1\" class=\"dataframe\">\n",
       "  <thead>\n",
       "    <tr style=\"text-align: right;\">\n",
       "      <th></th>\n",
       "      <th>gene</th>\n",
       "      <th>log2FoldChange</th>\n",
       "      <th>seqname</th>\n",
       "      <th>start</th>\n",
       "      <th>end</th>\n",
       "      <th>promoter</th>\n",
       "      <th>log2FoldChange_promoter</th>\n",
       "      <th>sRNA_gene</th>\n",
       "      <th>log2FoldChange_gene</th>\n",
       "      <th>TE</th>\n",
       "      <th>log2FoldChange_TE</th>\n",
       "      <th>position_TE</th>\n",
       "    </tr>\n",
       "  </thead>\n",
       "  <tbody>\n",
       "  </tbody>\n",
       "</table>\n",
       "</div>"
      ],
      "text/plain": [
       "Empty DataFrame\n",
       "Columns: [gene, log2FoldChange, seqname, start, end, promoter, log2FoldChange_promoter, sRNA_gene, log2FoldChange_gene, TE, log2FoldChange_TE, position_TE]\n",
       "Index: []"
      ]
     },
     "execution_count": 161,
     "metadata": {},
     "output_type": "execute_result"
    }
   ],
   "source": [
    "df_res[df_res.position_TE != '']"
   ]
  },
  {
   "cell_type": "code",
   "execution_count": 162,
   "metadata": {},
   "outputs": [],
   "source": [
    "df_res.to_csv(file_output, index=None, )"
   ]
  },
  {
   "cell_type": "code",
   "execution_count": null,
   "metadata": {},
   "outputs": [],
   "source": []
  },
  {
   "cell_type": "code",
   "execution_count": null,
   "metadata": {},
   "outputs": [],
   "source": []
  },
  {
   "cell_type": "code",
   "execution_count": null,
   "metadata": {},
   "outputs": [],
   "source": []
  },
  {
   "cell_type": "code",
   "execution_count": null,
   "metadata": {},
   "outputs": [],
   "source": []
  },
  {
   "cell_type": "code",
   "execution_count": null,
   "metadata": {},
   "outputs": [],
   "source": []
  },
  {
   "cell_type": "code",
   "execution_count": null,
   "metadata": {},
   "outputs": [],
   "source": []
  },
  {
   "cell_type": "code",
   "execution_count": null,
   "metadata": {},
   "outputs": [],
   "source": []
  }
 ],
 "metadata": {
  "kernelspec": {
   "display_name": "Python 3",
   "language": "python",
   "name": "python3"
  },
  "language_info": {
   "codemirror_mode": {
    "name": "ipython",
    "version": 3
   },
   "file_extension": ".py",
   "mimetype": "text/x-python",
   "name": "python",
   "nbconvert_exporter": "python",
   "pygments_lexer": "ipython3",
   "version": "3.6.5"
  }
 },
 "nbformat": 4,
 "nbformat_minor": 2
}
