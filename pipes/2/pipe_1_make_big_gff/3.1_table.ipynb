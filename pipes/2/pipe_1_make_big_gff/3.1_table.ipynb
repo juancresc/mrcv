{
 "cells": [
  {
   "cell_type": "code",
   "execution_count": 2,
   "metadata": {},
   "outputs": [],
   "source": [
    "import pandas as pd"
   ]
  },
  {
   "cell_type": "code",
   "execution_count": 35,
   "metadata": {},
   "outputs": [],
   "source": [
    "path_deg = '/home/juan/Desktop/juan/bio/mrcv/data/res/04_02_19/DEG-normalized.csv'\n",
    "path_annotation = '/home/juan/Desktop/juan/bio/data/IWGSC/42/introns.gff3'\n",
    "path_deg_ann = '/home/juan/Desktop/juan/bio/mrcv/data/res/04_02_19/DEG_annotated.csv'\n"
   ]
  },
  {
   "cell_type": "code",
   "execution_count": 24,
   "metadata": {},
   "outputs": [
    {
     "name": "stdout",
     "output_type": "stream",
     "text": [
      "3019\n"
     ]
    },
    {
     "data": {
      "text/html": [
       "<div>\n",
       "<style scoped>\n",
       "    .dataframe tbody tr th:only-of-type {\n",
       "        vertical-align: middle;\n",
       "    }\n",
       "\n",
       "    .dataframe tbody tr th {\n",
       "        vertical-align: top;\n",
       "    }\n",
       "\n",
       "    .dataframe thead th {\n",
       "        text-align: right;\n",
       "    }\n",
       "</style>\n",
       "<table border=\"1\" class=\"dataframe\">\n",
       "  <thead>\n",
       "    <tr style=\"text-align: right;\">\n",
       "      <th></th>\n",
       "      <th>Unnamed: 0</th>\n",
       "      <th>gene</th>\n",
       "      <th>baseMean</th>\n",
       "      <th>log2FoldChange</th>\n",
       "      <th>lfcSE</th>\n",
       "      <th>stat</th>\n",
       "      <th>pvalue</th>\n",
       "      <th>padj</th>\n",
       "      <th>C1.counts.txt</th>\n",
       "      <th>C2.counts.txt</th>\n",
       "      <th>C3.counts.txt</th>\n",
       "      <th>C4.counts.txt</th>\n",
       "      <th>T1.counts.txt</th>\n",
       "      <th>T2.counts.txt</th>\n",
       "      <th>T3.counts.txt</th>\n",
       "      <th>T4.counts.txt</th>\n",
       "    </tr>\n",
       "  </thead>\n",
       "  <tbody>\n",
       "    <tr>\n",
       "      <th>0</th>\n",
       "      <td>1</td>\n",
       "      <td>TraesCS2B02G286300</td>\n",
       "      <td>320.013057</td>\n",
       "      <td>-2.445058</td>\n",
       "      <td>0.225052</td>\n",
       "      <td>-10.864391</td>\n",
       "      <td>1.703566e-27</td>\n",
       "      <td>5.369742e-23</td>\n",
       "      <td>582.257421</td>\n",
       "      <td>553.695714</td>\n",
       "      <td>476.353565</td>\n",
       "      <td>549.686360</td>\n",
       "      <td>77.245985</td>\n",
       "      <td>81.333777</td>\n",
       "      <td>93.617622</td>\n",
       "      <td>145.914014</td>\n",
       "    </tr>\n",
       "    <tr>\n",
       "      <th>1</th>\n",
       "      <td>2</td>\n",
       "      <td>TraesCS2B02G336800</td>\n",
       "      <td>2294.525203</td>\n",
       "      <td>2.909847</td>\n",
       "      <td>0.268059</td>\n",
       "      <td>10.855257</td>\n",
       "      <td>1.882766e-27</td>\n",
       "      <td>5.369742e-23</td>\n",
       "      <td>532.840739</td>\n",
       "      <td>512.938938</td>\n",
       "      <td>500.171243</td>\n",
       "      <td>609.940442</td>\n",
       "      <td>4976.988116</td>\n",
       "      <td>5270.112921</td>\n",
       "      <td>2148.061490</td>\n",
       "      <td>3805.147731</td>\n",
       "    </tr>\n",
       "  </tbody>\n",
       "</table>\n",
       "</div>"
      ],
      "text/plain": [
       "   Unnamed: 0                gene     baseMean  log2FoldChange     lfcSE  \\\n",
       "0           1  TraesCS2B02G286300   320.013057       -2.445058  0.225052   \n",
       "1           2  TraesCS2B02G336800  2294.525203        2.909847  0.268059   \n",
       "\n",
       "        stat        pvalue          padj  C1.counts.txt  C2.counts.txt  \\\n",
       "0 -10.864391  1.703566e-27  5.369742e-23     582.257421     553.695714   \n",
       "1  10.855257  1.882766e-27  5.369742e-23     532.840739     512.938938   \n",
       "\n",
       "   C3.counts.txt  C4.counts.txt  T1.counts.txt  T2.counts.txt  T3.counts.txt  \\\n",
       "0     476.353565     549.686360      77.245985      81.333777      93.617622   \n",
       "1     500.171243     609.940442    4976.988116    5270.112921    2148.061490   \n",
       "\n",
       "   T4.counts.txt  \n",
       "0     145.914014  \n",
       "1    3805.147731  "
      ]
     },
     "execution_count": 24,
     "metadata": {},
     "output_type": "execute_result"
    }
   ],
   "source": [
    "df_deg = pd.read_csv(path_deg)\n",
    "print(len(df_deg.index))\n",
    "df_deg['gene'] = df_deg['gene'].str.split('gene:').str[1]\n",
    "df_deg.head(2)"
   ]
  },
  {
   "cell_type": "code",
   "execution_count": 27,
   "metadata": {},
   "outputs": [
    {
     "data": {
      "text/html": [
       "<div>\n",
       "<style scoped>\n",
       "    .dataframe tbody tr th:only-of-type {\n",
       "        vertical-align: middle;\n",
       "    }\n",
       "\n",
       "    .dataframe tbody tr th {\n",
       "        vertical-align: top;\n",
       "    }\n",
       "\n",
       "    .dataframe thead th {\n",
       "        text-align: right;\n",
       "    }\n",
       "</style>\n",
       "<table border=\"1\" class=\"dataframe\">\n",
       "  <thead>\n",
       "    <tr style=\"text-align: right;\">\n",
       "      <th></th>\n",
       "      <th>gene</th>\n",
       "      <th>log2FoldChange</th>\n",
       "    </tr>\n",
       "  </thead>\n",
       "  <tbody>\n",
       "    <tr>\n",
       "      <th>0</th>\n",
       "      <td>TraesCS2B02G286300</td>\n",
       "      <td>-2.445058</td>\n",
       "    </tr>\n",
       "    <tr>\n",
       "      <th>1</th>\n",
       "      <td>TraesCS2B02G336800</td>\n",
       "      <td>2.909847</td>\n",
       "    </tr>\n",
       "  </tbody>\n",
       "</table>\n",
       "</div>"
      ],
      "text/plain": [
       "                 gene  log2FoldChange\n",
       "0  TraesCS2B02G286300       -2.445058\n",
       "1  TraesCS2B02G336800        2.909847"
      ]
     },
     "execution_count": 27,
     "metadata": {},
     "output_type": "execute_result"
    }
   ],
   "source": [
    "df_deg = df_deg[['gene','log2FoldChange']]\n",
    "df_deg.head(2)"
   ]
  },
  {
   "cell_type": "code",
   "execution_count": 26,
   "metadata": {},
   "outputs": [],
   "source": [
    "gene_list = df_deg.gene.tolist()"
   ]
  },
  {
   "cell_type": "code",
   "execution_count": 18,
   "metadata": {},
   "outputs": [
    {
     "name": "stdout",
     "output_type": "stream",
     "text": [
      "2573233\n"
     ]
    },
    {
     "data": {
      "text/html": [
       "<div>\n",
       "<style scoped>\n",
       "    .dataframe tbody tr th:only-of-type {\n",
       "        vertical-align: middle;\n",
       "    }\n",
       "\n",
       "    .dataframe tbody tr th {\n",
       "        vertical-align: top;\n",
       "    }\n",
       "\n",
       "    .dataframe thead th {\n",
       "        text-align: right;\n",
       "    }\n",
       "</style>\n",
       "<table border=\"1\" class=\"dataframe\">\n",
       "  <thead>\n",
       "    <tr style=\"text-align: right;\">\n",
       "      <th></th>\n",
       "      <th>seqname</th>\n",
       "      <th>source</th>\n",
       "      <th>feature</th>\n",
       "      <th>start</th>\n",
       "      <th>end</th>\n",
       "      <th>score</th>\n",
       "      <th>strand</th>\n",
       "      <th>frame</th>\n",
       "      <th>attribute</th>\n",
       "    </tr>\n",
       "  </thead>\n",
       "  <tbody>\n",
       "    <tr>\n",
       "      <th>0</th>\n",
       "      <td>1A</td>\n",
       "      <td>International Wheat Genome Sequencing Consortium</td>\n",
       "      <td>chromosome</td>\n",
       "      <td>1</td>\n",
       "      <td>594102056</td>\n",
       "      <td>.</td>\n",
       "      <td>.</td>\n",
       "      <td>.</td>\n",
       "      <td>ID=chromosome:1A;Alias=chr1A,LS992080.1</td>\n",
       "    </tr>\n",
       "    <tr>\n",
       "      <th>1</th>\n",
       "      <td>1A</td>\n",
       "      <td>Ensembl_Plants</td>\n",
       "      <td>ncRNA_gene</td>\n",
       "      <td>200</td>\n",
       "      <td>1683</td>\n",
       "      <td>.</td>\n",
       "      <td>+</td>\n",
       "      <td>.</td>\n",
       "      <td>ID=gene:ENSRNA050013875;Name=LSU_rRNA_eukarya;...</td>\n",
       "    </tr>\n",
       "  </tbody>\n",
       "</table>\n",
       "</div>"
      ],
      "text/plain": [
       "  seqname                                            source     feature  \\\n",
       "0      1A  International Wheat Genome Sequencing Consortium  chromosome   \n",
       "1      1A                                    Ensembl_Plants  ncRNA_gene   \n",
       "\n",
       "   start        end score strand frame  \\\n",
       "0      1  594102056     .      .     .   \n",
       "1    200       1683     .      +     .   \n",
       "\n",
       "                                           attribute  \n",
       "0            ID=chromosome:1A;Alias=chr1A,LS992080.1  \n",
       "1  ID=gene:ENSRNA050013875;Name=LSU_rRNA_eukarya;...  "
      ]
     },
     "execution_count": 18,
     "metadata": {},
     "output_type": "execute_result"
    }
   ],
   "source": [
    "df_ann = pd.read_csv(path_annotation,sep=\"\\t\", header=None)\n",
    "df_ann.columns = ['seqname' , 'source' , 'feature' , 'start' , 'end' , 'score' , 'strand' , 'frame' , 'attribute']\n",
    "print(len(df_ann.index))\n",
    "df_ann.head(2)"
   ]
  },
  {
   "cell_type": "code",
   "execution_count": 19,
   "metadata": {},
   "outputs": [
    {
     "name": "stdout",
     "output_type": "stream",
     "text": [
      "107891\n"
     ]
    },
    {
     "data": {
      "text/html": [
       "<div>\n",
       "<style scoped>\n",
       "    .dataframe tbody tr th:only-of-type {\n",
       "        vertical-align: middle;\n",
       "    }\n",
       "\n",
       "    .dataframe tbody tr th {\n",
       "        vertical-align: top;\n",
       "    }\n",
       "\n",
       "    .dataframe thead th {\n",
       "        text-align: right;\n",
       "    }\n",
       "</style>\n",
       "<table border=\"1\" class=\"dataframe\">\n",
       "  <thead>\n",
       "    <tr style=\"text-align: right;\">\n",
       "      <th></th>\n",
       "      <th>seqname</th>\n",
       "      <th>source</th>\n",
       "      <th>feature</th>\n",
       "      <th>start</th>\n",
       "      <th>end</th>\n",
       "      <th>score</th>\n",
       "      <th>strand</th>\n",
       "      <th>frame</th>\n",
       "      <th>attribute</th>\n",
       "    </tr>\n",
       "  </thead>\n",
       "  <tbody>\n",
       "    <tr>\n",
       "      <th>34</th>\n",
       "      <td>1A</td>\n",
       "      <td>IWGSC</td>\n",
       "      <td>gene</td>\n",
       "      <td>40098</td>\n",
       "      <td>70338</td>\n",
       "      <td>.</td>\n",
       "      <td>-</td>\n",
       "      <td>.</td>\n",
       "      <td>ID=gene:TraesCS1A02G000100;biotype=protein_cod...</td>\n",
       "    </tr>\n",
       "    <tr>\n",
       "      <th>67</th>\n",
       "      <td>1A</td>\n",
       "      <td>IWGSC</td>\n",
       "      <td>gene</td>\n",
       "      <td>70239</td>\n",
       "      <td>89245</td>\n",
       "      <td>.</td>\n",
       "      <td>+</td>\n",
       "      <td>.</td>\n",
       "      <td>ID=gene:TraesCS1A02G000200;biotype=protein_cod...</td>\n",
       "    </tr>\n",
       "  </tbody>\n",
       "</table>\n",
       "</div>"
      ],
      "text/plain": [
       "   seqname source feature  start    end score strand frame  \\\n",
       "34      1A  IWGSC    gene  40098  70338     .      -     .   \n",
       "67      1A  IWGSC    gene  70239  89245     .      +     .   \n",
       "\n",
       "                                            attribute  \n",
       "34  ID=gene:TraesCS1A02G000100;biotype=protein_cod...  \n",
       "67  ID=gene:TraesCS1A02G000200;biotype=protein_cod...  "
      ]
     },
     "execution_count": 19,
     "metadata": {},
     "output_type": "execute_result"
    }
   ],
   "source": [
    "df_ann = df_ann[df_ann.feature == 'gene']\n",
    "print(len(df_ann.index))\n",
    "df_ann.head(2)"
   ]
  },
  {
   "cell_type": "code",
   "execution_count": 20,
   "metadata": {},
   "outputs": [
    {
     "name": "stdout",
     "output_type": "stream",
     "text": [
      "3018\n"
     ]
    },
    {
     "data": {
      "text/html": [
       "<div>\n",
       "<style scoped>\n",
       "    .dataframe tbody tr th:only-of-type {\n",
       "        vertical-align: middle;\n",
       "    }\n",
       "\n",
       "    .dataframe tbody tr th {\n",
       "        vertical-align: top;\n",
       "    }\n",
       "\n",
       "    .dataframe thead th {\n",
       "        text-align: right;\n",
       "    }\n",
       "</style>\n",
       "<table border=\"1\" class=\"dataframe\">\n",
       "  <thead>\n",
       "    <tr style=\"text-align: right;\">\n",
       "      <th></th>\n",
       "      <th>seqname</th>\n",
       "      <th>source</th>\n",
       "      <th>feature</th>\n",
       "      <th>start</th>\n",
       "      <th>end</th>\n",
       "      <th>score</th>\n",
       "      <th>strand</th>\n",
       "      <th>frame</th>\n",
       "      <th>attribute</th>\n",
       "    </tr>\n",
       "  </thead>\n",
       "  <tbody>\n",
       "    <tr>\n",
       "      <th>863</th>\n",
       "      <td>1A</td>\n",
       "      <td>IWGSC</td>\n",
       "      <td>gene</td>\n",
       "      <td>1188844</td>\n",
       "      <td>1190864</td>\n",
       "      <td>.</td>\n",
       "      <td>+</td>\n",
       "      <td>.</td>\n",
       "      <td>ID=gene:TraesCS1A02G002200;biotype=protein_cod...</td>\n",
       "    </tr>\n",
       "    <tr>\n",
       "      <th>1912</th>\n",
       "      <td>1A</td>\n",
       "      <td>IWGSC</td>\n",
       "      <td>gene</td>\n",
       "      <td>3500137</td>\n",
       "      <td>3503929</td>\n",
       "      <td>.</td>\n",
       "      <td>-</td>\n",
       "      <td>.</td>\n",
       "      <td>ID=gene:TraesCS1A02G006300;biotype=protein_cod...</td>\n",
       "    </tr>\n",
       "  </tbody>\n",
       "</table>\n",
       "</div>"
      ],
      "text/plain": [
       "     seqname source feature    start      end score strand frame  \\\n",
       "863       1A  IWGSC    gene  1188844  1190864     .      +     .   \n",
       "1912      1A  IWGSC    gene  3500137  3503929     .      -     .   \n",
       "\n",
       "                                              attribute  \n",
       "863   ID=gene:TraesCS1A02G002200;biotype=protein_cod...  \n",
       "1912  ID=gene:TraesCS1A02G006300;biotype=protein_cod...  "
      ]
     },
     "execution_count": 20,
     "metadata": {},
     "output_type": "execute_result"
    }
   ],
   "source": [
    "def filter(x):\n",
    "    gene_name = x.attribute.split('gene:')[1]\n",
    "    gene_name = gene_name.split(';')[0]\n",
    "    return gene_name in gene_list\n",
    "df_ann = df_ann[df_ann.apply(lambda x: filter(x), axis=1)]\n",
    "print(len(df_ann.index))\n",
    "df_ann.head(2)"
   ]
  },
  {
   "cell_type": "code",
   "execution_count": 22,
   "metadata": {},
   "outputs": [
    {
     "data": {
      "text/html": [
       "<div>\n",
       "<style scoped>\n",
       "    .dataframe tbody tr th:only-of-type {\n",
       "        vertical-align: middle;\n",
       "    }\n",
       "\n",
       "    .dataframe tbody tr th {\n",
       "        vertical-align: top;\n",
       "    }\n",
       "\n",
       "    .dataframe thead th {\n",
       "        text-align: right;\n",
       "    }\n",
       "</style>\n",
       "<table border=\"1\" class=\"dataframe\">\n",
       "  <thead>\n",
       "    <tr style=\"text-align: right;\">\n",
       "      <th></th>\n",
       "      <th>seqname</th>\n",
       "      <th>source</th>\n",
       "      <th>feature</th>\n",
       "      <th>start</th>\n",
       "      <th>end</th>\n",
       "      <th>score</th>\n",
       "      <th>strand</th>\n",
       "      <th>frame</th>\n",
       "      <th>attribute</th>\n",
       "      <th>gene</th>\n",
       "    </tr>\n",
       "  </thead>\n",
       "  <tbody>\n",
       "    <tr>\n",
       "      <th>863</th>\n",
       "      <td>1A</td>\n",
       "      <td>IWGSC</td>\n",
       "      <td>gene</td>\n",
       "      <td>1188844</td>\n",
       "      <td>1190864</td>\n",
       "      <td>.</td>\n",
       "      <td>+</td>\n",
       "      <td>.</td>\n",
       "      <td>ID=gene:TraesCS1A02G002200;biotype=protein_cod...</td>\n",
       "      <td>TraesCS1A02G002200</td>\n",
       "    </tr>\n",
       "    <tr>\n",
       "      <th>1912</th>\n",
       "      <td>1A</td>\n",
       "      <td>IWGSC</td>\n",
       "      <td>gene</td>\n",
       "      <td>3500137</td>\n",
       "      <td>3503929</td>\n",
       "      <td>.</td>\n",
       "      <td>-</td>\n",
       "      <td>.</td>\n",
       "      <td>ID=gene:TraesCS1A02G006300;biotype=protein_cod...</td>\n",
       "      <td>TraesCS1A02G006300</td>\n",
       "    </tr>\n",
       "  </tbody>\n",
       "</table>\n",
       "</div>"
      ],
      "text/plain": [
       "     seqname source feature    start      end score strand frame  \\\n",
       "863       1A  IWGSC    gene  1188844  1190864     .      +     .   \n",
       "1912      1A  IWGSC    gene  3500137  3503929     .      -     .   \n",
       "\n",
       "                                              attribute                gene  \n",
       "863   ID=gene:TraesCS1A02G002200;biotype=protein_cod...  TraesCS1A02G002200  \n",
       "1912  ID=gene:TraesCS1A02G006300;biotype=protein_cod...  TraesCS1A02G006300  "
      ]
     },
     "execution_count": 22,
     "metadata": {},
     "output_type": "execute_result"
    }
   ],
   "source": [
    "df_ann['gene'] = df_ann.attribute.str.split('gene:').str[1]\n",
    "df_ann['gene'] = df_ann.gene.str.split(';').str[0]\n",
    "df_ann.head(2)"
   ]
  },
  {
   "cell_type": "code",
   "execution_count": 23,
   "metadata": {},
   "outputs": [
    {
     "data": {
      "text/html": [
       "<div>\n",
       "<style scoped>\n",
       "    .dataframe tbody tr th:only-of-type {\n",
       "        vertical-align: middle;\n",
       "    }\n",
       "\n",
       "    .dataframe tbody tr th {\n",
       "        vertical-align: top;\n",
       "    }\n",
       "\n",
       "    .dataframe thead th {\n",
       "        text-align: right;\n",
       "    }\n",
       "</style>\n",
       "<table border=\"1\" class=\"dataframe\">\n",
       "  <thead>\n",
       "    <tr style=\"text-align: right;\">\n",
       "      <th></th>\n",
       "      <th>gene</th>\n",
       "      <th>seqname</th>\n",
       "      <th>start</th>\n",
       "      <th>end</th>\n",
       "    </tr>\n",
       "  </thead>\n",
       "  <tbody>\n",
       "    <tr>\n",
       "      <th>863</th>\n",
       "      <td>TraesCS1A02G002200</td>\n",
       "      <td>1A</td>\n",
       "      <td>1188844</td>\n",
       "      <td>1190864</td>\n",
       "    </tr>\n",
       "    <tr>\n",
       "      <th>1912</th>\n",
       "      <td>TraesCS1A02G006300</td>\n",
       "      <td>1A</td>\n",
       "      <td>3500137</td>\n",
       "      <td>3503929</td>\n",
       "    </tr>\n",
       "  </tbody>\n",
       "</table>\n",
       "</div>"
      ],
      "text/plain": [
       "                    gene seqname    start      end\n",
       "863   TraesCS1A02G002200      1A  1188844  1190864\n",
       "1912  TraesCS1A02G006300      1A  3500137  3503929"
      ]
     },
     "execution_count": 23,
     "metadata": {},
     "output_type": "execute_result"
    }
   ],
   "source": [
    "df_ann = df_ann[['gene','seqname','start','end']]\n",
    "df_ann.head(2)"
   ]
  },
  {
   "cell_type": "code",
   "execution_count": 36,
   "metadata": {},
   "outputs": [
    {
     "data": {
      "text/html": [
       "<div>\n",
       "<style scoped>\n",
       "    .dataframe tbody tr th:only-of-type {\n",
       "        vertical-align: middle;\n",
       "    }\n",
       "\n",
       "    .dataframe tbody tr th {\n",
       "        vertical-align: top;\n",
       "    }\n",
       "\n",
       "    .dataframe thead th {\n",
       "        text-align: right;\n",
       "    }\n",
       "</style>\n",
       "<table border=\"1\" class=\"dataframe\">\n",
       "  <thead>\n",
       "    <tr style=\"text-align: right;\">\n",
       "      <th></th>\n",
       "      <th>gene</th>\n",
       "      <th>log2FoldChange</th>\n",
       "      <th>seqname</th>\n",
       "      <th>start</th>\n",
       "      <th>end</th>\n",
       "    </tr>\n",
       "  </thead>\n",
       "  <tbody>\n",
       "    <tr>\n",
       "      <th>0</th>\n",
       "      <td>TraesCS2B02G286300</td>\n",
       "      <td>-2.445058</td>\n",
       "      <td>2B</td>\n",
       "      <td>394317533</td>\n",
       "      <td>394318758</td>\n",
       "    </tr>\n",
       "    <tr>\n",
       "      <th>1</th>\n",
       "      <td>TraesCS2B02G336800</td>\n",
       "      <td>2.909847</td>\n",
       "      <td>2B</td>\n",
       "      <td>481048634</td>\n",
       "      <td>481054363</td>\n",
       "    </tr>\n",
       "  </tbody>\n",
       "</table>\n",
       "</div>"
      ],
      "text/plain": [
       "                 gene  log2FoldChange seqname      start        end\n",
       "0  TraesCS2B02G286300       -2.445058      2B  394317533  394318758\n",
       "1  TraesCS2B02G336800        2.909847      2B  481048634  481054363"
      ]
     },
     "execution_count": 36,
     "metadata": {},
     "output_type": "execute_result"
    }
   ],
   "source": [
    "df = pd.merge(df_deg, df_ann)\n",
    "df.head(2)"
   ]
  },
  {
   "cell_type": "code",
   "execution_count": 37,
   "metadata": {},
   "outputs": [],
   "source": [
    "df.to_csv(path_deg_ann, sep='\\t', index=None)"
   ]
  },
  {
   "cell_type": "code",
   "execution_count": null,
   "metadata": {},
   "outputs": [],
   "source": []
  }
 ],
 "metadata": {
  "kernelspec": {
   "display_name": "Python 3",
   "language": "python",
   "name": "python3"
  },
  "language_info": {
   "codemirror_mode": {
    "name": "ipython",
    "version": 3
   },
   "file_extension": ".py",
   "mimetype": "text/x-python",
   "name": "python",
   "nbconvert_exporter": "python",
   "pygments_lexer": "ipython3",
   "version": "3.6.5"
  }
 },
 "nbformat": 4,
 "nbformat_minor": 2
}
