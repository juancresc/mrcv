{
 "cells": [
  {
   "cell_type": "code",
   "execution_count": 2,
   "metadata": {},
   "outputs": [],
   "source": [
    "import pandas as pd"
   ]
  },
  {
   "cell_type": "code",
   "execution_count": 3,
   "metadata": {},
   "outputs": [],
   "source": [
    "path_map = \"../../data/compare/map_tgac.csv\"\n",
    "path_map_clean = \"../../data/compare/map_tgac_clean.csv\""
   ]
  },
  {
   "cell_type": "code",
   "execution_count": 7,
   "metadata": {},
   "outputs": [
    {
     "name": "stdout",
     "output_type": "stream",
     "text": [
      "8931\n"
     ]
    }
   ],
   "source": [
    "df_map = pd.read_csv(path_map)\n",
    "print(len(df_map.index))"
   ]
  },
  {
   "cell_type": "code",
   "execution_count": 5,
   "metadata": {},
   "outputs": [],
   "source": [
    "df_map['Matched ID(s)'] = df_map['Matched ID(s)'].str.replace('A01','A02')\n",
    "df_map['Matched ID(s)'] = df_map['Matched ID(s)'].str.replace('B01','B02')\n",
    "df_map['Matched ID(s)'] = df_map['Matched ID(s)'].str.replace('D01','D02')\n"
   ]
  },
  {
   "cell_type": "code",
   "execution_count": 14,
   "metadata": {},
   "outputs": [
    {
     "data": {
      "text/html": [
       "<div>\n",
       "<style scoped>\n",
       "    .dataframe tbody tr th:only-of-type {\n",
       "        vertical-align: middle;\n",
       "    }\n",
       "\n",
       "    .dataframe tbody tr th {\n",
       "        vertical-align: top;\n",
       "    }\n",
       "\n",
       "    .dataframe thead th {\n",
       "        text-align: right;\n",
       "    }\n",
       "</style>\n",
       "<table border=\"1\" class=\"dataframe\">\n",
       "  <thead>\n",
       "    <tr style=\"text-align: right;\">\n",
       "      <th></th>\n",
       "      <th>Requested ID</th>\n",
       "      <th>Matched ID(s)</th>\n",
       "    </tr>\n",
       "  </thead>\n",
       "  <tbody>\n",
       "    <tr>\n",
       "      <th>0</th>\n",
       "      <td>TRIAE_CS42_5AS_TGACv1_392611_AA1262120</td>\n",
       "      <td>TraesCS2D01G246000</td>\n",
       "    </tr>\n",
       "    <tr>\n",
       "      <th>1</th>\n",
       "      <td>TRIAE_CS42_5AS_TGACv1_392611_AA1262120</td>\n",
       "      <td>TraesCS2A01G245900</td>\n",
       "    </tr>\n",
       "    <tr>\n",
       "      <th>2</th>\n",
       "      <td>TRIAE_CS42_2DL_TGACv1_158849_AA0527030</td>\n",
       "      <td>TraesCS2D01G555200</td>\n",
       "    </tr>\n",
       "    <tr>\n",
       "      <th>3</th>\n",
       "      <td>TRIAE_CS42_2DL_TGACv1_158849_AA0527030</td>\n",
       "      <td>TraesCS2A01G553600</td>\n",
       "    </tr>\n",
       "  </tbody>\n",
       "</table>\n",
       "</div>"
      ],
      "text/plain": [
       "                             Requested ID       Matched ID(s)\n",
       "0  TRIAE_CS42_5AS_TGACv1_392611_AA1262120  TraesCS2D01G246000\n",
       "1  TRIAE_CS42_5AS_TGACv1_392611_AA1262120  TraesCS2A01G245900\n",
       "2  TRIAE_CS42_2DL_TGACv1_158849_AA0527030  TraesCS2D01G555200\n",
       "3  TRIAE_CS42_2DL_TGACv1_158849_AA0527030  TraesCS2A01G553600"
      ]
     },
     "execution_count": 14,
     "metadata": {},
     "output_type": "execute_result"
    }
   ],
   "source": [
    "df_map.head(4)"
   ]
  },
  {
   "cell_type": "code",
   "execution_count": 13,
   "metadata": {},
   "outputs": [
    {
     "name": "stdout",
     "output_type": "stream",
     "text": [
      "5A 2D\n"
     ]
    }
   ],
   "source": [
    "rows = []\n",
    "for k,v in df_map.iterrows():\n",
    "    s_1 = v['Requested ID'][11:13]\n",
    "    s_2 = v['Matched ID(s)'][7:9]\n",
    "    print(s_1, s_2)\n",
    "    break"
   ]
  },
  {
   "cell_type": "code",
   "execution_count": null,
   "metadata": {},
   "outputs": [],
   "source": []
  },
  {
   "cell_type": "code",
   "execution_count": null,
   "metadata": {},
   "outputs": [],
   "source": []
  },
  {
   "cell_type": "code",
   "execution_count": null,
   "metadata": {},
   "outputs": [],
   "source": []
  },
  {
   "cell_type": "code",
   "execution_count": null,
   "metadata": {},
   "outputs": [],
   "source": [
    "df_compare.to_csv(path_map_clean, sep='\\t', index=None)\n",
    "path_map_clean"
   ]
  }
 ],
 "metadata": {
  "kernelspec": {
   "display_name": "Python 3",
   "language": "python",
   "name": "python3"
  },
  "language_info": {
   "codemirror_mode": {
    "name": "ipython",
    "version": 3
   },
   "file_extension": ".py",
   "mimetype": "text/x-python",
   "name": "python",
   "nbconvert_exporter": "python",
   "pygments_lexer": "ipython3",
   "version": "3.6.5"
  }
 },
 "nbformat": 4,
 "nbformat_minor": 2
}
