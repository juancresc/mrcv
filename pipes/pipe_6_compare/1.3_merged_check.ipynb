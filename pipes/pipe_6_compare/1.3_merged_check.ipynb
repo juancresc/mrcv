{
 "cells": [
  {
   "cell_type": "code",
   "execution_count": 2,
   "metadata": {},
   "outputs": [],
   "source": [
    "import pandas as pd"
   ]
  },
  {
   "cell_type": "code",
   "execution_count": 3,
   "metadata": {},
   "outputs": [],
   "source": [
    "path_compare_res = '../../data/res/04_02_19/compared_res.csv'"
   ]
  },
  {
   "cell_type": "code",
   "execution_count": 5,
   "metadata": {},
   "outputs": [
    {
     "name": "stdout",
     "output_type": "stream",
     "text": [
      "1207\n"
     ]
    },
    {
     "data": {
      "text/html": [
       "<div>\n",
       "<style scoped>\n",
       "    .dataframe tbody tr th:only-of-type {\n",
       "        vertical-align: middle;\n",
       "    }\n",
       "\n",
       "    .dataframe tbody tr th {\n",
       "        vertical-align: top;\n",
       "    }\n",
       "\n",
       "    .dataframe thead th {\n",
       "        text-align: right;\n",
       "    }\n",
       "</style>\n",
       "<table border=\"1\" class=\"dataframe\">\n",
       "  <thead>\n",
       "    <tr style=\"text-align: right;\">\n",
       "      <th></th>\n",
       "      <th>miRNA_name</th>\n",
       "      <th>miRNA_l2fc</th>\n",
       "      <th>target</th>\n",
       "      <th>gene</th>\n",
       "      <th>gene_l2fc</th>\n",
       "      <th>Expectation</th>\n",
       "      <th>miRNA_aligned_fragment</th>\n",
       "      <th>Target_aligned_fragment</th>\n",
       "      <th>Inhibition</th>\n",
       "      <th>description</th>\n",
       "      <th>...</th>\n",
       "      <th>Infected_average_counts</th>\n",
       "      <th>log2FoldChange</th>\n",
       "      <th>FC</th>\n",
       "      <th>padj</th>\n",
       "      <th>description_taestivum</th>\n",
       "      <th>go_ids</th>\n",
       "      <th>atauschii_eg_homolog_ensembl_gene</th>\n",
       "      <th>description_atauschii</th>\n",
       "      <th>athaliana_eg_homolog_ensembl_gene</th>\n",
       "      <th>description_athaliana</th>\n",
       "    </tr>\n",
       "  </thead>\n",
       "  <tbody>\n",
       "    <tr>\n",
       "      <th>0</th>\n",
       "      <td>Cluster_30749</td>\n",
       "      <td>0.604528</td>\n",
       "      <td>TraesCS5B02G062100.1</td>\n",
       "      <td>TraesCS5B02G062100</td>\n",
       "      <td>1.378806</td>\n",
       "      <td>2.5</td>\n",
       "      <td>GCGGCUCUGUGGUGUUCAAGC</td>\n",
       "      <td>UGGUGACCACCACGGAGCCGC</td>\n",
       "      <td>Cleavage</td>\n",
       "      <td>Kinase interacting (KIP1-like) family protein,...</td>\n",
       "      <td>...</td>\n",
       "      <td>74.820683</td>\n",
       "      <td>1.680049</td>\n",
       "      <td>3.204388</td>\n",
       "      <td>0.000201</td>\n",
       "      <td>NaN</td>\n",
       "      <td>GO:0003779</td>\n",
       "      <td>F775_13157</td>\n",
       "      <td>NaN</td>\n",
       "      <td>AT3G22790, AT4G02710, AT4G14760, AT1G03080</td>\n",
       "      <td>Protein NETWORKED 1A [Source:UniProtKB/Swiss-P...</td>\n",
       "    </tr>\n",
       "    <tr>\n",
       "      <th>1</th>\n",
       "      <td>Cluster_30749</td>\n",
       "      <td>0.604528</td>\n",
       "      <td>TraesCS5B02G062100.1</td>\n",
       "      <td>TraesCS5B02G062100</td>\n",
       "      <td>1.378806</td>\n",
       "      <td>2.5</td>\n",
       "      <td>GCGGCUCUGUGGUGUUCAAGC</td>\n",
       "      <td>UGGUGACCACCACGGAGCCGC</td>\n",
       "      <td>Cleavage</td>\n",
       "      <td>Kinase interacting (KIP1-like) family protein,...</td>\n",
       "      <td>...</td>\n",
       "      <td>63.044070</td>\n",
       "      <td>1.404955</td>\n",
       "      <td>2.648096</td>\n",
       "      <td>0.005446</td>\n",
       "      <td>NaN</td>\n",
       "      <td>GO:0003779,</td>\n",
       "      <td>F775_13157</td>\n",
       "      <td>NaN</td>\n",
       "      <td>AT3G22790, AT1G03080, AT4G02710, AT4G14760</td>\n",
       "      <td>Protein NETWORKED 1A [Source:UniProtKB/Swiss-P...</td>\n",
       "    </tr>\n",
       "    <tr>\n",
       "      <th>2</th>\n",
       "      <td>Cluster_9839</td>\n",
       "      <td>-1.373090</td>\n",
       "      <td>TraesCS2B02G490400.1</td>\n",
       "      <td>TraesCS2B02G490400</td>\n",
       "      <td>1.957450</td>\n",
       "      <td>2.5</td>\n",
       "      <td>AGGCGGUUACCUUGGCUAGC</td>\n",
       "      <td>GCUGGCCAAGGUGGCCGCCG</td>\n",
       "      <td>Cleavage</td>\n",
       "      <td>Pectinesterase inhibitor domain containing pro...</td>\n",
       "      <td>...</td>\n",
       "      <td>37.725910</td>\n",
       "      <td>1.880008</td>\n",
       "      <td>3.680771</td>\n",
       "      <td>0.014958</td>\n",
       "      <td>NaN</td>\n",
       "      <td>GO:0004857, GO:0043086</td>\n",
       "      <td>NaN</td>\n",
       "      <td>NaN</td>\n",
       "      <td>NaN</td>\n",
       "      <td>NaN</td>\n",
       "    </tr>\n",
       "  </tbody>\n",
       "</table>\n",
       "<p>3 rows × 24 columns</p>\n",
       "</div>"
      ],
      "text/plain": [
       "      miRNA_name  miRNA_l2fc                target                gene  \\\n",
       "0  Cluster_30749    0.604528  TraesCS5B02G062100.1  TraesCS5B02G062100   \n",
       "1  Cluster_30749    0.604528  TraesCS5B02G062100.1  TraesCS5B02G062100   \n",
       "2   Cluster_9839   -1.373090  TraesCS2B02G490400.1  TraesCS2B02G490400   \n",
       "\n",
       "   gene_l2fc  Expectation miRNA_aligned_fragment Target_aligned_fragment  \\\n",
       "0   1.378806          2.5  GCGGCUCUGUGGUGUUCAAGC   UGGUGACCACCACGGAGCCGC   \n",
       "1   1.378806          2.5  GCGGCUCUGUGGUGUUCAAGC   UGGUGACCACCACGGAGCCGC   \n",
       "2   1.957450          2.5   AGGCGGUUACCUUGGCUAGC    GCUGGCCAAGGUGGCCGCCG   \n",
       "\n",
       "  Inhibition                                        description  \\\n",
       "0   Cleavage  Kinase interacting (KIP1-like) family protein,...   \n",
       "1   Cleavage  Kinase interacting (KIP1-like) family protein,...   \n",
       "2   Cleavage  Pectinesterase inhibitor domain containing pro...   \n",
       "\n",
       "                         ...                         Infected_average_counts  \\\n",
       "0                        ...                                       74.820683   \n",
       "1                        ...                                       63.044070   \n",
       "2                        ...                                       37.725910   \n",
       "\n",
       "  log2FoldChange        FC      padj  description_taestivum  \\\n",
       "0       1.680049  3.204388  0.000201                    NaN   \n",
       "1       1.404955  2.648096  0.005446                    NaN   \n",
       "2       1.880008  3.680771  0.014958                    NaN   \n",
       "\n",
       "                   go_ids  atauschii_eg_homolog_ensembl_gene  \\\n",
       "0              GO:0003779                         F775_13157   \n",
       "1            GO:0003779,                          F775_13157   \n",
       "2  GO:0004857, GO:0043086                                NaN   \n",
       "\n",
       "   description_atauschii           athaliana_eg_homolog_ensembl_gene  \\\n",
       "0                    NaN  AT3G22790, AT4G02710, AT4G14760, AT1G03080   \n",
       "1                    NaN  AT3G22790, AT1G03080, AT4G02710, AT4G14760   \n",
       "2                    NaN                                         NaN   \n",
       "\n",
       "                               description_athaliana  \n",
       "0  Protein NETWORKED 1A [Source:UniProtKB/Swiss-P...  \n",
       "1  Protein NETWORKED 1A [Source:UniProtKB/Swiss-P...  \n",
       "2                                                NaN  \n",
       "\n",
       "[3 rows x 24 columns]"
      ]
     },
     "execution_count": 5,
     "metadata": {},
     "output_type": "execute_result"
    }
   ],
   "source": [
    "df = pd.read_csv(path_compare_res, sep='\\t')\n",
    "print(len(df.index))\n",
    "df.head(3)"
   ]
  },
  {
   "cell_type": "code",
   "execution_count": 8,
   "metadata": {},
   "outputs": [
    {
     "name": "stdout",
     "output_type": "stream",
     "text": [
      "514 608\n"
     ]
    }
   ],
   "source": [
    "up_ = len(df[df.log2FoldChange > 0].index)\n",
    "down_ = len(df[df.log2FoldChange < 0].index)\n",
    "print(down_, up_)"
   ]
  },
  {
   "cell_type": "code",
   "execution_count": 9,
   "metadata": {},
   "outputs": [
    {
     "name": "stdout",
     "output_type": "stream",
     "text": [
      "557 650\n"
     ]
    }
   ],
   "source": [
    "up_ = len(df[df.gene_l2fc > 0].index)\n",
    "down_ = len(df[df.gene_l2fc < 0].index)\n",
    "print(down_, up_)"
   ]
  },
  {
   "cell_type": "code",
   "execution_count": 13,
   "metadata": {},
   "outputs": [
    {
     "name": "stdout",
     "output_type": "stream",
     "text": [
      "0\n"
     ]
    }
   ],
   "source": [
    "dist = len(df[(df.gene_l2fc > 0) & (df.log2FoldChange < 0)].index)\n",
    "print(dist)"
   ]
  },
  {
   "cell_type": "code",
   "execution_count": 15,
   "metadata": {},
   "outputs": [
    {
     "name": "stdout",
     "output_type": "stream",
     "text": [
      "        miRNA_name  miRNA_l2fc                target                gene  \\\n",
      "831  Cluster_18555   -0.981298  TraesCS2D02G175600.1  TraesCS2D02G175600   \n",
      "\n",
      "     gene_l2fc  Expectation miRNA_aligned_fragment Target_aligned_fragment  \\\n",
      "831  -2.013343          5.0   GGUGGGUCUUCUUGGCUAGC    AGUGGCCGAGGUGGUCCACC   \n",
      "\n",
      "    Inhibition       description  \\\n",
      "831   Cleavage  Sucrose synthase   \n",
      "\n",
      "                           ...                          \\\n",
      "831                        ...                           \n",
      "\n",
      "    Infected_average_counts log2FoldChange        FC      padj  \\\n",
      "831              295.291064       2.049109  4.138502  0.002174   \n",
      "\n",
      "                                 description_taestivum  \\\n",
      "831  Sucrose synthase [Source:UniProtKB/TrEMBL;Acc:...   \n",
      "\n",
      "                                             go_ids  \\\n",
      "831  GO:0005985, GO:0016740, GO:0016757, GO:0016157   \n",
      "\n",
      "     atauschii_eg_homolog_ensembl_gene  \\\n",
      "831                         F775_28561   \n",
      "\n",
      "                                 description_atauschii  \\\n",
      "831  Sucrose synthase 2 [Source:UniProtKB/TrEMBL;Ac...   \n",
      "\n",
      "    athaliana_eg_homolog_ensembl_gene  \\\n",
      "831              AT5G20830, AT3G43190   \n",
      "\n",
      "                                 description_athaliana  \n",
      "831  Sucrose synthase 1 [Source:UniProtKB/Swiss-Pro...  \n",
      "\n",
      "[1 rows x 24 columns]\n"
     ]
    }
   ],
   "source": [
    "dist = (df[(df.gene_l2fc < 0) & (df.log2FoldChange > 0)])\n",
    "print(dist)"
   ]
  },
  {
   "cell_type": "code",
   "execution_count": null,
   "metadata": {},
   "outputs": [],
   "source": []
  },
  {
   "cell_type": "code",
   "execution_count": null,
   "metadata": {},
   "outputs": [],
   "source": []
  },
  {
   "cell_type": "code",
   "execution_count": 10,
   "metadata": {},
   "outputs": [
    {
     "name": "stdout",
     "output_type": "stream",
     "text": [
      "632 575\n"
     ]
    }
   ],
   "source": [
    "up_ = len(df[df.miRNA_l2fc > 0].index)\n",
    "down_ = len(df[df.miRNA_l2fc < 0].index)\n",
    "print(down_, up_)"
   ]
  },
  {
   "cell_type": "code",
   "execution_count": null,
   "metadata": {},
   "outputs": [],
   "source": []
  }
 ],
 "metadata": {
  "kernelspec": {
   "display_name": "Python 3",
   "language": "python",
   "name": "python3"
  },
  "language_info": {
   "codemirror_mode": {
    "name": "ipython",
    "version": 3
   },
   "file_extension": ".py",
   "mimetype": "text/x-python",
   "name": "python",
   "nbconvert_exporter": "python",
   "pygments_lexer": "ipython3",
   "version": "3.6.5"
  }
 },
 "nbformat": 4,
 "nbformat_minor": 2
}
