{
 "cells": [
  {
   "cell_type": "code",
   "execution_count": 1,
   "metadata": {},
   "outputs": [],
   "source": [
    "import pandas as pd\n",
    "from Bio import SeqIO\n",
    "from Bio.SeqRecord import SeqRecord\n",
    "from Bio.Seq import Seq"
   ]
  },
  {
   "cell_type": "code",
   "execution_count": 3,
   "metadata": {},
   "outputs": [
    {
     "name": "stdout",
     "output_type": "stream",
     "text": [
      "3233\n"
     ]
    }
   ],
   "source": [
    "#TGAC\n",
    "file_deg = '../data/DEGs_by_RNAseq_21dpi_wheat.txt'\n",
    "file_annotation = '/home/juan/Desktop/juan/bio/data/genomes/TGAC/Triticum_aestivum.TGACv1.39.clean.gff3'\n",
    "dir_fasta = \"/home/juan/Desktop/juan/bio/data/genomes/TGAC/by_scaff/\"\n",
    "file_out_fasta = \"/home/juan/Desktop/juan/bio/mrcv/data/TGAC_DEG_SEQS.fasta\"\n",
    "gene_id = 'ID=gene:'\n",
    "df_list = pd.read_csv(file_deg, index_col=False, sep='\\t', comment='#')\n",
    "genes = df_list.Gene.tolist() \n",
    "print(len(genes))"
   ]
  },
  {
   "cell_type": "code",
   "execution_count": 2,
   "metadata": {},
   "outputs": [
    {
     "name": "stdout",
     "output_type": "stream",
     "text": [
      "2671\n"
     ]
    }
   ],
   "source": [
    "#IWGSC\n",
    "file_deg = '../data/DEG-normalized.csv'\n",
    "file_annotation = '/home/juan/Desktop/juan/bio/data/genomes/IWGSC/iwgsc_refseqv1.0_HighConf_2017Mar13.gff3'\n",
    "dir_fasta = \"/home/juan/Desktop/juan/bio/data/genomes/IWGSC/by_chr/\"\n",
    "file_out_fasta = \"/home/juan/Desktop/juan/bio/mrcv/data/IWGSC_DEG_SEQS.fasta\"\n",
    "gene_id = 'ID='\n",
    "df_list = pd.read_csv(file_deg, index_col=False, sep=',', comment='#')\n",
    "genes = df_list.gene.tolist() \n",
    "print(len(genes))"
   ]
  },
  {
   "cell_type": "code",
   "execution_count": 6,
   "metadata": {},
   "outputs": [
    {
     "name": "stdout",
     "output_type": "stream",
     "text": [
      "110790\n"
     ]
    },
    {
     "data": {
      "text/html": [
       "<div>\n",
       "<style scoped>\n",
       "    .dataframe tbody tr th:only-of-type {\n",
       "        vertical-align: middle;\n",
       "    }\n",
       "\n",
       "    .dataframe tbody tr th {\n",
       "        vertical-align: top;\n",
       "    }\n",
       "\n",
       "    .dataframe thead th {\n",
       "        text-align: right;\n",
       "    }\n",
       "</style>\n",
       "<table border=\"1\" class=\"dataframe\">\n",
       "  <thead>\n",
       "    <tr style=\"text-align: right;\">\n",
       "      <th></th>\n",
       "      <th>seqname</th>\n",
       "      <th>source</th>\n",
       "      <th>feature</th>\n",
       "      <th>start</th>\n",
       "      <th>end</th>\n",
       "      <th>score</th>\n",
       "      <th>strand</th>\n",
       "      <th>frame</th>\n",
       "      <th>attribute</th>\n",
       "    </tr>\n",
       "  </thead>\n",
       "  <tbody>\n",
       "    <tr>\n",
       "      <th>0</th>\n",
       "      <td>chr1A</td>\n",
       "      <td>IWGSC_March2017</td>\n",
       "      <td>gene</td>\n",
       "      <td>58508</td>\n",
       "      <td>58768</td>\n",
       "      <td>33</td>\n",
       "      <td>-</td>\n",
       "      <td>.</td>\n",
       "      <td>ID=TraesCS1A01G000100;primconf=HC</td>\n",
       "    </tr>\n",
       "    <tr>\n",
       "      <th>4</th>\n",
       "      <td>chr1A</td>\n",
       "      <td>IWGSC_March2017</td>\n",
       "      <td>gene</td>\n",
       "      <td>70095</td>\n",
       "      <td>70736</td>\n",
       "      <td>35</td>\n",
       "      <td>+</td>\n",
       "      <td>.</td>\n",
       "      <td>ID=TraesCS1A01G000200;primconf=HC</td>\n",
       "    </tr>\n",
       "    <tr>\n",
       "      <th>10</th>\n",
       "      <td>chr1A</td>\n",
       "      <td>IWGSC_March2017</td>\n",
       "      <td>gene</td>\n",
       "      <td>104607</td>\n",
       "      <td>104903</td>\n",
       "      <td>35</td>\n",
       "      <td>+</td>\n",
       "      <td>.</td>\n",
       "      <td>ID=TraesCS1A01G000300;primconf=HC</td>\n",
       "    </tr>\n",
       "  </tbody>\n",
       "</table>\n",
       "</div>"
      ],
      "text/plain": [
       "   seqname           source feature   start     end score strand frame  \\\n",
       "0    chr1A  IWGSC_March2017    gene   58508   58768    33      -     .   \n",
       "4    chr1A  IWGSC_March2017    gene   70095   70736    35      +     .   \n",
       "10   chr1A  IWGSC_March2017    gene  104607  104903    35      +     .   \n",
       "\n",
       "                            attribute  \n",
       "0   ID=TraesCS1A01G000100;primconf=HC  \n",
       "4   ID=TraesCS1A01G000200;primconf=HC  \n",
       "10  ID=TraesCS1A01G000300;primconf=HC  "
      ]
     },
     "execution_count": 6,
     "metadata": {},
     "output_type": "execute_result"
    }
   ],
   "source": [
    "df_gff = pd.read_csv(file_annotation, index_col=False, sep='\\t', header=None, comment='#')\n",
    "df_gff.columns = ['seqname', 'source', 'feature', 'start', 'end', 'score', 'strand', 'frame', 'attribute']\n",
    "df_gff = df_gff[df_gff.feature == 'gene']\n",
    "print(len(df_gff.index))\n",
    "df_gff.head(3)"
   ]
  },
  {
   "cell_type": "code",
   "execution_count": 10,
   "metadata": {},
   "outputs": [
    {
     "ename": "MemoryError",
     "evalue": "",
     "output_type": "error",
     "traceback": [
      "\u001b[0;31m---------------------------------------------------------------------------\u001b[0m",
      "\u001b[0;31mMemoryError\u001b[0m                               Traceback (most recent call last)",
      "\u001b[0;32m<ipython-input-10-1e4f1b9deb90>\u001b[0m in \u001b[0;36m<module>\u001b[0;34m()\u001b[0m\n\u001b[1;32m      9\u001b[0m         \u001b[0mend\u001b[0m \u001b[0;34m=\u001b[0m \u001b[0mgene_gff\u001b[0m\u001b[0;34m.\u001b[0m\u001b[0mend\u001b[0m\u001b[0;34m\u001b[0m\u001b[0m\n\u001b[1;32m     10\u001b[0m         \u001b[0mstart\u001b[0m \u001b[0;34m=\u001b[0m \u001b[0mgene_gff\u001b[0m\u001b[0;34m.\u001b[0m\u001b[0mstart\u001b[0m\u001b[0;34m\u001b[0m\u001b[0m\n\u001b[0;32m---> 11\u001b[0;31m     \u001b[0mrecord\u001b[0m \u001b[0;34m=\u001b[0m \u001b[0mSeqIO\u001b[0m\u001b[0;34m.\u001b[0m\u001b[0mread\u001b[0m\u001b[0;34m(\u001b[0m\u001b[0mdir_fasta\u001b[0m \u001b[0;34m+\u001b[0m \u001b[0mgene_gff\u001b[0m\u001b[0;34m.\u001b[0m\u001b[0mseqname\u001b[0m \u001b[0;34m+\u001b[0m \u001b[0;34m'.fasta'\u001b[0m\u001b[0;34m,\u001b[0m \u001b[0;34m'fasta'\u001b[0m\u001b[0;34m)\u001b[0m\u001b[0;34m\u001b[0m\u001b[0m\n\u001b[0m\u001b[1;32m     12\u001b[0m     \u001b[0mclean_seq\u001b[0m \u001b[0;34m=\u001b[0m \u001b[0;34m''\u001b[0m\u001b[0;34m.\u001b[0m\u001b[0mjoin\u001b[0m\u001b[0;34m(\u001b[0m\u001b[0mstr\u001b[0m\u001b[0;34m(\u001b[0m\u001b[0mrecord\u001b[0m\u001b[0;34m.\u001b[0m\u001b[0mseq\u001b[0m\u001b[0;34m)\u001b[0m\u001b[0;34m.\u001b[0m\u001b[0msplitlines\u001b[0m\u001b[0;34m(\u001b[0m\u001b[0;34m)\u001b[0m\u001b[0;34m)\u001b[0m\u001b[0;34m\u001b[0m\u001b[0m\n\u001b[1;32m     13\u001b[0m     \u001b[0mnew_seq\u001b[0m \u001b[0;34m=\u001b[0m \u001b[0mclean_seq\u001b[0m\u001b[0;34m[\u001b[0m\u001b[0mstart\u001b[0m\u001b[0;34m:\u001b[0m\u001b[0mend\u001b[0m\u001b[0;34m]\u001b[0m\u001b[0;34m\u001b[0m\u001b[0m\n",
      "\u001b[0;32m~/Desktop/juan/bio/venv/lib/python3.6/site-packages/Bio/SeqIO/__init__.py\u001b[0m in \u001b[0;36mread\u001b[0;34m(handle, format, alphabet)\u001b[0m\n\u001b[1;32m    700\u001b[0m     \u001b[0miterator\u001b[0m \u001b[0;34m=\u001b[0m \u001b[0mparse\u001b[0m\u001b[0;34m(\u001b[0m\u001b[0mhandle\u001b[0m\u001b[0;34m,\u001b[0m \u001b[0mformat\u001b[0m\u001b[0;34m,\u001b[0m \u001b[0malphabet\u001b[0m\u001b[0;34m)\u001b[0m\u001b[0;34m\u001b[0m\u001b[0m\n\u001b[1;32m    701\u001b[0m     \u001b[0;32mtry\u001b[0m\u001b[0;34m:\u001b[0m\u001b[0;34m\u001b[0m\u001b[0m\n\u001b[0;32m--> 702\u001b[0;31m         \u001b[0mfirst\u001b[0m \u001b[0;34m=\u001b[0m \u001b[0mnext\u001b[0m\u001b[0;34m(\u001b[0m\u001b[0miterator\u001b[0m\u001b[0;34m)\u001b[0m\u001b[0;34m\u001b[0m\u001b[0m\n\u001b[0m\u001b[1;32m    703\u001b[0m     \u001b[0;32mexcept\u001b[0m \u001b[0mStopIteration\u001b[0m\u001b[0;34m:\u001b[0m\u001b[0;34m\u001b[0m\u001b[0m\n\u001b[1;32m    704\u001b[0m         \u001b[0mfirst\u001b[0m \u001b[0;34m=\u001b[0m \u001b[0;32mNone\u001b[0m\u001b[0;34m\u001b[0m\u001b[0m\n",
      "\u001b[0;32m~/Desktop/juan/bio/venv/lib/python3.6/site-packages/Bio/SeqIO/__init__.py\u001b[0m in \u001b[0;36mparse\u001b[0;34m(handle, format, alphabet)\u001b[0m\n\u001b[1;32m    635\u001b[0m             \u001b[0;32mraise\u001b[0m \u001b[0mValueError\u001b[0m\u001b[0;34m(\u001b[0m\u001b[0;34m\"Unknown format '%s'\"\u001b[0m \u001b[0;34m%\u001b[0m \u001b[0mformat\u001b[0m\u001b[0;34m)\u001b[0m\u001b[0;34m\u001b[0m\u001b[0m\n\u001b[1;32m    636\u001b[0m         \u001b[0;31m# This imposes some overhead... wait until we drop Python 2.4 to fix it\u001b[0m\u001b[0;34m\u001b[0m\u001b[0;34m\u001b[0m\u001b[0m\n\u001b[0;32m--> 637\u001b[0;31m         \u001b[0;32mfor\u001b[0m \u001b[0mr\u001b[0m \u001b[0;32min\u001b[0m \u001b[0mi\u001b[0m\u001b[0;34m:\u001b[0m\u001b[0;34m\u001b[0m\u001b[0m\n\u001b[0m\u001b[1;32m    638\u001b[0m             \u001b[0;32myield\u001b[0m \u001b[0mr\u001b[0m\u001b[0;34m\u001b[0m\u001b[0m\n\u001b[1;32m    639\u001b[0m \u001b[0;34m\u001b[0m\u001b[0m\n",
      "\u001b[0;32m~/Desktop/juan/bio/venv/lib/python3.6/site-packages/Bio/SeqIO/FastaIO.py\u001b[0m in \u001b[0;36mFastaIterator\u001b[0;34m(handle, alphabet, title2ids)\u001b[0m\n\u001b[1;32m    182\u001b[0m                             id=id, name=name, description=descr)\n\u001b[1;32m    183\u001b[0m     \u001b[0;32melse\u001b[0m\u001b[0;34m:\u001b[0m\u001b[0;34m\u001b[0m\u001b[0m\n\u001b[0;32m--> 184\u001b[0;31m         \u001b[0;32mfor\u001b[0m \u001b[0mtitle\u001b[0m\u001b[0;34m,\u001b[0m \u001b[0msequence\u001b[0m \u001b[0;32min\u001b[0m \u001b[0mSimpleFastaParser\u001b[0m\u001b[0;34m(\u001b[0m\u001b[0mhandle\u001b[0m\u001b[0;34m)\u001b[0m\u001b[0;34m:\u001b[0m\u001b[0;34m\u001b[0m\u001b[0m\n\u001b[0m\u001b[1;32m    185\u001b[0m             \u001b[0;32mtry\u001b[0m\u001b[0;34m:\u001b[0m\u001b[0;34m\u001b[0m\u001b[0m\n\u001b[1;32m    186\u001b[0m                 \u001b[0mfirst_word\u001b[0m \u001b[0;34m=\u001b[0m \u001b[0mtitle\u001b[0m\u001b[0;34m.\u001b[0m\u001b[0msplit\u001b[0m\u001b[0;34m(\u001b[0m\u001b[0;32mNone\u001b[0m\u001b[0;34m,\u001b[0m \u001b[0;36m1\u001b[0m\u001b[0;34m)\u001b[0m\u001b[0;34m[\u001b[0m\u001b[0;36m0\u001b[0m\u001b[0;34m]\u001b[0m\u001b[0;34m\u001b[0m\u001b[0m\n",
      "\u001b[0;32m~/Desktop/juan/bio/venv/lib/python3.6/site-packages/Bio/SeqIO/FastaIO.py\u001b[0m in \u001b[0;36mSimpleFastaParser\u001b[0;34m(handle)\u001b[0m\n\u001b[1;32m     67\u001b[0m         \u001b[0;31m# (and any embedded \\r which are possible in mangled files\u001b[0m\u001b[0;34m\u001b[0m\u001b[0;34m\u001b[0m\u001b[0m\n\u001b[1;32m     68\u001b[0m         \u001b[0;31m# when not opened in universal read lines mode)\u001b[0m\u001b[0;34m\u001b[0m\u001b[0;34m\u001b[0m\u001b[0m\n\u001b[0;32m---> 69\u001b[0;31m         \u001b[0;32myield\u001b[0m \u001b[0mtitle\u001b[0m\u001b[0;34m,\u001b[0m \u001b[0;34m\"\"\u001b[0m\u001b[0;34m.\u001b[0m\u001b[0mjoin\u001b[0m\u001b[0;34m(\u001b[0m\u001b[0mlines\u001b[0m\u001b[0;34m)\u001b[0m\u001b[0;34m.\u001b[0m\u001b[0mreplace\u001b[0m\u001b[0;34m(\u001b[0m\u001b[0;34m\" \"\u001b[0m\u001b[0;34m,\u001b[0m \u001b[0;34m\"\"\u001b[0m\u001b[0;34m)\u001b[0m\u001b[0;34m.\u001b[0m\u001b[0mreplace\u001b[0m\u001b[0;34m(\u001b[0m\u001b[0;34m\"\\r\"\u001b[0m\u001b[0;34m,\u001b[0m \u001b[0;34m\"\"\u001b[0m\u001b[0;34m)\u001b[0m\u001b[0;34m\u001b[0m\u001b[0m\n\u001b[0m\u001b[1;32m     70\u001b[0m \u001b[0;34m\u001b[0m\u001b[0m\n\u001b[1;32m     71\u001b[0m         \u001b[0;32mif\u001b[0m \u001b[0;32mnot\u001b[0m \u001b[0mline\u001b[0m\u001b[0;34m:\u001b[0m\u001b[0;34m\u001b[0m\u001b[0m\n",
      "\u001b[0;31mMemoryError\u001b[0m: "
     ]
    }
   ],
   "source": [
    "buffer_seqs = []\n",
    "for gene in genes:\n",
    "    df_extract = df_gff[(df_gff.attribute.str.contains(gene_id + gene))]\n",
    "    gene_gff = df_extract.iloc[0]\n",
    "    if gene_gff.start > gene_gff.end:\n",
    "        end = gene_gff.start\n",
    "        start = gene_gff.end\n",
    "    else:\n",
    "        end = gene_gff.end\n",
    "        start = gene_gff.start\n",
    "    record = SeqIO.read(dir_fasta + gene_gff.seqname + '.fasta', 'fasta')\n",
    "    clean_seq = ''.join(str(record.seq).splitlines())\n",
    "    new_seq = clean_seq[start:end]\n",
    "    desc = \"seq:\" + str(gene_gff.seqname)\n",
    "    desc += \" start:\" + str(start)\n",
    "    desc += \" end:\" + str(end)\n",
    "    desc += \" strand:\" + str(gene_gff.strand)\n",
    "    seq = SeqRecord(Seq(new_seq), id=gene, description=desc)\n",
    "    buffer_seqs.append(seq)\n"
   ]
  },
  {
   "cell_type": "code",
   "execution_count": null,
   "metadata": {},
   "outputs": [],
   "source": [
    "SeqIO.write(buffer_seqs, file_out_fasta, \"fasta\")"
   ]
  },
  {
   "cell_type": "code",
   "execution_count": 38,
   "metadata": {},
   "outputs": [
    {
     "data": {
      "text/plain": [
       "'TraesCS2B02G286300'"
      ]
     },
     "execution_count": 38,
     "metadata": {},
     "output_type": "execute_result"
    }
   ],
   "source": [
    "gene"
   ]
  },
  {
   "cell_type": "code",
   "execution_count": 37,
   "metadata": {},
   "outputs": [
    {
     "data": {
      "text/plain": [
       "'ID='"
      ]
     },
     "execution_count": 37,
     "metadata": {},
     "output_type": "execute_result"
    }
   ],
   "source": [
    "gene_id"
   ]
  },
  {
   "cell_type": "code",
   "execution_count": 42,
   "metadata": {},
   "outputs": [],
   "source": [
    "df_extract = df_gff[(df_gff.attribute.str.contains(gene_id + 'TraesCS1A01G000100'))]"
   ]
  },
  {
   "cell_type": "code",
   "execution_count": 43,
   "metadata": {},
   "outputs": [
    {
     "data": {
      "text/html": [
       "<div>\n",
       "<style scoped>\n",
       "    .dataframe tbody tr th:only-of-type {\n",
       "        vertical-align: middle;\n",
       "    }\n",
       "\n",
       "    .dataframe tbody tr th {\n",
       "        vertical-align: top;\n",
       "    }\n",
       "\n",
       "    .dataframe thead th {\n",
       "        text-align: right;\n",
       "    }\n",
       "</style>\n",
       "<table border=\"1\" class=\"dataframe\">\n",
       "  <thead>\n",
       "    <tr style=\"text-align: right;\">\n",
       "      <th></th>\n",
       "      <th>seqname</th>\n",
       "      <th>source</th>\n",
       "      <th>feature</th>\n",
       "      <th>start</th>\n",
       "      <th>end</th>\n",
       "      <th>score</th>\n",
       "      <th>strand</th>\n",
       "      <th>frame</th>\n",
       "      <th>attribute</th>\n",
       "    </tr>\n",
       "  </thead>\n",
       "  <tbody>\n",
       "    <tr>\n",
       "      <th>0</th>\n",
       "      <td>chr1A</td>\n",
       "      <td>IWGSC_March2017</td>\n",
       "      <td>gene</td>\n",
       "      <td>58508</td>\n",
       "      <td>58768</td>\n",
       "      <td>33</td>\n",
       "      <td>-</td>\n",
       "      <td>.</td>\n",
       "      <td>ID=TraesCS1A01G000100;primconf=HC</td>\n",
       "    </tr>\n",
       "  </tbody>\n",
       "</table>\n",
       "</div>"
      ],
      "text/plain": [
       "  seqname           source feature  start    end score strand frame  \\\n",
       "0   chr1A  IWGSC_March2017    gene  58508  58768    33      -     .   \n",
       "\n",
       "                           attribute  \n",
       "0  ID=TraesCS1A01G000100;primconf=HC  "
      ]
     },
     "execution_count": 43,
     "metadata": {},
     "output_type": "execute_result"
    }
   ],
   "source": [
    "df_extract"
   ]
  },
  {
   "cell_type": "code",
   "execution_count": 41,
   "metadata": {},
   "outputs": [
    {
     "data": {
      "text/html": [
       "<div>\n",
       "<style scoped>\n",
       "    .dataframe tbody tr th:only-of-type {\n",
       "        vertical-align: middle;\n",
       "    }\n",
       "\n",
       "    .dataframe tbody tr th {\n",
       "        vertical-align: top;\n",
       "    }\n",
       "\n",
       "    .dataframe thead th {\n",
       "        text-align: right;\n",
       "    }\n",
       "</style>\n",
       "<table border=\"1\" class=\"dataframe\">\n",
       "  <thead>\n",
       "    <tr style=\"text-align: right;\">\n",
       "      <th></th>\n",
       "      <th>seqname</th>\n",
       "      <th>source</th>\n",
       "      <th>feature</th>\n",
       "      <th>start</th>\n",
       "      <th>end</th>\n",
       "      <th>score</th>\n",
       "      <th>strand</th>\n",
       "      <th>frame</th>\n",
       "      <th>attribute</th>\n",
       "    </tr>\n",
       "  </thead>\n",
       "  <tbody>\n",
       "    <tr>\n",
       "      <th>0</th>\n",
       "      <td>chr1A</td>\n",
       "      <td>IWGSC_March2017</td>\n",
       "      <td>gene</td>\n",
       "      <td>58508</td>\n",
       "      <td>58768</td>\n",
       "      <td>33</td>\n",
       "      <td>-</td>\n",
       "      <td>.</td>\n",
       "      <td>ID=TraesCS1A01G000100;primconf=HC</td>\n",
       "    </tr>\n",
       "    <tr>\n",
       "      <th>4</th>\n",
       "      <td>chr1A</td>\n",
       "      <td>IWGSC_March2017</td>\n",
       "      <td>gene</td>\n",
       "      <td>70095</td>\n",
       "      <td>70736</td>\n",
       "      <td>35</td>\n",
       "      <td>+</td>\n",
       "      <td>.</td>\n",
       "      <td>ID=TraesCS1A01G000200;primconf=HC</td>\n",
       "    </tr>\n",
       "    <tr>\n",
       "      <th>10</th>\n",
       "      <td>chr1A</td>\n",
       "      <td>IWGSC_March2017</td>\n",
       "      <td>gene</td>\n",
       "      <td>104607</td>\n",
       "      <td>104903</td>\n",
       "      <td>35</td>\n",
       "      <td>+</td>\n",
       "      <td>.</td>\n",
       "      <td>ID=TraesCS1A01G000300;primconf=HC</td>\n",
       "    </tr>\n",
       "    <tr>\n",
       "      <th>14</th>\n",
       "      <td>chr1A</td>\n",
       "      <td>IWGSC_March2017</td>\n",
       "      <td>gene</td>\n",
       "      <td>121263</td>\n",
       "      <td>121559</td>\n",
       "      <td>51</td>\n",
       "      <td>+</td>\n",
       "      <td>.</td>\n",
       "      <td>ID=TraesCS1A01G000400;primconf=HC</td>\n",
       "    </tr>\n",
       "    <tr>\n",
       "      <th>18</th>\n",
       "      <td>chr1A</td>\n",
       "      <td>IWGSC_March2017</td>\n",
       "      <td>gene</td>\n",
       "      <td>149490</td>\n",
       "      <td>154559</td>\n",
       "      <td>28</td>\n",
       "      <td>-</td>\n",
       "      <td>.</td>\n",
       "      <td>ID=TraesCS1A01G000500;primconf=HC</td>\n",
       "    </tr>\n",
       "    <tr>\n",
       "      <th>26</th>\n",
       "      <td>chr1A</td>\n",
       "      <td>IWGSC_March2017</td>\n",
       "      <td>gene</td>\n",
       "      <td>157734</td>\n",
       "      <td>163815</td>\n",
       "      <td>32</td>\n",
       "      <td>+</td>\n",
       "      <td>.</td>\n",
       "      <td>ID=TraesCS1A01G000600;primconf=HC</td>\n",
       "    </tr>\n",
       "    <tr>\n",
       "      <th>34</th>\n",
       "      <td>chr1A</td>\n",
       "      <td>IWGSC_March2017</td>\n",
       "      <td>gene</td>\n",
       "      <td>169592</td>\n",
       "      <td>169969</td>\n",
       "      <td>27</td>\n",
       "      <td>-</td>\n",
       "      <td>.</td>\n",
       "      <td>ID=TraesCS1A01G000700;primconf=HC</td>\n",
       "    </tr>\n",
       "    <tr>\n",
       "      <th>40</th>\n",
       "      <td>chr1A</td>\n",
       "      <td>IWGSC_March2017</td>\n",
       "      <td>gene</td>\n",
       "      <td>180175</td>\n",
       "      <td>180552</td>\n",
       "      <td>35</td>\n",
       "      <td>-</td>\n",
       "      <td>.</td>\n",
       "      <td>ID=TraesCS1A01G000800;primconf=HC</td>\n",
       "    </tr>\n",
       "    <tr>\n",
       "      <th>44</th>\n",
       "      <td>chr1A</td>\n",
       "      <td>IWGSC_March2017</td>\n",
       "      <td>gene</td>\n",
       "      <td>242807</td>\n",
       "      <td>245115</td>\n",
       "      <td>41</td>\n",
       "      <td>+</td>\n",
       "      <td>.</td>\n",
       "      <td>ID=TraesCS1A01G000900;primconf=HC</td>\n",
       "    </tr>\n",
       "    <tr>\n",
       "      <th>50</th>\n",
       "      <td>chr1A</td>\n",
       "      <td>IWGSC_March2017</td>\n",
       "      <td>gene</td>\n",
       "      <td>270661</td>\n",
       "      <td>270957</td>\n",
       "      <td>39</td>\n",
       "      <td>-</td>\n",
       "      <td>.</td>\n",
       "      <td>ID=TraesCS1A01G001000;primconf=HC</td>\n",
       "    </tr>\n",
       "  </tbody>\n",
       "</table>\n",
       "</div>"
      ],
      "text/plain": [
       "   seqname           source feature   start     end score strand frame  \\\n",
       "0    chr1A  IWGSC_March2017    gene   58508   58768    33      -     .   \n",
       "4    chr1A  IWGSC_March2017    gene   70095   70736    35      +     .   \n",
       "10   chr1A  IWGSC_March2017    gene  104607  104903    35      +     .   \n",
       "14   chr1A  IWGSC_March2017    gene  121263  121559    51      +     .   \n",
       "18   chr1A  IWGSC_March2017    gene  149490  154559    28      -     .   \n",
       "26   chr1A  IWGSC_March2017    gene  157734  163815    32      +     .   \n",
       "34   chr1A  IWGSC_March2017    gene  169592  169969    27      -     .   \n",
       "40   chr1A  IWGSC_March2017    gene  180175  180552    35      -     .   \n",
       "44   chr1A  IWGSC_March2017    gene  242807  245115    41      +     .   \n",
       "50   chr1A  IWGSC_March2017    gene  270661  270957    39      -     .   \n",
       "\n",
       "                            attribute  \n",
       "0   ID=TraesCS1A01G000100;primconf=HC  \n",
       "4   ID=TraesCS1A01G000200;primconf=HC  \n",
       "10  ID=TraesCS1A01G000300;primconf=HC  \n",
       "14  ID=TraesCS1A01G000400;primconf=HC  \n",
       "18  ID=TraesCS1A01G000500;primconf=HC  \n",
       "26  ID=TraesCS1A01G000600;primconf=HC  \n",
       "34  ID=TraesCS1A01G000700;primconf=HC  \n",
       "40  ID=TraesCS1A01G000800;primconf=HC  \n",
       "44  ID=TraesCS1A01G000900;primconf=HC  \n",
       "50  ID=TraesCS1A01G001000;primconf=HC  "
      ]
     },
     "execution_count": 41,
     "metadata": {},
     "output_type": "execute_result"
    }
   ],
   "source": [
    "df_gff.head(10)"
   ]
  },
  {
   "cell_type": "code",
   "execution_count": null,
   "metadata": {},
   "outputs": [],
   "source": []
  }
 ],
 "metadata": {
  "kernelspec": {
   "display_name": "Python 3",
   "language": "python",
   "name": "python3"
  },
  "language_info": {
   "codemirror_mode": {
    "name": "ipython",
    "version": 2
   },
   "file_extension": ".py",
   "mimetype": "text/x-python",
   "name": "python",
   "nbconvert_exporter": "python",
   "pygments_lexer": "ipython2",
   "version": "2.7.15"
  }
 },
 "nbformat": 4,
 "nbformat_minor": 2
}
