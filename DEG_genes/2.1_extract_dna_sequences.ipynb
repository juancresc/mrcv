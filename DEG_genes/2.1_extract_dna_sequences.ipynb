{
 "cells": [
  {
   "cell_type": "code",
   "execution_count": 7,
   "metadata": {},
   "outputs": [],
   "source": [
    "import pandas as pd\n",
    "from Bio import SeqIO\n",
    "from Bio.SeqRecord import SeqRecord\n",
    "from Bio.Seq import Seq"
   ]
  },
  {
   "cell_type": "code",
   "execution_count": null,
   "metadata": {},
   "outputs": [],
   "source": [
    "#TGAC\n",
    "file_deg = '../data/DEGs_by_RNAseq_21dpi_wheat.txt'\n",
    "file_annotation = '/home/juan/Desktop/juan/bio/data/genomes/TGAC/Triticum_aestivum.TGACv1.39.clean.gff3'\n",
    "dir_fasta = \"/home/juan/Desktop/juan/bio/data/genomes/TGAC/by_scaff/\"\n",
    "file_out_fasta = \"/home/juan/Desktop/juan/bio/mrcv/data/TGAC_DEG_SEQS.fasta\"\n",
    "gene_id = 'ID=gene:'\n",
    "df_list = pd.read_csv(file_deg, index_col=False, sep='\\t', comment='#')\n",
    "genes = df_list.Gene.tolist() \n",
    "print(len(genes))"
   ]
  },
  {
   "cell_type": "code",
   "execution_count": 10,
   "metadata": {},
   "outputs": [
    {
     "name": "stdout",
     "output_type": "stream",
     "text": [
      "3019\n"
     ]
    }
   ],
   "source": [
    "#IWGSC\n",
    "file_deg = '/home/juan/Desktop/juan/bio/mrcv/data/res/rna_deg/DEG-normalized.csv'\n",
    "file_annotation = '/home/juan/Desktop/juan/bio/mrcv/data/data/iwgsc/Triticum_aestivum.IWGSC.41.gff3'\n",
    "dir_fasta = \"/home/juan/Desktop/juan/bio/mrcv/data/data/iwgsc/by_chr/\"\n",
    "file_out_fasta = \"/home/juan/Desktop/juan/bio/mrcv/data/res/DEG_SEQS.fasta\"\n",
    "gene_id = 'ID=gene:'\n",
    "df_list = pd.read_csv(file_deg, index_col=False, sep=',', comment='#')\n",
    "genes = df_list.gene.tolist() \n",
    "print(len(genes))"
   ]
  },
  {
   "cell_type": "code",
   "execution_count": 11,
   "metadata": {},
   "outputs": [
    {
     "name": "stdout",
     "output_type": "stream",
     "text": [
      "107891\n"
     ]
    },
    {
     "data": {
      "text/html": [
       "<div>\n",
       "<style scoped>\n",
       "    .dataframe tbody tr th:only-of-type {\n",
       "        vertical-align: middle;\n",
       "    }\n",
       "\n",
       "    .dataframe tbody tr th {\n",
       "        vertical-align: top;\n",
       "    }\n",
       "\n",
       "    .dataframe thead th {\n",
       "        text-align: right;\n",
       "    }\n",
       "</style>\n",
       "<table border=\"1\" class=\"dataframe\">\n",
       "  <thead>\n",
       "    <tr style=\"text-align: right;\">\n",
       "      <th></th>\n",
       "      <th>seqname</th>\n",
       "      <th>source</th>\n",
       "      <th>feature</th>\n",
       "      <th>start</th>\n",
       "      <th>end</th>\n",
       "      <th>score</th>\n",
       "      <th>strand</th>\n",
       "      <th>frame</th>\n",
       "      <th>attribute</th>\n",
       "    </tr>\n",
       "  </thead>\n",
       "  <tbody>\n",
       "    <tr>\n",
       "      <th>34</th>\n",
       "      <td>1A</td>\n",
       "      <td>IWGSC</td>\n",
       "      <td>gene</td>\n",
       "      <td>40098</td>\n",
       "      <td>70338</td>\n",
       "      <td>.</td>\n",
       "      <td>-</td>\n",
       "      <td>.</td>\n",
       "      <td>ID=gene:TraesCS1A02G000100;biotype=protein_cod...</td>\n",
       "    </tr>\n",
       "    <tr>\n",
       "      <th>65</th>\n",
       "      <td>1A</td>\n",
       "      <td>IWGSC</td>\n",
       "      <td>gene</td>\n",
       "      <td>70239</td>\n",
       "      <td>89245</td>\n",
       "      <td>.</td>\n",
       "      <td>+</td>\n",
       "      <td>.</td>\n",
       "      <td>ID=gene:TraesCS1A02G000200;biotype=protein_cod...</td>\n",
       "    </tr>\n",
       "    <tr>\n",
       "      <th>90</th>\n",
       "      <td>1A</td>\n",
       "      <td>IWGSC</td>\n",
       "      <td>gene</td>\n",
       "      <td>95906</td>\n",
       "      <td>104903</td>\n",
       "      <td>.</td>\n",
       "      <td>+</td>\n",
       "      <td>.</td>\n",
       "      <td>ID=gene:TraesCS1A02G000300;biotype=protein_cod...</td>\n",
       "    </tr>\n",
       "  </tbody>\n",
       "</table>\n",
       "</div>"
      ],
      "text/plain": [
       "   seqname source feature  start     end score strand frame  \\\n",
       "34      1A  IWGSC    gene  40098   70338     .      -     .   \n",
       "65      1A  IWGSC    gene  70239   89245     .      +     .   \n",
       "90      1A  IWGSC    gene  95906  104903     .      +     .   \n",
       "\n",
       "                                            attribute  \n",
       "34  ID=gene:TraesCS1A02G000100;biotype=protein_cod...  \n",
       "65  ID=gene:TraesCS1A02G000200;biotype=protein_cod...  \n",
       "90  ID=gene:TraesCS1A02G000300;biotype=protein_cod...  "
      ]
     },
     "execution_count": 11,
     "metadata": {},
     "output_type": "execute_result"
    }
   ],
   "source": [
    "df_gff = pd.read_csv(file_annotation, index_col=False, sep='\\t', header=None, comment='#')\n",
    "df_gff.columns = ['seqname', 'source', 'feature', 'start', 'end', 'score', 'strand', 'frame', 'attribute']\n",
    "df_gff = df_gff[df_gff.feature == 'gene']\n",
    "print(len(df_gff.index))\n",
    "df_gff.head(3)"
   ]
  },
  {
   "cell_type": "code",
   "execution_count": null,
   "metadata": {},
   "outputs": [],
   "source": [
    "buffer_seqs = []\n",
    "padding = 2000\n",
    "for gene in genes:\n",
    "    gene = gene.replace(\"gene:\",\"\")\n",
    "    df_extract = df_gff[(df_gff.attribute.str.contains(gene_id + gene))]\n",
    "    gene_gff = df_extract.iloc[0]\n",
    "    end = max(gene_gff.end, gene_gff.start)\n",
    "    start = min(gene_gff.end, gene_gff.start)\n",
    "    start = max(start-padding, 0)\n",
    "    end += padding\n",
    "    record = SeqIO.read(dir_fasta + gene_gff.seqname + '.fasta', 'fasta')\n",
    "    clean_seq = ''.join(str(record.seq).splitlines())\n",
    "    new_seq = clean_seq[start:end]\n",
    "    desc = \"seq:\" + str(gene_gff.seqname)\n",
    "    desc += \" start:\" + str(start)\n",
    "    desc += \" end:\" + str(end)\n",
    "    desc += \" strand:\" + str(gene_gff.strand)\n",
    "    seq = SeqRecord(Seq(new_seq), id=gene, description=desc)\n",
    "    buffer_seqs.append(seq)\n"
   ]
  },
  {
   "cell_type": "code",
   "execution_count": 13,
   "metadata": {},
   "outputs": [
    {
     "data": {
      "text/plain": [
       "1143"
      ]
     },
     "execution_count": 13,
     "metadata": {},
     "output_type": "execute_result"
    }
   ],
   "source": [
    "SeqIO.write(buffer_seqs, file_out_fasta, \"fasta\")"
   ]
  },
  {
   "cell_type": "code",
   "execution_count": null,
   "metadata": {},
   "outputs": [],
   "source": []
  }
 ],
 "metadata": {
  "kernelspec": {
   "display_name": "Python 3",
   "language": "python",
   "name": "python3"
  },
  "language_info": {
   "codemirror_mode": {
    "name": "ipython",
    "version": 3
   },
   "file_extension": ".py",
   "mimetype": "text/x-python",
   "name": "python",
   "nbconvert_exporter": "python",
   "pygments_lexer": "ipython3",
   "version": "3.6.5"
  }
 },
 "nbformat": 4,
 "nbformat_minor": 2
}
