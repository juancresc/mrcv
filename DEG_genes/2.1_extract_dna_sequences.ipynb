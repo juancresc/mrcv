{
 "cells": [
  {
   "cell_type": "code",
   "execution_count": 2,
   "metadata": {},
   "outputs": [],
   "source": [
    "import pandas as pd\n",
    "from Bio import SeqIO\n",
    "from Bio.SeqRecord import SeqRecord\n",
    "from Bio.Seq import Seq"
   ]
  },
  {
   "cell_type": "code",
   "execution_count": null,
   "metadata": {},
   "outputs": [],
   "source": [
    "#TGAC\n",
    "file_deg = '../data/DEGs_by_RNAseq_21dpi_wheat.txt'\n",
    "file_annotation = '/home/juan/Desktop/juan/bio/data/genomes/TGAC/Triticum_aestivum.TGACv1.39.clean.gff3'\n",
    "dir_fasta = \"/home/juan/Desktop/juan/bio/data/genomes/TGAC/by_scaff/\"\n",
    "file_out_fasta = \"/home/juan/Desktop/juan/bio/mrcv/data/TGAC_DEG_SEQS.fasta\"\n",
    "gene_id = 'ID=gene:'\n",
    "df_list = pd.read_csv(file_deg, index_col=False, sep='\\t', comment='#')\n",
    "genes = df_list.Gene.tolist() \n",
    "print(len(genes))"
   ]
  },
  {
   "cell_type": "code",
   "execution_count": 3,
   "metadata": {},
   "outputs": [
    {
     "name": "stdout",
     "output_type": "stream",
     "text": [
      "3019\n"
     ]
    }
   ],
   "source": [
    "#IWGSC\n",
    "file_deg = '/home/juan/Desktop/juan/bio/mrcv/data/res/rna_deg/DEG-normalized.csv'\n",
    "file_annotation = '/home/juan/Desktop/juan/bio/mrcv/data/data/iwgsc/Triticum_aestivum.IWGSC.41.gff3'\n",
    "dir_fasta = \"/home/juan/Desktop/juan/bio/mrcv/data/data/iwgsc/by_chr/\"\n",
    "file_out_fasta = \"/home/juan/Desktop/juan/bio/mrcv/data/res/DEG_SEQS.fasta\"\n",
    "gene_id = 'ID=gene:'\n",
    "df_list = pd.read_csv(file_deg, index_col=False, sep=',', comment='#')\n",
    "genes = df_list.gene.tolist() \n",
    "print(len(genes))"
   ]
  },
  {
   "cell_type": "code",
   "execution_count": 6,
   "metadata": {},
   "outputs": [
    {
     "data": {
      "text/plain": [
       "3019"
      ]
     },
     "execution_count": 6,
     "metadata": {},
     "output_type": "execute_result"
    }
   ],
   "source": [
    "len(df_list.index)"
   ]
  },
  {
   "cell_type": "code",
   "execution_count": 7,
   "metadata": {},
   "outputs": [
    {
     "data": {
      "text/html": [
       "<div>\n",
       "<style scoped>\n",
       "    .dataframe tbody tr th:only-of-type {\n",
       "        vertical-align: middle;\n",
       "    }\n",
       "\n",
       "    .dataframe tbody tr th {\n",
       "        vertical-align: top;\n",
       "    }\n",
       "\n",
       "    .dataframe thead th {\n",
       "        text-align: right;\n",
       "    }\n",
       "</style>\n",
       "<table border=\"1\" class=\"dataframe\">\n",
       "  <thead>\n",
       "    <tr style=\"text-align: right;\">\n",
       "      <th></th>\n",
       "      <th>Unnamed: 0</th>\n",
       "      <th>gene</th>\n",
       "      <th>baseMean</th>\n",
       "      <th>log2FoldChange</th>\n",
       "      <th>lfcSE</th>\n",
       "      <th>stat</th>\n",
       "      <th>pvalue</th>\n",
       "      <th>padj</th>\n",
       "      <th>C1.counts.txt</th>\n",
       "      <th>C2.counts.txt</th>\n",
       "      <th>C3.counts.txt</th>\n",
       "      <th>C4.counts.txt</th>\n",
       "      <th>T1.counts.txt</th>\n",
       "      <th>T2.counts.txt</th>\n",
       "      <th>T3.counts.txt</th>\n",
       "      <th>T4.counts.txt</th>\n",
       "    </tr>\n",
       "  </thead>\n",
       "  <tbody>\n",
       "    <tr>\n",
       "      <th>0</th>\n",
       "      <td>1</td>\n",
       "      <td>gene:TraesCS2B02G286300</td>\n",
       "      <td>320.013057</td>\n",
       "      <td>2.445059</td>\n",
       "      <td>0.225052</td>\n",
       "      <td>10.864392</td>\n",
       "      <td>1.703534e-27</td>\n",
       "      <td>5.369907e-23</td>\n",
       "      <td>582.257421</td>\n",
       "      <td>553.695714</td>\n",
       "      <td>476.353565</td>\n",
       "      <td>549.686360</td>\n",
       "      <td>77.245985</td>\n",
       "      <td>81.333777</td>\n",
       "      <td>93.617622</td>\n",
       "      <td>145.914014</td>\n",
       "    </tr>\n",
       "    <tr>\n",
       "      <th>1</th>\n",
       "      <td>2</td>\n",
       "      <td>gene:TraesCS2B02G336800</td>\n",
       "      <td>2294.525203</td>\n",
       "      <td>-2.909846</td>\n",
       "      <td>0.268059</td>\n",
       "      <td>-10.855254</td>\n",
       "      <td>1.882824e-27</td>\n",
       "      <td>5.369907e-23</td>\n",
       "      <td>532.840739</td>\n",
       "      <td>512.938938</td>\n",
       "      <td>500.171243</td>\n",
       "      <td>609.940442</td>\n",
       "      <td>4976.988116</td>\n",
       "      <td>5270.112921</td>\n",
       "      <td>2148.061490</td>\n",
       "      <td>3805.147731</td>\n",
       "    </tr>\n",
       "    <tr>\n",
       "      <th>2</th>\n",
       "      <td>3</td>\n",
       "      <td>gene:TraesCS6D02G241200</td>\n",
       "      <td>191.594697</td>\n",
       "      <td>2.320181</td>\n",
       "      <td>0.223227</td>\n",
       "      <td>10.393825</td>\n",
       "      <td>2.645258e-25</td>\n",
       "      <td>5.029605e-21</td>\n",
       "      <td>300.797192</td>\n",
       "      <td>294.244042</td>\n",
       "      <td>391.999288</td>\n",
       "      <td>289.642428</td>\n",
       "      <td>71.379201</td>\n",
       "      <td>56.854679</td>\n",
       "      <td>81.272441</td>\n",
       "      <td>46.568302</td>\n",
       "    </tr>\n",
       "    <tr>\n",
       "      <th>3</th>\n",
       "      <td>4</td>\n",
       "      <td>gene:TraesCS7B02G073900</td>\n",
       "      <td>681.317343</td>\n",
       "      <td>2.012952</td>\n",
       "      <td>0.195772</td>\n",
       "      <td>10.282137</td>\n",
       "      <td>8.482575e-25</td>\n",
       "      <td>1.209636e-20</td>\n",
       "      <td>1254.753999</td>\n",
       "      <td>895.655005</td>\n",
       "      <td>1081.719554</td>\n",
       "      <td>1136.370841</td>\n",
       "      <td>294.316979</td>\n",
       "      <td>273.218320</td>\n",
       "      <td>318.917175</td>\n",
       "      <td>195.586870</td>\n",
       "    </tr>\n",
       "    <tr>\n",
       "      <th>4</th>\n",
       "      <td>5</td>\n",
       "      <td>gene:TraesCS7B02G093100</td>\n",
       "      <td>114.688241</td>\n",
       "      <td>2.931565</td>\n",
       "      <td>0.287328</td>\n",
       "      <td>10.202859</td>\n",
       "      <td>1.925209e-24</td>\n",
       "      <td>2.114932e-20</td>\n",
       "      <td>249.231959</td>\n",
       "      <td>166.009307</td>\n",
       "      <td>137.944053</td>\n",
       "      <td>257.929754</td>\n",
       "      <td>25.422729</td>\n",
       "      <td>25.268746</td>\n",
       "      <td>30.862952</td>\n",
       "      <td>24.836428</td>\n",
       "    </tr>\n",
       "  </tbody>\n",
       "</table>\n",
       "</div>"
      ],
      "text/plain": [
       "   Unnamed: 0                     gene     baseMean  log2FoldChange     lfcSE  \\\n",
       "0           1  gene:TraesCS2B02G286300   320.013057        2.445059  0.225052   \n",
       "1           2  gene:TraesCS2B02G336800  2294.525203       -2.909846  0.268059   \n",
       "2           3  gene:TraesCS6D02G241200   191.594697        2.320181  0.223227   \n",
       "3           4  gene:TraesCS7B02G073900   681.317343        2.012952  0.195772   \n",
       "4           5  gene:TraesCS7B02G093100   114.688241        2.931565  0.287328   \n",
       "\n",
       "        stat        pvalue          padj  C1.counts.txt  C2.counts.txt  \\\n",
       "0  10.864392  1.703534e-27  5.369907e-23     582.257421     553.695714   \n",
       "1 -10.855254  1.882824e-27  5.369907e-23     532.840739     512.938938   \n",
       "2  10.393825  2.645258e-25  5.029605e-21     300.797192     294.244042   \n",
       "3  10.282137  8.482575e-25  1.209636e-20    1254.753999     895.655005   \n",
       "4  10.202859  1.925209e-24  2.114932e-20     249.231959     166.009307   \n",
       "\n",
       "   C3.counts.txt  C4.counts.txt  T1.counts.txt  T2.counts.txt  T3.counts.txt  \\\n",
       "0     476.353565     549.686360      77.245985      81.333777      93.617622   \n",
       "1     500.171243     609.940442    4976.988116    5270.112921    2148.061490   \n",
       "2     391.999288     289.642428      71.379201      56.854679      81.272441   \n",
       "3    1081.719554    1136.370841     294.316979     273.218320     318.917175   \n",
       "4     137.944053     257.929754      25.422729      25.268746      30.862952   \n",
       "\n",
       "   T4.counts.txt  \n",
       "0     145.914014  \n",
       "1    3805.147731  \n",
       "2      46.568302  \n",
       "3     195.586870  \n",
       "4      24.836428  "
      ]
     },
     "execution_count": 7,
     "metadata": {},
     "output_type": "execute_result"
    }
   ],
   "source": [
    "df_list.head()"
   ]
  },
  {
   "cell_type": "code",
   "execution_count": 8,
   "metadata": {},
   "outputs": [
    {
     "data": {
      "text/plain": [
       "(1272, 1747)"
      ]
     },
     "execution_count": 8,
     "metadata": {},
     "output_type": "execute_result"
    }
   ],
   "source": [
    "len(df_list[df_list.log2FoldChange > 0].index), len(df_list[df_list.log2FoldChange < 0].index), "
   ]
  },
  {
   "cell_type": "code",
   "execution_count": 4,
   "metadata": {},
   "outputs": [
    {
     "name": "stdout",
     "output_type": "stream",
     "text": [
      "107891\n"
     ]
    },
    {
     "data": {
      "text/html": [
       "<div>\n",
       "<style scoped>\n",
       "    .dataframe tbody tr th:only-of-type {\n",
       "        vertical-align: middle;\n",
       "    }\n",
       "\n",
       "    .dataframe tbody tr th {\n",
       "        vertical-align: top;\n",
       "    }\n",
       "\n",
       "    .dataframe thead th {\n",
       "        text-align: right;\n",
       "    }\n",
       "</style>\n",
       "<table border=\"1\" class=\"dataframe\">\n",
       "  <thead>\n",
       "    <tr style=\"text-align: right;\">\n",
       "      <th></th>\n",
       "      <th>seqname</th>\n",
       "      <th>source</th>\n",
       "      <th>feature</th>\n",
       "      <th>start</th>\n",
       "      <th>end</th>\n",
       "      <th>score</th>\n",
       "      <th>strand</th>\n",
       "      <th>frame</th>\n",
       "      <th>attribute</th>\n",
       "    </tr>\n",
       "  </thead>\n",
       "  <tbody>\n",
       "    <tr>\n",
       "      <th>34</th>\n",
       "      <td>1A</td>\n",
       "      <td>IWGSC</td>\n",
       "      <td>gene</td>\n",
       "      <td>40098</td>\n",
       "      <td>70338</td>\n",
       "      <td>.</td>\n",
       "      <td>-</td>\n",
       "      <td>.</td>\n",
       "      <td>ID=gene:TraesCS1A02G000100;biotype=protein_cod...</td>\n",
       "    </tr>\n",
       "    <tr>\n",
       "      <th>65</th>\n",
       "      <td>1A</td>\n",
       "      <td>IWGSC</td>\n",
       "      <td>gene</td>\n",
       "      <td>70239</td>\n",
       "      <td>89245</td>\n",
       "      <td>.</td>\n",
       "      <td>+</td>\n",
       "      <td>.</td>\n",
       "      <td>ID=gene:TraesCS1A02G000200;biotype=protein_cod...</td>\n",
       "    </tr>\n",
       "    <tr>\n",
       "      <th>90</th>\n",
       "      <td>1A</td>\n",
       "      <td>IWGSC</td>\n",
       "      <td>gene</td>\n",
       "      <td>95906</td>\n",
       "      <td>104903</td>\n",
       "      <td>.</td>\n",
       "      <td>+</td>\n",
       "      <td>.</td>\n",
       "      <td>ID=gene:TraesCS1A02G000300;biotype=protein_cod...</td>\n",
       "    </tr>\n",
       "  </tbody>\n",
       "</table>\n",
       "</div>"
      ],
      "text/plain": [
       "   seqname source feature  start     end score strand frame  \\\n",
       "34      1A  IWGSC    gene  40098   70338     .      -     .   \n",
       "65      1A  IWGSC    gene  70239   89245     .      +     .   \n",
       "90      1A  IWGSC    gene  95906  104903     .      +     .   \n",
       "\n",
       "                                            attribute  \n",
       "34  ID=gene:TraesCS1A02G000100;biotype=protein_cod...  \n",
       "65  ID=gene:TraesCS1A02G000200;biotype=protein_cod...  \n",
       "90  ID=gene:TraesCS1A02G000300;biotype=protein_cod...  "
      ]
     },
     "execution_count": 4,
     "metadata": {},
     "output_type": "execute_result"
    }
   ],
   "source": [
    "df_gff = pd.read_csv(file_annotation, index_col=False, sep='\\t', header=None, comment='#')\n",
    "df_gff.columns = ['seqname', 'source', 'feature', 'start', 'end', 'score', 'strand', 'frame', 'attribute']\n",
    "df_gff = df_gff[df_gff.feature == 'gene']\n",
    "print(len(df_gff.index))\n",
    "df_gff.head(3)"
   ]
  },
  {
   "cell_type": "code",
   "execution_count": null,
   "metadata": {},
   "outputs": [],
   "source": [
    "buffer_seqs = []\n",
    "padding = 2000\n",
    "for gene in genes:\n",
    "    gene = gene.replace(\"gene:\",\"\")\n",
    "    df_extract = df_gff[(df_gff.attribute.str.contains(gene_id + gene))]\n",
    "    gene_gff = df_extract.iloc[0]\n",
    "    end = max(gene_gff.end, gene_gff.start)\n",
    "    start = min(gene_gff.end, gene_gff.start)\n",
    "    start = max(start-padding, 0)\n",
    "    end += padding\n",
    "    record = SeqIO.read(dir_fasta + gene_gff.seqname + '.fasta', 'fasta')\n",
    "    clean_seq = ''.join(str(record.seq).splitlines())\n",
    "    new_seq = clean_seq[start:end]\n",
    "    desc = \"seq:\" + str(gene_gff.seqname)\n",
    "    desc += \" start:\" + str(start)\n",
    "    desc += \" end:\" + str(end)\n",
    "    desc += \" strand:\" + str(gene_gff.strand)\n",
    "    seq = SeqRecord(Seq(new_seq), id=gene, description=desc)\n",
    "    buffer_seqs.append(seq)\n"
   ]
  },
  {
   "cell_type": "code",
   "execution_count": 13,
   "metadata": {},
   "outputs": [
    {
     "data": {
      "text/plain": [
       "1143"
      ]
     },
     "execution_count": 13,
     "metadata": {},
     "output_type": "execute_result"
    }
   ],
   "source": [
    "SeqIO.write(buffer_seqs, file_out_fasta, \"fasta\")"
   ]
  },
  {
   "cell_type": "code",
   "execution_count": null,
   "metadata": {},
   "outputs": [],
   "source": []
  }
 ],
 "metadata": {
  "kernelspec": {
   "display_name": "Python 3",
   "language": "python",
   "name": "python3"
  },
  "language_info": {
   "codemirror_mode": {
    "name": "ipython",
    "version": 3
   },
   "file_extension": ".py",
   "mimetype": "text/x-python",
   "name": "python",
   "nbconvert_exporter": "python",
   "pygments_lexer": "ipython3",
   "version": "3.6.5"
  }
 },
 "nbformat": 4,
 "nbformat_minor": 2
}
