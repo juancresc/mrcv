{
 "cells": [
  {
   "cell_type": "code",
   "execution_count": 1,
   "metadata": {},
   "outputs": [],
   "source": [
    "import pandas as pd\n",
    "import numpy as np\n",
    "from Bio import SeqIO\n",
    "from Bio.Seq import Seq\n",
    "from Bio.SeqRecord import SeqRecord\n",
    "data_dir = 'data'\n",
    "lb = 'iwgsc_10_12_18/'\n",
    "output_fasta = data_dir + '/res/sRNA_DEG.fasta'"
   ]
  },
  {
   "cell_type": "code",
   "execution_count": 2,
   "metadata": {},
   "outputs": [
    {
     "name": "stdout",
     "output_type": "stream",
     "text": [
      "Res len: 1626\n"
     ]
    }
   ],
   "source": [
    "results_file = data_dir + '/res/' + lb + '/Results.txt'\n",
    "df_res = pd.read_csv(results_file,sep=\"\\t\")\n",
    "df_res = df_res[df_res.DicerCall.isin(['20','21','22'])]\n",
    "print('Res len:',len(df_res.index))"
   ]
  },
  {
   "cell_type": "code",
   "execution_count": 3,
   "metadata": {},
   "outputs": [
    {
     "name": "stdout",
     "output_type": "stream",
     "text": [
      "DEG len: 14769\n"
     ]
    }
   ],
   "source": [
    "deg_file = data_dir + '/res/diffexpr-results.0.5.csv'\n",
    "df_deg = pd.read_csv(deg_file,sep=\",\",comment='#')\n",
    "print('DEG len:',len(df_deg.index))"
   ]
  },
  {
   "cell_type": "code",
   "execution_count": 4,
   "metadata": {},
   "outputs": [
    {
     "data": {
      "text/plain": [
       "(10045, 4724)"
      ]
     },
     "execution_count": 4,
     "metadata": {},
     "output_type": "execute_result"
    }
   ],
   "source": [
    "up = len(df_deg[df_deg.log2FoldChange > 0].index)\n",
    "down = len(df_deg[df_deg.log2FoldChange < 0].index)\n",
    "(up, down)"
   ]
  },
  {
   "cell_type": "code",
   "execution_count": 60,
   "metadata": {},
   "outputs": [],
   "source": [
    "df_deg_res = pd.merge(df_deg, df_res,left_on='Gene', right_on='Name' , how='left')\n",
    "#only some cols\n",
    "#df_deg_res = df_deg_res['#Locus','Name','MajorRNA','log2FoldChange']\n",
    "df_deg_res.to_csv(data_dir + '/res/deg_data.csv', sep='\\t', index=None)"
   ]
  },
  {
   "cell_type": "code",
   "execution_count": null,
   "metadata": {},
   "outputs": [],
   "source": [
    "#save fasta\n",
    "buffer_seqs = []\n",
    "for k,v in df_deg_res.iterrows():\n",
    "    if pd.isna(v.Name):\n",
    "        new_id = v.Gene\n",
    "        new_desc = 'log2fc:%f size:%i' % (v.log2FoldChange, len(v.Gene))\n",
    "        seq = v.Gene\n",
    "        record = SeqRecord(Seq(seq), id=new_id, description=new_desc)\n",
    "        buffer_seqs.append(record)\n",
    "    else:\n",
    "        new_id = v.Name\n",
    "        new_desc = 'chr:%s log2fc:%f size:%i' % (v['#Locus'],  v.log2FoldChange, len(v.MajorRNA))\n",
    "        seq = v.MajorRNA\n",
    "        record = SeqRecord(Seq(seq), id=new_id, description=new_desc)\n",
    "        buffer_seqs.append(record)\n",
    "SeqIO.write(buffer_seqs, output_fasta, \"fasta\")"
   ]
  },
  {
   "cell_type": "code",
   "execution_count": null,
   "metadata": {},
   "outputs": [],
   "source": []
  },
  {
   "cell_type": "code",
   "execution_count": null,
   "metadata": {},
   "outputs": [],
   "source": []
  },
  {
   "cell_type": "code",
   "execution_count": null,
   "metadata": {},
   "outputs": [],
   "source": []
  },
  {
   "cell_type": "code",
   "execution_count": 41,
   "metadata": {},
   "outputs": [
    {
     "ename": "NameError",
     "evalue": "name 'df_blast' is not defined",
     "output_type": "error",
     "traceback": [
      "\u001b[0;31m---------------------------------------------------------------------------\u001b[0m",
      "\u001b[0;31mNameError\u001b[0m                                 Traceback (most recent call last)",
      "\u001b[0;32m<ipython-input-41-3196aa4fa44f>\u001b[0m in \u001b[0;36m<module>\u001b[0;34m()\u001b[0m\n\u001b[0;32m----> 1\u001b[0;31m \u001b[0mdf_res\u001b[0m \u001b[0;34m=\u001b[0m \u001b[0mpd\u001b[0m\u001b[0;34m.\u001b[0m\u001b[0mmerge\u001b[0m\u001b[0;34m(\u001b[0m\u001b[0mdf_deg\u001b[0m\u001b[0;34m,\u001b[0m \u001b[0mdf_blast\u001b[0m\u001b[0;34m[\u001b[0m\u001b[0;34m[\u001b[0m\u001b[0;34m'qseqid'\u001b[0m\u001b[0;34m,\u001b[0m\u001b[0;34m'sseqid'\u001b[0m\u001b[0;34m]\u001b[0m\u001b[0;34m]\u001b[0m\u001b[0;34m,\u001b[0m \u001b[0mleft_on\u001b[0m\u001b[0;34m=\u001b[0m\u001b[0;34m'Gene'\u001b[0m\u001b[0;34m,\u001b[0m \u001b[0mright_on\u001b[0m\u001b[0;34m=\u001b[0m\u001b[0;34m'qseqid'\u001b[0m\u001b[0;34m,\u001b[0m \u001b[0mhow\u001b[0m\u001b[0;34m=\u001b[0m\u001b[0;34m'left'\u001b[0m\u001b[0;34m)\u001b[0m\u001b[0;34m\u001b[0m\u001b[0;34m\u001b[0m\u001b[0m\n\u001b[0m\u001b[1;32m      2\u001b[0m \u001b[0mdf_res\u001b[0m \u001b[0;34m=\u001b[0m \u001b[0mdf_res\u001b[0m\u001b[0;34m.\u001b[0m\u001b[0mdrop\u001b[0m\u001b[0;34m(\u001b[0m\u001b[0;34m[\u001b[0m\u001b[0;34m'qseqid'\u001b[0m\u001b[0;34m]\u001b[0m\u001b[0;34m,\u001b[0m \u001b[0maxis\u001b[0m\u001b[0;34m=\u001b[0m\u001b[0;36m1\u001b[0m\u001b[0;34m)\u001b[0m\u001b[0;34m\u001b[0m\u001b[0;34m\u001b[0m\u001b[0m\n\u001b[1;32m      3\u001b[0m \u001b[0mdf_res\u001b[0m\u001b[0;34m.\u001b[0m\u001b[0mrename\u001b[0m\u001b[0;34m(\u001b[0m\u001b[0mcolumns\u001b[0m\u001b[0;34m=\u001b[0m\u001b[0;34m{\u001b[0m\u001b[0;34m'sseqid'\u001b[0m\u001b[0;34m:\u001b[0m \u001b[0;34m'miRBASE'\u001b[0m\u001b[0;34m}\u001b[0m\u001b[0;34m,\u001b[0m \u001b[0minplace\u001b[0m\u001b[0;34m=\u001b[0m\u001b[0;32mTrue\u001b[0m\u001b[0;34m)\u001b[0m\u001b[0;34m\u001b[0m\u001b[0;34m\u001b[0m\u001b[0m\n\u001b[1;32m      4\u001b[0m \u001b[0mdf_res\u001b[0m \u001b[0;34m=\u001b[0m \u001b[0mdf_res\u001b[0m\u001b[0;34m.\u001b[0m\u001b[0mreplace\u001b[0m\u001b[0;34m(\u001b[0m\u001b[0mnp\u001b[0m\u001b[0;34m.\u001b[0m\u001b[0mnan\u001b[0m\u001b[0;34m,\u001b[0m \u001b[0;34m''\u001b[0m\u001b[0;34m,\u001b[0m \u001b[0mregex\u001b[0m\u001b[0;34m=\u001b[0m\u001b[0;32mTrue\u001b[0m\u001b[0;34m)\u001b[0m\u001b[0;34m\u001b[0m\u001b[0;34m\u001b[0m\u001b[0m\n\u001b[1;32m      5\u001b[0m \u001b[0mprint\u001b[0m\u001b[0;34m(\u001b[0m\u001b[0mlen\u001b[0m\u001b[0;34m(\u001b[0m\u001b[0mdf_res\u001b[0m\u001b[0;34m.\u001b[0m\u001b[0mindex\u001b[0m\u001b[0;34m)\u001b[0m\u001b[0;34m)\u001b[0m\u001b[0;34m\u001b[0m\u001b[0;34m\u001b[0m\u001b[0m\n",
      "\u001b[0;31mNameError\u001b[0m: name 'df_blast' is not defined"
     ]
    }
   ],
   "source": [
    "df_res = pd.merge(df_deg, df_blast[['qseqid','sseqid']], left_on='Gene', right_on='qseqid', how='left')\n",
    "df_res = df_res.drop(['qseqid'], axis=1)\n",
    "df_res.rename(columns={'sseqid': 'miRBASE'}, inplace=True)\n",
    "df_res = df_res.replace(np.nan, '', regex=True)\n",
    "print(len(df_res.index))\n",
    "df_res.head()"
   ]
  },
  {
   "cell_type": "code",
   "execution_count": 6,
   "metadata": {},
   "outputs": [
    {
     "data": {
      "text/plain": [
       "(159, 37, 5, 1974)"
      ]
     },
     "execution_count": 6,
     "metadata": {},
     "output_type": "execute_result"
    }
   ],
   "source": [
    "#count DEG len for downregulated\n",
    "df_down = df_deg[df_deg.log2FoldChange < 0]\n",
    "y21 = len(df_down[df_down.Gene.isin(df_res[df_res.DicerCall.isin(['21'])].Name)].index)\n",
    "y22 = len(df_down[df_down.Gene.isin(df_res[df_res.DicerCall.isin(['22'])].Name)].index)\n",
    "y23 = len(df_down[df_down.Gene.isin(df_res[df_res.DicerCall.isin(['23'])].Name)].index)\n",
    "y24 = len(df_down[df_down.Gene.isin(df_res[df_res.DicerCall.isin(['24'])].Name)].index)\n",
    "(y21, y22, y23, y24)"
   ]
  },
  {
   "cell_type": "code",
   "execution_count": 20,
   "metadata": {},
   "outputs": [
    {
     "data": {
      "text/plain": [
       "(39, 4, 1, 13)"
      ]
     },
     "execution_count": 20,
     "metadata": {},
     "output_type": "execute_result"
    }
   ],
   "source": [
    "#count DEG len for upregulated\n",
    "df_up = df_deg[df_deg.log2FoldChange > 0]\n",
    "y21 = len(df_up[df_up.Gene.isin(df_res[df_res.DicerCall.isin(['21'])].Name)].index)\n",
    "y22 = len(df_up[df_up.Gene.isin(df_res[df_res.DicerCall.isin(['22'])].Name)].index)\n",
    "y23 = len(df_up[df_up.Gene.isin(df_res[df_res.DicerCall.isin(['23'])].Name)].index)\n",
    "y24 = len(df_up[df_up.Gene.isin(df_res[df_res.DicerCall.isin(['24'])].Name)].index)\n",
    "(y21, y22, y23, y24)"
   ]
  },
  {
   "cell_type": "code",
   "execution_count": 4,
   "metadata": {},
   "outputs": [
    {
     "data": {
      "text/plain": [
       "(263, 45, 9, 2320)"
      ]
     },
     "execution_count": 4,
     "metadata": {},
     "output_type": "execute_result"
    }
   ],
   "source": [
    "#count DEG len\n",
    "y21 = len(df_deg[df_deg.Gene.isin(df_res[df_res.DicerCall.isin(['21'])].Name)].index)\n",
    "y22 = len(df_deg[df_deg.Gene.isin(df_res[df_res.DicerCall.isin(['22'])].Name)].index)\n",
    "y23 = len(df_deg[df_deg.Gene.isin(df_res[df_res.DicerCall.isin(['23'])].Name)].index)\n",
    "y24 = len(df_deg[df_deg.Gene.isin(df_res[df_res.DicerCall.isin(['24'])].Name)].index)\n",
    "(y21, y22, y23, y24)"
   ]
  }
 ],
 "metadata": {
  "kernelspec": {
   "display_name": "Python 3",
   "language": "python",
   "name": "python3"
  },
  "language_info": {
   "codemirror_mode": {
    "name": "ipython",
    "version": 3
   },
   "file_extension": ".py",
   "mimetype": "text/x-python",
   "name": "python",
   "nbconvert_exporter": "python",
   "pygments_lexer": "ipython3",
   "version": "3.6.5"
  }
 },
 "nbformat": 4,
 "nbformat_minor": 2
}
