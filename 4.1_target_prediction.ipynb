{
 "cells": [
  {
   "cell_type": "code",
   "execution_count": 3,
   "metadata": {},
   "outputs": [],
   "source": [
    "import pandas as pd\n",
    "from subprocess import Popen, PIPE, call\n",
    "lb = 'iwgsc_10_12_18'\n",
    "path_target_finder = '/home/juan/Desktop/juan/bio/mrcv/sw/TargetFinder/targetfinder.pl'"
   ]
  },
  {
   "cell_type": "code",
   "execution_count": 4,
   "metadata": {},
   "outputs": [
    {
     "data": {
      "text/html": [
       "<div>\n",
       "<style scoped>\n",
       "    .dataframe tbody tr th:only-of-type {\n",
       "        vertical-align: middle;\n",
       "    }\n",
       "\n",
       "    .dataframe tbody tr th {\n",
       "        vertical-align: top;\n",
       "    }\n",
       "\n",
       "    .dataframe thead th {\n",
       "        text-align: right;\n",
       "    }\n",
       "</style>\n",
       "<table border=\"1\" class=\"dataframe\">\n",
       "  <thead>\n",
       "    <tr style=\"text-align: right;\">\n",
       "      <th></th>\n",
       "      <th>Gene</th>\n",
       "      <th>MajorRNA</th>\n",
       "      <th>log2FoldChange</th>\n",
       "      <th>miRBASE</th>\n",
       "    </tr>\n",
       "  </thead>\n",
       "  <tbody>\n",
       "    <tr>\n",
       "      <th>0</th>\n",
       "      <td>AAAAAACAGACACGCUCUCAACCU</td>\n",
       "      <td>AAAAAACAGACACGCUCUCAACCU</td>\n",
       "      <td>-0.566285</td>\n",
       "      <td>NaN</td>\n",
       "    </tr>\n",
       "    <tr>\n",
       "      <th>1</th>\n",
       "      <td>AAAAAACAGGACAAAACGGACGCC</td>\n",
       "      <td>AAAAAACAGGACAAAACGGACGCC</td>\n",
       "      <td>1.104092</td>\n",
       "      <td>NaN</td>\n",
       "    </tr>\n",
       "    <tr>\n",
       "      <th>2</th>\n",
       "      <td>AAAAAAGAUUGAGCCGAAAA</td>\n",
       "      <td>AAAAAAGAUUGAGCCGAAAA</td>\n",
       "      <td>0.774071</td>\n",
       "      <td>NaN</td>\n",
       "    </tr>\n",
       "    <tr>\n",
       "      <th>3</th>\n",
       "      <td>AAAAAGAUUUACUUAAACGCCU</td>\n",
       "      <td>AAAAAGAUUUACUUAAACGCCU</td>\n",
       "      <td>10.782630</td>\n",
       "      <td>NaN</td>\n",
       "    </tr>\n",
       "    <tr>\n",
       "      <th>4</th>\n",
       "      <td>AAAAAGCUCGUAGUUGGACCU</td>\n",
       "      <td>AAAAAGCUCGUAGUUGGACCU</td>\n",
       "      <td>0.683894</td>\n",
       "      <td>NaN</td>\n",
       "    </tr>\n",
       "  </tbody>\n",
       "</table>\n",
       "</div>"
      ],
      "text/plain": [
       "                       Gene                  MajorRNA  log2FoldChange miRBASE\n",
       "0  AAAAAACAGACACGCUCUCAACCU  AAAAAACAGACACGCUCUCAACCU       -0.566285     NaN\n",
       "1  AAAAAACAGGACAAAACGGACGCC  AAAAAACAGGACAAAACGGACGCC        1.104092     NaN\n",
       "2      AAAAAAGAUUGAGCCGAAAA      AAAAAAGAUUGAGCCGAAAA        0.774071     NaN\n",
       "3    AAAAAGAUUUACUUAAACGCCU    AAAAAGAUUUACUUAAACGCCU       10.782630     NaN\n",
       "4     AAAAAGCUCGUAGUUGGACCU     AAAAAGCUCGUAGUUGGACCU        0.683894     NaN"
      ]
     },
     "execution_count": 4,
     "metadata": {},
     "output_type": "execute_result"
    }
   ],
   "source": [
    "df = pd.read_csv('data/res/sRNA_DEG_mirbase.csv', sep='\\t')\n",
    "df.head()"
   ]
  },
  {
   "cell_type": "code",
   "execution_count": 5,
   "metadata": {},
   "outputs": [
    {
     "name": "stdout",
     "output_type": "stream",
     "text": [
      "perl /home/juan/Desktop/juan/bio/mrcv/sw/TargetFinder/targetfinder.pl -s AAAAAACAGACACGCUCUCAACCU -q AAAAAACAGACACGCUCUCAACCU -d data/res/DEG_SEQS.fasta -p table\n",
      "b'No results for AAAAAACAGACACGCUCUCAACCU\\n' b''\n",
      "perl /home/juan/Desktop/juan/bio/mrcv/sw/TargetFinder/targetfinder.pl -s AAAAAACAGGACAAAACGGACGCC -q AAAAAACAGGACAAAACGGACGCC -d data/res/DEG_SEQS.fasta -p table\n",
      "b'No results for AAAAAACAGGACAAAACGGACGCC\\n' b''\n",
      "perl /home/juan/Desktop/juan/bio/mrcv/sw/TargetFinder/targetfinder.pl -s AAAAAAGAUUGAGCCGAAAA -q AAAAAAGAUUGAGCCGAAAA -d data/res/DEG_SEQS.fasta -p table\n",
      "b'AAAAAAGAUUGAGCCGAAAA\\tTraesCSU02G122900 seq:Un start:104863826 end:104872662 strand:-\\t7826\\t7844\\t+\\t4\\tUUUUCCACUCA-UCUUUUUU\\t:::::  :::: ::::::::\\tAAAAGCCGAGUUAGAAAAAA\\n' b''\n",
      "perl /home/juan/Desktop/juan/bio/mrcv/sw/TargetFinder/targetfinder.pl -s AAAAAGAUUUACUUAAACGCCU -q AAAAAGAUUUACUUAAACGCCU -d data/res/DEG_SEQS.fasta -p table\n",
      "b'No results for AAAAAGAUUUACUUAAACGCCU\\n' b''\n",
      "perl /home/juan/Desktop/juan/bio/mrcv/sw/TargetFinder/targetfinder.pl -s AAAAAGCUCGUAGUUGGACCU -q AAAAAGCUCGUAGUUGGACCU -d data/res/DEG_SEQS.fasta -p table\n",
      "b'No results for AAAAAGCUCGUAGUUGGACCU\\n' b''\n",
      "perl /home/juan/Desktop/juan/bio/mrcv/sw/TargetFinder/targetfinder.pl -s AAAAAGCUCGUAGUUGGACCUU -q AAAAAGCUCGUAGUUGGACCUU -d data/res/DEG_SEQS.fasta -p table\n",
      "b'No results for AAAAAGCUCGUAGUUGGACCUU\\n' b''\n",
      "perl /home/juan/Desktop/juan/bio/mrcv/sw/TargetFinder/targetfinder.pl -s AAAAAGCUCGUAGUUGGACCUUG -q AAAAAGCUCGUAGUUGGACCUUG -d data/res/DEG_SEQS.fasta -p table\n",
      "b'No results for AAAAAGCUCGUAGUUGGACCUUG\\n' b''\n",
      "perl /home/juan/Desktop/juan/bio/mrcv/sw/TargetFinder/targetfinder.pl -s AAAAAGCUCGUAGUUGGACCUUGG -q AAAAAGCUCGUAGUUGGACCUUGG -d data/res/DEG_SEQS.fasta -p table\n",
      "b'No results for AAAAAGCUCGUAGUUGGACCUUGG\\n' b''\n",
      "perl /home/juan/Desktop/juan/bio/mrcv/sw/TargetFinder/targetfinder.pl -s AAAAAGUAUACAAUUGAGCGU -q AAAAAGUAUACAAUUGAGCGU -d data/res/DEG_SEQS.fasta -p table\n",
      "b'AAAAAGUAUACAAUUGAGCGU\\tTraesCS4D02G239700 seq:4D start:402204237 end:402213503 strand:+\\t3700\\t3719\\t+\\t3\\tAC-CUUAGUUGUAUGCUUUUU\\t:: ::.:.::::::.::::::\\tUGCGAGUUAACAUAUGAAAAA\\nAAAAAGUAUACAAUUGAGCGU\\tTraesCS3B02G102600 seq:3B start:69349976 end:69362003 strand:+\\t4931\\t4951\\t+\\t4\\tACGCUCAAGUGUAUAUUUUUA\\t:::::::: ::::::.:::: \\tUGCGAGUUAACAUAUGAAAAA\\nAAAAAGUAUACAAUUGAGCGU\\tTraesCS2B02G376600 seq:2B start:539471148 end:539479814 strand:+\\t5078\\t5097\\t+\\t4\\tCUGUUCA-UUGUAUACUUUUG\\t .:.::: :::::::::::: \\tUGCGAGUUAACAUAUGAAAAA\\n' b''\n",
      "perl /home/juan/Desktop/juan/bio/mrcv/sw/TargetFinder/targetfinder.pl -s AAAAAUAAUUUUCCUUCCUUA -q AAAAAUAAUUUUCCUUCCUUA -d data/res/DEG_SEQS.fasta -p table\n",
      "b'AAAAAUAAUUUUCCUUCCUUA\\tTraesCS6B02G257900 seq:6B start:462155331 end:462164591 strand:-\\t3486\\t3506\\t+\\t2\\tUAAGAAAAGAAAAUUAUUUUU\\t:::: :: :::::::::::::\\tAUUCCUUCCUUUUAAUAAAAA\\n' b''\n",
      "perl /home/juan/Desktop/juan/bio/mrcv/sw/TargetFinder/targetfinder.pl -s AAAAAUAUCGUCCACUUCUUA -q AAAAAUAUCGUCCACUUCUUA -d data/res/DEG_SEQS.fasta -p table\n",
      "b'No results for AAAAAUAUCGUCCACUUCUUA\\n' b''\n",
      "perl /home/juan/Desktop/juan/bio/mrcv/sw/TargetFinder/targetfinder.pl -s AAAACAGAUUGGUACUGUCCU -q AAAACAGAUUGGUACUGUCCU -d data/res/DEG_SEQS.fasta -p table\n"
     ]
    },
    {
     "ename": "KeyboardInterrupt",
     "evalue": "",
     "output_type": "error",
     "traceback": [
      "\u001b[0;31m---------------------------------------------------------------------------\u001b[0m",
      "\u001b[0;31mKeyboardInterrupt\u001b[0m                         Traceback (most recent call last)",
      "\u001b[0;32m<ipython-input-5-59c80975533e>\u001b[0m in \u001b[0;36m<module>\u001b[0;34m()\u001b[0m\n\u001b[1;32m      6\u001b[0m     \u001b[0mprint\u001b[0m\u001b[0;34m(\u001b[0m\u001b[0;34m' '\u001b[0m\u001b[0;34m.\u001b[0m\u001b[0mjoin\u001b[0m\u001b[0;34m(\u001b[0m\u001b[0mcmd_list\u001b[0m\u001b[0;34m)\u001b[0m\u001b[0;34m)\u001b[0m\u001b[0;34m\u001b[0m\u001b[0;34m\u001b[0m\u001b[0m\n\u001b[1;32m      7\u001b[0m     \u001b[0mpro\u001b[0m \u001b[0;34m=\u001b[0m \u001b[0mPopen\u001b[0m\u001b[0;34m(\u001b[0m\u001b[0mcmd_list\u001b[0m\u001b[0;34m,\u001b[0m \u001b[0mstdout\u001b[0m\u001b[0;34m=\u001b[0m\u001b[0mPIPE\u001b[0m\u001b[0;34m,\u001b[0m \u001b[0mstderr\u001b[0m\u001b[0;34m=\u001b[0m\u001b[0mPIPE\u001b[0m\u001b[0;34m)\u001b[0m\u001b[0;34m\u001b[0m\u001b[0;34m\u001b[0m\u001b[0m\n\u001b[0;32m----> 8\u001b[0;31m     \u001b[0mout\u001b[0m\u001b[0;34m,\u001b[0m\u001b[0merr\u001b[0m \u001b[0;34m=\u001b[0m \u001b[0mpro\u001b[0m\u001b[0;34m.\u001b[0m\u001b[0mcommunicate\u001b[0m\u001b[0;34m(\u001b[0m\u001b[0;34m)\u001b[0m\u001b[0;34m\u001b[0m\u001b[0;34m\u001b[0m\u001b[0m\n\u001b[0m\u001b[1;32m      9\u001b[0m     \u001b[0mprint\u001b[0m\u001b[0;34m(\u001b[0m\u001b[0mout\u001b[0m\u001b[0;34m,\u001b[0m\u001b[0merr\u001b[0m\u001b[0;34m)\u001b[0m\u001b[0;34m\u001b[0m\u001b[0;34m\u001b[0m\u001b[0m\n\u001b[1;32m     10\u001b[0m     \u001b[0mout_total\u001b[0m \u001b[0;34m+=\u001b[0m \u001b[0mout\u001b[0m\u001b[0;34m.\u001b[0m\u001b[0mdecode\u001b[0m\u001b[0;34m(\u001b[0m\u001b[0;34m\"utf-8\"\u001b[0m\u001b[0;34m)\u001b[0m\u001b[0;34m\u001b[0m\u001b[0;34m\u001b[0m\u001b[0m\n",
      "\u001b[0;32m/usr/lib/python3.6/subprocess.py\u001b[0m in \u001b[0;36mcommunicate\u001b[0;34m(self, input, timeout)\u001b[0m\n\u001b[1;32m    841\u001b[0m \u001b[0;34m\u001b[0m\u001b[0m\n\u001b[1;32m    842\u001b[0m             \u001b[0;32mtry\u001b[0m\u001b[0;34m:\u001b[0m\u001b[0;34m\u001b[0m\u001b[0;34m\u001b[0m\u001b[0m\n\u001b[0;32m--> 843\u001b[0;31m                 \u001b[0mstdout\u001b[0m\u001b[0;34m,\u001b[0m \u001b[0mstderr\u001b[0m \u001b[0;34m=\u001b[0m \u001b[0mself\u001b[0m\u001b[0;34m.\u001b[0m\u001b[0m_communicate\u001b[0m\u001b[0;34m(\u001b[0m\u001b[0minput\u001b[0m\u001b[0;34m,\u001b[0m \u001b[0mendtime\u001b[0m\u001b[0;34m,\u001b[0m \u001b[0mtimeout\u001b[0m\u001b[0;34m)\u001b[0m\u001b[0;34m\u001b[0m\u001b[0;34m\u001b[0m\u001b[0m\n\u001b[0m\u001b[1;32m    844\u001b[0m             \u001b[0;32mfinally\u001b[0m\u001b[0;34m:\u001b[0m\u001b[0;34m\u001b[0m\u001b[0;34m\u001b[0m\u001b[0m\n\u001b[1;32m    845\u001b[0m                 \u001b[0mself\u001b[0m\u001b[0;34m.\u001b[0m\u001b[0m_communication_started\u001b[0m \u001b[0;34m=\u001b[0m \u001b[0;32mTrue\u001b[0m\u001b[0;34m\u001b[0m\u001b[0;34m\u001b[0m\u001b[0m\n",
      "\u001b[0;32m/usr/lib/python3.6/subprocess.py\u001b[0m in \u001b[0;36m_communicate\u001b[0;34m(self, input, endtime, orig_timeout)\u001b[0m\n\u001b[1;32m   1512\u001b[0m                         \u001b[0;32mraise\u001b[0m \u001b[0mTimeoutExpired\u001b[0m\u001b[0;34m(\u001b[0m\u001b[0mself\u001b[0m\u001b[0;34m.\u001b[0m\u001b[0margs\u001b[0m\u001b[0;34m,\u001b[0m \u001b[0morig_timeout\u001b[0m\u001b[0;34m)\u001b[0m\u001b[0;34m\u001b[0m\u001b[0;34m\u001b[0m\u001b[0m\n\u001b[1;32m   1513\u001b[0m \u001b[0;34m\u001b[0m\u001b[0m\n\u001b[0;32m-> 1514\u001b[0;31m                     \u001b[0mready\u001b[0m \u001b[0;34m=\u001b[0m \u001b[0mselector\u001b[0m\u001b[0;34m.\u001b[0m\u001b[0mselect\u001b[0m\u001b[0;34m(\u001b[0m\u001b[0mtimeout\u001b[0m\u001b[0;34m)\u001b[0m\u001b[0;34m\u001b[0m\u001b[0;34m\u001b[0m\u001b[0m\n\u001b[0m\u001b[1;32m   1515\u001b[0m                     \u001b[0mself\u001b[0m\u001b[0;34m.\u001b[0m\u001b[0m_check_timeout\u001b[0m\u001b[0;34m(\u001b[0m\u001b[0mendtime\u001b[0m\u001b[0;34m,\u001b[0m \u001b[0morig_timeout\u001b[0m\u001b[0;34m)\u001b[0m\u001b[0;34m\u001b[0m\u001b[0;34m\u001b[0m\u001b[0m\n\u001b[1;32m   1516\u001b[0m \u001b[0;34m\u001b[0m\u001b[0m\n",
      "\u001b[0;32m/usr/lib/python3.6/selectors.py\u001b[0m in \u001b[0;36mselect\u001b[0;34m(self, timeout)\u001b[0m\n\u001b[1;32m    374\u001b[0m             \u001b[0mready\u001b[0m \u001b[0;34m=\u001b[0m \u001b[0;34m[\u001b[0m\u001b[0;34m]\u001b[0m\u001b[0;34m\u001b[0m\u001b[0;34m\u001b[0m\u001b[0m\n\u001b[1;32m    375\u001b[0m             \u001b[0;32mtry\u001b[0m\u001b[0;34m:\u001b[0m\u001b[0;34m\u001b[0m\u001b[0;34m\u001b[0m\u001b[0m\n\u001b[0;32m--> 376\u001b[0;31m                 \u001b[0mfd_event_list\u001b[0m \u001b[0;34m=\u001b[0m \u001b[0mself\u001b[0m\u001b[0;34m.\u001b[0m\u001b[0m_poll\u001b[0m\u001b[0;34m.\u001b[0m\u001b[0mpoll\u001b[0m\u001b[0;34m(\u001b[0m\u001b[0mtimeout\u001b[0m\u001b[0;34m)\u001b[0m\u001b[0;34m\u001b[0m\u001b[0;34m\u001b[0m\u001b[0m\n\u001b[0m\u001b[1;32m    377\u001b[0m             \u001b[0;32mexcept\u001b[0m \u001b[0mInterruptedError\u001b[0m\u001b[0;34m:\u001b[0m\u001b[0;34m\u001b[0m\u001b[0;34m\u001b[0m\u001b[0m\n\u001b[1;32m    378\u001b[0m                 \u001b[0;32mreturn\u001b[0m \u001b[0mready\u001b[0m\u001b[0;34m\u001b[0m\u001b[0;34m\u001b[0m\u001b[0m\n",
      "\u001b[0;31mKeyboardInterrupt\u001b[0m: "
     ]
    }
   ],
   "source": [
    "#search targets\n",
    "out_file = open(\"data/res/targets.csv\",\"w\") \n",
    "out_total = ''\n",
    "for k,v in df.iterrows():\n",
    "    cmd_list = ['perl', path_target_finder,'-s',v.MajorRNA,'-q',v.Gene,'-d','data/res/DEG_SEQS.fasta','-p','table']\n",
    "    print(' '.join(cmd_list))\n",
    "    pro = Popen(cmd_list, stdout=PIPE, stderr=PIPE)\n",
    "    out,err = pro.communicate()\n",
    "    print(out,err)\n",
    "    out_total += out.decode(\"utf-8\") \n",
    "out_file.write(out_total)\n",
    "out_file.close()\n",
    "#os.system('grep -v \"No results for\" targets.csv > targets.clean.csv')"
   ]
  },
  {
   "cell_type": "code",
   "execution_count": null,
   "metadata": {},
   "outputs": [],
   "source": []
  }
 ],
 "metadata": {
  "kernelspec": {
   "display_name": "Python 3",
   "language": "python",
   "name": "python3"
  },
  "language_info": {
   "codemirror_mode": {
    "name": "ipython",
    "version": 3
   },
   "file_extension": ".py",
   "mimetype": "text/x-python",
   "name": "python",
   "nbconvert_exporter": "python",
   "pygments_lexer": "ipython3",
   "version": "3.6.5"
  }
 },
 "nbformat": 4,
 "nbformat_minor": 2
}
