{
 "cells": [
  {
   "cell_type": "code",
   "execution_count": null,
   "metadata": {},
   "outputs": [],
   "source": [
    "import pandas as pd\n",
    "from subprocess import Popen, PIPE, call\n",
    "lb = 'iwgsc_10_12_18'\n",
    "path_target_finder = '/home/juan/Desktop/juan/bio/mrcv/sw/TargetFinder/targetfinder.pl'\n",
    "target_seqs = 'data/res/genes/DEG_SEQS.fasta'"
   ]
  },
  {
   "cell_type": "code",
   "execution_count": null,
   "metadata": {},
   "outputs": [],
   "source": [
    "df = pd.read_csv('data/res/iwgsc_4_2_19/sRNA_DEG_mirbase.csv', sep='\\t')\n",
    "df.head()"
   ]
  },
  {
   "cell_type": "code",
   "execution_count": null,
   "metadata": {},
   "outputs": [],
   "source": [
    "#search targets\n",
    "out_file = open(\"data/res/iwgsc_4_2_19/targets_cdna.csv\",\"w\") \n",
    "out_total = ''\n",
    "for k,v in df.iterrows():\n",
    "    if 'N' in v.seq:\n",
    "        continue\n",
    "    cmd_list = ['perl', path_target_finder,'-s',v.seq,'-q',v.Gene,'-d',target_seqs,'-p','table']\n",
    "    print(' '.join(cmd_list))\n",
    "    pro = Popen(cmd_list, stdout=PIPE, stderr=PIPE)\n",
    "    out,err = pro.communicate()\n",
    "#    out = str(out)\n",
    "#    err = str(err)\n",
    "    print(out,err)\n",
    "    if b\"No results for\" in out:\n",
    "        continue\n",
    "    out_total += out.decode(\"utf-8\") \n",
    "out_file.write(out_total)\n",
    "out_file.close()\n",
    "#os.system('grep -v \"No results for\" targets.csv > targets.clean.csv')"
   ]
  },
  {
   "cell_type": "code",
   "execution_count": null,
   "metadata": {},
   "outputs": [],
   "source": [
    "￼"
   ]
  }
 ],
 "metadata": {
  "kernelspec": {
   "display_name": "Python 3",
   "language": "python",
   "name": "python3"
  },
  "language_info": {
   "codemirror_mode": {
    "name": "ipython",
    "version": 3
   },
   "file_extension": ".py",
   "mimetype": "text/x-python",
   "name": "python",
   "nbconvert_exporter": "python",
   "pygments_lexer": "ipython3",
   "version": "3.6.5"
  }
 },
 "nbformat": 4,
 "nbformat_minor": 2
}
