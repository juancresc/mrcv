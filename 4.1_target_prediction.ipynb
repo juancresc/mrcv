{
 "cells": [
  {
   "cell_type": "code",
   "execution_count": null,
   "metadata": {},
   "outputs": [],
   "source": [
    "import pandas as pd\n",
    "from subprocess import Popen, PIPE, call\n",
    "lb = 'iwgsc_10_12_18'\n",
    "path_target_finder = '/home/juan/Desktop/juan/bio/mrcv/sw/TargetFinder/targetfinder.pl'\n",
    "target_seqs = 'data/res/genes/DEG_SEQS.fasta'"
   ]
  },
  {
   "cell_type": "code",
   "execution_count": null,
   "metadata": {},
   "outputs": [],
   "source": [
    "df = pd.read_csv('data/res/iwgsc_4_2_19/sRNA_DEG_mirbase.csv', sep='\\t')\n",
    "df.head()"
   ]
  },
  {
   "cell_type": "code",
   "execution_count": null,
   "metadata": {},
   "outputs": [
    {
     "name": "stdout",
     "output_type": "stream",
     "text": [
      "b'CGUCCGAAUUGUAGU\\tTraesCS6B02G193400 seq:6B start:228237278 end:228245099 strand:+\\t4754\\t4768\\t+\\t2\\tACUACAAGUCGGACG\\t::::::: :::::::\\tUGAUGUUAAGCCUGC\\nCGUCCGAAUUGUAGU\\tTraesCS2A02G256200 seq:2A start:392853432 end:392857980 strand:-\\t656\\t670\\t+\\t3\\tACUACAAUUUGGAUC\\t:::::::::.:::. \\tUGAUGUUAAGCCUGC\\nCGUCCGAAUUGUAGU\\tTraesCS6A02G326200 seq:6A start:559521404 end:559528788 strand:+\\t2235\\t2249\\t+\\t3\\tACUCCGAUUCGGACG\\t::: :.:::::::::\\tUGAUGUUAAGCCUGC\\nCGUCCGAAUUGUAGU\\tTraesCS5A02G548600 seq:5A start:702518375 end:702524866 strand:-\\t3114\\t3128\\t+\\t3\\tACUACAAUUUGGUCG\\t:::::::::.:: ::\\tUGAUGUUAAGCCUGC\\nCGUCCGAAUUGUAGU\\tTraesCS7A02G219300 seq:7A start:186538351 end:186546329 strand:-\\t1767\\t1781\\t+\\t3\\tGUUACAAUUCGGAAG\\t..::::::::::: :\\tUGAUGUUAAGCCUGC\\nCGUCCGAAUUGUAGU\\tTraesCS2B02G373300 seq:2B start:532005914 end:532012799 strand:-\\t884\\t899\\t+\\t3\\tACAUGCAAUUCGGACU\\t:: :.:::::::::: \\tUG-AUGUUAAGCCUGC\\nCGUCCGAAUUGUAGU\\tTraesCS6B02G379500 seq:6B start:654606355 end:654612058 strand:+\\t3398\\t3411\\t+\\t3\\tGUUA-AAUUCGGACG\\t..:: ::::::::::\\tUGAUGUUAAGCCUGC\\nCGUCCGAAUUGUAGU\\tTraesCS5B02G177500 seq:5B start:323879417 end:323886534 strand:+\\t4671\\t4685\\t+\\t3.5\\tGCUACAAUUCCGGCG\\t.::::::::: :.::\\tUGAUGUUAAGCCUGC\\nCGUCCGAAUUGUAGU\\tTraesCS2B02G220800 seq:2B start:211007472 end:211011813 strand:-\\t519\\t533\\t+\\t3.5\\tAUGAUAAUUCGGACG\\t:. :.::::::::::\\tUGAUGUUAAGCCUGC\\nCGUCCGAAUUGUAGU\\tTraesCS2D02G376300 seq:2D start:480571812 end:480576946 strand:+\\t4165\\t4180\\t+\\t3.5\\tGCAUGCAGUUCGGACG\\t.: :.::.::::::::\\tUG-AUGUUAAGCCUGC\\nCGUCCGAAUUGUAGU\\tTraesCS2B02G397000 seq:2B start:563676948 end:563682022 strand:+\\t4885\\t4900\\t+\\t3.5\\tGCAUGCAGUUCGGACG\\t.: :.::.::::::::\\tUG-AUGUUAAGCCUGC\\nCGUCCGAAUUGUAGU\\tTraesCS4B02G101200 seq:4B start:106852674 end:106862052 strand:-\\t5434\\t5447\\t+\\t3.5\\tGCUACGAUU-GGACG\\t.::::.::: :::::\\tUGAUGUUAAGCCUGC\\nCGUCCGAAUUGUAGU\\tTraesCS4D02G357300 seq:4D start:505512818 end:505519173 strand:+\\t5283\\t5297\\t+\\t4\\tUCUAUGAUUCGGAUG\\t :::..:::::::.:\\tUGAUGUUAAGCCUGC\\nCGUCCGAAUUGUAGU\\tTraesCS4A02G145500 seq:4A start:248831966 end:248838099 strand:-\\t5665\\t5679\\t+\\t4\\tUCUAUGAUUCGGAUG\\t :::..:::::::.:\\tUGAUGUUAAGCCUGC\\nCGUCCGAAUUGUAGU\\tTraesCS3A02G415300 seq:3A start:658698863 end:658705196 strand:-\\t2687\\t2701\\t+\\t4\\tACUACAAGUUGGGCG\\t::::::: :.::.::\\tUGAUGUUAAGCCUGC\\nCGUCCGAAUUGUAGU\\tTraesCS4A02G021600 seq:4A start:15636398 end:15644171 strand:+\\t85\\t100\\t+\\t4\\tACUGCUGAUUCGGACG\\t:::.: .:::::::::\\tUGAUG-UUAAGCCUGC\\nCGUCCGAAUUGUAGU\\tTraesCS5D02G054900 seq:5D start:51850315 end:51854626 strand:+\\t3305\\t3319\\t+\\t4\\tCCUAUAAUUCGGGCA\\t :::.:::::::.: \\tUGAUGUUAAGCCUGC\\nCGUCCGAAUUGUAGU\\tTraesCS4B02G269200 seq:4B start:544036437 end:544045737 strand:-\\t2238\\t2252\\t+\\t4\\tCCUACAACUUGGACG\\t :::::: :.:::::\\tUGAUGUUAAGCCUGC\\nCGUCCGAAUUGUAGU\\tTraesCS7A02G003100 seq:7A start:1716979 end:1726204 strand:-\\t8036\\t8050\\t+\\t4\\tACUGCAAAUCGGACC\\t:::.::: :::::: \\tUGAUGUUAAGCCUGC\\nCGUCCGAAUUGUAGU\\tTraesCS4B02G267200 seq:4B start:539963615 end:539972295 strand:-\\t6733\\t6747\\t+\\t4\\tUCUGCAAUUCCGACG\\t ::.:::::: ::::\\tUGAUGUUAAGCCUGC\\nCGUCCGAAUUGUAGU\\tTraesCS3B02G428700 seq:3B start:667640781 end:667646954 strand:-\\t1715\\t1729\\t+\\t4\\tACUUCAAUUUGGACU\\t::: :::::.:::: \\tUGAUGUUAAGCCUGC\\nCGUCCGAAUUGUAGU\\tTraesCS6D02G185900 seq:6D start:242622184 end:242630856 strand:-\\t2208\\t2222\\t+\\t4\\tAGUAUAAUUUGGACA\\t: ::.::::.:::: \\tUGAUGUUAAGCCUGC\\nCGUCCGAAUUGUAGU\\tTraesCS6B02G227800 seq:6B start:353870113 end:353877755 strand:-\\t2093\\t2107\\t+\\t4\\tAGUAUAAUUUGGACA\\t: ::.::::.:::: \\tUGAUGUUAAGCCUGC\\nCGUCCGAAUUGUAGU\\tTraesCS7A02G031200 seq:7A start:13045924 end:13057219 strand:+\\t3206\\t3219\\t+\\t4\\tACUGCGAUU-GGACG\\t:::.:.::: :::::\\tUGAUGUUAAGCCUGC\\nCGUCCGAAUUGUAGU\\tTraesCS4A02G388600 seq:4A start:666146948 end:666153681 strand:+\\t377\\t390\\t+\\t4\\tACUA-AAUUUGGAUG\\t:::: ::::.:::.:\\tUGAUGUUAAGCCUGC\\nCGUCCGAAUUGUAGU\\tTraesCS3D02G545100 seq:3D start:614673245 end:614679525 strand:+\\t4495\\t4508\\t+\\t4\\tACUAUAAUU-GGAUG\\t::::.:::: :::.:\\tUGAUGUUAAGCCUGC\\nCGUCCGAAUUGUAGU\\tTraesCS7D02G143200 seq:7D start:91388603 end:91397384 strand:-\\t6788\\t6801\\t+\\t4\\tGUUACG-UUCGGACG\\t..:::. ::::::::\\tUGAUGUUAAGCCUGC\\nCGUCCGAAUUGUAGU\\tTraesCS5A02G115100 seq:5A start:230451239 end:230456979 strand:+\\t255\\t269\\t+\\t4\\tACUACCACUCGGACG\\t::::: : :::::::\\tUGAUGUUAAGCCUGC\\nCGUCCGAAUUGUAGU\\tTraesCS3D02G023000 seq:3D start:7285231 end:7292690 strand:-\\t1141\\t1155\\t+\\t4\\tAGUACAGUUCAGACG\\t: ::::.::: ::::\\tUGAUGUUAAGCCUGC\\nCGUCCGAAUUGUAGU\\tTraesCS4B02G218900 seq:4B start:460866752 end:460872328 strand:-\\t1017\\t1031\\t+\\t4\\tAGUACAAUUAGGAUG\\t: ::::::: :::.:\\tUGAUGUUAAGCCUGC\\nCGUCCGAAUUGUAGU\\tTraesCS6D02G212900 seq:6D start:302035059 end:302042674 strand:+\\t7003\\t7016\\t+\\t4\\tACUAUA-UUCGGACA\\t::::.: ::::::: \\tUGAUGUUAAGCCUGC\\nCGUCCGAAUUGUAGU\\tTraesCS3D02G545300 seq:3D start:614881319 end:614886674 strand:+\\t3712\\t3725\\t+\\t4\\tACUACGAU-CGGACC\\t:::::.:: ::::: \\tUGAUGUUAAGCCUGC\\nCGUCCGAAUUGUAGU\\tTraesCS3A02G183800 seq:3A start:213254188 end:213261550 strand:+\\t7289\\t7303\\t+\\t4\\tAGUCCAAUUCGGACC\\t: : :::::::::: \\tUGAUGUUAAGCCUGC\\nCGUCCGAAUUGUAGU\\tTraesCS2D02G376300 seq:2D start:480571812 end:480576946 strand:+\\t470\\t483\\t+\\t4\\tACUAUA-UUCGGACU\\t::::.: ::::::: \\tUGAUGUUAAGCCUGC\\n' b''\n",
      "perl /home/juan/Desktop/juan/bio/mrcv/sw/TargetFinder/targetfinder.pl -s CUUACUGAAGAACAGUC -q CUUACUGAAGAACAGUC -d data/res/genes/DEG_SEQS.fasta -p table\n",
      "b'CUUACUGAAGAACAGUC\\tTraesCS3B02G249600 seq:3B start:397668445 end:397679173 strand:+\\t6567\\t6584\\t+\\t2\\tGACUCGUUUUUCAGUAAG\\t:::: :::.:::::::::\\tCUGA-CAAGAAGUCAUUC\\nCUUACUGAAGAACAGUC\\tTraesCS6A02G056800 seq:6A start:29875038 end:29881453 strand:-\\t1071\\t1087\\t+\\t3.5\\tGGCUGUUAUUCAGUAAU\\t:.::::: :::::::: \\tCUGACAAGAAGUCAUUC\\nCUUACUGAAGAACAGUC\\tTraesCS4B02G355600 seq:4B start:646653238 end:646659479 strand:+\\t4289\\t4304\\t+\\t3.5\\tUAUUGUUCUUCA-UAAG\\t :.::::::::: ::::\\tCUGACAAGAAGUCAUUC\\nCUUACUGAAGAACAGUC\\tTraesCS1D02G282900 seq:1D start:381007927 end:381018026 strand:+\\t7883\\t7899\\t+\\t4\\tUGUUGUUCUUCAGUACG\\t ..:::::::::::: :\\tCUGACAAGAAGUCAUUC\\nCUUACUGAAGAACAGUC\\tTraesCS7D02G303500 seq:7D start:384936170 end:384947225 strand:+\\t3523\\t3539\\t+\\t4\\tGAAUAUUUUUCAGUAAG\\t:: : ::.:::::::::\\tCUGACAAGAAGUCAUUC\\nCUUACUGAAGAACAGUC\\tTraesCS7B02G446900 seq:7B start:709606585 end:709615542 strand:-\\t4285\\t4301\\t+\\t4\\tUACUCUUCUUCAGUAAC\\t ::: ::::::::::: \\tCUGACAAGAAGUCAUUC\\nCUUACUGAAGAACAGUC\\tTraesCS2A02G138000 seq:2A start:83813121 end:83820760 strand:-\\t2778\\t2794\\t+\\t4\\tACCUGCUCUUCAGUAAG\\t  ::: :::::::::::\\tCUGACAAGAAGUCAUUC\\nCUUACUGAAGAACAGUC\\tTraesCS7A02G010200 seq:7A start:4623252 end:4631547 strand:+\\t116\\t132\\t+\\t4\\tCAAUGUUCUUCGGUAAA\\t : ::::::::.:::: \\tCUGACAAGAAGUCAUUC\\nCUUACUGAAGAACAGUC\\tTraesCS4A02G172800 seq:4A start:439004860 end:439012319 strand:+\\t2478\\t2493\\t+\\t4\\tAACUGUUCUUC-GUGAG\\t :::::::::: ::.::\\tCUGACAAGAAGUCAUUC\\nCUUACUGAAGAACAGUC\\tTraesCS5D02G072100 seq:5D start:71884973 end:71894345 strand:-\\t3211\\t3227\\t+\\t4\\tUCAUGUUCUUCAGUAAA\\t   ::::::::::::: \\tCUGACAAGAAGUCAUUC\\nCUUACUGAAGAACAGUC\\tTraesCSU02G110500 seq:Un start:95439332 end:95447388 strand:-\\t1170\\t1185\\t+\\t4\\tUGUUGUU-UUCAGUAAG\\t ..:::: :::::::::\\tCUGACAAGAAGUCAUUC\\nCUUACUGAAGAACAGUC\\tTraesCS5B02G109900 seq:5B start:157013092 end:157048641 strand:+\\t15457\\t15474\\t+\\t4\\tAACUAUUUCUUCAGUAAG\\t ::: :: ::::::::::\\tCUGACAA-GAAGUCAUUC\\nCUUACUGAAGAACAGUC\\tTraesCS6A02G223400 seq:6A start:420085834 end:420095103 strand:+\\t5108\\t5124\\t+\\t4\\tGAAGGUUCUUCCGUAAG\\t::  ::::::: :::::\\tCUGACAAGAAGUCAUUC\\n' b''\n",
      "perl /home/juan/Desktop/juan/bio/mrcv/sw/TargetFinder/targetfinder.pl -s UGAGUAGAUCAAAGGGAUAGU -q UGAGUAGAUCAAAGGGAUAGU -d data/res/genes/DEG_SEQS.fasta -p table\n",
      "b'No results for UGAGUAGAUCAAAGGGAUAGU\\n' b''\n",
      "perl /home/juan/Desktop/juan/bio/mrcv/sw/TargetFinder/targetfinder.pl -s AUUGGCUGUAACAACUGGUUA -q AUUGGCUGUAACAACUGGUUA -d data/res/genes/DEG_SEQS.fasta -p table\n",
      "b'No results for AUUGGCUGUAACAACUGGUUA\\n' b''\n",
      "perl /home/juan/Desktop/juan/bio/mrcv/sw/TargetFinder/targetfinder.pl -s CCUGGAAUGCAAGUUUUGAUGUC -q CCUGGAAUGCAAGUUUUGAUGUC -d data/res/genes/DEG_SEQS.fasta -p table\n",
      "b'No results for CCUGGAAUGCAAGUUUUGAUGUC\\n' b''\n",
      "perl /home/juan/Desktop/juan/bio/mrcv/sw/TargetFinder/targetfinder.pl -s CCUUGCUGCCACGAUCCACUGAGAUCCAGCCCCAUGUCGCACGGAUUCG -q CCUUGCUGCCACGAUCCACUGAGAUCCAGCCCCAUGUCGCACGGAUUCG -d data/res/genes/DEG_SEQS.fasta -p table\n",
      "b'No results for CCUUGCUGCCACGAUCCACUGAGAUCCAGCCCCAUGUCGCACGGAUUCG\\n' b''\n",
      "perl /home/juan/Desktop/juan/bio/mrcv/sw/TargetFinder/targetfinder.pl -s AUAAUGAACCGAAGACCCUAAG -q AUAAUGAACCGAAGACCCUAAG -d data/res/genes/DEG_SEQS.fasta -p table\n",
      "b'No results for AUAAUGAACCGAAGACCCUAAG\\n' b''\n",
      "perl /home/juan/Desktop/juan/bio/mrcv/sw/TargetFinder/targetfinder.pl -s AUCCCGCGAACCAUCGAGUCUUUGAAC -q AUCCCGCGAACCAUCGAGUCUUUGAAC -d data/res/genes/DEG_SEQS.fasta -p table\n",
      "b'No results for AUCCCGCGAACCAUCGAGUCUUUGAAC\\n' b''\n",
      "perl /home/juan/Desktop/juan/bio/mrcv/sw/TargetFinder/targetfinder.pl -s CUUUGAACGCAAGUUGCGCCCGAGGCCACUCG -q CUUUGAACGCAAGUUGCGCCCGAGGCCACUCG -d data/res/genes/DEG_SEQS.fasta -p table\n",
      "b'No results for CUUUGAACGCAAGUUGCGCCCGAGGCCACUCG\\n' b''\n",
      "perl /home/juan/Desktop/juan/bio/mrcv/sw/TargetFinder/targetfinder.pl -s AACAAUUCACUUGACUGUAUU -q AACAAUUCACUUGACUGUAUU -d data/res/genes/DEG_SEQS.fasta -p table\n",
      "b'No results for AACAAUUCACUUGACUGUAUU\\n' b''\n",
      "perl /home/juan/Desktop/juan/bio/mrcv/sw/TargetFinder/targetfinder.pl -s UUGAGAACGAGUUCAACAGAA -q UUGAGAACGAGUUCAACAGAA -d data/res/genes/DEG_SEQS.fasta -p table\n",
      "b'UUGAGAACGAGUUCAACAGAA\\tTraesCS5B02G062100 seq:5B start:69641783 end:69653235 strand:-\\t4210\\t4230\\t+\\t4\\tUUCUGCUGAGCUCCUUCUCAA\\t::::: :::.::: :::::::\\tAAGACAACUUGAGCAAGAGUU\\nUUGAGAACGAGUUCAACAGAA\\tTraesCS7B02G032300 seq:7B start:32406247 end:32413428 strand:+\\t1061\\t1080\\t+\\t4\\tUCCUGU-GAGCUCGUUUUCAA\\t: :::: ::.::::::.::::\\tAAGACAACUUGAGCAAGAGUU\\n' b''\n",
      "perl /home/juan/Desktop/juan/bio/mrcv/sw/TargetFinder/targetfinder.pl -s CUUACUGUGAGUUGGCAUUCGU -q CUUACUGUGAGUUGGCAUUCGU -d data/res/genes/DEG_SEQS.fasta -p table\n",
      "b'CUUACUGUGAGUUGGCAUUCGU\\tTraesCS6D02G260300 seq:6D start:367873766 end:367879372 strand:+\\t398\\t418\\t+\\t4\\tAGGAGUGUCAACUCAC-GUAAG\\t: ::.::.:::::::: :::::\\tUGCUUACGGUUGAGUGUCAUUC\\nCUUACUGUGAGUUGGCAUUCGU\\tTraesCS7A02G169100 seq:7A start:125710948 end:125717936 strand:+\\t6904\\t6924\\t+\\t4\\tGAGAGUGCCAACUCACA-UAAG\\t. ::.:::::::::::: ::::\\tUGCUUACGGUUGAGUGUCAUUC\\n' b''\n",
      "perl /home/juan/Desktop/juan/bio/mrcv/sw/TargetFinder/targetfinder.pl -s UACCAACAUAAUCUCGAUGGCU -q UACCAACAUAAUCUCGAUGGCU -d data/res/genes/DEG_SEQS.fasta -p table\n",
      "b'No results for UACCAACAUAAUCUCGAUGGCU\\n' b''\n",
      "perl /home/juan/Desktop/juan/bio/mrcv/sw/TargetFinder/targetfinder.pl -s UAGUCAUAGAUUUGGACGCACU -q UAGUCAUAGAUUUGGACGCACU -d data/res/genes/DEG_SEQS.fasta -p table\n",
      "b'No results for UAGUCAUAGAUUUGGACGCACU\\n' b''\n",
      "perl /home/juan/Desktop/juan/bio/mrcv/sw/TargetFinder/targetfinder.pl -s UAUGGAUCAAAGUAUCGGCGCU -q UAUGGAUCAAAGUAUCGGCGCU -d data/res/genes/DEG_SEQS.fasta -p table\n",
      "b'No results for UAUGGAUCAAAGUAUCGGCGCU\\n' b''\n",
      "perl /home/juan/Desktop/juan/bio/mrcv/sw/TargetFinder/targetfinder.pl -s ACCUAAAGUCGACCCAAAACU -q ACCUAAAGUCGACCCAAAACU -d data/res/genes/DEG_SEQS.fasta -p table\n",
      "b'No results for ACCUAAAGUCGACCCAAAACU\\n' b''\n",
      "perl /home/juan/Desktop/juan/bio/mrcv/sw/TargetFinder/targetfinder.pl -s AUCCCUUUGAUCUACUCAGAU -q AUCCCUUUGAUCUACUCAGAU -d data/res/genes/DEG_SEQS.fasta -p table\n",
      "b'No results for AUCCCUUUGAUCUACUCAGAU\\n' b''\n",
      "perl /home/juan/Desktop/juan/bio/mrcv/sw/TargetFinder/targetfinder.pl -s AAUGCUGCCCUACGUAACCCG -q AAUGCUGCCCUACGUAACCCG -d data/res/genes/DEG_SEQS.fasta -p table\n",
      "b'AAUGCUGCCCUACGUAACCCG\\tTraesCS2D02G201600 seq:2D start:153045500 end:153049841 strand:-\\t3292\\t3311\\t+\\t4\\tCGGGU-ACGUACGGCAGCAUG\\t::::: ::::: :::::::: \\tGCCCAAUGCAUCCCGUCGUAA\\nAAUGCUGCCCUACGUAACCCG\\tTraesCS2B02G220800 seq:2B start:211007472 end:211011813 strand:-\\t3372\\t3391\\t+\\t4\\tCGGGU-ACGUACGGCAGCAUG\\t::::: ::::: :::::::: \\tGCCCAAUGCAUCCCGUCGUAA\\n' b''\n",
      "perl /home/juan/Desktop/juan/bio/mrcv/sw/TargetFinder/targetfinder.pl -s UUCUACAAUUGAGGACAAUGU -q UUCUACAAUUGAGGACAAUGU -d data/res/genes/DEG_SEQS.fasta -p table\n",
      "b'No results for UUCUACAAUUGAGGACAAUGU\\n' b''\n",
      "perl /home/juan/Desktop/juan/bio/mrcv/sw/TargetFinder/targetfinder.pl -s AAACAGAGAUCAGAGUGAAUU -q AAACAGAGAUCAGAGUGAAUU -d data/res/genes/DEG_SEQS.fasta -p table\n",
      "b'AAACAGAGAUCAGAGUGAAUU\\tTraesCS2D02G288400 seq:2D start:369478795 end:369487046 strand:-\\t421\\t441\\t+\\t3\\tAAUUUAUUUUGAUCUCUGUUC\\t::::.:.:.::::::::::: \\tUUAAGUGAGACUAGAGACAAA\\n' b''\n",
      "perl /home/juan/Desktop/juan/bio/mrcv/sw/TargetFinder/targetfinder.pl -s UAGAAUUUUUCCUUAAUUCAAAAAUGUUAUUAGGUC -q UAGAAUUUUUCCUUAAUUCAAAAAUGUUAUUAGGUC -d data/res/genes/DEG_SEQS.fasta -p table\n",
      "b'No results for UAGAAUUUUUCCUUAAUUCAAAAAUGUUAUUAGGUC\\n' b''\n",
      "perl /home/juan/Desktop/juan/bio/mrcv/sw/TargetFinder/targetfinder.pl -s CAAGUGCGGAGAGGAUAACUGCUGAAAG -q CAAGUGCGGAGAGGAUAACUGCUGAAAG -d data/res/genes/DEG_SEQS.fasta -p table\n",
      "b'No results for CAAGUGCGGAGAGGAUAACUGCUGAAAG\\n' b''\n",
      "perl /home/juan/Desktop/juan/bio/mrcv/sw/TargetFinder/targetfinder.pl -s GCAAGGCUGAAACUUAAAGGAAUUGACGGAAGGGCACCAC -q GCAAGGCUGAAACUUAAAGGAAUUGACGGAAGGGCACCAC -d data/res/genes/DEG_SEQS.fasta -p table\n",
      "b'GCAAGGCUGAAACUUAAAGGAAUUGACGGAAGGGCACCAC\\tTraesCS7D02G053700 seq:7D start:28335386 end:28340864 strand:-\\t1119\\t1158\\t+\\t4\\tAUGGUGCCCUUCCGUCAAUUCCUUUAUGUUUCAACCUUGC\\t ::::::::::::::::::::::::: :::::: ::::::\\tCACCACGGGAAGGCAGUUAAGGAAAUUCAAAGUCGGAACG\\n' b''\n",
      "perl /home/juan/Desktop/juan/bio/mrcv/sw/TargetFinder/targetfinder.pl -s AAAGUCAGAGUUGUUGGUAAC -q AAAGUCAGAGUUGUUGGUAAC -d data/res/genes/DEG_SEQS.fasta -p table\n",
      "b'No results for AAAGUCAGAGUUGUUGGUAAC\\n' b''\n",
      "perl /home/juan/Desktop/juan/bio/mrcv/sw/TargetFinder/targetfinder.pl -s AUGCGCCCCGGCCGUAUGCGGAAC -q AUGCGCCCCGGCCGUAUGCGGAAC -d data/res/genes/DEG_SEQS.fasta -p table\n",
      "b'No results for AUGCGCCCCGGCCGUAUGCGGAAC\\n' b''\n",
      "perl /home/juan/Desktop/juan/bio/mrcv/sw/TargetFinder/targetfinder.pl -s GACGACGAGUAAUGGUAGAGCA -q GACGACGAGUAAUGGUAGAGCA -d data/res/genes/DEG_SEQS.fasta -p table\n",
      "b'GACGACGAGUAAUGGUAGAGCA\\tTraesCS3A02G364300 seq:3A start:613169518 end:613173851 strand:-\\t940\\t960\\t+\\t4\\tUGCUAUACCAUUACUU-UCGUC\\t:::: ::::::::::. :::::\\tACGAGAUGGUAAUGAGCAGCAG\\n' b''\n",
      "perl /home/juan/Desktop/juan/bio/mrcv/sw/TargetFinder/targetfinder.pl -s UUGAAAAACGACGUAACAAAU -q UUGAAAAACGACGUAACAAAU -d data/res/genes/DEG_SEQS.fasta -p table\n",
      "b'No results for UUGAAAAACGACGUAACAAAU\\n' b''\n",
      "perl /home/juan/Desktop/juan/bio/mrcv/sw/TargetFinder/targetfinder.pl -s CAUUGAACUUGAGACUACGGA -q CAUUGAACUUGAGACUACGGA -d data/res/genes/DEG_SEQS.fasta -p table\n",
      "b'No results for CAUUGAACUUGAGACUACGGA\\n' b''\n",
      "perl /home/juan/Desktop/juan/bio/mrcv/sw/TargetFinder/targetfinder.pl -s GGUUGUCUGUUUGCCUUGGCA -q GGUUGUCUGUUUGCCUUGGCA -d data/res/genes/DEG_SEQS.fasta -p table\n",
      "b'No results for GGUUGUCUGUUUGCCUUGGCA\\n' b''\n",
      "perl /home/juan/Desktop/juan/bio/mrcv/sw/TargetFinder/targetfinder.pl -s GUAACAGUAGAAUUAACUGCC -q GUAACAGUAGAAUUAACUGCC -d data/res/genes/DEG_SEQS.fasta -p table\n",
      "b'No results for GUAACAGUAGAAUUAACUGCC\\n' b''\n",
      "perl /home/juan/Desktop/juan/bio/mrcv/sw/TargetFinder/targetfinder.pl -s UUGAGGUUGGGAUUAAUUGAU -q UUGAGGUUGGGAUUAAUUGAU -d data/res/genes/DEG_SEQS.fasta -p table\n"
     ]
    }
   ],
   "source": [
    "#search targets\n",
    "out_file = open(\"data/res/iwgsc_4_2_19/targets_cdna.csv\",\"w\") \n",
    "out_total = ''\n",
    "for k,v in df.iterrows():\n",
    "    if 'N' in v.seq:\n",
    "        continue\n",
    "    cmd_list = ['perl', path_target_finder,'-s',v.seq,'-q',v.Gene,'-d',target_seqs,'-p','table']\n",
    "    print(' '.join(cmd_list))\n",
    "    pro = Popen(cmd_list, stdout=PIPE, stderr=PIPE)\n",
    "    out,err = pro.communicate()\n",
    "#    out = str(out)\n",
    "#    err = str(err)\n",
    "    print(out,err)\n",
    "    if b\"No results for\" in out:\n",
    "        continue\n",
    "    out_total += out.decode(\"utf-8\") \n",
    "out_file.write(out_total)\n",
    "out_file.close()\n",
    "#os.system('grep -v \"No results for\" targets.csv > targets.clean.csv')"
   ]
  },
  {
   "cell_type": "code",
   "execution_count": null,
   "metadata": {},
   "outputs": [],
   "source": [
    "￼"
   ]
  }
 ],
 "metadata": {
  "kernelspec": {
   "display_name": "Python 3",
   "language": "python",
   "name": "python3"
  },
  "language_info": {
   "codemirror_mode": {
    "name": "ipython",
    "version": 3
   },
   "file_extension": ".py",
   "mimetype": "text/x-python",
   "name": "python",
   "nbconvert_exporter": "python",
   "pygments_lexer": "ipython3",
   "version": "3.6.5"
  }
 },
 "nbformat": 4,
 "nbformat_minor": 2
}
