{
 "cells": [
  {
   "cell_type": "code",
   "execution_count": 1,
   "metadata": {},
   "outputs": [],
   "source": [
    "import pandas as pd\n",
    "data_dir = 'data_local'\n",
    "lb = '21dpi_iwgsc_bowtie_m_all_2'"
   ]
  },
  {
   "cell_type": "code",
   "execution_count": 2,
   "metadata": {},
   "outputs": [
    {
     "name": "stdout",
     "output_type": "stream",
     "text": [
      "('sRNA len:', 36775)\n"
     ]
    }
   ],
   "source": [
    "srna_file = data_dir + '/ss/' + lb + '/ShortStack_D.gff3'\n",
    "df = pd.read_csv(srna_file,sep=\"\\t\",header=None, comment='#')\n",
    "df.columns = ['seqname', 'source', 'feature', 'start', 'end', 'score', 'strand', 'frame', 'attribute']\n",
    "print('sRNA len:',len(df.index))"
   ]
  },
  {
   "cell_type": "code",
   "execution_count": 3,
   "metadata": {},
   "outputs": [
    {
     "name": "stdout",
     "output_type": "stream",
     "text": [
      "('Res len:', 36682)\n"
     ]
    }
   ],
   "source": [
    "results_file = data_dir + '/ss/' + lb + '/Results.txt'\n",
    "df_res = pd.read_csv(results_file,sep=\"\\t\")\n",
    "df_res = df_res[df_res.DicerCall.isin(['21','22','24'])]\n",
    "print('Res len:',len(df_res.index))"
   ]
  },
  {
   "cell_type": "code",
   "execution_count": null,
   "metadata": {},
   "outputs": [],
   "source": []
  },
  {
   "cell_type": "code",
   "execution_count": 4,
   "metadata": {},
   "outputs": [
    {
     "name": "stdout",
     "output_type": "stream",
     "text": [
      "('Counts len:', 48828)\n"
     ]
    }
   ],
   "source": [
    "#cat Counts.txt | grep -v NA > counts.clean.txt\n",
    "counts_file = data_dir + '/ss/' + lb + '/counts.clean.txt'\n",
    "df_counts = pd.read_csv(counts_file,sep=\"\\t\")\n",
    "print('Counts len:',len(df_counts.index))"
   ]
  },
  {
   "cell_type": "code",
   "execution_count": 5,
   "metadata": {},
   "outputs": [
    {
     "name": "stdout",
     "output_type": "stream",
     "text": [
      "('Counts filtered len:', 36682)\n"
     ]
    }
   ],
   "source": [
    "df_counts = df_counts[df_counts.Name.isin(df_res.Name.tolist())]\n",
    "print('Counts filtered len:',len(df_counts.index))"
   ]
  },
  {
   "cell_type": "code",
   "execution_count": 6,
   "metadata": {},
   "outputs": [],
   "source": [
    "df_counts.to_csv(data_dir + '/res/' + lb + '/counts_filtered.csv', sep='\\t')"
   ]
  },
  {
   "cell_type": "code",
   "execution_count": 7,
   "metadata": {},
   "outputs": [],
   "source": [
    "import matplotlib.pyplot as plt; plt.rcdefaults()\n",
    "import numpy as np\n",
    "import matplotlib.pyplot as plt"
   ]
  },
  {
   "cell_type": "code",
   "execution_count": 33,
   "metadata": {},
   "outputs": [
    {
     "data": {
      "image/png": "[encoded data removed]",
      "text/plain": [
       "<Figure size 432x288 with 1 Axes>"
      ]
     },
     "metadata": {
      "needs_background": "light"
     },
     "output_type": "display_data"
    }
   ],
   "source": [
    "objects = ('21', '22', '24')\n",
    "y_pos = np.arange(len(objects))\n",
    "y21 = len(df_res[df_res.DicerCall == '21'].index)\n",
    "y22 = len(df_res[df_res.DicerCall == '22'].index)\n",
    "y24 = len(df_res[df_res.DicerCall == '24'].index)\n",
    "performance = [y21, y22, y24]\n",
    "\n",
    "plt.bar(y_pos, performance, align='center', alpha=0.5)\n",
    "plt.xticks(y_pos, objects)\n",
    "plt.ylabel('qty')\n",
    "plt.title('sRNA by len')\n",
    "plt.show()"
   ]
  },
  {
   "cell_type": "code",
   "execution_count": 5,
   "metadata": {},
   "outputs": [
    {
     "data": {
      "text/plain": [
       "(1815, 270, 34597)"
      ]
     },
     "execution_count": 5,
     "metadata": {},
     "output_type": "execute_result"
    }
   ],
   "source": [
    "y21 = len(df_res[df_res.DicerCall == '21'].index)\n",
    "y22 = len(df_res[df_res.DicerCall == '22'].index)\n",
    "y24 = len(df_res[df_res.DicerCall == '24'].index)\n",
    "y21, y22, y24"
   ]
  },
  {
   "cell_type": "code",
   "execution_count": null,
   "metadata": {},
   "outputs": [],
   "source": []
  }
 ],
 "metadata": {
  "kernelspec": {
   "display_name": "Python 3",
   "language": "python",
   "name": "python3"
  },
  "language_info": {
   "codemirror_mode": {
    "name": "ipython",
    "version": 2
   },
   "file_extension": ".py",
   "mimetype": "text/x-python",
   "name": "python",
   "nbconvert_exporter": "python",
   "pygments_lexer": "ipython2",
   "version": "2.7.15"
  }
 },
 "nbformat": 4,
 "nbformat_minor": 2
}
