{
 "cells": [
  {
   "cell_type": "code",
   "execution_count": 52,
   "metadata": {},
   "outputs": [],
   "source": [
    "import pandas as pd\n",
    "lb = 'iwgsc_10_12_18'"
   ]
  },
  {
   "cell_type": "code",
   "execution_count": 53,
   "metadata": {},
   "outputs": [
    {
     "name": "stdout",
     "output_type": "stream",
     "text": [
      "sRNA len: 28703\n"
     ]
    }
   ],
   "source": [
    "srna_file = 'data/res/' + lb + '/ShortStack_D.gff3'\n",
    "df = pd.read_csv(srna_file,sep=\"\\t\",header=None, comment='#')\n",
    "df.columns = ['seqname', 'source', 'feature', 'start', 'end', 'score', 'strand', 'frame', 'attribute']\n",
    "print('sRNA len:',len(df.index))"
   ]
  },
  {
   "cell_type": "code",
   "execution_count": 54,
   "metadata": {},
   "outputs": [
    {
     "name": "stdout",
     "output_type": "stream",
     "text": [
      "Res len: 28652\n"
     ]
    }
   ],
   "source": [
    "results_file = 'data/res/' + lb + '/Results.txt'\n",
    "df_res = pd.read_csv(results_file,sep=\"\\t\")\n",
    "df_res = df_res[df_res.DicerCall.isin(['21','22', '23','24'])]\n",
    "print('Res len:',len(df_res.index))"
   ]
  },
  {
   "cell_type": "code",
   "execution_count": 55,
   "metadata": {},
   "outputs": [
    {
     "name": "stdout",
     "output_type": "stream",
     "text": [
      "Counts len: 38487\n"
     ]
    }
   ],
   "source": [
    "counts_file = 'data/res/' + lb +  '/counts.named.csv'\n",
    "df_counts = pd.read_csv(counts_file,sep=\"\\t\")\n",
    "print('Counts len:',len(df_counts.index))"
   ]
  },
  {
   "cell_type": "code",
   "execution_count": 56,
   "metadata": {},
   "outputs": [
    {
     "name": "stdout",
     "output_type": "stream",
     "text": [
      "Counts filtered len: 28652\n"
     ]
    }
   ],
   "source": [
    "df_counts = df_counts[df_counts.Name.isin(df_res.Name.tolist())]\n",
    "print('Counts filtered len:',len(df_counts.index))"
   ]
  },
  {
   "cell_type": "code",
   "execution_count": 57,
   "metadata": {},
   "outputs": [
    {
     "data": {
      "text/html": [
       "<div>\n",
       "<style scoped>\n",
       "    .dataframe tbody tr th:only-of-type {\n",
       "        vertical-align: middle;\n",
       "    }\n",
       "\n",
       "    .dataframe tbody tr th {\n",
       "        vertical-align: top;\n",
       "    }\n",
       "\n",
       "    .dataframe thead th {\n",
       "        text-align: right;\n",
       "    }\n",
       "</style>\n",
       "<table border=\"1\" class=\"dataframe\">\n",
       "  <thead>\n",
       "    <tr style=\"text-align: right;\">\n",
       "      <th></th>\n",
       "      <th>Locus</th>\n",
       "      <th>Name</th>\n",
       "      <th>main</th>\n",
       "      <th>21dpiR1C.trimmed</th>\n",
       "      <th>21dpiR3C.trimmed</th>\n",
       "      <th>21dpiR1T.trimmed</th>\n",
       "      <th>21dpiR3T.trimmed</th>\n",
       "    </tr>\n",
       "  </thead>\n",
       "  <tbody>\n",
       "    <tr>\n",
       "      <th>125</th>\n",
       "      <td>1A:227128-227333</td>\n",
       "      <td>Cluster_126</td>\n",
       "      <td>71</td>\n",
       "      <td>27</td>\n",
       "      <td>11</td>\n",
       "      <td>24</td>\n",
       "      <td>9</td>\n",
       "    </tr>\n",
       "    <tr>\n",
       "      <th>269</th>\n",
       "      <td>1A:1314729-1315026</td>\n",
       "      <td>Cluster_270</td>\n",
       "      <td>183</td>\n",
       "      <td>45</td>\n",
       "      <td>47</td>\n",
       "      <td>48</td>\n",
       "      <td>43</td>\n",
       "    </tr>\n",
       "    <tr>\n",
       "      <th>270</th>\n",
       "      <td>1A:2477642-2478951</td>\n",
       "      <td>Cluster_271</td>\n",
       "      <td>400</td>\n",
       "      <td>78</td>\n",
       "      <td>87</td>\n",
       "      <td>143</td>\n",
       "      <td>92</td>\n",
       "    </tr>\n",
       "    <tr>\n",
       "      <th>271</th>\n",
       "      <td>1A:2480744-2481189</td>\n",
       "      <td>Cluster_272</td>\n",
       "      <td>83</td>\n",
       "      <td>30</td>\n",
       "      <td>19</td>\n",
       "      <td>17</td>\n",
       "      <td>17</td>\n",
       "    </tr>\n",
       "    <tr>\n",
       "      <th>272</th>\n",
       "      <td>1A:2489920-2490403</td>\n",
       "      <td>Cluster_273</td>\n",
       "      <td>114</td>\n",
       "      <td>27</td>\n",
       "      <td>30</td>\n",
       "      <td>32</td>\n",
       "      <td>25</td>\n",
       "    </tr>\n",
       "  </tbody>\n",
       "</table>\n",
       "</div>"
      ],
      "text/plain": [
       "                  Locus         Name  main  21dpiR1C.trimmed  \\\n",
       "125    1A:227128-227333  Cluster_126    71                27   \n",
       "269  1A:1314729-1315026  Cluster_270   183                45   \n",
       "270  1A:2477642-2478951  Cluster_271   400                78   \n",
       "271  1A:2480744-2481189  Cluster_272    83                30   \n",
       "272  1A:2489920-2490403  Cluster_273   114                27   \n",
       "\n",
       "     21dpiR3C.trimmed  21dpiR1T.trimmed  21dpiR3T.trimmed  \n",
       "125                11                24                 9  \n",
       "269                47                48                43  \n",
       "270                87               143                92  \n",
       "271                19                17                17  \n",
       "272                30                32                25  "
      ]
     },
     "execution_count": 57,
     "metadata": {},
     "output_type": "execute_result"
    }
   ],
   "source": [
    "df_counts.head()"
   ]
  },
  {
   "cell_type": "code",
   "execution_count": 62,
   "metadata": {},
   "outputs": [
    {
     "name": "stdout",
     "output_type": "stream",
     "text": [
      "Counts len: 82444\n"
     ]
    }
   ],
   "source": [
    "counts_file = 'data/res/' + lb +  '/counts.unnamed.csv'\n",
    "df_counts_u = pd.read_csv(counts_file,sep=\"\\t\",index_col=False)\n",
    "print('Counts len:',len(df_counts_u.index))"
   ]
  },
  {
   "cell_type": "code",
   "execution_count": 63,
   "metadata": {},
   "outputs": [
    {
     "data": {
      "text/html": [
       "<div>\n",
       "<style scoped>\n",
       "    .dataframe tbody tr th:only-of-type {\n",
       "        vertical-align: middle;\n",
       "    }\n",
       "\n",
       "    .dataframe tbody tr th {\n",
       "        vertical-align: top;\n",
       "    }\n",
       "\n",
       "    .dataframe thead th {\n",
       "        text-align: right;\n",
       "    }\n",
       "</style>\n",
       "<table border=\"1\" class=\"dataframe\">\n",
       "  <thead>\n",
       "    <tr style=\"text-align: right;\">\n",
       "      <th></th>\n",
       "      <th>Locus</th>\n",
       "      <th>Name</th>\n",
       "      <th>main</th>\n",
       "      <th>21dpiR1C.trimmed</th>\n",
       "      <th>21dpiR3C.trimmed</th>\n",
       "      <th>21dpiR1T.trimmed</th>\n",
       "      <th>21dpiR3T.trimmed</th>\n",
       "    </tr>\n",
       "  </thead>\n",
       "  <tbody>\n",
       "    <tr>\n",
       "      <th>0</th>\n",
       "      <td>AAAAAGCUCGUAGUU</td>\n",
       "      <td>NaN</td>\n",
       "      <td>717</td>\n",
       "      <td>111</td>\n",
       "      <td>140</td>\n",
       "      <td>262</td>\n",
       "      <td>204</td>\n",
       "    </tr>\n",
       "    <tr>\n",
       "      <th>1</th>\n",
       "      <td>AAAAGAGAGUCAAAG</td>\n",
       "      <td>NaN</td>\n",
       "      <td>2291</td>\n",
       "      <td>777</td>\n",
       "      <td>267</td>\n",
       "      <td>771</td>\n",
       "      <td>476</td>\n",
       "    </tr>\n",
       "    <tr>\n",
       "      <th>2</th>\n",
       "      <td>AAAAGCUCGUAGUUG</td>\n",
       "      <td>NaN</td>\n",
       "      <td>386</td>\n",
       "      <td>100</td>\n",
       "      <td>77</td>\n",
       "      <td>105</td>\n",
       "      <td>104</td>\n",
       "    </tr>\n",
       "    <tr>\n",
       "      <th>3</th>\n",
       "      <td>AAAAGGACUUUGAAA</td>\n",
       "      <td>NaN</td>\n",
       "      <td>186</td>\n",
       "      <td>55</td>\n",
       "      <td>21</td>\n",
       "      <td>68</td>\n",
       "      <td>42</td>\n",
       "    </tr>\n",
       "    <tr>\n",
       "      <th>4</th>\n",
       "      <td>AAAAGGAUUGGCUCU</td>\n",
       "      <td>NaN</td>\n",
       "      <td>1867</td>\n",
       "      <td>455</td>\n",
       "      <td>141</td>\n",
       "      <td>871</td>\n",
       "      <td>400</td>\n",
       "    </tr>\n",
       "  </tbody>\n",
       "</table>\n",
       "</div>"
      ],
      "text/plain": [
       "             Locus  Name  main  21dpiR1C.trimmed  21dpiR3C.trimmed  \\\n",
       "0  AAAAAGCUCGUAGUU   NaN   717               111               140   \n",
       "1  AAAAGAGAGUCAAAG   NaN  2291               777               267   \n",
       "2  AAAAGCUCGUAGUUG   NaN   386               100                77   \n",
       "3  AAAAGGACUUUGAAA   NaN   186                55                21   \n",
       "4  AAAAGGAUUGGCUCU   NaN  1867               455               141   \n",
       "\n",
       "   21dpiR1T.trimmed  21dpiR3T.trimmed  \n",
       "0               262               204  \n",
       "1               771               476  \n",
       "2               105               104  \n",
       "3                68                42  \n",
       "4               871               400  "
      ]
     },
     "execution_count": 63,
     "metadata": {},
     "output_type": "execute_result"
    }
   ],
   "source": [
    "df_counts_u.head()"
   ]
  },
  {
   "cell_type": "code",
   "execution_count": 64,
   "metadata": {},
   "outputs": [
    {
     "name": "stdout",
     "output_type": "stream",
     "text": [
      "Counts len: 27748\n"
     ]
    }
   ],
   "source": [
    "df_counts_u['Locus'] = df_counts_u['Locus'].str.strip()\n",
    "df_counts_u['Name'] = df_counts_u['Locus']\n",
    "df_counts_u = df_counts_u[(df_counts_u.Locus.str.len() >= 20) & (df_counts_u.Locus.str.len() <= 24)]\n",
    "print('Counts len:',len(df_counts_u.index))"
   ]
  },
  {
   "cell_type": "code",
   "execution_count": 65,
   "metadata": {},
   "outputs": [],
   "source": [
    "df_concat = pd.concat([df_counts,df_counts_u])"
   ]
  },
  {
   "cell_type": "code",
   "execution_count": 66,
   "metadata": {},
   "outputs": [],
   "source": [
    "df_concat.to_csv('data/res/' + lb + '/counts_filtered.csv', sep='\\t', index=None)"
   ]
  },
  {
   "cell_type": "code",
   "execution_count": 7,
   "metadata": {},
   "outputs": [],
   "source": [
    "import matplotlib.pyplot as plt; plt.rcdefaults()\n",
    "import numpy as np\n",
    "import matplotlib.pyplot as plt"
   ]
  },
  {
   "cell_type": "code",
   "execution_count": 8,
   "metadata": {},
   "outputs": [
    {
     "data": {
      "image/png": "[encoded data removed]",
      "text/plain": [
       "<Figure size 432x288 with 1 Axes>"
      ]
     },
     "metadata": {
      "needs_background": "light"
     },
     "output_type": "display_data"
    }
   ],
   "source": [
    "objects = ('21', '22','23', '24')\n",
    "y_pos = np.arange(len(objects))\n",
    "y21 = len(df_res[df_res.DicerCall == '21'].index)\n",
    "y22 = len(df_res[df_res.DicerCall == '22'].index)\n",
    "y23 = len(df_res[df_res.DicerCall == '23'].index)\n",
    "y24 = len(df_res[df_res.DicerCall == '24'].index)\n",
    "performance = [y21, y22,  y23, y24]\n",
    "\n",
    "plt.bar(y_pos, performance, align='center', alpha=0.5)\n",
    "plt.xticks(y_pos, objects)\n",
    "plt.ylabel('qty')\n",
    "plt.title('sRNA by len')\n",
    "plt.show()"
   ]
  },
  {
   "cell_type": "code",
   "execution_count": 9,
   "metadata": {},
   "outputs": [
    {
     "data": {
      "text/plain": [
       "(1368, 207, 50, 27027)"
      ]
     },
     "execution_count": 9,
     "metadata": {},
     "output_type": "execute_result"
    }
   ],
   "source": [
    "y21 = len(df_res[df_res.DicerCall == '21'].index)\n",
    "y22 = len(df_res[df_res.DicerCall == '22'].index)\n",
    "y23 = len(df_res[df_res.DicerCall == '23'].index)\n",
    "y24 = len(df_res[df_res.DicerCall == '24'].index)\n",
    "y21, y22, y23, y24"
   ]
  },
  {
   "cell_type": "code",
   "execution_count": 45,
   "metadata": {},
   "outputs": [
    {
     "data": {
      "text/plain": [
       "35679    24\n",
       "35680    24\n",
       "35681    24\n",
       "35682    24\n",
       "35683    24\n",
       "35684    24\n",
       "35685    24\n",
       "35686    24\n",
       "35687    24\n",
       "35688    24\n",
       "35689    24\n",
       "35690    24\n",
       "35691    24\n",
       "35692    24\n",
       "35693    24\n",
       "35694    24\n",
       "35695    24\n",
       "35696    24\n",
       "35697    24\n",
       "35698    24\n",
       "35699    24\n",
       "35700    24\n",
       "35701    24\n",
       "35702    24\n",
       "35703    24\n",
       "35704    24\n",
       "35705    24\n",
       "35706    24\n",
       "35707    24\n",
       "35708    24\n",
       "         ..\n",
       "82414    50\n",
       "82415    50\n",
       "82416    50\n",
       "82417    50\n",
       "82418    50\n",
       "82419    50\n",
       "82420    50\n",
       "82421    50\n",
       "82422    50\n",
       "82423    50\n",
       "82424    50\n",
       "82425    50\n",
       "82426    50\n",
       "82427    50\n",
       "82428    50\n",
       "82429    50\n",
       "82430    50\n",
       "82431    50\n",
       "82432    50\n",
       "82433    50\n",
       "82434    50\n",
       "82435    50\n",
       "82436    50\n",
       "82437    50\n",
       "82438    50\n",
       "82439    50\n",
       "82440    50\n",
       "82441    50\n",
       "82442    50\n",
       "82443    50\n",
       "Name: Locus, Length: 46765, dtype: int64"
      ]
     },
     "execution_count": 45,
     "metadata": {},
     "output_type": "execute_result"
    }
   ],
   "source": []
  },
  {
   "cell_type": "code",
   "execution_count": null,
   "metadata": {},
   "outputs": [],
   "source": []
  }
 ],
 "metadata": {
  "kernelspec": {
   "display_name": "Python 3",
   "language": "python",
   "name": "python3"
  },
  "language_info": {
   "codemirror_mode": {
    "name": "ipython",
    "version": 3
   },
   "file_extension": ".py",
   "mimetype": "text/x-python",
   "name": "python",
   "nbconvert_exporter": "python",
   "pygments_lexer": "ipython3",
   "version": "3.6.5"
  }
 },
 "nbformat": 4,
 "nbformat_minor": 2
}
