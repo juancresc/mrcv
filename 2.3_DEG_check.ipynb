{
 "cells": [
  {
   "cell_type": "code",
   "execution_count": 71,
   "metadata": {},
   "outputs": [],
   "source": [
    "import pandas as pd\n",
    "from Bio import SeqIO\n",
    "from Bio.Seq import Seq\n",
    "from Bio.SeqRecord import SeqRecord\n",
    "data_dir = 'data'\n",
    "lb = '21dpi_iwgsc_bowtie_m_all_2'\n",
    "output_fasta = data_dir + '/res/' + lb + '/degs.fasta'"
   ]
  },
  {
   "cell_type": "code",
   "execution_count": 72,
   "metadata": {},
   "outputs": [
    {
     "name": "stdout",
     "output_type": "stream",
     "text": [
      "('Res len:', 36682)\n"
     ]
    }
   ],
   "source": [
    "results_file = data_dir + '/ss/' + lb + '/Results.txt'\n",
    "df_res = pd.read_csv(results_file,sep=\"\\t\")\n",
    "df_res = df_res[df_res.DicerCall.isin(['21','22','24'])]\n",
    "print('Res len:',len(df_res.index))"
   ]
  },
  {
   "cell_type": "code",
   "execution_count": 73,
   "metadata": {},
   "outputs": [
    {
     "name": "stdout",
     "output_type": "stream",
     "text": [
      "('DEG len:', 39)\n"
     ]
    }
   ],
   "source": [
    "deg_file = data_dir + '/res/' + lb + '/diffexpr-results.0.05.csv'\n",
    "df_deg = pd.read_csv(deg_file,sep=\",\",comment='#')\n",
    "print('DEG len:',len(df_deg.index))"
   ]
  },
  {
   "cell_type": "code",
   "execution_count": 74,
   "metadata": {},
   "outputs": [
    {
     "data": {
      "text/plain": [
       "(30, 1, 8)"
      ]
     },
     "execution_count": 74,
     "metadata": {},
     "output_type": "execute_result"
    }
   ],
   "source": [
    "#count DEG len\n",
    "y21 = len(df_deg[df_deg.Gene.isin(df_res[df_res.DicerCall.isin(['21'])].Name)].index)\n",
    "y22 = len(df_deg[df_deg.Gene.isin(df_res[df_res.DicerCall.isin(['22'])].Name)].index)\n",
    "y24 = len(df_deg[df_deg.Gene.isin(df_res[df_res.DicerCall.isin(['24'])].Name)].index)\n",
    "(y21, y22, y24)"
   ]
  },
  {
   "cell_type": "code",
   "execution_count": 75,
   "metadata": {},
   "outputs": [
    {
     "data": {
      "text/plain": [
       "(33, 6)"
      ]
     },
     "execution_count": 75,
     "metadata": {},
     "output_type": "execute_result"
    }
   ],
   "source": [
    "up = len(df_deg[df_deg.log2FoldChange > 0].index)\n",
    "down = len(df_deg[df_deg.log2FoldChange < 0].index)\n",
    "(up, down)"
   ]
  },
  {
   "cell_type": "code",
   "execution_count": null,
   "metadata": {},
   "outputs": [],
   "source": []
  },
  {
   "cell_type": "code",
   "execution_count": 76,
   "metadata": {},
   "outputs": [
    {
     "data": {
      "text/plain": [
       "(0, 0, 6)"
      ]
     },
     "execution_count": 76,
     "metadata": {},
     "output_type": "execute_result"
    }
   ],
   "source": [
    "#count DEG len for downregulated\n",
    "df_down = df_deg[df_deg.log2FoldChange < 0]\n",
    "y21 = len(df_down[df_down.Gene.isin(df_res[df_res.DicerCall.isin(['21'])].Name)].index)\n",
    "y22 = len(df_down[df_down.Gene.isin(df_res[df_res.DicerCall.isin(['22'])].Name)].index)\n",
    "y24 = len(df_down[df_down.Gene.isin(df_res[df_res.DicerCall.isin(['24'])].Name)].index)\n",
    "(y21, y22, y24)"
   ]
  },
  {
   "cell_type": "code",
   "execution_count": 77,
   "metadata": {},
   "outputs": [
    {
     "data": {
      "text/plain": [
       "(30, 1, 2)"
      ]
     },
     "execution_count": 77,
     "metadata": {},
     "output_type": "execute_result"
    }
   ],
   "source": [
    "#count DEG len for upregulated\n",
    "df_up = df_deg[df_deg.log2FoldChange > 0]\n",
    "y21 = len(df_up[df_up.Gene.isin(df_res[df_res.DicerCall.isin(['21'])].Name)].index)\n",
    "y22 = len(df_up[df_up.Gene.isin(df_res[df_res.DicerCall.isin(['22'])].Name)].index)\n",
    "y24 = len(df_up[df_up.Gene.isin(df_res[df_res.DicerCall.isin(['24'])].Name)].index)\n",
    "(y21, y22, y24)"
   ]
  },
  {
   "cell_type": "code",
   "execution_count": 78,
   "metadata": {},
   "outputs": [],
   "source": [
    "df_deg_res = pd.merge(df_res, df_deg, left_on='Name', right_on='Gene')\n",
    "#only some cols\n",
    "#df_deg_res = df_deg_res['#Locus','Name','MajorRNA','log2FoldChange']\n",
    "df_deg_res.to_csv(data_dir + '/res/' + lb + '/deg_data.csv', sep='\\t', index=None)"
   ]
  },
  {
   "cell_type": "code",
   "execution_count": 79,
   "metadata": {},
   "outputs": [
    {
     "data": {
      "text/plain": [
       "39"
      ]
     },
     "execution_count": 79,
     "metadata": {},
     "output_type": "execute_result"
    }
   ],
   "source": [
    "#save fasta\n",
    "buffer_seqs = []\n",
    "for k,v in df_deg_res.iterrows():\n",
    "    new_id = v.Name\n",
    "    new_desc = '%s %i' % (v['#Locus'],  v.log2FoldChange, )\n",
    "    seq = v.MajorRNA\n",
    "    record = SeqRecord(Seq(seq), id=new_id, description=new_desc)\n",
    "    buffer_seqs.append(record)\n",
    "SeqIO.write(buffer_seqs, output_fasta, \"fasta\")"
   ]
  },
  {
   "cell_type": "code",
   "execution_count": null,
   "metadata": {},
   "outputs": [],
   "source": []
  },
  {
   "cell_type": "code",
   "execution_count": null,
   "metadata": {},
   "outputs": [],
   "source": []
  },
  {
   "cell_type": "code",
   "execution_count": null,
   "metadata": {},
   "outputs": [],
   "source": []
  }
 ],
 "metadata": {
  "kernelspec": {
   "display_name": "Python 3",
   "language": "python",
   "name": "python3"
  },
  "language_info": {
   "codemirror_mode": {
    "name": "ipython",
    "version": 2
   },
   "file_extension": ".py",
   "mimetype": "text/x-python",
   "name": "python",
   "nbconvert_exporter": "python",
   "pygments_lexer": "ipython2",
   "version": "2.7.15"
  }
 },
 "nbformat": 4,
 "nbformat_minor": 2
}
