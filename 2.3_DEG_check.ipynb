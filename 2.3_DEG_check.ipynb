{
 "cells": [
  {
   "cell_type": "code",
   "execution_count": 24,
   "metadata": {},
   "outputs": [],
   "source": [
    "import pandas as pd\n",
    "from Bio import SeqIO\n",
    "from Bio.Seq import Seq\n",
    "from Bio.SeqRecord import SeqRecord\n",
    "data_dir = 'data'\n",
    "lb = 'iwgsc_10_12_18/'\n",
    "output_fasta = data_dir + '/res/sRNA_DEG.fasta'"
   ]
  },
  {
   "cell_type": "code",
   "execution_count": 9,
   "metadata": {},
   "outputs": [
    {
     "name": "stdout",
     "output_type": "stream",
     "text": [
      "Res len: 28652\n"
     ]
    }
   ],
   "source": [
    "results_file = data_dir + '/res/' + lb + '/Results.txt'\n",
    "df_res = pd.read_csv(results_file,sep=\"\\t\")\n",
    "df_res = df_res[df_res.DicerCall.isin(['21','22', '23','24'])]\n",
    "print('Res len:',len(df_res.index))"
   ]
  },
  {
   "cell_type": "code",
   "execution_count": 11,
   "metadata": {},
   "outputs": [
    {
     "name": "stdout",
     "output_type": "stream",
     "text": [
      "DEG len: 67\n"
     ]
    }
   ],
   "source": [
    "deg_file = data_dir + '/res/diffexpr-results.0.5.csv'\n",
    "df_deg = pd.read_csv(deg_file,sep=\",\",comment='#')\n",
    "print('DEG len:',len(df_deg.index))"
   ]
  },
  {
   "cell_type": "code",
   "execution_count": 16,
   "metadata": {},
   "outputs": [
    {
     "data": {
      "text/plain": [
       "(39, 5, 4, 19)"
      ]
     },
     "execution_count": 16,
     "metadata": {},
     "output_type": "execute_result"
    }
   ],
   "source": [
    "#count DEG len\n",
    "y21 = len(df_deg[df_deg.Gene.isin(df_res[df_res.DicerCall.isin(['21'])].Name)].index)\n",
    "y22 = len(df_deg[df_deg.Gene.isin(df_res[df_res.DicerCall.isin(['22'])].Name)].index)\n",
    "y23 = len(df_deg[df_deg.Gene.isin(df_res[df_res.DicerCall.isin(['23'])].Name)].index)\n",
    "y24 = len(df_deg[df_deg.Gene.isin(df_res[df_res.DicerCall.isin(['24'])].Name)].index)\n",
    "(y21, y22, y23, y24)"
   ]
  },
  {
   "cell_type": "code",
   "execution_count": 17,
   "metadata": {},
   "outputs": [
    {
     "data": {
      "text/plain": [
       "(57, 10)"
      ]
     },
     "execution_count": 17,
     "metadata": {},
     "output_type": "execute_result"
    }
   ],
   "source": [
    "up = len(df_deg[df_deg.log2FoldChange > 0].index)\n",
    "down = len(df_deg[df_deg.log2FoldChange < 0].index)\n",
    "(up, down)"
   ]
  },
  {
   "cell_type": "code",
   "execution_count": 19,
   "metadata": {},
   "outputs": [
    {
     "data": {
      "text/plain": [
       "(0, 1, 3, 6)"
      ]
     },
     "execution_count": 19,
     "metadata": {},
     "output_type": "execute_result"
    }
   ],
   "source": [
    "#count DEG len for downregulated\n",
    "df_down = df_deg[df_deg.log2FoldChange < 0]\n",
    "y21 = len(df_down[df_down.Gene.isin(df_res[df_res.DicerCall.isin(['21'])].Name)].index)\n",
    "y22 = len(df_down[df_down.Gene.isin(df_res[df_res.DicerCall.isin(['22'])].Name)].index)\n",
    "y23 = len(df_down[df_down.Gene.isin(df_res[df_res.DicerCall.isin(['23'])].Name)].index)\n",
    "y24 = len(df_down[df_down.Gene.isin(df_res[df_res.DicerCall.isin(['24'])].Name)].index)\n",
    "(y21, y22, y23, y24)"
   ]
  },
  {
   "cell_type": "code",
   "execution_count": 20,
   "metadata": {},
   "outputs": [
    {
     "data": {
      "text/plain": [
       "(39, 4, 1, 13)"
      ]
     },
     "execution_count": 20,
     "metadata": {},
     "output_type": "execute_result"
    }
   ],
   "source": [
    "#count DEG len for upregulated\n",
    "df_up = df_deg[df_deg.log2FoldChange > 0]\n",
    "y21 = len(df_up[df_up.Gene.isin(df_res[df_res.DicerCall.isin(['21'])].Name)].index)\n",
    "y22 = len(df_up[df_up.Gene.isin(df_res[df_res.DicerCall.isin(['22'])].Name)].index)\n",
    "y23 = len(df_up[df_up.Gene.isin(df_res[df_res.DicerCall.isin(['23'])].Name)].index)\n",
    "y24 = len(df_up[df_up.Gene.isin(df_res[df_res.DicerCall.isin(['24'])].Name)].index)\n",
    "(y21, y22, y23, y24)"
   ]
  },
  {
   "cell_type": "code",
   "execution_count": 21,
   "metadata": {},
   "outputs": [],
   "source": [
    "df_deg_res = pd.merge(df_res, df_deg, left_on='Name', right_on='Gene')\n",
    "#only some cols\n",
    "#df_deg_res = df_deg_res['#Locus','Name','MajorRNA','log2FoldChange']\n",
    "df_deg_res.to_csv(data_dir + '/res/deg_data.csv', sep='\\t', index=None)"
   ]
  },
  {
   "cell_type": "code",
   "execution_count": 28,
   "metadata": {},
   "outputs": [
    {
     "data": {
      "text/plain": [
       "67"
      ]
     },
     "execution_count": 28,
     "metadata": {},
     "output_type": "execute_result"
    }
   ],
   "source": [
    "#save fasta\n",
    "buffer_seqs = []\n",
    "for k,v in df_deg_res.iterrows():\n",
    "    new_id = v.Name\n",
    "    new_desc = 'chr:%s log2fc:%f size:%i' % (v['#Locus'],  v.log2FoldChange, len(record.seq))\n",
    "    seq = v.MajorRNA\n",
    "    record = SeqRecord(Seq(seq), id=new_id, description=new_desc)\n",
    "    buffer_seqs.append(record)\n",
    "SeqIO.write(buffer_seqs, output_fasta, \"fasta\")"
   ]
  },
  {
   "cell_type": "code",
   "execution_count": null,
   "metadata": {},
   "outputs": [],
   "source": []
  },
  {
   "cell_type": "code",
   "execution_count": null,
   "metadata": {},
   "outputs": [],
   "source": []
  },
  {
   "cell_type": "code",
   "execution_count": null,
   "metadata": {},
   "outputs": [],
   "source": []
  }
 ],
 "metadata": {
  "kernelspec": {
   "display_name": "Python 3",
   "language": "python",
   "name": "python3"
  },
  "language_info": {
   "codemirror_mode": {
    "name": "ipython",
    "version": 3
   },
   "file_extension": ".py",
   "mimetype": "text/x-python",
   "name": "python",
   "nbconvert_exporter": "python",
   "pygments_lexer": "ipython3",
   "version": "3.6.5"
  }
 },
 "nbformat": 4,
 "nbformat_minor": 2
}
