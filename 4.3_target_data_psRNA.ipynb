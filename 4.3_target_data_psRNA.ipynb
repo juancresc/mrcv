{
 "cells": [
  {
   "cell_type": "code",
   "execution_count": 1,
   "metadata": {},
   "outputs": [],
   "source": [
    "import pandas as pd\n",
    "file_targets = 'data/psRNATargetJob-1550513938322843.txt.csv'\n",
    "file_deg = 'data/DEG-normalized.csv'"
   ]
  },
  {
   "cell_type": "code",
   "execution_count": 2,
   "metadata": {},
   "outputs": [
    {
     "name": "stdout",
     "output_type": "stream",
     "text": [
      "3019\n"
     ]
    }
   ],
   "source": [
    "df_deg = pd.read_csv(file_deg, index_col=False, sep=',', comment='#')\n",
    "genes = df_deg.gene.tolist() \n",
    "df_deg['gene_name'] = df_deg['gene'].str.split(\":\").str[1]\n",
    "print(len(genes))"
   ]
  },
  {
   "cell_type": "code",
   "execution_count": 3,
   "metadata": {},
   "outputs": [
    {
     "data": {
      "text/plain": [
       "769983"
      ]
     },
     "execution_count": 3,
     "metadata": {},
     "output_type": "execute_result"
    }
   ],
   "source": [
    "df_t = pd.read_csv(file_targets, sep='\\t', comment='#')\n",
    "len(df_t.index)"
   ]
  },
  {
   "cell_type": "code",
   "execution_count": 4,
   "metadata": {},
   "outputs": [
    {
     "data": {
      "text/html": [
       "<div>\n",
       "<table border=\"1\" class=\"dataframe\">\n",
       "  <thead>\n",
       "    <tr style=\"text-align: right;\">\n",
       "      <th></th>\n",
       "      <th>miRNA_Acc.</th>\n",
       "      <th>Target_Acc.</th>\n",
       "      <th>Expectation</th>\n",
       "      <th>UPE</th>\n",
       "      <th>miRNA_start</th>\n",
       "      <th>miRNA_end</th>\n",
       "      <th>Target_start</th>\n",
       "      <th>Target_end</th>\n",
       "      <th>miRNA_aligned_fragment</th>\n",
       "      <th>Target_aligned_fragment</th>\n",
       "      <th>Inhibition</th>\n",
       "      <th>Target_Desc.</th>\n",
       "    </tr>\n",
       "  </thead>\n",
       "  <tbody>\n",
       "    <tr>\n",
       "      <th>0</th>\n",
       "      <td>UUGUACCAACUGUAAACUCGU</td>\n",
       "      <td>TraesCS3B02G063200</td>\n",
       "      <td>3.5</td>\n",
       "      <td>-1.0</td>\n",
       "      <td>1</td>\n",
       "      <td>21</td>\n",
       "      <td>4286</td>\n",
       "      <td>4306</td>\n",
       "      <td>UUGUACCAACUGUAAACUCGU</td>\n",
       "      <td>ACGCGUUUGCAGUUCGUGCAA</td>\n",
       "      <td>Cleavage</td>\n",
       "      <td>seq:3B start:35459914 end:35464261 strand:+</td>\n",
       "    </tr>\n",
       "    <tr>\n",
       "      <th>1</th>\n",
       "      <td>UUGUACCAACUGUAAACUCGU</td>\n",
       "      <td>TraesCS7D02G183600</td>\n",
       "      <td>4.0</td>\n",
       "      <td>-1.0</td>\n",
       "      <td>1</td>\n",
       "      <td>21</td>\n",
       "      <td>12367</td>\n",
       "      <td>12387</td>\n",
       "      <td>UUGUACCAACUGUAAACUCGU</td>\n",
       "      <td>ACGAUUUUACAGUUGUUAUAU</td>\n",
       "      <td>Cleavage</td>\n",
       "      <td>seq:7D start:136994147 end:137010843 strand:-</td>\n",
       "    </tr>\n",
       "  </tbody>\n",
       "</table>\n",
       "</div>"
      ],
      "text/plain": [
       "              miRNA_Acc.         Target_Acc.  Expectation  UPE  miRNA_start  \\\n",
       "0  UUGUACCAACUGUAAACUCGU  TraesCS3B02G063200          3.5 -1.0            1   \n",
       "1  UUGUACCAACUGUAAACUCGU  TraesCS7D02G183600          4.0 -1.0            1   \n",
       "\n",
       "   miRNA_end  Target_start  Target_end miRNA_aligned_fragment  \\\n",
       "0         21          4286        4306  UUGUACCAACUGUAAACUCGU   \n",
       "1         21         12367       12387  UUGUACCAACUGUAAACUCGU   \n",
       "\n",
       "  Target_aligned_fragment Inhibition  \\\n",
       "0   ACGCGUUUGCAGUUCGUGCAA   Cleavage   \n",
       "1   ACGAUUUUACAGUUGUUAUAU   Cleavage   \n",
       "\n",
       "                                    Target_Desc.  \n",
       "0    seq:3B start:35459914 end:35464261 strand:+  \n",
       "1  seq:7D start:136994147 end:137010843 strand:-  "
      ]
     },
     "execution_count": 4,
     "metadata": {},
     "output_type": "execute_result"
    }
   ],
   "source": [
    "df_t.head(2)"
   ]
  },
  {
   "cell_type": "code",
   "execution_count": null,
   "metadata": {},
   "outputs": [],
   "source": [
    "len(df_t['Target_Acc.'].unique())"
   ]
  },
  {
   "cell_type": "code",
   "execution_count": 18,
   "metadata": {},
   "outputs": [
    {
     "data": {
      "text/html": [
       "<div>\n",
       "<table border=\"1\" class=\"dataframe\">\n",
       "  <thead>\n",
       "    <tr style=\"text-align: right;\">\n",
       "      <th></th>\n",
       "      <th>unique_values</th>\n",
       "      <th>counts</th>\n",
       "    </tr>\n",
       "  </thead>\n",
       "  <tbody>\n",
       "    <tr>\n",
       "      <th>0</th>\n",
       "      <td>TraesCS6B02G002100</td>\n",
       "      <td>2842</td>\n",
       "    </tr>\n",
       "    <tr>\n",
       "      <th>1</th>\n",
       "      <td>TraesCS6D02G168300</td>\n",
       "      <td>1832</td>\n",
       "    </tr>\n",
       "    <tr>\n",
       "      <th>2</th>\n",
       "      <td>TraesCS5A02G173000</td>\n",
       "      <td>1502</td>\n",
       "    </tr>\n",
       "    <tr>\n",
       "      <th>3</th>\n",
       "      <td>TraesCS5B02G109300</td>\n",
       "      <td>1413</td>\n",
       "    </tr>\n",
       "    <tr>\n",
       "      <th>4</th>\n",
       "      <td>TraesCS4D02G027800</td>\n",
       "      <td>1323</td>\n",
       "    </tr>\n",
       "  </tbody>\n",
       "</table>\n",
       "</div>"
      ],
      "text/plain": [
       "        unique_values  counts\n",
       "0  TraesCS6B02G002100    2842\n",
       "1  TraesCS6D02G168300    1832\n",
       "2  TraesCS5A02G173000    1502\n",
       "3  TraesCS5B02G109300    1413\n",
       "4  TraesCS4D02G027800    1323"
      ]
     },
     "execution_count": 18,
     "metadata": {},
     "output_type": "execute_result"
    }
   ],
   "source": [
    "vc = df_t['Target_Acc.'].value_counts()\n",
    "df_count = vc.rename_axis('unique_values').reset_index(name='counts')\n",
    "df_count.head()"
   ]
  },
  {
   "cell_type": "code",
   "execution_count": 19,
   "metadata": {},
   "outputs": [
    {
     "data": {
      "text/html": [
       "<div>\n",
       "<table border=\"1\" class=\"dataframe\">\n",
       "  <thead>\n",
       "    <tr style=\"text-align: right;\">\n",
       "      <th></th>\n",
       "      <th>unique_values</th>\n",
       "      <th>counts</th>\n",
       "    </tr>\n",
       "  </thead>\n",
       "  <tbody>\n",
       "    <tr>\n",
       "      <th>0</th>\n",
       "      <td>UUUGUAUUUUUUGGUUUGUUU</td>\n",
       "      <td>378</td>\n",
       "    </tr>\n",
       "    <tr>\n",
       "      <th>1</th>\n",
       "      <td>GAGGAAGGAGAGGAUGAGGCC</td>\n",
       "      <td>370</td>\n",
       "    </tr>\n",
       "    <tr>\n",
       "      <th>2</th>\n",
       "      <td>UUUGUUUUCUUCUUGUUCAGU</td>\n",
       "      <td>352</td>\n",
       "    </tr>\n",
       "    <tr>\n",
       "      <th>3</th>\n",
       "      <td>Cluster_22046</td>\n",
       "      <td>347</td>\n",
       "    </tr>\n",
       "    <tr>\n",
       "      <th>4</th>\n",
       "      <td>UGGUUGUUUUUUGUUGUUGAU</td>\n",
       "      <td>318</td>\n",
       "    </tr>\n",
       "  </tbody>\n",
       "</table>\n",
       "</div>"
      ],
      "text/plain": [
       "           unique_values  counts\n",
       "0  UUUGUAUUUUUUGGUUUGUUU     378\n",
       "1  GAGGAAGGAGAGGAUGAGGCC     370\n",
       "2  UUUGUUUUCUUCUUGUUCAGU     352\n",
       "3          Cluster_22046     347\n",
       "4  UGGUUGUUUUUUGUUGUUGAU     318"
      ]
     },
     "execution_count": 19,
     "metadata": {},
     "output_type": "execute_result"
    }
   ],
   "source": [
    "vc = df_t['miRNA_Acc.'].value_counts()\n",
    "vc.rename_axis('unique_values').reset_index(name='counts').head()"
   ]
  },
  {
   "cell_type": "code",
   "execution_count": 20,
   "metadata": {},
   "outputs": [
    {
     "data": {
      "text/html": [
       "<div>\n",
       "<table border=\"1\" class=\"dataframe\">\n",
       "  <thead>\n",
       "    <tr style=\"text-align: right;\">\n",
       "      <th></th>\n",
       "      <th>unique_values</th>\n",
       "      <th>counts</th>\n",
       "      <th>gene_name</th>\n",
       "      <th>log2FoldChange</th>\n",
       "    </tr>\n",
       "  </thead>\n",
       "  <tbody>\n",
       "    <tr>\n",
       "      <th>0</th>\n",
       "      <td>TraesCS6B02G002100</td>\n",
       "      <td>2842</td>\n",
       "      <td>TraesCS6B02G002100</td>\n",
       "      <td>-6.133970</td>\n",
       "    </tr>\n",
       "    <tr>\n",
       "      <th>1</th>\n",
       "      <td>TraesCS6D02G168300</td>\n",
       "      <td>1832</td>\n",
       "      <td>TraesCS6D02G168300</td>\n",
       "      <td>-0.763316</td>\n",
       "    </tr>\n",
       "    <tr>\n",
       "      <th>2</th>\n",
       "      <td>TraesCS5A02G173000</td>\n",
       "      <td>1502</td>\n",
       "      <td>TraesCS5A02G173000</td>\n",
       "      <td>0.771725</td>\n",
       "    </tr>\n",
       "    <tr>\n",
       "      <th>3</th>\n",
       "      <td>TraesCS5B02G109300</td>\n",
       "      <td>1413</td>\n",
       "      <td>TraesCS5B02G109300</td>\n",
       "      <td>1.124296</td>\n",
       "    </tr>\n",
       "    <tr>\n",
       "      <th>4</th>\n",
       "      <td>TraesCS4D02G027800</td>\n",
       "      <td>1323</td>\n",
       "      <td>TraesCS4D02G027800</td>\n",
       "      <td>0.975104</td>\n",
       "    </tr>\n",
       "  </tbody>\n",
       "</table>\n",
       "</div>"
      ],
      "text/plain": [
       "        unique_values  counts           gene_name  log2FoldChange\n",
       "0  TraesCS6B02G002100    2842  TraesCS6B02G002100       -6.133970\n",
       "1  TraesCS6D02G168300    1832  TraesCS6D02G168300       -0.763316\n",
       "2  TraesCS5A02G173000    1502  TraesCS5A02G173000        0.771725\n",
       "3  TraesCS5B02G109300    1413  TraesCS5B02G109300        1.124296\n",
       "4  TraesCS4D02G027800    1323  TraesCS4D02G027800        0.975104"
      ]
     },
     "execution_count": 20,
     "metadata": {},
     "output_type": "execute_result"
    }
   ],
   "source": [
    "df_res = pd.merge(df_count, df_deg[['gene_name', 'log2FoldChange']], left_on='unique_values', right_on='gene_name')\n",
    "df_res.head()\n",
    "\n"
   ]
  },
  {
   "cell_type": "code",
   "execution_count": 22,
   "metadata": {},
   "outputs": [
    {
     "data": {
      "text/plain": [
       "<matplotlib.axes._subplots.AxesSubplot at 0x1199c78d0>"
      ]
     },
     "execution_count": 22,
     "metadata": {},
     "output_type": "execute_result"
    },
    {
     "data": {
      "image/png": "[encoded data removed]",
      "text/plain": [
       "<Figure size 432x288 with 1 Axes>"
      ]
     },
     "metadata": {
      "needs_background": "light"
     },
     "output_type": "display_data"
    }
   ],
   "source": [
    "df_res.plot.scatter(x='counts', y='log2FoldChange',c='DarkBlue')\n"
   ]
  },
  {
   "cell_type": "code",
   "execution_count": null,
   "metadata": {},
   "outputs": [],
   "source": []
  }
 ],
 "metadata": {
  "kernelspec": {
   "display_name": "Python 3",
   "language": "python",
   "name": "python3"
  },
  "language_info": {
   "codemirror_mode": {
    "name": "ipython",
    "version": 2
   },
   "file_extension": ".py",
   "mimetype": "text/x-python",
   "name": "python",
   "nbconvert_exporter": "python",
   "pygments_lexer": "ipython2",
   "version": "2.7.15"
  }
 },
 "nbformat": 4,
 "nbformat_minor": 2
}
